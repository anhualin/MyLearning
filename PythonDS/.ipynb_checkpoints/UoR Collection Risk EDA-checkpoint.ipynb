{
 "cells": [
  {
   "cell_type": "markdown",
   "metadata": {},
   "source": [
    "### Load data"
   ]
  },
  {
   "cell_type": "code",
   "execution_count": 1,
   "metadata": {
    "collapsed": true
   },
   "outputs": [],
   "source": [
    "import pandas as pd\n",
    "import matplotlib.pyplot as plt\n",
    "import numpy as np\n",
    "%matplotlib inline\n",
    "import seaborn as sns\n",
    "sns.set(color_codes=True)"
   ]
  },
  {
   "cell_type": "code",
   "execution_count": 2,
   "metadata": {
    "collapsed": false
   },
   "outputs": [],
   "source": [
    "df = pd.read_csv('Collection_Risk.csv')\n",
    "# change column nams to lower case\n",
    "df.columns = df.columns.str.lower()"
   ]
  },
  {
   "cell_type": "code",
   "execution_count": 3,
   "metadata": {
    "collapsed": false
   },
   "outputs": [],
   "source": [
    "%qtconsole"
   ]
  },
  {
   "cell_type": "markdown",
   "metadata": {},
   "source": [
    "### Exploration data analysis"
   ]
  },
  {
   "cell_type": "code",
   "execution_count": 4,
   "metadata": {
    "collapsed": false
   },
   "outputs": [
    {
     "data": {
      "text/html": [
       "<div>\n",
       "<table border=\"1\" class=\"dataframe\">\n",
       "  <thead>\n",
       "    <tr style=\"text-align: right;\">\n",
       "      <th></th>\n",
       "      <th>student_id</th>\n",
       "      <th>future</th>\n",
       "      <th>aging</th>\n",
       "      <th>program</th>\n",
       "      <th>degree</th>\n",
       "      <th>college</th>\n",
       "      <th>bb_activity_latest</th>\n",
       "      <th>bb_gip_etc_ratio_std</th>\n",
       "      <th>cum_gpa</th>\n",
       "      <th>cum_credits</th>\n",
       "      <th>...</th>\n",
       "      <th>nation_desc</th>\n",
       "      <th>ind</th>\n",
       "      <th>current_balance</th>\n",
       "      <th>module_cp</th>\n",
       "      <th>day_since_end</th>\n",
       "      <th>in_module</th>\n",
       "      <th>day_since_begin</th>\n",
       "      <th>in_future</th>\n",
       "      <th>day_to_begin</th>\n",
       "      <th>in_dissertation</th>\n",
       "    </tr>\n",
       "  </thead>\n",
       "  <tbody>\n",
       "    <tr>\n",
       "      <th>0</th>\n",
       "      <td>J00044040</td>\n",
       "      <td>1111.11</td>\n",
       "      <td>90</td>\n",
       "      <td>MBA</td>\n",
       "      <td>MBA</td>\n",
       "      <td>MG</td>\n",
       "      <td>2</td>\n",
       "      <td>123.791558</td>\n",
       "      <td>2.0</td>\n",
       "      <td>60</td>\n",
       "      <td>...</td>\n",
       "      <td>QATAR</td>\n",
       "      <td>9</td>\n",
       "      <td>0.11</td>\n",
       "      <td>6</td>\n",
       "      <td>86</td>\n",
       "      <td>1</td>\n",
       "      <td>71</td>\n",
       "      <td>1</td>\n",
       "      <td>27</td>\n",
       "      <td>0</td>\n",
       "    </tr>\n",
       "    <tr>\n",
       "      <th>2</th>\n",
       "      <td>J00044056</td>\n",
       "      <td>1111.11</td>\n",
       "      <td>0</td>\n",
       "      <td>MS_ISM</td>\n",
       "      <td>MS</td>\n",
       "      <td>MG</td>\n",
       "      <td>0</td>\n",
       "      <td>0.000000</td>\n",
       "      <td>0.6</td>\n",
       "      <td>0</td>\n",
       "      <td>...</td>\n",
       "      <td>NIGERIA</td>\n",
       "      <td>7</td>\n",
       "      <td>0.00</td>\n",
       "      <td>1</td>\n",
       "      <td>717</td>\n",
       "      <td>0</td>\n",
       "      <td>365</td>\n",
       "      <td>0</td>\n",
       "      <td>365</td>\n",
       "      <td>0</td>\n",
       "    </tr>\n",
       "    <tr>\n",
       "      <th>3</th>\n",
       "      <td>J00044056</td>\n",
       "      <td>1111.11</td>\n",
       "      <td>0</td>\n",
       "      <td>MS_ISM</td>\n",
       "      <td>MS</td>\n",
       "      <td>MG</td>\n",
       "      <td>0</td>\n",
       "      <td>0.000000</td>\n",
       "      <td>0.6</td>\n",
       "      <td>0</td>\n",
       "      <td>...</td>\n",
       "      <td>NIGERIA</td>\n",
       "      <td>8</td>\n",
       "      <td>0.00</td>\n",
       "      <td>1</td>\n",
       "      <td>748</td>\n",
       "      <td>0</td>\n",
       "      <td>365</td>\n",
       "      <td>0</td>\n",
       "      <td>365</td>\n",
       "      <td>0</td>\n",
       "    </tr>\n",
       "    <tr>\n",
       "      <th>4</th>\n",
       "      <td>J00044067</td>\n",
       "      <td>1111.11</td>\n",
       "      <td>0</td>\n",
       "      <td>MBA</td>\n",
       "      <td>MBA</td>\n",
       "      <td>MG</td>\n",
       "      <td>58</td>\n",
       "      <td>63.046788</td>\n",
       "      <td>2.2</td>\n",
       "      <td>80</td>\n",
       "      <td>...</td>\n",
       "      <td>SOUTH AFRICA</td>\n",
       "      <td>9</td>\n",
       "      <td>0.00</td>\n",
       "      <td>6</td>\n",
       "      <td>86</td>\n",
       "      <td>0</td>\n",
       "      <td>365</td>\n",
       "      <td>1</td>\n",
       "      <td>27</td>\n",
       "      <td>0</td>\n",
       "    </tr>\n",
       "    <tr>\n",
       "      <th>5</th>\n",
       "      <td>J00044071</td>\n",
       "      <td>0.00</td>\n",
       "      <td>30</td>\n",
       "      <td>MS_PRJ</td>\n",
       "      <td>MS</td>\n",
       "      <td>MG</td>\n",
       "      <td>43</td>\n",
       "      <td>0.000000</td>\n",
       "      <td>2.4</td>\n",
       "      <td>100</td>\n",
       "      <td>...</td>\n",
       "      <td>NIGERIA</td>\n",
       "      <td>7</td>\n",
       "      <td>1111.11</td>\n",
       "      <td>8</td>\n",
       "      <td>18</td>\n",
       "      <td>1</td>\n",
       "      <td>17</td>\n",
       "      <td>0</td>\n",
       "      <td>365</td>\n",
       "      <td>1</td>\n",
       "    </tr>\n",
       "  </tbody>\n",
       "</table>\n",
       "<p>5 rows × 27 columns</p>\n",
       "</div>"
      ],
      "text/plain": [
       "  student_id   future  aging program degree college  bb_activity_latest  \\\n",
       "0  J00044040  1111.11     90     MBA    MBA      MG                   2   \n",
       "2  J00044056  1111.11      0  MS_ISM     MS      MG                   0   \n",
       "3  J00044056  1111.11      0  MS_ISM     MS      MG                   0   \n",
       "4  J00044067  1111.11      0     MBA    MBA      MG                  58   \n",
       "5  J00044071     0.00     30  MS_PRJ     MS      MG                  43   \n",
       "\n",
       "   bb_gip_etc_ratio_std  cum_gpa  cum_credits       ...          nation_desc  \\\n",
       "0            123.791558      2.0           60       ...                QATAR   \n",
       "2              0.000000      0.6            0       ...              NIGERIA   \n",
       "3              0.000000      0.6            0       ...              NIGERIA   \n",
       "4             63.046788      2.2           80       ...         SOUTH AFRICA   \n",
       "5              0.000000      2.4          100       ...              NIGERIA   \n",
       "\n",
       "   ind current_balance  module_cp  day_since_end  in_module  day_since_begin  \\\n",
       "0    9            0.11          6             86          1               71   \n",
       "2    7            0.00          1            717          0              365   \n",
       "3    8            0.00          1            748          0              365   \n",
       "4    9            0.00          6             86          0              365   \n",
       "5    7         1111.11          8             18          1               17   \n",
       "\n",
       "  in_future  day_to_begin  in_dissertation  \n",
       "0         1            27                0  \n",
       "2         0           365                0  \n",
       "3         0           365                0  \n",
       "4         1            27                0  \n",
       "5         0           365                1  \n",
       "\n",
       "[5 rows x 27 columns]"
      ]
     },
     "execution_count": 4,
     "metadata": {},
     "output_type": "execute_result"
    }
   ],
   "source": [
    "train = df[df.ind <= 9]\n",
    "test = df[df.ind == 10]\n",
    "train.head()"
   ]
  },
  {
   "cell_type": "markdown",
   "metadata": {},
   "source": [
    "Utility functions to show the properties of each feature w.r.t the target"
   ]
  },
  {
   "cell_type": "code",
   "execution_count": 5,
   "metadata": {
    "collapsed": false
   },
   "outputs": [],
   "source": [
    "def single_cat(dSet, feature, target = 'risk'):\n",
    "    \"\"\" exploring single categorical variable\"\"\"\n",
    "    print \"number of missing values =\", dSet[feature].isnull().sum()\n",
    "    \n",
    "    #cross tabulation of feature v.s. target\n",
    "    ctab = pd.crosstab(dSet[target], dSet[feature])\n",
    "    rate = (ctab.iloc[1] / ctab.sum(axis = 0)).to_frame().T\n",
    "    rate.index = range(2,3)\n",
    "    ctab = pd.concat([ctab, rate])\n",
    "    print ctab\n"
   ]
  },
  {
   "cell_type": "code",
   "execution_count": 6,
   "metadata": {
    "collapsed": true
   },
   "outputs": [],
   "source": [
    "def single_num(dSet, feature, target = 'risk'):\n",
    "    \"\"\" exploring single numerical variable\"\"\"\n",
    "    print \"number of missing values =\", dSet[feature].isnull().sum()\n",
    "    print \"summary of the whole set\"\n",
    "    print dSet[feature].describe()\n",
    "    print \"summary of subset with target = 0\"\n",
    "    print dSet[dSet[target] == 0][feature].describe()\n",
    "    print \"summary of subset with target = 1\"\n",
    "    print dSet[dSet[target] == 1][feature].describe()\n",
    "    sns.plt.title('double density plot')\n",
    "    sns.kdeplot(train[train[target]==0][feature], label = target + ' = 0')\n",
    "    sns.kdeplot(train[train['risk']==1]['bb_activity_latest'], label = target + ' = 1')"
   ]
  },
  {
   "cell_type": "markdown",
   "metadata": {},
   "source": [
    "#### aging"
   ]
  },
  {
   "cell_type": "code",
   "execution_count": 7,
   "metadata": {
    "collapsed": false
   },
   "outputs": [
    {
     "name": "stdout",
     "output_type": "stream",
     "text": [
      "number of missing values = 0\n",
      "summary of the whole set\n",
      "count    7813.000000\n",
      "mean       74.817612\n",
      "std       103.293105\n",
      "min         0.000000\n",
      "25%         0.000000\n",
      "50%        30.000000\n",
      "75%        90.000000\n",
      "max       360.000000\n",
      "Name: aging, dtype: float64\n",
      "summary of subset with target = 0\n",
      "count    3489.000000\n",
      "mean       35.821152\n",
      "std        57.288883\n",
      "min         0.000000\n",
      "25%         0.000000\n",
      "50%        30.000000\n",
      "75%        60.000000\n",
      "max       360.000000\n",
      "Name: aging, dtype: float64\n",
      "summary of subset with target = 1\n",
      "count    4324.000000\n",
      "mean      106.283534\n",
      "std       120.061647\n",
      "min         0.000000\n",
      "25%        30.000000\n",
      "50%        60.000000\n",
      "75%       150.000000\n",
      "max       360.000000\n",
      "Name: aging, dtype: float64\n"
     ]
    },
    {
     "data": {
      "image/png": "[encoded data removed]",
      "text/plain": [
       "<matplotlib.figure.Figure at 0x7fd2ad79c210>"
      ]
     },
     "metadata": {},
     "output_type": "display_data"
    }
   ],
   "source": [
    "single_num(train, 'aging')"
   ]
  },
  {
   "cell_type": "markdown",
   "metadata": {},
   "source": [
    "No missing value.\n",
    "clearly longer aging --> higher risk"
   ]
  },
  {
   "cell_type": "markdown",
   "metadata": {},
   "source": [
    "#### college"
   ]
  },
  {
   "cell_type": "code",
   "execution_count": 8,
   "metadata": {
    "collapsed": false
   },
   "outputs": [
    {
     "name": "stdout",
     "output_type": "stream",
     "text": [
      "number of missing values = 0\n",
      "college          ED           MG         PA           PH          PY\n",
      "0        530.000000  1941.000000  59.000000   788.000000  171.000000\n",
      "1        480.000000  2577.000000  94.000000  1042.000000  131.000000\n",
      "2          0.475248     0.570385   0.614379     0.569399    0.433775\n"
     ]
    }
   ],
   "source": [
    "single_cat(train, 'college')"
   ]
  },
  {
   "cell_type": "markdown",
   "metadata": {},
   "source": [
    "No missing values. \n",
    "There is some observable difference across colleges\n"
   ]
  },
  {
   "cell_type": "markdown",
   "metadata": {},
   "source": [
    " #### cp_prior3mon_pay_total"
   ]
  },
  {
   "cell_type": "code",
   "execution_count": 9,
   "metadata": {
    "collapsed": false
   },
   "outputs": [
    {
     "name": "stdout",
     "output_type": "stream",
     "text": [
      "number of missing values = 0\n",
      "summary of the whole set\n",
      "count    7813.000000\n",
      "mean      307.369557\n",
      "std       480.123325\n",
      "min      -814.810000\n",
      "25%         0.000000\n",
      "50%         0.000000\n",
      "75%       533.330000\n",
      "max      6716.800000\n",
      "Name: cp_prior3mon_pay_total, dtype: float64\n",
      "summary of subset with target = 0\n",
      "count    3489.000000\n",
      "mean      536.322221\n",
      "std       532.416251\n",
      "min         0.000000\n",
      "25%         0.000000\n",
      "50%       410.040000\n",
      "75%      1111.110000\n",
      "max      2666.660000\n",
      "Name: cp_prior3mon_pay_total, dtype: float64\n",
      "summary of subset with target = 1\n",
      "count    4324.000000\n",
      "mean      122.629537\n",
      "std       333.776852\n",
      "min      -814.810000\n",
      "25%         0.000000\n",
      "50%         0.000000\n",
      "75%         0.000000\n",
      "max      6716.800000\n",
      "Name: cp_prior3mon_pay_total, dtype: float64\n"
     ]
    },
    {
     "data": {
      "image/png": "[encoded data removed]",
      "text/plain": [
       "<matplotlib.figure.Figure at 0x7fd2ab52bf50>"
      ]
     },
     "metadata": {},
     "output_type": "display_data"
    }
   ],
   "source": [
    "single_num(train, 'cp_prior3mon_pay_total')"
   ]
  },
  {
   "cell_type": "markdown",
   "metadata": {},
   "source": [
    "There is an outlier -814.81, could be data error, another outlier 6717. Remove them before moving on."
   ]
  },
  {
   "cell_type": "code",
   "execution_count": 10,
   "metadata": {
    "collapsed": false
   },
   "outputs": [],
   "source": [
    "train = train[(train.cp_prior3mon_pay_total >= 0) &  (train.cp_prior3mon_pay_total < 2700)]"
   ]
  },
  {
   "cell_type": "markdown",
   "metadata": {},
   "source": [
    "### Explore one-variable model"
   ]
  },
  {
   "cell_type": "code",
   "execution_count": 30,
   "metadata": {
    "collapsed": true
   },
   "outputs": [],
   "source": [
    "def mkPredC(outCol, varCol, appCol):\n",
    "    \"\"\"outCol: the target column of the training data\n",
    "       varCol: the variable column of the training data\n",
    "       appCol: the variable column of the test/validate data\n",
    "    this fuctions build a cross table of target v.s. a single categorical variable \n",
    "    using the training data and applied it to the appCol\n",
    "       \"\"\"\n",
    "    pos = 1\n",
    "    pPos = float(sum(outCol == pos)) /outCol.shape[0]\n",
    "    print pPos\n",
    "    vTab = pd.crosstab(outCol, varCol)\n",
    "    print vTab\n",
    "    pPosWv = (vTab.iloc[1] + 1.0e-3 * pPos) / (vTab.sum(axis = 0) + 1.0e-3)\n",
    "    pred = pPosWv[appCol]\n",
    "    return pred"
   ]
  },
  {
   "cell_type": "code",
   "execution_count": 25,
   "metadata": {
    "collapsed": true
   },
   "outputs": [],
   "source": [
    "def cut(v, cuts):\n",
    "    for i in range(cuts.shape[0] - 1):\n",
    "        if v >= cuts[i] and v <= cuts[i+1]:\n",
    "            return i\n",
    "    return i\n",
    "\n",
    "def mkPredN(outCol, varCol, appCol):\n",
    "    pos = 1\n",
    "    cuts = np.unique(np.percentile(varCol, range(0,110,10)))\n",
    "    varC = pd.Series(map(lambda x: cut(x, cuts), varCol))\n",
    "    appC = pd.Series(map(lambda x: cut(x, cuts), appCol))\n",
    "    #return mkPredC(outCol,varC,appC)\n",
    "    return cuts, varC, appC"
   ]
  },
  {
   "cell_type": "code",
   "execution_count": null,
   "metadata": {
    "collapsed": true
   },
   "outputs": [],
   "source": []
  }
 ],
 "metadata": {
  "kernelspec": {
   "display_name": "Python 2",
   "language": "python",
   "name": "python2"
  },
  "language_info": {
   "codemirror_mode": {
    "name": "ipython",
    "version": 2
   },
   "file_extension": ".py",
   "mimetype": "text/x-python",
   "name": "python",
   "nbconvert_exporter": "python",
   "pygments_lexer": "ipython2",
   "version": "2.7.12"
  }
 },
 "nbformat": 4,
 "nbformat_minor": 0
}
