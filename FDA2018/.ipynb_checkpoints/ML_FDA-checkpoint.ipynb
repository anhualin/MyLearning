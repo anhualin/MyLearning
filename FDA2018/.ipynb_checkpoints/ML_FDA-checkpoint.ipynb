{
 "cells": [
  {
   "cell_type": "code",
   "execution_count": 45,
   "metadata": {},
   "outputs": [
    {
     "name": "stderr",
     "output_type": "stream",
     "text": [
      "Loading required package: ROCR\n",
      "Warning message:\n",
      "\"package 'ROCR' was built under R version 3.3.3\"Loading required package: gplots\n",
      "Warning message:\n",
      "\"package 'gplots' was built under R version 3.3.3\"\n",
      "Attaching package: 'gplots'\n",
      "\n",
      "The following object is masked from 'package:stats':\n",
      "\n",
      "    lowess\n",
      "\n"
     ]
    }
   ],
   "source": [
    "require(ggplot2)\n",
    "require(ROCR)\n",
    "require(dplyr)"
   ]
  },
  {
   "cell_type": "code",
   "execution_count": 2,
   "metadata": {},
   "outputs": [],
   "source": [
    "data <- read.csv(file = 'C:\\\\Users\\\\alin\\\\Documents\\\\Data\\\\FDA2018\\\\Collection_Risk.csv')"
   ]
  },
  {
   "cell_type": "code",
   "execution_count": 3,
   "metadata": {},
   "outputs": [],
   "source": [
    "names(data) <- tolower(names(data))\n",
    "\n",
    "data$id <- seq(1, nrow(data))\n",
    "\n",
    "data$student_id <- NULL\n",
    "\n",
    "outcome <- 'risk'\n",
    "pos <- '1'"
   ]
  },
  {
   "cell_type": "code",
   "execution_count": 12,
   "metadata": {},
   "outputs": [],
   "source": [
    "data$risk_n <- data$risk\n",
    "data$risk <- as.factor(data$risk)"
   ]
  },
  {
   "cell_type": "code",
   "execution_count": 4,
   "metadata": {},
   "outputs": [
    {
     "name": "stdout",
     "output_type": "stream",
     "text": [
      "'data.frame':\t12836 obs. of  27 variables:\n",
      " $ future                    : num  1111 0 0 0 1111 ...\n",
      " $ aging                     : int  90 30 30 60 0 0 0 30 60 90 ...\n",
      " $ program                   : Factor w/ 16 levels \"MA_MAEC\",\"MA_MAEL\",..: 7 10 7 7 10 10 7 13 13 13 ...\n",
      " $ degree                    : Factor w/ 4 levels \"MA\",\"MBA\",\"MPH\",..: 2 4 2 2 4 4 2 4 4 4 ...\n",
      " $ college                   : Factor w/ 5 levels \"ED\",\"MG\",\"PA\",..: 2 2 2 2 2 2 2 2 2 2 ...\n",
      " $ bb_activity_latest        : int  2 1 48 50 0 0 58 43 74 104 ...\n",
      " $ bb_gip_etc_ratio_std      : num  123.8 117.7 88.1 88.1 0 ...\n",
      " $ cum_gpa                   : num  2 1.7 1.7 1.7 0.6 0.6 2.2 2.4 2.4 2.4 ...\n",
      " $ cum_credits               : int  60 60 120 140 0 0 80 100 120 120 ...\n",
      " $ ba_credits_passed_prior1yr: num  11.71 7.95 3.94 4.58 0 ...\n",
      " $ ba_age                    : int  30 39 35 35 43 43 52 32 32 32 ...\n",
      " $ gender                    : Factor w/ 4 levels \"\",\"F\",\"M\",\"N\": 3 3 2 2 3 3 3 3 3 3 ...\n",
      " $ cp_prior3mon_pay_cnt      : int  0 0 0 0 0 0 0 0 0 0 ...\n",
      " $ cp_prior3mon_pay_total    : num  0 0 0 0 0 0 0 0 0 0 ...\n",
      " $ payment_auto_flag         : int  0 0 0 0 0 0 0 0 0 0 ...\n",
      " $ risk                      : int  0 0 0 0 1 1 0 1 1 1 ...\n",
      " $ nation_desc               : Factor w/ 161 levels \"\",\"AFGHANISTAN\",..: 115 152 117 117 106 106 132 106 106 106 ...\n",
      " $ ind                       : int  9 11 10 11 7 8 9 7 8 9 ...\n",
      " $ current_balance           : num  0.11 1111.11 1111.11 1111.11 0 ...\n",
      " $ module_cp                 : int  6 4 8 8 1 1 6 8 8 8 ...\n",
      " $ day_since_end             : int  86 49 12 42 717 748 86 18 49 79 ...\n",
      " $ in_module                 : int  1 1 1 1 0 0 0 1 1 1 ...\n",
      " $ day_since_begin           : int  71 34 11 41 365 365 365 17 48 78 ...\n",
      " $ in_future                 : int  1 0 0 0 0 0 1 0 0 0 ...\n",
      " $ day_to_begin              : int  27 365 365 365 365 365 27 365 365 365 ...\n",
      " $ in_dissertation           : int  0 0 1 1 0 0 0 1 1 1 ...\n",
      " $ id                        : int  1 2 3 4 5 6 7 8 9 10 ...\n"
     ]
    }
   ],
   "source": [
    "str(data)"
   ]
  },
  {
   "cell_type": "markdown",
   "metadata": {},
   "source": [
    "### Train Test split"
   ]
  },
  {
   "cell_type": "code",
   "execution_count": 18,
   "metadata": {},
   "outputs": [],
   "source": [
    "train <- data[data$ind <= 10, ]\n",
    "test <- data[data$ind == 11, ]\n"
   ]
  },
  {
   "cell_type": "code",
   "execution_count": 13,
   "metadata": {},
   "outputs": [],
   "source": [
    "num_to_cat <- c('risk', 'in_module', 'in_future', 'in_dissertation')\n",
    "for (fac in num_to_cat){\n",
    "  data[, fac] <- as.factor(data[, fac])\n",
    "}\n",
    "\n",
    "#utility functions to explore single feature v.s. the target\n",
    "single_cat <- function(dSet, feature, target = 'risk') {\n",
    "  #for categorical feature\n",
    "  print(sum(is.na(dSet[, feature])))\n",
    "  tab <- table(feature = as.factor(dSet[, feature]), \n",
    "                                   target = dSet[, target])\n",
    "  print(tab)\n",
    "  print(tab[,2]/(tab[, 1] + tab[, 2] ))\n",
    "}\n",
    "\n",
    "\n",
    "single_num <- function(dSet, feature, target = 'risk'){\n",
    "  #for numerical feature\n",
    "  print(sum(is.na(dSet[, feature])))\n",
    "  print(summary(dSet[, feature]))\n",
    "  plot(dSet[,feature] ~ dSet[, target])\n",
    "  print(summary(dSet[dSet[, target]  != pos, feature]))\n",
    "  print(summary(dSet[dSet[, target]  == pos, feature]))\n",
    "}  \n",
    "\n"
   ]
  },
  {
   "cell_type": "markdown",
   "metadata": {},
   "source": [
    "### EDA"
   ]
  },
  {
   "cell_type": "code",
   "execution_count": 21,
   "metadata": {},
   "outputs": [
    {
     "name": "stdout",
     "output_type": "stream",
     "text": [
      "[1] 0\n",
      "       target\n",
      "feature    0    1\n",
      "     ED  733  662\n",
      "     MG 2575 3554\n",
      "     PA   80  130\n",
      "     PH 1062 1450\n",
      "     PY  253  180\n",
      "       ED        MG        PA        PH        PY \n",
      "0.4745520 0.5798662 0.6190476 0.5772293 0.4157044 \n"
     ]
    }
   ],
   "source": [
    "single_cat(train, 'college')"
   ]
  },
  {
   "cell_type": "code",
   "execution_count": 33,
   "metadata": {},
   "outputs": [
    {
     "data": {},
     "metadata": {},
     "output_type": "display_data"
    },
    {
     "data": {
      "image/png": "[encoded data removed]",
      "text/plain": [
       "plot without title"
      ]
     },
     "metadata": {},
     "output_type": "display_data"
    }
   ],
   "source": [
    "\n",
    "ggplot(data=train) +\n",
    "  geom_density(aes(x = bb_activity_latest,\n",
    "                   color = risk,\n",
    "                   linetype = risk ))"
   ]
  },
  {
   "cell_type": "code",
   "execution_count": 34,
   "metadata": {},
   "outputs": [
    {
     "data": {
      "text/plain": [
       "   Min. 1st Qu.  Median    Mean 3rd Qu.    Max.    NA's \n",
       "   0.00   25.57   92.21   79.33  116.50 1959.00    2356 "
      ]
     },
     "metadata": {},
     "output_type": "display_data"
    }
   ],
   "source": [
    "summary(train$bb_gip_etc_ratio_std)"
   ]
  },
  {
   "cell_type": "code",
   "execution_count": 35,
   "metadata": {},
   "outputs": [
    {
     "data": {},
     "metadata": {},
     "output_type": "display_data"
    },
    {
     "data": {
      "image/png": "[encoded data removed]",
      "text/plain": [
       "plot without title"
      ]
     },
     "metadata": {},
     "output_type": "display_data"
    }
   ],
   "source": [
    "\n",
    "ggplot(data=train) +\n",
    "  geom_density(aes(x = cum_gpa,\n",
    "                   color = risk,\n",
    "                   linetype = risk ))"
   ]
  },
  {
   "cell_type": "markdown",
   "metadata": {},
   "source": [
    "### Feature transformation, engineering and selection"
   ]
  },
  {
   "cell_type": "code",
   "execution_count": 41,
   "metadata": {},
   "outputs": [],
   "source": [
    "vars <- setdiff(names(train), c('student_id', 'risk','bb_gip_etc_ratio_std',\n",
    "                                    'cp_prior3mon_pay_cnt', 'payment_auto_flag',\n",
    "                                    'payment_auto_flag', 'ind',\n",
    "                                    'nation_desc', 'id', 'risk_n'))\n",
    "\n",
    "catVars <- vars[sapply(train[,vars],class) %in%\n",
    "                  c('factor','character')]\n",
    "numericVars <- vars[sapply(train[,vars],class) %in%\n",
    "                      c('numeric','integer')]"
   ]
  },
  {
   "cell_type": "code",
   "execution_count": 42,
   "metadata": {},
   "outputs": [
    {
     "data": {
      "text/html": [
       "<ol class=list-inline>\n",
       "\t<li>'program'</li>\n",
       "\t<li>'degree'</li>\n",
       "\t<li>'college'</li>\n",
       "\t<li>'gender'</li>\n",
       "\t<li>'in_module'</li>\n",
       "\t<li>'in_future'</li>\n",
       "\t<li>'in_dissertation'</li>\n",
       "</ol>\n"
      ],
      "text/latex": [
       "\\begin{enumerate*}\n",
       "\\item 'program'\n",
       "\\item 'degree'\n",
       "\\item 'college'\n",
       "\\item 'gender'\n",
       "\\item 'in\\_module'\n",
       "\\item 'in\\_future'\n",
       "\\item 'in\\_dissertation'\n",
       "\\end{enumerate*}\n"
      ],
      "text/markdown": [
       "1. 'program'\n",
       "2. 'degree'\n",
       "3. 'college'\n",
       "4. 'gender'\n",
       "5. 'in_module'\n",
       "6. 'in_future'\n",
       "7. 'in_dissertation'\n",
       "\n",
       "\n"
      ],
      "text/plain": [
       "[1] \"program\"         \"degree\"          \"college\"         \"gender\"         \n",
       "[5] \"in_module\"       \"in_future\"       \"in_dissertation\""
      ]
     },
     "metadata": {},
     "output_type": "display_data"
    }
   ],
   "source": [
    "catVars"
   ]
  },
  {
   "cell_type": "code",
   "execution_count": 43,
   "metadata": {},
   "outputs": [
    {
     "data": {
      "text/html": [
       "<ol class=list-inline>\n",
       "\t<li>'future'</li>\n",
       "\t<li>'aging'</li>\n",
       "\t<li>'bb_activity_latest'</li>\n",
       "\t<li>'cum_gpa'</li>\n",
       "\t<li>'cum_credits'</li>\n",
       "\t<li>'ba_credits_passed_prior1yr'</li>\n",
       "\t<li>'ba_age'</li>\n",
       "\t<li>'cp_prior3mon_pay_total'</li>\n",
       "\t<li>'current_balance'</li>\n",
       "\t<li>'module_cp'</li>\n",
       "\t<li>'day_since_end'</li>\n",
       "\t<li>'day_since_begin'</li>\n",
       "\t<li>'day_to_begin'</li>\n",
       "</ol>\n"
      ],
      "text/latex": [
       "\\begin{enumerate*}\n",
       "\\item 'future'\n",
       "\\item 'aging'\n",
       "\\item 'bb\\_activity\\_latest'\n",
       "\\item 'cum\\_gpa'\n",
       "\\item 'cum\\_credits'\n",
       "\\item 'ba\\_credits\\_passed\\_prior1yr'\n",
       "\\item 'ba\\_age'\n",
       "\\item 'cp\\_prior3mon\\_pay\\_total'\n",
       "\\item 'current\\_balance'\n",
       "\\item 'module\\_cp'\n",
       "\\item 'day\\_since\\_end'\n",
       "\\item 'day\\_since\\_begin'\n",
       "\\item 'day\\_to\\_begin'\n",
       "\\end{enumerate*}\n"
      ],
      "text/markdown": [
       "1. 'future'\n",
       "2. 'aging'\n",
       "3. 'bb_activity_latest'\n",
       "4. 'cum_gpa'\n",
       "5. 'cum_credits'\n",
       "6. 'ba_credits_passed_prior1yr'\n",
       "7. 'ba_age'\n",
       "8. 'cp_prior3mon_pay_total'\n",
       "9. 'current_balance'\n",
       "10. 'module_cp'\n",
       "11. 'day_since_end'\n",
       "12. 'day_since_begin'\n",
       "13. 'day_to_begin'\n",
       "\n",
       "\n"
      ],
      "text/plain": [
       " [1] \"future\"                     \"aging\"                     \n",
       " [3] \"bb_activity_latest\"         \"cum_gpa\"                   \n",
       " [5] \"cum_credits\"                \"ba_credits_passed_prior1yr\"\n",
       " [7] \"ba_age\"                     \"cp_prior3mon_pay_total\"    \n",
       " [9] \"current_balance\"            \"module_cp\"                 \n",
       "[11] \"day_since_end\"              \"day_since_begin\"           \n",
       "[13] \"day_to_begin\"              "
      ]
     },
     "metadata": {},
     "output_type": "display_data"
    }
   ],
   "source": [
    "numericVars"
   ]
  },
  {
   "cell_type": "markdown",
   "metadata": {},
   "source": [
    "### Variable Selection"
   ]
  },
  {
   "cell_type": "markdown",
   "metadata": {},
   "source": [
    "### Single variable model, AUC"
   ]
  },
  {
   "cell_type": "code",
   "execution_count": 36,
   "metadata": {},
   "outputs": [],
   "source": [
    "train0 <- train[train$ind <= 9, ]\n",
    "valid0 <- train[train$ind == 10, ]\n"
   ]
  },
  {
   "cell_type": "code",
   "execution_count": 37,
   "metadata": {},
   "outputs": [],
   "source": [
    "mkPredC <- function(outCol,varCol,appCol) {\n",
    "  pPos <- sum(outCol==pos)/length(outCol)\n",
    "  vTab <- table(as.factor(outCol),varCol)\n",
    "  pPosWv <- (vTab[pos,]+1.0e-3*pPos)/(colSums(vTab)+1.0e-3)\n",
    "  pred <- pPosWv[appCol]\n",
    "  pred[is.na(pred)] <- pPos\n",
    "  pred\n",
    "}\n",
    "\n",
    "\n",
    "mkPredN <- function(outCol,varCol,appCol) {\n",
    "  cuts <- unique(as.numeric(quantile(varCol,\n",
    "                                     probs=seq(0, 1, 0.1),na.rm=T)))\n",
    "  cuts[[1]] <- cuts[[1]] - 0.1\n",
    "  varC <- cut(varCol,cuts)\n",
    "  appC <- cut(appCol,cuts)\n",
    "  mkPredC(outCol,varC,appC)\n",
    "}\n",
    "\n",
    "\n",
    "calcAUC <- function(predcol,outcol) {\n",
    "  #calculated auc\n",
    "  perf <- performance(prediction(predcol,outcol==pos),'auc')\n",
    "  as.numeric(perf@y.values)\n",
    "}"
   ]
  },
  {
   "cell_type": "code",
   "execution_count": 38,
   "metadata": {},
   "outputs": [],
   "source": [
    "train0_num_sd <- scale(train0[, numericVars])\n",
    "means <- attr(train0_num_sd, \"scaled:center\")\n",
    "stds <- attr(train0_num_sd, \"scaled:scale\")\n",
    "train0[, numericVars] <- data.frame(train0_num_sd)\n",
    "\n",
    "# use the same mean/std to transform valid0\n",
    "valid0_num <- valid0[, numericVars]\n",
    "valid0_num <- t(apply(valid0_num, 1, '-', means))\n",
    "valid0_num <- t(apply(valid0_num, 1, '/', stds))\n",
    "valid0[, numericVars] <- data.frame(valid0_num)\n"
   ]
  },
  {
   "cell_type": "code",
   "execution_count": 51,
   "metadata": {},
   "outputs": [],
   "source": [
    "  v <- 'program'\n",
    "  pi <- paste('pred',v,sep='')\n",
    "  train0[,pi] <- mkPredC(train0[,outcome],train0[,v],train0[,v])\n",
    "  valid0[,pi] <- mkPredC(train0[,outcome],train0[,v],valid0[,v])\n",
    "  aucTrain <- calcAUC(train0[,pi], train0[,outcome])\n",
    "  aucCal <- calcAUC(valid0[,pi], valid0[,outcome])"
   ]
  },
  {
   "cell_type": "code",
   "execution_count": 52,
   "metadata": {},
   "outputs": [
    {
     "data": {
      "text/html": [
       "0.553705129561415"
      ],
      "text/latex": [
       "0.553705129561415"
      ],
      "text/markdown": [
       "0.553705129561415"
      ],
      "text/plain": [
       "[1] 0.5537051"
      ]
     },
     "metadata": {},
     "output_type": "display_data"
    }
   ],
   "source": [
    "aucTrain"
   ]
  },
  {
   "cell_type": "code",
   "execution_count": 53,
   "metadata": {},
   "outputs": [
    {
     "data": {
      "text/html": [
       "0.565817081586495"
      ],
      "text/latex": [
       "0.565817081586495"
      ],
      "text/markdown": [
       "0.565817081586495"
      ],
      "text/plain": [
       "[1] 0.5658171"
      ]
     },
     "metadata": {},
     "output_type": "display_data"
    }
   ],
   "source": [
    "aucCal"
   ]
  },
  {
   "cell_type": "code",
   "execution_count": 54,
   "metadata": {},
   "outputs": [
    {
     "name": "stdout",
     "output_type": "stream",
     "text": [
      "[1] 0.5537051\n"
     ]
    },
    {
     "data": {
      "image/png": "[encoded data removed]",
      "text/plain": [
       "plot without title"
      ]
     },
     "metadata": {},
     "output_type": "display_data"
    }
   ],
   "source": [
    "eval <- prediction(train0[,pi], train0[, outcome])\n",
    "plot(performance(eval,\"tpr\",\"fpr\"))\n",
    "print(attributes(performance(eval,'auc'))$y.values[[1]])"
   ]
  },
  {
   "cell_type": "code",
   "execution_count": 55,
   "metadata": {},
   "outputs": [
    {
     "name": "stdout",
     "output_type": "stream",
     "text": [
      "[1] 0.5658171\n"
     ]
    },
    {
     "data": {
      "image/png": "[encoded data removed]",
      "text/plain": [
       "plot without title"
      ]
     },
     "metadata": {},
     "output_type": "display_data"
    }
   ],
   "source": [
    "eval <- prediction(valid0[,pi], valid0[, outcome])\n",
    "plot(performance(eval,\"tpr\",\"fpr\"))\n",
    "print(attributes(performance(eval,'auc'))$y.values[[1]])"
   ]
  },
  {
   "cell_type": "code",
   "execution_count": 56,
   "metadata": {},
   "outputs": [
    {
     "name": "stdout",
     "output_type": "stream",
     "text": [
      "[1] \"predfuture, trainAUC: 0.611 calibrationAUC: 0.595\"\n",
      "[1] \"predaging, trainAUC: 0.672 calibrationAUC: 0.682\"\n",
      "[1] \"predbb_activity_latest, trainAUC: 0.790 calibrationAUC: 0.684\"\n",
      "[1] \"predcum_gpa, trainAUC: 0.670 calibrationAUC: 0.610\"\n",
      "[1] \"predcum_credits, trainAUC: 0.627 calibrationAUC: 0.580\"\n",
      "[1] \"predba_credits_passed_prior1yr, trainAUC: 0.800 calibrationAUC: 0.774\"\n",
      "[1] \"predba_age, trainAUC: 0.536 calibrationAUC: 0.538\"\n",
      "[1] \"predcp_prior3mon_pay_total, trainAUC: 0.730 calibrationAUC: 0.698\"\n",
      "[1] \"predcurrent_balance, trainAUC: 0.664 calibrationAUC: 0.619\"\n",
      "[1] \"predmodule_cp, trainAUC: 0.678 calibrationAUC: 0.637\"\n",
      "[1] \"predday_since_end, trainAUC: 0.666 calibrationAUC: 0.668\"\n",
      "[1] \"predday_since_begin, trainAUC: 0.749 calibrationAUC: 0.825\"\n",
      "[1] \"predday_to_begin, trainAUC: 0.674 calibrationAUC: 0.500\"\n",
      "[1] \"predprogram, trainAUC: 0.554 calibrationAUC: 0.566\"\n",
      "[1] \"preddegree, trainAUC: 0.525 calibrationAUC: 0.532\"\n",
      "[1] \"predcollege, trainAUC: 0.532 calibrationAUC: 0.552\"\n",
      "[1] \"predgender, trainAUC: 0.554 calibrationAUC: 0.562\"\n",
      "[1] \"predin_module, trainAUC: 0.733 calibrationAUC: 0.806\"\n",
      "[1] \"predin_future, trainAUC: 0.703 calibrationAUC: 0.503\"\n",
      "[1] \"predin_dissertation, trainAUC: 0.522 calibrationAUC: 0.560\"\n"
     ]
    }
   ],
   "source": [
    "for(v in numericVars) {\n",
    "  pi <- paste('pred',v,sep='')\n",
    "  train0[,pi] <- mkPredN(train0[,outcome],train0[,v],train0[,v])\n",
    "  valid0[,pi] <- mkPredN(train0[,outcome],train0[,v],valid0[,v])\n",
    "  aucTrain <- calcAUC(train0[,pi],train0[,outcome])\n",
    "  aucCal <- calcAUC(valid0[,pi], valid0[,outcome])\n",
    "  print(sprintf(\"%s, trainAUC: %4.3f calibrationAUC: %4.3f\",\n",
    "                pi,aucTrain,aucCal))\n",
    "}\n",
    "\n",
    "for(v in catVars) {\n",
    "  pi <- paste('pred',v,sep='')\n",
    "  train0[,pi] <- mkPredC(train0[,outcome],train0[,v],train0[,v])\n",
    "  valid0[,pi] <- mkPredC(train0[,outcome],train0[,v],valid0[,v])\n",
    "  aucTrain <- calcAUC(train0[,pi], train0[,outcome])\n",
    "  aucCal <- calcAUC(valid0[,pi], valid0[,outcome])\n",
    "  print(sprintf(\"%s, trainAUC: %4.3f calibrationAUC: %4.3f\",\n",
    "                pi,aucTrain,aucCal))\n",
    "  \n",
    "}\n",
    "\n"
   ]
  },
  {
   "cell_type": "code",
   "execution_count": 59,
   "metadata": {},
   "outputs": [
    {
     "name": "stdout",
     "output_type": "stream",
     "text": [
      "[1] -1952.959\n",
      "[1] \"predprogram, calibrationScore: 43.4052\"\n",
      "[1] \"preddegree, calibrationScore: 11.3161\"\n",
      "[1] \"predcollege, calibrationScore: 33.4748\"\n",
      "[1] \"predgender, calibrationScore: 37.8942\"\n",
      "[1] \"predin_module, calibrationScore: 1065.33\"\n",
      "[1] \"predin_future, calibrationScore: -137.396\"\n",
      "[1] \"predin_dissertation, calibrationScore: 131.464\"\n",
      "[1] \"predfuture, calibrationScore: 107.581\"\n",
      "[1] \"predaging, calibrationScore: 383.924\"\n",
      "[1] \"predbb_activity_latest, calibrationScore: -687.381\"\n",
      "[1] \"predcum_gpa, calibrationScore: 68.1829\"\n",
      "[1] \"predcum_credits, calibrationScore: 49.0464\"\n",
      "[1] \"predba_credits_passed_prior1yr, calibrationScore: 725.816\"\n",
      "[1] \"predba_age, calibrationScore: 3.50506\"\n",
      "[1] \"predcp_prior3mon_pay_total, calibrationScore: 503.817\"\n",
      "[1] \"predcurrent_balance, calibrationScore: 85.6689\"\n",
      "[1] \"predmodule_cp, calibrationScore: 135.492\"\n",
      "[1] \"predday_since_end, calibrationScore: 195.903\"\n",
      "[1] \"predday_since_begin, calibrationScore: 1078.99\"\n",
      "[1] \"predday_to_begin, calibrationScore: -91.2584\"\n"
     ]
    },
    {
     "data": {
      "text/html": [
       "<table>\n",
       "<thead><tr><th></th><th scope=col>var</th><th scope=col>score</th></tr></thead>\n",
       "<tbody>\n",
       "\t<tr><th scope=row>19</th><td>day_since_begin           </td><td>1078.985333               </td></tr>\n",
       "\t<tr><th scope=row>5</th><td>in_module                 </td><td>1065.333573               </td></tr>\n",
       "\t<tr><th scope=row>13</th><td>ba_credits_passed_prior1yr</td><td> 725.816210               </td></tr>\n",
       "\t<tr><th scope=row>15</th><td>cp_prior3mon_pay_total    </td><td> 503.816654               </td></tr>\n",
       "\t<tr><th scope=row>9</th><td>aging                     </td><td> 383.923720               </td></tr>\n",
       "\t<tr><th scope=row>18</th><td>day_since_end             </td><td> 195.902553               </td></tr>\n",
       "\t<tr><th scope=row>17</th><td>module_cp                 </td><td> 135.491666               </td></tr>\n",
       "\t<tr><th scope=row>7</th><td>in_dissertation           </td><td> 131.463927               </td></tr>\n",
       "\t<tr><th scope=row>8</th><td>future                    </td><td> 107.581050               </td></tr>\n",
       "\t<tr><th scope=row>16</th><td>current_balance           </td><td>  85.668894               </td></tr>\n",
       "\t<tr><th scope=row>11</th><td>cum_gpa                   </td><td>  68.182853               </td></tr>\n",
       "\t<tr><th scope=row>12</th><td>cum_credits               </td><td>  49.046361               </td></tr>\n",
       "\t<tr><th scope=row>1</th><td>program                   </td><td>  43.405236               </td></tr>\n",
       "\t<tr><th scope=row>4</th><td>gender                    </td><td>  37.894250               </td></tr>\n",
       "\t<tr><th scope=row>3</th><td>college                   </td><td>  33.474829               </td></tr>\n",
       "\t<tr><th scope=row>2</th><td>degree                    </td><td>  11.316136               </td></tr>\n",
       "\t<tr><th scope=row>14</th><td>ba_age                    </td><td>   3.505057               </td></tr>\n",
       "\t<tr><th scope=row>20</th><td>day_to_begin              </td><td> -91.258422               </td></tr>\n",
       "\t<tr><th scope=row>6</th><td>in_future                 </td><td>-137.396315               </td></tr>\n",
       "\t<tr><th scope=row>10</th><td>bb_activity_latest        </td><td>-687.380549               </td></tr>\n",
       "</tbody>\n",
       "</table>\n"
      ],
      "text/latex": [
       "\\begin{tabular}{r|ll}\n",
       "  & var & score\\\\\n",
       "\\hline\n",
       "\t19 & day\\_since\\_begin            & 1078.985333                   \\\\\n",
       "\t5 & in\\_module                  & 1065.333573                 \\\\\n",
       "\t13 & ba\\_credits\\_passed\\_prior1yr &  725.816210                     \\\\\n",
       "\t15 & cp\\_prior3mon\\_pay\\_total     &  503.816654                     \\\\\n",
       "\t9 & aging                      &  383.923720               \\\\\n",
       "\t18 & day\\_since\\_end              &  195.902553                   \\\\\n",
       "\t17 & module\\_cp                  &  135.491666                 \\\\\n",
       "\t7 & in\\_dissertation            &  131.463927                 \\\\\n",
       "\t8 & future                     &  107.581050               \\\\\n",
       "\t16 & current\\_balance            &   85.668894                 \\\\\n",
       "\t11 & cum\\_gpa                    &   68.182853                 \\\\\n",
       "\t12 & cum\\_credits                &   49.046361                 \\\\\n",
       "\t1 & program                    &   43.405236               \\\\\n",
       "\t4 & gender                     &   37.894250               \\\\\n",
       "\t3 & college                    &   33.474829               \\\\\n",
       "\t2 & degree                     &   11.316136               \\\\\n",
       "\t14 & ba\\_age                     &    3.505057                 \\\\\n",
       "\t20 & day\\_to\\_begin               &  -91.258422                   \\\\\n",
       "\t6 & in\\_future                  & -137.396315                 \\\\\n",
       "\t10 & bb\\_activity\\_latest         & -687.380549                   \\\\\n",
       "\\end{tabular}\n"
      ],
      "text/markdown": [
       "\n",
       "| <!--/--> | var | score | \n",
       "|---|---|---|---|---|---|---|---|---|---|---|---|---|---|---|---|---|---|---|---|\n",
       "| 19 | day_since_begin            | 1078.985333                | \n",
       "| 5 | in_module                  | 1065.333573                | \n",
       "| 13 | ba_credits_passed_prior1yr |  725.816210                | \n",
       "| 15 | cp_prior3mon_pay_total     |  503.816654                | \n",
       "| 9 | aging                      |  383.923720                | \n",
       "| 18 | day_since_end              |  195.902553                | \n",
       "| 17 | module_cp                  |  135.491666                | \n",
       "| 7 | in_dissertation            |  131.463927                | \n",
       "| 8 | future                     |  107.581050                | \n",
       "| 16 | current_balance            |   85.668894                | \n",
       "| 11 | cum_gpa                    |   68.182853                | \n",
       "| 12 | cum_credits                |   49.046361                | \n",
       "| 1 | program                    |   43.405236                | \n",
       "| 4 | gender                     |   37.894250                | \n",
       "| 3 | college                    |   33.474829                | \n",
       "| 2 | degree                     |   11.316136                | \n",
       "| 14 | ba_age                     |    3.505057                | \n",
       "| 20 | day_to_begin               |  -91.258422                | \n",
       "| 6 | in_future                  | -137.396315                | \n",
       "| 10 | bb_activity_latest         | -687.380549                | \n",
       "\n",
       "\n"
      ],
      "text/plain": [
       "   var                        score      \n",
       "19 day_since_begin            1078.985333\n",
       "5  in_module                  1065.333573\n",
       "13 ba_credits_passed_prior1yr  725.816210\n",
       "15 cp_prior3mon_pay_total      503.816654\n",
       "9  aging                       383.923720\n",
       "18 day_since_end               195.902553\n",
       "17 module_cp                   135.491666\n",
       "7  in_dissertation             131.463927\n",
       "8  future                      107.581050\n",
       "16 current_balance              85.668894\n",
       "11 cum_gpa                      68.182853\n",
       "12 cum_credits                  49.046361\n",
       "1  program                      43.405236\n",
       "4  gender                       37.894250\n",
       "3  college                      33.474829\n",
       "2  degree                       11.316136\n",
       "14 ba_age                        3.505057\n",
       "20 day_to_begin                -91.258422\n",
       "6  in_future                  -137.396315\n",
       "10 bb_activity_latest         -687.380549"
      ]
     },
     "metadata": {},
     "output_type": "display_data"
    }
   ],
   "source": [
    "logLikelyhood <- function(outCol,predCol) {\n",
    "  sum(ifelse(outCol==pos,log(predCol),log(1-predCol)))\n",
    "}\n",
    "\n",
    "selVars <- c()\n",
    "scores <- c()\n",
    "baseRateCheck <- logLikelyhood(\n",
    "  valid0[,outcome],\n",
    "  sum(valid0[,outcome]==pos)/length(valid0[,outcome]))\n",
    "print(baseRateCheck)\n",
    "for(v in catVars) {\n",
    "  pi <- paste('pred',v,sep='')\n",
    "  liCheck <- 2*((logLikelyhood(valid0[,outcome],valid0[,pi]) -\n",
    "                   baseRateCheck))\n",
    "  \n",
    "  print(sprintf(\"%s, calibrationScore: %g\", pi,liCheck))\n",
    "  selVars <- c(selVars,v)\n",
    "  scores <- c(scores, liCheck)\n",
    "  \n",
    "}\n",
    "\n",
    "for(v in numericVars) {\n",
    "  pi <- paste('pred',v,sep='')\n",
    "  liCheck <- 2*((logLikelyhood(valid0[,outcome],valid0[,pi]) -\n",
    "                   baseRateCheck) - 1)\n",
    "  \n",
    "  print(sprintf(\"%s, calibrationScore: %g\", pi,liCheck))\n",
    "  selVars <- c(selVars,v)\n",
    "  scores <- c(scores, liCheck)\n",
    "  \n",
    "}\n",
    "\n",
    "varScore <- data.frame(var = selVars, score = scores)\n",
    "varScore <- varScore[with(varScore, order(-score)),]\n",
    "varScore"
   ]
  },
  {
   "cell_type": "markdown",
   "metadata": {},
   "source": [
    "### Model selection and parameter tuning"
   ]
  },
  {
   "cell_type": "markdown",
   "metadata": {},
   "source": [
    "Cross validation, ensembling, stacking"
   ]
  },
  {
   "cell_type": "code",
   "execution_count": null,
   "metadata": {},
   "outputs": [],
   "source": []
  }
 ],
 "metadata": {
  "kernelspec": {
   "display_name": "R",
   "language": "R",
   "name": "ir"
  },
  "language_info": {
   "codemirror_mode": "r",
   "file_extension": ".r",
   "mimetype": "text/x-r-source",
   "name": "R",
   "pygments_lexer": "r",
   "version": "3.3.2"
  }
 },
 "nbformat": 4,
 "nbformat_minor": 2
}
