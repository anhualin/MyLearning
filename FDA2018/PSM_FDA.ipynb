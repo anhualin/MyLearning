{
 "cells": [
  {
   "cell_type": "markdown",
   "metadata": {},
   "source": [
    "### Problem Statement:\n",
    "\n",
    "Business often tries new strategy/approach to boost the retention of students.  Such strategies cost resource so the business wants to know whether they are really effective. However, such analysis is often done retrospectively without good randomized design.  The following is a study of a case that was given to us. The problem is real but the data are not."
   ]
  },
  {
   "cell_type": "markdown",
   "metadata": {},
   "source": [
    "Business applied a strategy to new students who started with two programs in June of 2017. The goal was to boost their second term retention. The control group consists of similar students from June of 2016."
   ]
  },
  {
   "cell_type": "code",
   "execution_count": 1,
   "metadata": {},
   "outputs": [
    {
     "name": "stderr",
     "output_type": "stream",
     "text": [
      "Loading required package: tableone\n",
      "Warning message:\n",
      "\"package 'tableone' was built under R version 3.3.3\"Loading required package: Matching\n",
      "Warning message:\n",
      "\"package 'Matching' was built under R version 3.3.3\"Loading required package: MASS\n",
      "## \n",
      "##  Matching (Version 4.9-2, Build Date: 2015-12-25)\n",
      "##  See http://sekhon.berkeley.edu/matching for additional documentation.\n",
      "##  Please cite software as:\n",
      "##   Jasjeet S. Sekhon. 2011. ``Multivariate and Propensity Score Matching\n",
      "##   Software with Automated Balance Optimization: The Matching package for R.''\n",
      "##   Journal of Statistical Software, 42(7): 1-52. \n",
      "##\n",
      "\n",
      "Loading required package: Hmisc\n",
      "Warning message:\n",
      "\"package 'Hmisc' was built under R version 3.3.3\"Loading required package: lattice\n",
      "Loading required package: survival\n",
      "Warning message:\n",
      "\"package 'survival' was built under R version 3.3.3\"Loading required package: Formula\n",
      "Loading required package: ggplot2\n",
      "Warning message:\n",
      "\"package 'ggplot2' was built under R version 3.3.3\"\n",
      "Attaching package: 'Hmisc'\n",
      "\n",
      "The following objects are masked from 'package:base':\n",
      "\n",
      "    format.pval, round.POSIXt, trunc.POSIXt, units\n",
      "\n",
      "Loading required package: dplyr\n",
      "Warning message:\n",
      "\"package 'dplyr' was built under R version 3.3.3\"\n",
      "Attaching package: 'dplyr'\n",
      "\n",
      "The following objects are masked from 'package:Hmisc':\n",
      "\n",
      "    combine, src, summarize\n",
      "\n",
      "The following object is masked from 'package:MASS':\n",
      "\n",
      "    select\n",
      "\n",
      "The following objects are masked from 'package:stats':\n",
      "\n",
      "    filter, lag\n",
      "\n",
      "The following objects are masked from 'package:base':\n",
      "\n",
      "    intersect, setdiff, setequal, union\n",
      "\n",
      "Loading required package: tidyr\n",
      "Warning message:\n",
      "\"package 'tidyr' was built under R version 3.3.3\"Loading required package: scales\n",
      "Warning message:\n",
      "\"package 'scales' was built under R version 3.3.3\"Loading required package: ggthemes\n",
      "Warning message:\n",
      "\"package 'ggthemes' was built under R version 3.3.3\""
     ]
    }
   ],
   "source": [
    "require(tableone)\n",
    "require(Matching)\n",
    "require(Hmisc)       # (Frank Harrell's library of useful functions)\n",
    "require(dplyr)      # for data manipulation\n",
    "require(tidyr)      # for reshaping data\n",
    "require(ggplot2)\n",
    "require(scales)\n",
    "require(ggthemes) "
   ]
  },
  {
   "cell_type": "code",
   "execution_count": 2,
   "metadata": {},
   "outputs": [],
   "source": [
    "dat <- readRDS(\"C:\\\\Users\\\\alin\\\\Documents\\\\SelfStudy\\\\CausalEffectsVideos\\\\psm.rds\")\n"
   ]
  },
  {
   "cell_type": "markdown",
   "metadata": {},
   "source": [
    "### Explanation of the data\n",
    "1. tc: treatment - students from 2017, control - students from 2016\n",
    "2. ret: whether retained in the second term\n",
    "3. prog: one program or another\n",
    "4. balance: whether has a balance in his/her account\n",
    "5. honesty: did they click the honesty declaration button\n",
    "6. pay_plan: one payment plan or another\n",
    "7. assignment: whether they have completed the first assignment\n",
    "8. forum: number of posts that they have posted in the discussion forum\n",
    "9. region:"
   ]
  },
  {
   "cell_type": "markdown",
   "metadata": {},
   "source": [
    "Even though there might exists other confounders, these are what we would use after discussion with domain experts."
   ]
  },
  {
   "cell_type": "markdown",
   "metadata": {},
   "source": [
    "Because these are observational data instead of a randomized control trial,  we need to balance the confounders first."
   ]
  },
  {
   "cell_type": "markdown",
   "metadata": {},
   "source": [
    "### Check balance"
   ]
  },
  {
   "cell_type": "code",
   "execution_count": 3,
   "metadata": {},
   "outputs": [],
   "source": [
    "display_prop <- function(df, tc_fld = 'tc', target, category){\n",
    "    # show bar charts of proportion of a binary variate by  treatment/control\n",
    "    trt_cnt <- sum(df[tc_fld])\n",
    "    ctl_cnt <- sum(1 - df[tc_fld])\n",
    "    df['treat'] <- as.factor(ifelse(df[tc_fld] == 0, 'control', 'treatment'))\n",
    "    df['grp'] <- as.factor(ifelse(df[target] == 0, category[1], category[2]))\n",
    "    df_prop <- df %>%\n",
    "        group_by(treat, grp) %>%\n",
    "        summarise(freq = n()) %>%\n",
    "        mutate(prop = ifelse(treat == 'control', freq / ctl_cnt, freq / trt_cnt))\n",
    "    \n",
    "    \n",
    "    ggplot(data = df_prop, aes(x = treat, y = prop, fill = grp)) +\n",
    "       geom_bar(stat = 'identity', position = 'dodge', alpha = 2/3) +\n",
    "       scale_y_continuous(labels = percent) +\n",
    "       scale_fill_few('medium', drop = FALSE) +\n",
    "       labs(x = NULL, y = 'Proportion', fill = target,\n",
    "            title = paste('Proportion of ', target))\n",
    "}\n",
    "\n",
    "\n",
    "       "
   ]
  },
  {
   "cell_type": "code",
   "execution_count": 4,
   "metadata": {},
   "outputs": [],
   "source": [
    "check_balance <- function(d, test_type = 'p', trt_name='tc', fld_name, alternative = 'two.sided', paired = FALSE){\n",
    "   # use t-test (for numerical variate) and z-test (for categorical variate) to check whether \n",
    "   # the means / proportions of the given variate are the same for treatment and control\n",
    "    trt <- d[d[trt_name] == 1, fld_name]\n",
    "    ctl <- d[d[trt_name] == 0, fld_name]\n",
    "\n",
    "    if(test_type == 'p'){\n",
    "        prop.test(c(sum(trt), sum(ctl)), c(length(trt), length(ctl)), alternative = alternative)\n",
    "    }else{\n",
    "        t.test(ctl, trt, alternative = alternative)\n",
    "    }\n",
    "}\n"
   ]
  },
  {
   "cell_type": "markdown",
   "metadata": {},
   "source": [
    "### Visualization and test"
   ]
  },
  {
   "cell_type": "markdown",
   "metadata": {},
   "source": [
    "Eg. Prog."
   ]
  },
  {
   "cell_type": "code",
   "execution_count": 5,
   "metadata": {},
   "outputs": [
    {
     "name": "stderr",
     "output_type": "stream",
     "text": [
      "Warning message:\n",
      "\"package 'bindrcpp' was built under R version 3.3.3\""
     ]
    },
    {
     "data": {},
     "metadata": {},
     "output_type": "display_data"
    },
    {
     "data": {
      "image/png": "[encoded data removed]",
      "text/plain": [
       "plot without title"
      ]
     },
     "metadata": {},
     "output_type": "display_data"
    }
   ],
   "source": [
    "display_prop(df = dat, target = 'prog', category = c('Management', 'EDD'))\n"
   ]
  },
  {
   "cell_type": "code",
   "execution_count": 6,
   "metadata": {},
   "outputs": [
    {
     "data": {
      "text/plain": [
       "\n",
       "\t2-sample test for equality of proportions with continuity correction\n",
       "\n",
       "data:  c(sum(trt), sum(ctl)) out of c(length(trt), length(ctl))\n",
       "X-squared = 34.412, df = 1, p-value = 4.46e-09\n",
       "alternative hypothesis: two.sided\n",
       "95 percent confidence interval:\n",
       " -0.2419361 -0.1195024\n",
       "sample estimates:\n",
       "   prop 1    prop 2 \n",
       "0.5010989 0.6818182 \n"
      ]
     },
     "metadata": {},
     "output_type": "display_data"
    }
   ],
   "source": [
    "check_balance(d = dat, fld_name = 'prog')"
   ]
  },
  {
   "cell_type": "markdown",
   "metadata": {},
   "source": [
    "Eg. pay-plan"
   ]
  },
  {
   "cell_type": "code",
   "execution_count": 7,
   "metadata": {
    "scrolled": true
   },
   "outputs": [
    {
     "data": {},
     "metadata": {},
     "output_type": "display_data"
    },
    {
     "data": {
      "image/png": "[encoded data removed]",
      "text/plain": [
       "plot without title"
      ]
     },
     "metadata": {},
     "output_type": "display_data"
    }
   ],
   "source": [
    "display_prop(df = dat, target = 'pay_plan', category = c('1stallment', '3stallment'))\n"
   ]
  },
  {
   "cell_type": "code",
   "execution_count": 8,
   "metadata": {},
   "outputs": [
    {
     "data": {
      "text/plain": [
       "\n",
       "\t2-sample test for equality of proportions with continuity correction\n",
       "\n",
       "data:  c(sum(trt), sum(ctl)) out of c(length(trt), length(ctl))\n",
       "X-squared = 6.5059, df = 1, p-value = 0.01075\n",
       "alternative hypothesis: two.sided\n",
       "95 percent confidence interval:\n",
       " 0.01859016 0.14221940\n",
       "sample estimates:\n",
       "   prop 1    prop 2 \n",
       "0.6241758 0.5437710 \n"
      ]
     },
     "metadata": {},
     "output_type": "display_data"
    }
   ],
   "source": [
    "check_balance(d = dat, fld_name = 'pay_plan')"
   ]
  },
  {
   "cell_type": "markdown",
   "metadata": {},
   "source": [
    "Eg. honesty"
   ]
  },
  {
   "cell_type": "code",
   "execution_count": 9,
   "metadata": {},
   "outputs": [
    {
     "data": {},
     "metadata": {},
     "output_type": "display_data"
    },
    {
     "data": {
      "image/png": "[encoded data removed]",
      "text/plain": [
       "plot without title"
      ]
     },
     "metadata": {},
     "output_type": "display_data"
    }
   ],
   "source": [
    "display_prop(df = dat, target = 'honesty', category = c('No', 'Yes'))"
   ]
  },
  {
   "cell_type": "code",
   "execution_count": 10,
   "metadata": {},
   "outputs": [
    {
     "data": {
      "text/plain": [
       "\n",
       "\t2-sample test for equality of proportions with continuity correction\n",
       "\n",
       "data:  c(sum(trt), sum(ctl)) out of c(length(trt), length(ctl))\n",
       "X-squared = 0.53413, df = 1, p-value = 0.4649\n",
       "alternative hypothesis: two.sided\n",
       "95 percent confidence interval:\n",
       " -0.03102598  0.07210342\n",
       "sample estimates:\n",
       "   prop 1    prop 2 \n",
       "0.8000000 0.7794613 \n"
      ]
     },
     "metadata": {},
     "output_type": "display_data"
    }
   ],
   "source": [
    "check_balance(d = dat, fld_name = 'honesty')"
   ]
  },
  {
   "cell_type": "markdown",
   "metadata": {},
   "source": [
    "### Use Standardized difference\n",
    "    \n",
    "$\\mbox{SMD} = \\frac{\\bar{X}_{\\mbox{treatment}} - \\bar{X}_{\\mbox{control}}}{\\sqrt{\\frac{S^2_{\\mbox{treatment}} + S^2_{\\mbox{control}} }{2}}} $    \n",
    "1. SMD < 0.1  --- good\n",
    "2. 0.1 <= SMD < 0.2 --- OK, not alarming\n",
    "3. SMD > 0.2 --- very unblanced\n"
   ]
  },
  {
   "cell_type": "code",
   "execution_count": 11,
   "metadata": {},
   "outputs": [
    {
     "name": "stdout",
     "output_type": "stream",
     "text": [
      "                          Stratified by tc\n",
      "                           0             1             SMD   \n",
      "  n                          594           455               \n",
      "  gender (mean (sd))        0.37 (0.48)   0.40 (0.49)   0.067\n",
      "  age (mean (sd))          46.72 (11.58) 44.88 (11.61)  0.159\n",
      "  prog (mean (sd))          0.68 (0.47)   0.50 (0.50)   0.374\n",
      "  balance (mean (sd))       0.23 (0.42)   0.17 (0.37)   0.168\n",
      "  honesty (mean (sd))       0.78 (0.41)   0.80 (0.40)   0.050\n",
      "  pay_plan (mean (sd))      0.54 (0.50)   0.62 (0.48)   0.164\n",
      "  assignment (mean (sd))    0.30 (0.46)   0.29 (0.46)   0.016\n",
      "  forum (mean (sd))        35.12 (31.24) 39.00 (29.85)  0.127\n",
      "  africa (mean (sd))        0.18 (0.38)   0.18 (0.38)   0.007\n",
      "  asia (mean (sd))          0.16 (0.37)   0.25 (0.43)   0.212\n",
      "  europe (mean (sd))        0.35 (0.48)   0.39 (0.49)   0.087\n",
      "  america (mean (sd))       0.19 (0.39)   0.16 (0.36)   0.077\n",
      "  other_region (mean (sd))  0.13 (0.33)   0.13 (0.34)   0.010\n"
     ]
    }
   ],
   "source": [
    "xvars <- c('gender', 'age', 'prog', 'balance', 'honesty', 'pay_plan', 'assignment',\n",
    "           'forum', 'africa', 'asia', 'europe', 'america', 'other_region')\n",
    "table1 <- CreateTableOne(vars = xvars, strata = 'tc', data = dat, test = FALSE)\n",
    "print(table1, smd = TRUE)\n"
   ]
  },
  {
   "cell_type": "markdown",
   "metadata": {},
   "source": [
    "### Propensity Score Matching"
   ]
  },
  {
   "cell_type": "code",
   "execution_count": 12,
   "metadata": {},
   "outputs": [],
   "source": [
    "psmodel <- glm(tc ~ gender + age + prog + balance + honesty + pay_plan \n",
    "              + assignment + forum + africa + asia\n",
    "              + europe + america + other_region, \n",
    "              family = binomial(), data = dat)"
   ]
  },
  {
   "cell_type": "code",
   "execution_count": 13,
   "metadata": {},
   "outputs": [],
   "source": [
    "dat$ps <- psmodel$fitted.values"
   ]
  },
  {
   "cell_type": "markdown",
   "metadata": {},
   "source": [
    "### Examine the region of common support"
   ]
  },
  {
   "cell_type": "code",
   "execution_count": 15,
   "metadata": {},
   "outputs": [
    {
     "data": {
      "image/png": "[encoded data removed]",
      "text/plain": [
       "plot without title"
      ]
     },
     "metadata": {},
     "output_type": "display_data"
    }
   ],
   "source": [
    "plot(dat$ps, jitter(dat$tc+0.5), pch=16, cex=0.5, col=2*dat$tc+2,\n",
    "     axes=FALSE, type=\"p\", xlim=c(0,1), ylim=c(0,2), xlab=\"\", ylab=\"\")\n",
    "axis(1)\n",
    "mtext(c(\"control\", \"treatment\"), side=2, at=c(0.5, 1.5), line=3, las=1, adj=0)\n",
    "mtext(\"Propensity score\", side=1, at=0.5, line=2.5)\n",
    "lines(quantile(dat$ps[dat$tc==0])[c(2,4)], c(0.85, 0.85), col=2)\n",
    "lines(rep(quantile(dat$ps[dat$tc==0])[3], 2), c(0.8, 0.9), col=2)\n",
    "lines(quantile(dat$ps[dat$tc==1])[c(2,4)], c(1.15, 1.15), col=4)\n",
    "lines(rep(quantile(dat$ps[dat$tc==1])[3], 2), c(1.1, 1.2), col=4)"
   ]
  },
  {
   "cell_type": "markdown",
   "metadata": {},
   "source": [
    "Pretty good common support"
   ]
  },
  {
   "cell_type": "markdown",
   "metadata": {},
   "source": [
    "### PSM\n",
    "We match of the logit of ps score "
   ]
  },
  {
   "cell_type": "code",
   "execution_count": 16,
   "metadata": {},
   "outputs": [],
   "source": [
    "logit <- function(p) {log(p)-log(1-p)}\n",
    "psmatch<-Match(Tr=dat$tc, M=1,X=logit(dat$ps),replace=FALSE,caliper= 1.3)\n",
    "matched<-dat[unlist(psmatch[c(\"index.treated\",\"index.control\")]), ]"
   ]
  },
  {
   "cell_type": "markdown",
   "metadata": {},
   "source": [
    "### Check balance again"
   ]
  },
  {
   "cell_type": "markdown",
   "metadata": {},
   "source": [
    "Eg. prog"
   ]
  },
  {
   "cell_type": "code",
   "execution_count": 17,
   "metadata": {},
   "outputs": [
    {
     "data": {},
     "metadata": {},
     "output_type": "display_data"
    },
    {
     "data": {
      "image/png": "[encoded data removed]",
      "text/plain": [
       "plot without title"
      ]
     },
     "metadata": {},
     "output_type": "display_data"
    }
   ],
   "source": [
    "display_prop(df = matched, target = 'prog', category = c('Management', 'EDD'))\n"
   ]
  },
  {
   "cell_type": "code",
   "execution_count": 19,
   "metadata": {},
   "outputs": [
    {
     "data": {
      "text/plain": [
       "\n",
       "\t2-sample test for equality of proportions with continuity correction\n",
       "\n",
       "data:  c(sum(trt), sum(ctl)) out of c(length(trt), length(ctl))\n",
       "X-squared = 0.8219, df = 1, p-value = 0.3646\n",
       "alternative hypothesis: two.sided\n",
       "95 percent confidence interval:\n",
       " -0.10333052  0.03618424\n",
       "sample estimates:\n",
       "   prop 1    prop 2 \n",
       "0.5419664 0.5755396 \n"
      ]
     },
     "metadata": {},
     "output_type": "display_data"
    }
   ],
   "source": [
    "check_balance(d = matched, fld_name = 'prog')"
   ]
  },
  {
   "cell_type": "markdown",
   "metadata": {},
   "source": [
    "Eg. pay-plan"
   ]
  },
  {
   "cell_type": "code",
   "execution_count": 20,
   "metadata": {},
   "outputs": [
    {
     "data": {},
     "metadata": {},
     "output_type": "display_data"
    },
    {
     "data": {
      "image/png": "[encoded data removed]",
      "text/plain": [
       "plot without title"
      ]
     },
     "metadata": {},
     "output_type": "display_data"
    }
   ],
   "source": [
    "display_prop(df = matched, target = 'pay_plan', category = c('1stallment', '3stallment'))\n"
   ]
  },
  {
   "cell_type": "code",
   "execution_count": 21,
   "metadata": {},
   "outputs": [
    {
     "data": {
      "text/plain": [
       "\n",
       "\t2-sample test for equality of proportions with continuity correction\n",
       "\n",
       "data:  c(sum(trt), sum(ctl)) out of c(length(trt), length(ctl))\n",
       "X-squared = 1.2797, df = 1, p-value = 0.2579\n",
       "alternative hypothesis: two.sided\n",
       "95 percent confidence interval:\n",
       " -0.02804987  0.10958465\n",
       "sample estimates:\n",
       "   prop 1    prop 2 \n",
       "0.6211031 0.5803357 \n"
      ]
     },
     "metadata": {},
     "output_type": "display_data"
    }
   ],
   "source": [
    "check_balance(d = matched, fld_name = 'pay_plan')"
   ]
  },
  {
   "cell_type": "code",
   "execution_count": 22,
   "metadata": {},
   "outputs": [
    {
     "name": "stdout",
     "output_type": "stream",
     "text": [
      "                          Stratified by tc\n",
      "                           0             1             SMD   \n",
      "  n                          417           417               \n",
      "  gender (mean (sd))        0.40 (0.49)   0.38 (0.49)   0.025\n",
      "  age (mean (sd))          45.65 (11.58) 45.62 (11.45)  0.003\n",
      "  prog (mean (sd))          0.58 (0.49)   0.54 (0.50)   0.068\n",
      "  balance (mean (sd))       0.21 (0.41)   0.17 (0.37)   0.117\n",
      "  honesty (mean (sd))       0.77 (0.42)   0.79 (0.41)   0.058\n",
      "  pay_plan (mean (sd))      0.58 (0.49)   0.62 (0.49)   0.083\n",
      "  assignment (mean (sd))    0.30 (0.46)   0.29 (0.45)   0.021\n",
      "  forum (mean (sd))        36.60 (32.83) 39.15 (30.04)  0.081\n",
      "  africa (mean (sd))        0.19 (0.39)   0.18 (0.38)   0.031\n",
      "  asia (mean (sd))          0.17 (0.38)   0.19 (0.39)   0.037\n",
      "  europe (mean (sd))        0.35 (0.48)   0.36 (0.48)   0.035\n",
      "  america (mean (sd))       0.16 (0.37)   0.16 (0.37)   0.007\n",
      "  other_region (mean (sd))  0.13 (0.33)   0.13 (0.34)   0.021\n"
     ]
    }
   ],
   "source": [
    "matchedtab<-CreateTableOne(vars=xvars, strata =\"tc\", \n",
    "                            data=matched, test = FALSE)\n",
    "print(matchedtab, smd = TRUE)"
   ]
  },
  {
   "cell_type": "markdown",
   "metadata": {},
   "source": [
    "### Sensitity Analysis"
   ]
  },
  {
   "cell_type": "markdown",
   "metadata": {},
   "source": [
    "### Outcome Analysis"
   ]
  },
  {
   "cell_type": "code",
   "execution_count": 26,
   "metadata": {},
   "outputs": [
    {
     "data": {
      "text/plain": [
       "\n",
       "\t2-sample test for equality of proportions with continuity correction\n",
       "\n",
       "data:  c(sum(trt), sum(ctl)) out of c(length(trt), length(ctl))\n",
       "X-squared = 0.33398, df = 1, p-value = 0.2817\n",
       "alternative hypothesis: greater\n",
       "95 percent confidence interval:\n",
       " -0.03097893  1.00000000\n",
       "sample estimates:\n",
       "   prop 1    prop 2 \n",
       "0.7817746 0.7625899 \n"
      ]
     },
     "metadata": {},
     "output_type": "display_data"
    }
   ],
   "source": [
    "check_balance(d = matched, fld_name = 'ret', alternative = 'greater')"
   ]
  },
  {
   "cell_type": "code",
   "execution_count": 25,
   "metadata": {},
   "outputs": [
    {
     "data": {
      "text/plain": [
       "\n",
       "\t2-sample test for equality of proportions with continuity correction\n",
       "\n",
       "data:  c(sum(trt), sum(ctl)) out of c(length(trt), length(ctl))\n",
       "X-squared = 0.33398, df = 1, p-value = 0.5633\n",
       "alternative hypothesis: two.sided\n",
       "95 percent confidence interval:\n",
       " -0.04012953  0.07849883\n",
       "sample estimates:\n",
       "   prop 1    prop 2 \n",
       "0.7817746 0.7625899 \n"
      ]
     },
     "metadata": {},
     "output_type": "display_data"
    }
   ],
   "source": [
    "check_balance(d = matched, fld_name = 'ret', paired = TRUE)"
   ]
  },
  {
   "cell_type": "code",
   "execution_count": null,
   "metadata": {},
   "outputs": [],
   "source": []
  }
 ],
 "metadata": {
  "kernelspec": {
   "display_name": "R",
   "language": "R",
   "name": "ir"
  },
  "language_info": {
   "codemirror_mode": "r",
   "file_extension": ".r",
   "mimetype": "text/x-r-source",
   "name": "R",
   "pygments_lexer": "r",
   "version": "3.3.2"
  }
 },
 "nbformat": 4,
 "nbformat_minor": 2
}
