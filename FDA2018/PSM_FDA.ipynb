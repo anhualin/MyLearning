{
 "cells": [
  {
   "cell_type": "markdown",
   "metadata": {},
   "source": [
    "### Problem Statement:\n",
    "\n",
    "Business often tries new strategy/approach to boost the retention of students.  Such strategies cost resource so the business wants to know whether they are really effective. However, such analysis is often done retrospectively without good randomized design.  The following is a study of a case that was given to us. The problem is real but the data are not."
   ]
  },
  {
   "cell_type": "markdown",
   "metadata": {},
   "source": [
    "Business applied a strategy to new students who started with two programs in June of 2017. The goal was to boost their second term retention. The control group consists of similar students from June of 2016."
   ]
  },
  {
   "cell_type": "code",
   "execution_count": 1,
   "metadata": {},
   "outputs": [
    {
     "name": "stderr",
     "output_type": "stream",
     "text": [
      "Warning message:\n",
      "\"package 'tableone' was built under R version 3.3.3\"Warning message:\n",
      "\"package 'Matching' was built under R version 3.3.3\"Loading required package: MASS\n",
      "## \n",
      "##  Matching (Version 4.9-2, Build Date: 2015-12-25)\n",
      "##  See http://sekhon.berkeley.edu/matching for additional documentation.\n",
      "##  Please cite software as:\n",
      "##   Jasjeet S. Sekhon. 2011. ``Multivariate and Propensity Score Matching\n",
      "##   Software with Automated Balance Optimization: The Matching package for R.''\n",
      "##   Journal of Statistical Software, 42(7): 1-52. \n",
      "##\n",
      "\n"
     ]
    }
   ],
   "source": [
    "library(tableone)\n",
    "library(Matching)\n"
   ]
  },
  {
   "cell_type": "code",
   "execution_count": 2,
   "metadata": {},
   "outputs": [],
   "source": [
    "dat <- readRDS(\"C:\\\\Users\\\\alin\\\\Documents\\\\SelfStudy\\\\CausalEffectsVideos\\\\psm.rds\")\n"
   ]
  },
  {
   "cell_type": "code",
   "execution_count": 3,
   "metadata": {},
   "outputs": [
    {
     "name": "stdout",
     "output_type": "stream",
     "text": [
      "'data.frame':\t1049 obs. of  16 variables:\n",
      " $ tc          : int  1 1 1 1 0 0 0 0 1 1 ...\n",
      " $ ret         : num  1 0 1 0 0 1 1 1 1 1 ...\n",
      " $ prog        : int  0 1 0 1 1 1 1 1 1 1 ...\n",
      " $ balance     : num  0 0 0 0 0 0 1 0 0 1 ...\n",
      " $ honesty     : int  1 0 1 1 0 1 0 1 1 1 ...\n",
      " $ pay_plan    : num  0 0 1 1 1 0 0 1 0 0 ...\n",
      " $ assignment  : int  0 0 1 0 0 1 0 0 1 0 ...\n",
      " $ forum       : int  37 4 47 22 0 38 12 40 21 58 ...\n",
      " $ africa      : num  0 0 0 1 0 1 0 1 0 0 ...\n",
      " $ asia        : num  0 0 0 1 0 0 1 0 0 0 ...\n",
      " $ europe      : num  1 0 1 0 0 0 0 0 1 1 ...\n",
      " $ america     : num  0 0 0 0 0 0 0 0 0 0 ...\n",
      " $ other_region: num  0 0 0 0 1 0 0 0 0 0 ...\n",
      " $ id          : int  1 2 3 4 5 6 7 8 9 10 ...\n",
      " $ gender      : int  0 1 0 0 1 1 1 1 0 0 ...\n",
      " $ age         : num  33 65 61 29 38 52 57 35 43 34 ...\n"
     ]
    }
   ],
   "source": [
    "str(dat)"
   ]
  },
  {
   "cell_type": "markdown",
   "metadata": {},
   "source": [
    "### Explanation of the data\n",
    "1. tc: treatment - students from 2017, control - students from 2016\n",
    "2. ret: whether retained in the second term\n",
    "3. prog: one program or another\n",
    "4. balance: whether has a balance in his/her account\n",
    "5. honesty: did they click the honesty declaration button\n",
    "6. pay_plan: one payment plan or another\n",
    "7. assignment: whether they have completed the first assignment\n",
    "8. forum: number of posts that they have posted in the discussion forum\n",
    "9. region:"
   ]
  },
  {
   "cell_type": "markdown",
   "metadata": {},
   "source": [
    "Even though there might exists other confounders, these are what we would use after discussion with domain experts."
   ]
  },
  {
   "cell_type": "markdown",
   "metadata": {},
   "source": [
    "Because these are observational data instead of a randomized control trial,  we need to balance the confounders first."
   ]
  },
  {
   "cell_type": "markdown",
   "metadata": {},
   "source": [
    "### Check balance"
   ]
  },
  {
   "cell_type": "markdown",
   "metadata": {},
   "source": [
    "1. Use Standardized difference"
   ]
  },
  {
   "cell_type": "code",
   "execution_count": 4,
   "metadata": {},
   "outputs": [
    {
     "name": "stdout",
     "output_type": "stream",
     "text": [
      "                          Stratified by tc\n",
      "                           0             1             SMD   \n",
      "  n                          594           455               \n",
      "  gender (mean (sd))        0.37 (0.48)   0.40 (0.49)   0.067\n",
      "  age (mean (sd))          46.72 (11.58) 44.88 (11.61)  0.159\n",
      "  prog (mean (sd))          0.68 (0.47)   0.50 (0.50)   0.374\n",
      "  balance (mean (sd))       0.23 (0.42)   0.17 (0.37)   0.168\n",
      "  honesty (mean (sd))       0.78 (0.41)   0.80 (0.40)   0.050\n",
      "  pay_plan (mean (sd))      0.54 (0.50)   0.62 (0.48)   0.164\n",
      "  assignment (mean (sd))    0.30 (0.46)   0.29 (0.46)   0.016\n",
      "  forum (mean (sd))        35.12 (31.24) 39.00 (29.85)  0.127\n",
      "  africa (mean (sd))        0.18 (0.38)   0.18 (0.38)   0.007\n",
      "  asia (mean (sd))          0.16 (0.37)   0.25 (0.43)   0.212\n",
      "  europe (mean (sd))        0.35 (0.48)   0.39 (0.49)   0.087\n",
      "  america (mean (sd))       0.19 (0.39)   0.16 (0.36)   0.077\n",
      "  other_region (mean (sd))  0.13 (0.33)   0.13 (0.34)   0.010\n"
     ]
    }
   ],
   "source": [
    "xvars <- c('gender', 'age', 'prog', 'balance', 'honesty', 'pay_plan', 'assignment',\n",
    "           'forum', 'africa', 'asia', 'europe', 'america', 'other_region')\n",
    "table1 <- CreateTableOne(vars = xvars, strata = 'tc', data = dat, test = FALSE)\n",
    "print(table1, smd = TRUE)\n"
   ]
  },
  {
   "cell_type": "markdown",
   "metadata": {},
   "source": [
    "1. SMD < 0.1  --- good\n",
    "2. 0.1 <= SMD < 0.2 --- OK, not alarming\n",
    "3. SMD > 0.2 --- very unblanced\n",
    "\n"
   ]
  },
  {
   "cell_type": "code",
   "execution_count": 22,
   "metadata": {},
   "outputs": [],
   "source": [
    "check_balance <- function(d, test_type = 'p', trt_name='tc', fld_name, alternative = 'two.sided', paired = FALSE){\n",
    "    trt <- d[d[trt_name] == 1, fld_name]\n",
    "    ctl <- d[d[trt_name] == 0, fld_name]\n",
    "\n",
    "    if(test_type == 'p'){\n",
    "        prop.test(c(sum(trt), sum(ctl)), c(length(trt), length(ctl)), alternative = alternative)\n",
    "    }else{\n",
    "        t.test(ctl, trt, alternative = alternative)\n",
    "    }\n",
    "}\n"
   ]
  },
  {
   "cell_type": "code",
   "execution_count": 24,
   "metadata": {},
   "outputs": [
    {
     "data": {
      "text/plain": [
       "\n",
       "\t2-sample test for equality of proportions with continuity correction\n",
       "\n",
       "data:  c(sum(trt), sum(ctl)) out of c(length(trt), length(ctl))\n",
       "X-squared = 34.412, df = 1, p-value = 4.46e-09\n",
       "alternative hypothesis: two.sided\n",
       "95 percent confidence interval:\n",
       " -0.2419361 -0.1195024\n",
       "sample estimates:\n",
       "   prop 1    prop 2 \n",
       "0.5010989 0.6818182 \n"
      ]
     },
     "metadata": {},
     "output_type": "display_data"
    }
   ],
   "source": [
    "check_balance(d = dat, fld_name = 'prog')"
   ]
  },
  {
   "cell_type": "code",
   "execution_count": 25,
   "metadata": {},
   "outputs": [
    {
     "data": {
      "text/plain": [
       "\n",
       "\t2-sample test for equality of proportions with continuity correction\n",
       "\n",
       "data:  c(sum(trt), sum(ctl)) out of c(length(trt), length(ctl))\n",
       "X-squared = 11.174, df = 1, p-value = 0.0008297\n",
       "alternative hypothesis: two.sided\n",
       "95 percent confidence interval:\n",
       " 0.03386352 0.13726905\n",
       "sample estimates:\n",
       "   prop 1    prop 2 \n",
       "0.2505495 0.1649832 \n"
      ]
     },
     "metadata": {},
     "output_type": "display_data"
    }
   ],
   "source": [
    "check_balance(d=dat, fld_name= 'asia')"
   ]
  },
  {
   "cell_type": "code",
   "execution_count": 26,
   "metadata": {},
   "outputs": [
    {
     "data": {
      "text/plain": [
       "\n",
       "\t2-sample test for equality of proportions with continuity correction\n",
       "\n",
       "data:  c(sum(trt), sum(ctl)) out of c(length(trt), length(ctl))\n",
       "X-squared = 0.53413, df = 1, p-value = 0.4649\n",
       "alternative hypothesis: two.sided\n",
       "95 percent confidence interval:\n",
       " -0.03102598  0.07210342\n",
       "sample estimates:\n",
       "   prop 1    prop 2 \n",
       "0.8000000 0.7794613 \n"
      ]
     },
     "metadata": {},
     "output_type": "display_data"
    }
   ],
   "source": [
    "check_balance(d=dat, fld_name='honesty')"
   ]
  },
  {
   "cell_type": "code",
   "execution_count": 27,
   "metadata": {},
   "outputs": [
    {
     "data": {
      "text/plain": [
       "\n",
       "\t2-sample test for equality of proportions with continuity correction\n",
       "\n",
       "data:  c(sum(trt), sum(ctl)) out of c(length(trt), length(ctl))\n",
       "X-squared = 6.5059, df = 1, p-value = 0.01075\n",
       "alternative hypothesis: two.sided\n",
       "95 percent confidence interval:\n",
       " 0.01859016 0.14221940\n",
       "sample estimates:\n",
       "   prop 1    prop 2 \n",
       "0.6241758 0.5437710 \n"
      ]
     },
     "metadata": {},
     "output_type": "display_data"
    }
   ],
   "source": [
    "check_balance(d=dat, fld_name='pay_plan')"
   ]
  },
  {
   "cell_type": "code",
   "execution_count": 28,
   "metadata": {},
   "outputs": [
    {
     "data": {
      "text/plain": [
       "\n",
       "\tWelch Two Sample t-test\n",
       "\n",
       "data:  ctl and trt\n",
       "t = 2.7145, df = 1026.6, p-value = 0.006749\n",
       "alternative hypothesis: true difference in means is not equal to 0\n",
       "95 percent confidence interval:\n",
       " 0.01855946 0.11538808\n",
       "sample estimates:\n",
       "mean of x mean of y \n",
       "0.2340067 0.1670330 \n"
      ]
     },
     "metadata": {},
     "output_type": "display_data"
    }
   ],
   "source": [
    "check_balance(d=dat, test_type = 't', fld_name = 'balance')"
   ]
  },
  {
   "cell_type": "code",
   "execution_count": 29,
   "metadata": {},
   "outputs": [
    {
     "data": {
      "text/plain": [
       "\n",
       "\tWelch Two Sample t-test\n",
       "\n",
       "data:  ctl and trt\n",
       "t = 2.5478, df = 975.75, p-value = 0.01099\n",
       "alternative hypothesis: true difference in means is not equal to 0\n",
       "95 percent confidence interval:\n",
       " 0.4228637 3.2579148\n",
       "sample estimates:\n",
       "mean of x mean of y \n",
       " 46.72391  44.88352 \n"
      ]
     },
     "metadata": {},
     "output_type": "display_data"
    }
   ],
   "source": [
    "check_balance(d = dat, test_type ='age', fld_name = 'age')"
   ]
  },
  {
   "cell_type": "code",
   "execution_count": 30,
   "metadata": {},
   "outputs": [
    {
     "data": {
      "text/plain": [
       "\n",
       "\t2-sample test for equality of proportions with continuity correction\n",
       "\n",
       "data:  c(sum(trt), sum(ctl)) out of c(length(trt), length(ctl))\n",
       "X-squared = 1.0207, df = 1, p-value = 0.3124\n",
       "alternative hypothesis: two.sided\n",
       "95 percent confidence interval:\n",
       " -0.02880461  0.09376928\n",
       "sample estimates:\n",
       "   prop 1    prop 2 \n",
       "0.3978022 0.3653199 \n"
      ]
     },
     "metadata": {},
     "output_type": "display_data"
    }
   ],
   "source": [
    "check_balance(d = dat, fld_name = 'gender')"
   ]
  },
  {
   "cell_type": "markdown",
   "metadata": {},
   "source": [
    "### Propensity Score Matching"
   ]
  },
  {
   "cell_type": "code",
   "execution_count": 10,
   "metadata": {},
   "outputs": [],
   "source": [
    "psmodel <- glm(tc ~ prog + balance + honesty + pay_plan \n",
    "              + assignment + forum + africa + asia\n",
    "              + europe + america + other_region, \n",
    "              family = binomial(), data = dat)"
   ]
  },
  {
   "cell_type": "code",
   "execution_count": 11,
   "metadata": {},
   "outputs": [],
   "source": [
    "dat$ps <- psmodel$fitted.values"
   ]
  },
  {
   "cell_type": "markdown",
   "metadata": {},
   "source": [
    "### Examine the region of common support"
   ]
  },
  {
   "cell_type": "code",
   "execution_count": 12,
   "metadata": {},
   "outputs": [
    {
     "data": {
      "image/png": "[encoded data removed]",
      "text/plain": [
       "plot without title"
      ]
     },
     "metadata": {},
     "output_type": "display_data"
    }
   ],
   "source": [
    "plot(dat$ps, jitter(dat$tc+0.5), pch=16, cex=0.5, col=2*dat$tc+2,\n",
    "     axes=FALSE, type=\"p\", xlim=c(0,1), ylim=c(0,2), xlab=\"\", ylab=\"\")\n",
    "axis(1)\n",
    "mtext(c(\"trt=0\", \"trt=1\"), side=2, at=c(0.5, 1.5), line=3, las=1, adj=0)\n",
    "mtext(\"Propensity score\", side=1, at=0.5, line=2.5)\n",
    "lines(quantile(dat$ps[dat$tc==0])[c(2,4)], c(0.85, 0.85), col=2)\n",
    "lines(rep(quantile(dat$ps[dat$tc==0])[3], 2), c(0.8, 0.9), col=2)\n",
    "lines(quantile(dat$ps[dat$tc==1])[c(2,4)], c(1.15, 1.15), col=4)\n",
    "lines(rep(quantile(dat$ps[dat$tc==1])[3], 2), c(1.1, 1.2), col=4)"
   ]
  },
  {
   "cell_type": "markdown",
   "metadata": {},
   "source": [
    "Pretty good common support"
   ]
  },
  {
   "cell_type": "markdown",
   "metadata": {},
   "source": [
    "### PSM\n",
    "We match of the logit of ps score "
   ]
  },
  {
   "cell_type": "code",
   "execution_count": 13,
   "metadata": {},
   "outputs": [],
   "source": [
    "logit <- function(p) {log(p)-log(1-p)}\n",
    "psmatch<-Match(Tr=dat$tc, M=1,X=logit(dat$ps),replace=FALSE,caliper= 1.3)\n",
    "matched<-dat[unlist(psmatch[c(\"index.treated\",\"index.control\")]), ]"
   ]
  },
  {
   "cell_type": "markdown",
   "metadata": {},
   "source": [
    "### Check balance again"
   ]
  },
  {
   "cell_type": "code",
   "execution_count": 14,
   "metadata": {},
   "outputs": [
    {
     "name": "stdout",
     "output_type": "stream",
     "text": [
      "                          Stratified by tc\n",
      "                           0             1             SMD   \n",
      "  n                          417           417               \n",
      "  prog (mean (sd))          0.56 (0.50)   0.54 (0.50)   0.024\n",
      "  balance (mean (sd))       0.23 (0.42)   0.17 (0.37)   0.169\n",
      "  honesty (mean (sd))       0.82 (0.39)   0.80 (0.40)   0.048\n",
      "  pay_plan (mean (sd))      0.58 (0.49)   0.61 (0.49)   0.068\n",
      "  assignment (mean (sd))    0.31 (0.46)   0.29 (0.46)   0.042\n",
      "  forum (mean (sd))        39.15 (32.63) 39.14 (30.05) <0.001\n",
      "  africa (mean (sd))        0.18 (0.38)   0.18 (0.38)  <0.001\n",
      "  asia (mean (sd))          0.18 (0.39)   0.19 (0.39)   0.025\n",
      "  europe (mean (sd))        0.33 (0.47)   0.36 (0.48)   0.076\n",
      "  america (mean (sd))       0.19 (0.40)   0.16 (0.37)   0.088\n",
      "  other_region (mean (sd))  0.12 (0.32)   0.13 (0.34)   0.051\n"
     ]
    }
   ],
   "source": [
    "matchedtab<-CreateTableOne(vars=xvars, strata =\"tc\", \n",
    "                            data=matched, test = FALSE)\n",
    "print(matchedtab, smd = TRUE)"
   ]
  },
  {
   "cell_type": "code",
   "execution_count": 41,
   "metadata": {},
   "outputs": [
    {
     "data": {
      "text/plain": [
       "\n",
       "\t2-sample test for equality of proportions with continuity correction\n",
       "\n",
       "data:  c(nrow(trt_1), nrow(ctl_1)) out of c(nrow(trt), nrow(ctl))\n",
       "X-squared = 0.077525, df = 1, p-value = 0.7807\n",
       "alternative hypothesis: two.sided\n",
       "95 percent confidence interval:\n",
       " -0.08190647  0.05792565\n",
       "sample estimates:\n",
       "   prop 1    prop 2 \n",
       "0.5443645 0.5563549 \n"
      ]
     },
     "metadata": {},
     "output_type": "display_data"
    }
   ],
   "source": [
    "z_test(d=matched, fld_name='prog')"
   ]
  },
  {
   "cell_type": "code",
   "execution_count": 42,
   "metadata": {},
   "outputs": [
    {
     "data": {
      "text/plain": [
       "\n",
       "\t2-sample test for equality of proportions with continuity correction\n",
       "\n",
       "data:  c(nrow(trt_1), nrow(ctl_1)) out of c(nrow(trt), nrow(ctl))\n",
       "X-squared = 0.070967, df = 1, p-value = 0.7899\n",
       "alternative hypothesis: two.sided\n",
       "95 percent confidence interval:\n",
       " -0.04573227  0.06491692\n",
       "sample estimates:\n",
       "   prop 1    prop 2 \n",
       "0.1918465 0.1822542 \n"
      ]
     },
     "metadata": {},
     "output_type": "display_data"
    }
   ],
   "source": [
    "z_test(d=matched, fld_name='asia')"
   ]
  },
  {
   "cell_type": "markdown",
   "metadata": {},
   "source": [
    "### Sensitity Analysis"
   ]
  },
  {
   "cell_type": "markdown",
   "metadata": {},
   "source": [
    "### Outcome Analysis"
   ]
  },
  {
   "cell_type": "code",
   "execution_count": 43,
   "metadata": {},
   "outputs": [
    {
     "data": {
      "text/plain": [
       "\n",
       "\t2-sample test for equality of proportions with continuity correction\n",
       "\n",
       "data:  c(nrow(trt_1), nrow(ctl_1)) out of c(nrow(trt), nrow(ctl))\n",
       "X-squared = 0.33398, df = 1, p-value = 0.2817\n",
       "alternative hypothesis: greater\n",
       "95 percent confidence interval:\n",
       " -0.03097893  1.00000000\n",
       "sample estimates:\n",
       "   prop 1    prop 2 \n",
       "0.7817746 0.7625899 \n"
      ]
     },
     "metadata": {},
     "output_type": "display_data"
    }
   ],
   "source": [
    "z_test(d=matched, fld_name='ret', alternative = 'greater')"
   ]
  },
  {
   "cell_type": "code",
   "execution_count": null,
   "metadata": {},
   "outputs": [],
   "source": []
  }
 ],
 "metadata": {
  "kernelspec": {
   "display_name": "R",
   "language": "R",
   "name": "ir"
  },
  "language_info": {
   "codemirror_mode": "r",
   "file_extension": ".r",
   "mimetype": "text/x-r-source",
   "name": "R",
   "pygments_lexer": "r",
   "version": "3.3.2"
  }
 },
 "nbformat": 4,
 "nbformat_minor": 2
}
