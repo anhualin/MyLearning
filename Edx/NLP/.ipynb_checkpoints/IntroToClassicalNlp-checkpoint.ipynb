{
 "cells": [
  {
   "cell_type": "markdown",
   "metadata": {},
   "source": [
    "# 1. Introduction\n",
    "\n",
    "## 1.1 NLTK Setup\n",
    "\n",
    "* NLTK is included with the Anaconda Distribution of Python, or can be downloaded directly from nltk.org.\n",
    "* Once NLTK is installed, the text data files (corpora) should be downloaded. See the following cell to start the download."
   ]
  },
  {
   "cell_type": "code",
   "execution_count": 1,
   "metadata": {},
   "outputs": [],
   "source": [
    "import nltk\n",
    "\n",
    "# uncomment the line below to download NLTK resources the first time NLTK is used and RUN this cell.\n",
    "# when the \"NLTK Downloader\" dialog appears (takes 10-20 seconds), click on the \"download\" button\n",
    "#nltk.download()"
   ]
  },
  {
   "cell_type": "markdown",
   "metadata": {},
   "source": [
    "** 1.2 Crash Course in Regular Expressions **\n",
    "\n",
    "Regular Expression are a great tool for NLP. They can be used interactively, or for rule-based searching and transformations in programs.\n",
    "\n",
    "If you are new to using regular expressions, or would like a quick refresher, you can study the examples and resulting output in the code cel below.\n",
    "\n",
    "Here is a cheat sheet for the SEARCH BASICS (code examples follow below):\n",
    "\n",
    "    Operator   Meaning       Example  Example meaning\n",
    "    \n",
    "    +          one or more   a+       look for 1 or more \"a\" characters\n",
    "    *          zero or more  a*       look for 0 or more \"a\" characters\n",
    "    ?          optional      a?       look for 0 or 1 \"a\" characters\n",
    "    []         choose 1      [abc]    look for \"a\" or \"b\" or \"c\"\n",
    "    [-]        range         [a-z]    look for any character between \"a\" and \"z\"\n",
    "    [^]        not           [^a]     look for character that is not \"a\"\n",
    "    ()         grouping      (a-z)+   look for one or more occurences of chars between \"a\" and \"z\"\n",
    "    (|)        or operator   (ey|ax)  look for strings \"ey\" or \"ax\"\n",
    "    \n",
    "    ab         follow        ab       look for character \"a\" followed by character \"b\"\n",
    "    ^          start         ^a       look for character \"a\" at start of string/line\n",
    "    $          end           a$       look for character \"a\" at end of string/line\n",
    "    \\s         whitespace    \\sa      look for whitespace character followed by \"a\"\n",
    "    .          any character a.b      look for \"a\" followed by any char followed by \"b\"\n",
    "\n",
    "Common Uses:\n",
    "    - re.search    finds first matching object\n",
    "    - re.findall   returns all matching objects\n",
    "    - re.sub       replaces matches with replacement string"
   ]
  },
  {
   "cell_type": "code",
   "execution_count": 2,
   "metadata": {},
   "outputs": [
    {
     "data": {
      "text/plain": [
       "['c', 'a', 's', 'h']"
      ]
     },
     "execution_count": 2,
     "metadata": {},
     "output_type": "execute_result"
    }
   ],
   "source": [
    "# find all occurences of any character between \"a\" and \"z\"\n",
    "import re\n",
    "\n",
    "re.findall(\"[a-z]\", \"$34.33 cash.\")"
   ]
  },
  {
   "cell_type": "code",
   "execution_count": 4,
   "metadata": {},
   "outputs": [
    {
     "data": {
      "text/plain": [
       "['c', 'a', 'c', 'h']"
      ]
     },
     "execution_count": 4,
     "metadata": {},
     "output_type": "execute_result"
    }
   ],
   "source": [
    "re.findall('[a-z]', '$34.33 cach.')"
   ]
  },
  {
   "cell_type": "code",
   "execution_count": 5,
   "metadata": {},
   "outputs": [
    {
     "data": {
      "text/plain": [
       "['name', 'phone']"
      ]
     },
     "execution_count": 5,
     "metadata": {},
     "output_type": "execute_result"
    }
   ],
   "source": [
    "# find all occurences of either \"name:\" or \"phone:\"\n",
    "re.findall(\"(name|phone):\", \"My name: Joe, my phone: (312)555-1212\")"
   ]
  },
  {
   "cell_type": "code",
   "execution_count": 6,
   "metadata": {},
   "outputs": [
    {
     "data": {
      "text/plain": [
       "['Lion', 'lion']"
      ]
     },
     "execution_count": 6,
     "metadata": {},
     "output_type": "execute_result"
    }
   ],
   "source": [
    "# find \"lion\", \"lions\" or \"Lion\" or \"Lions\"\n",
    "re.findall(\"([Ll]ion)s?\", \"Give it to the Lions or the lion.\")"
   ]
  },
  {
   "cell_type": "code",
   "execution_count": 7,
   "metadata": {},
   "outputs": [
    {
     "data": {
      "text/plain": [
       "'Hxx, I xxxx xxxx xxxxx xxxxx...'"
      ]
     },
     "execution_count": 7,
     "metadata": {},
     "output_type": "execute_result"
    }
   ],
   "source": [
    "# replace all lowercase letters with \"x\"\n",
    "re.sub(\"[a-z]\", \"x\", \"Hey, I know this regex stuff...\")"
   ]
  },
  {
   "cell_type": "markdown",
   "metadata": {},
   "source": [
    "# 2. Text Processing\n",
    "\n",
    "This section introduces some of the tasks and techniques used to acquire, clean and normalize the text data.\n",
    "\n",
    "## 2.1 Data Acquisition\n",
    "\n",
    "Issues:\n",
    "\n",
    " * how do I find the data I need?\n",
    " * Is it already in digital form, or will it need OCR?\n",
    " * how much will it cost?\n",
    " * will it be updated/expanded over time? More costs?\n",
    " * (if CUSTOMER DATA), do I have the legal / privacy rights needed to use the data in the way I need for my application?\n",
    " * do I have the safeguards needed to securely store the data?"
   ]
  },
  {
   "cell_type": "code",
   "execution_count": 8,
   "metadata": {},
   "outputs": [
    {
     "name": "stdout",
     "output_type": "stream",
     "text": [
      "gutenberg book ids= ['austen-emma.txt', 'austen-persuasion.txt', 'austen-sense.txt', 'bible-kjv.txt', 'blake-poems.txt', 'bryant-stories.txt', 'burgess-busterbrown.txt', 'carroll-alice.txt', 'chesterton-ball.txt', 'chesterton-brown.txt', 'chesterton-thursday.txt', 'edgeworth-parents.txt', 'melville-moby_dick.txt', 'milton-paradise.txt', 'shakespeare-caesar.txt', 'shakespeare-hamlet.txt', 'shakespeare-macbeth.txt', 'whitman-leaves.txt']\n"
     ]
    }
   ],
   "source": [
    "import nltk\n",
    "\n",
    "# shows how to access one of the gutenberg books included in NLTK\n",
    "print(\"gutenberg book ids=\", nltk.corpus.gutenberg.fileids())"
   ]
  },
  {
   "cell_type": "code",
   "execution_count": 10,
   "metadata": {},
   "outputs": [
    {
     "name": "stdout",
     "output_type": "stream",
     "text": [
      "len(alice)= 34110\n",
      "['[', 'Alice', \"'\", 's', 'Adventures', 'in', 'Wonderland', 'by', 'Lewis', 'Carroll', '1865', ']', 'CHAPTER', 'I', '.', 'Down', 'the', 'Rabbit', '-', 'Hole', 'Alice', 'was', 'beginning', 'to', 'get', 'very', 'tired', 'of', 'sitting', 'by', 'her', 'sister', 'on', 'the', 'bank', ',', 'and', 'of', 'having', 'nothing', 'to', 'do', ':', 'once', 'or', 'twice', 'she', 'had', 'peeped', 'into', 'the', 'book', 'her', 'sister', 'was', 'reading', ',', 'but', 'it', 'had', 'no', 'pictures', 'or', 'conversations', 'in', 'it', ',', \"'\", 'and', 'what', 'is', 'the', 'use', 'of', 'a', 'book', \",'\", 'thought', 'Alice', \"'\", 'without', 'pictures', 'or', 'conversation', \"?'\", 'So', 'she', 'was', 'considering', 'in', 'her', 'own', 'mind', '(', 'as', 'well', 'as', 'she', 'could', ',']\n"
     ]
    }
   ],
   "source": [
    "# load words from \"Alice in Wonderland\"\n",
    "\n",
    "alice = nltk.corpus.gutenberg.words(\"carroll-alice.txt\")\n",
    "print(\"len(alice)=\", len(alice))\n",
    "print(alice[:100])"
   ]
  },
  {
   "cell_type": "code",
   "execution_count": 11,
   "metadata": {},
   "outputs": [
    {
     "name": "stdout",
     "output_type": "stream",
     "text": [
      "len(grail)= 16967\n",
      "['SCENE', '1', ':', '[', 'wind', ']', '[', 'clop', 'clop', 'clop', ']', 'KING', 'ARTHUR', ':', 'Whoa', 'there', '!', '[', 'clop', 'clop', 'clop', ']', 'SOLDIER', '#', '1', ':', 'Halt', '!', 'Who', 'goes', 'there', '?', 'ARTHUR', ':', 'It', 'is', 'I', ',', 'Arthur', ',', 'son', 'of', 'Uther', 'Pendragon', ',', 'from', 'the', 'castle', 'of', 'Camelot', '.', 'King', 'of', 'the', 'Britons', ',', 'defeator', 'of', 'the', 'Saxons', ',', 'sovereign', 'of', 'all', 'England', '!', 'SOLDIER', '#', '1', ':', 'Pull', 'the', 'other', 'one', '!', 'ARTHUR', ':', 'I', 'am', ',', '...', 'and', 'this', 'is', 'my', 'trusty', 'servant', 'Patsy', '.', 'We', 'have', 'ridden', 'the', 'length', 'and', 'breadth', 'of', 'the', 'land', 'in']\n"
     ]
    }
   ],
   "source": [
    "# load words from \"Monty Python and the Holy Grail\"\n",
    "\n",
    "grail = nltk.corpus.webtext.words(\"grail.txt\")\n",
    "print(\"len(grail)=\", len(grail))\n",
    "\n",
    "print(grail[:100])"
   ]
  },
  {
   "cell_type": "markdown",
   "metadata": {},
   "source": [
    "## 2.2 Plain Text Extraction\n",
    "\n",
    "If your text data lives in a non-plain text file (WORD, POWERPOINT, PDF, HTML, etc.), you will need to use a \"filter\" to extract the plain text from the file.\n",
    "\n",
    "Python has a number of libraries to extract plain text from popular file formats, but they are take searching and supporting code to use.\n",
    "\n",
    "## 2.3 Word and Sentence Segmentation (Tokenization)\n",
    "\n",
    "Word Segmentation Issues:\n",
    "\n",
    " * Some languages don't white space characters\n",
    " * Words with hyphens or apostrophes (Who's at the drive-in?)\n",
    " * Numbers, currency, percentages, dates, times (04/01/2018, $55,000.00)\n",
    " * Ellipses, special characters\n",
    " \n",
    "Sentences Segmentation Issues:\n",
    "\n",
    " * Quoted speech within a sentence\n",
    " * Abbreviations with periods (The Ph.D. was D.O.A)\n",
    " \n",
    "Tokenization Techniques\n",
    "\n",
    " * Perl script (50 lines) with RegEx (Grefenstette, 1999)\n",
    " * maxmatch Algorithm:\n",
    " \n",
    "        themanranafterit  ->   the man ran after it\n",
    "        thetabledownthere ->   theta bled own there      (Palmer, 2000)"
   ]
  },
  {
   "cell_type": "code",
   "execution_count": 12,
   "metadata": {},
   "outputs": [
    {
     "name": "stdout",
     "output_type": "stream",
     "text": [
      "['the', 'man', 'ran', 'after', 'it']\n",
      "['theta', 'bled', 'own', 'there']\n"
     ]
    }
   ],
   "source": [
    "# code example: simple version of maxmatch algorithm for tokenization (word segmentation)\n",
    "def tokenize(str, dict):\n",
    "    s = 0\n",
    "    words = []\n",
    "    \n",
    "    while (s < len(str)):\n",
    "        found = False\n",
    "        \n",
    "        # find biggest word in dict that matches str[s:xxx]\n",
    "        for word in dict:\n",
    "            lw = len(word)\n",
    "            if (str[s:s+lw] == word):\n",
    "                words.append(word)\n",
    "                s += lw\n",
    "                found = True\n",
    "                break\n",
    "        if (not found):\n",
    "            words.append(str[s])\n",
    "            s += 1\n",
    "    \n",
    "    print(words)\n",
    "    #return words\n",
    "\n",
    "# small dictionary of known words, longest words first\n",
    "dict = [\"before\", \"table\", \"theta\", \"after\", \"where\", \"there\", \"bled\", \"said\", \"lead\", \"man\", \"her\", \"own\", \"the\", \"ran\", \"it\"]\n",
    "\n",
    "# this algorighm is designed to work with languages that don't have whitespace characters\n",
    "# so simulate that in our test\n",
    "tokenize(\"themanranafterit\", dict)    # works!\n",
    "tokenize(\"thetabledownthere\", dict)   # fails!"
   ]
  },
  {
   "cell_type": "code",
   "execution_count": 13,
   "metadata": {},
   "outputs": [
    {
     "data": {
      "text/plain": [
       "['the',\n",
       " 'man',\n",
       " ',',\n",
       " 'he',\n",
       " 'ran',\n",
       " 'after',\n",
       " 'it',\n",
       " \"'s\",\n",
       " '$',\n",
       " '3.23',\n",
       " 'dog',\n",
       " 'on',\n",
       " '03/23/2016',\n",
       " '.']"
      ]
     },
     "execution_count": 13,
     "metadata": {},
     "output_type": "execute_result"
    }
   ],
   "source": [
    "# NLTK example: WORD segmentation\n",
    "\n",
    "nltk.word_tokenize(\"the man, he ran after it's $3.23 dog on 03/23/2016.\")"
   ]
  },
  {
   "cell_type": "code",
   "execution_count": 14,
   "metadata": {},
   "outputs": [
    {
     "data": {
      "text/plain": [
       "['the man ran after it.', 'The table down there?', 'Yes, down there!']"
      ]
     },
     "execution_count": 14,
     "metadata": {},
     "output_type": "execute_result"
    }
   ],
   "source": [
    "# NLTK example: SENTENCE segmentation\n",
    "\n",
    "nltk.sent_tokenize(\"the man ran after it. The table down there? Yes, down there!\")"
   ]
  },
  {
   "cell_type": "markdown",
   "metadata": {},
   "source": [
    "## 2.4 Stopword Removal\n",
    "\n",
    "Stopwords are common words that are \"not interesting\" for the app/task at hand.\n",
    "\n",
    "Easy part - removing words that appear in list.\n",
    "\n",
    "Tricky part - what to use for stop words? App-dependent, Standard lists, high-frequency words in your text, ..."
   ]
  },
  {
   "cell_type": "code",
   "execution_count": 15,
   "metadata": {},
   "outputs": [
    {
     "data": {
      "text/plain": [
       "'test stop word removal code.'"
      ]
     },
     "execution_count": 15,
     "metadata": {},
     "output_type": "execute_result"
    }
   ],
   "source": [
    "# code example: simple algorithm for removing stopwords\n",
    "stoppers = \"a is of the this\".split()\n",
    "\n",
    "def removeStopWords(stopWords, txt):\n",
    "    newtxt = ' '.join([word for word in txt.split() if word not in stopWords])\n",
    "    return newtxt\n",
    "\n",
    "removeStopWords(stoppers, \"this is a test of the stop word removal code.\")"
   ]
  },
  {
   "cell_type": "code",
   "execution_count": 16,
   "metadata": {},
   "outputs": [
    {
     "name": "stdout",
     "output_type": "stream",
     "text": [
      "len(stops)= 153\n"
     ]
    },
    {
     "data": {
      "text/plain": [
       "'test stop word removal code.'"
      ]
     },
     "execution_count": 16,
     "metadata": {},
     "output_type": "execute_result"
    }
   ],
   "source": [
    "# NLTK example: removing stopwords\n",
    "from nltk.corpus import stopwords\n",
    "stops = stopwords.words(\"English\")\n",
    "\n",
    "print(\"len(stops)=\", len(stops))\n",
    "\n",
    "removeStopWords(stops, \"this is a test of the stop word removal code.\")"
   ]
  },
  {
   "cell_type": "markdown",
   "metadata": {},
   "source": [
    "## 2.5 Case Removal\n",
    "\n",
    "Case removal is part of a larger task called Text Normalization, which includes:\n",
    "\n",
    " * case removal\n",
    " * stemming (covered in next section)\n",
    " \n",
    "Goal of Case removal - converting all text to, for example, lower case"
   ]
  },
  {
   "cell_type": "code",
   "execution_count": 17,
   "metadata": {},
   "outputs": [
    {
     "data": {
      "text/plain": [
       "'the man ran after it. the table down there? yes, down there!'"
      ]
     },
     "execution_count": 17,
     "metadata": {},
     "output_type": "execute_result"
    }
   ],
   "source": [
    "# code example: case removal\n",
    "str = 'The man ran after it. The table down there? Yes, down there!'\n",
    "str.lower()"
   ]
  },
  {
   "cell_type": "markdown",
   "metadata": {},
   "source": [
    "## 2.6 Stemming\n",
    "\n",
    "Goal of Stemming: - stripping off endings and other pieces, called AFFIXES - for English, this is prefixes and suffixes.\n",
    "\n",
    "    - convert word to its base word, called the LEMMA / STEM (e.g., foxes -> fox)\n",
    "    \n",
    "Porter Stemmer\n",
    "\n",
    " * 100+ cascading \"rewrite\" rules\n",
    " * ational -> ate (e.g., relational -> relate)\n",
    " * ing -> (e.g., playing -> play)\n",
    " * sess -> ss (e.g., grasses -> grass)"
   ]
  },
  {
   "cell_type": "code",
   "execution_count": 18,
   "metadata": {},
   "outputs": [
    {
     "name": "stdout",
     "output_type": "stream",
     "text": [
      "porter: ['pleas', \"don't\", 'unbuckl', 'your', 'seat-belt', 'while', 'I', 'am', 'driving,', 'he', 'said']\n",
      "\n",
      "lancaster: ['pleas', \"don't\", 'unbuckl', 'yo', 'seat-belt', 'whil', 'i', 'am', 'driving,', 'he', 'said']\n"
     ]
    }
   ],
   "source": [
    "# NLTK example: stemming\n",
    "\n",
    "def stem_with_porter(words):\n",
    "    porter = nltk.PorterStemmer()\n",
    "    new_words = [porter.stem(w) for w in words]\n",
    "    return new_words\n",
    "\n",
    "def stem_with_lancaster(words):\n",
    "    porter = nltk.LancasterStemmer()\n",
    "    new_words = [porter.stem(w) for w in words]\n",
    "    return new_words\n",
    "\n",
    "str = \"Please don't unbuckle your seat-belt while I am driving, he said\"\n",
    "\n",
    "print(\"porter:\", stem_with_porter(str.split()))\n",
    "print()\n",
    "print(\"lancaster:\", stem_with_lancaster(str.split()))"
   ]
  },
  {
   "cell_type": "markdown",
   "metadata": {},
   "source": [
    "# 3. Text Exploration\n",
    "\n",
    "## 3.1 Frequency Analysis\n",
    "\n",
    " * Frequency Analysis\n",
    " * Letter\n",
    " * Word\n",
    " * Bigrams\n",
    " * Plots"
   ]
  },
  {
   "cell_type": "code",
   "execution_count": 19,
   "metadata": {},
   "outputs": [
    {
     "data": {
      "image/png": "[encoded data removed]",
      "text/plain": [
       "<matplotlib.figure.Figure at 0xffef0b8>"
      ]
     },
     "metadata": {},
     "output_type": "display_data"
    }
   ],
   "source": [
    "# NLTK example: frequence analysis\n",
    "import nltk\n",
    "from nltk.corpus import gutenberg\n",
    "from nltk.probability import FreqDist\n",
    "\n",
    "# get raw text from \"Sense and Sensibility\" by Jane Austen\n",
    "raw = gutenberg.raw(\"austen-sense.txt\")\n",
    "fd_letters = FreqDist(raw)\n",
    "\n",
    "words = gutenberg.words(\"austen-sense.txt\")\n",
    "fd_words = FreqDist(words)\n",
    "sas = nltk.Text(words)\n",
    "\n",
    "# these 2 lines let us size the freq dist plot\n",
    "import matplotlib.pyplot as plt\n",
    "plt.figure(figsize=(20,5))\n",
    "\n",
    "# frequency plot for letters from SAS\n",
    "fd_letters.plot(100)"
   ]
  },
  {
   "cell_type": "code",
   "execution_count": 20,
   "metadata": {},
   "outputs": [
    {
     "data": {
      "image/png": "[encoded data removed]",
      "text/plain": [
       "<matplotlib.figure.Figure at 0xff8f5f8>"
      ]
     },
     "metadata": {},
     "output_type": "display_data"
    }
   ],
   "source": [
    "# these 2 lines let us size the freq dist plot\n",
    "import matplotlib.pyplot as plt\n",
    "plt.figure(figsize=(20, 5))\n",
    "\n",
    "# frequency plot for words from SAS\n",
    "fd_words.plot(50)"
   ]
  },
  {
   "cell_type": "markdown",
   "metadata": {},
   "source": [
    "## 3.2 Collocations\n",
    "\n",
    "These are interesting word pairs, usually formed by the most common bigrams. Bigrams are collections of word pairs that occur together in the text."
   ]
  },
  {
   "cell_type": "code",
   "execution_count": 21,
   "metadata": {},
   "outputs": [
    {
     "name": "stdout",
     "output_type": "stream",
     "text": [
      "Colonel Brandon; Sir John; Lady Middleton; Miss Dashwood; every thing;\n",
      "thousand pounds; dare say; Miss Steeles; said Elinor; Miss Steele;\n",
      "every body; John Dashwood; great deal; Harley Street; Berkeley Street;\n",
      "Miss Dashwoods; young man; Combe Magna; every day; next morning\n"
     ]
    }
   ],
   "source": [
    "# Let's look at collocations for our \"Sense and Sensibility\" text\n",
    "sas.collocations()"
   ]
  },
  {
   "cell_type": "markdown",
   "metadata": {},
   "source": [
    "Nice!\n",
    "\n",
    "Now we are getting a feel for the language and subjects of the text."
   ]
  },
  {
   "cell_type": "markdown",
   "metadata": {},
   "source": [
    "** 3.3 Long words **\n",
    "\n",
    "Sometimes looking at the long words in a text can be revealing. Let's try it on sas."
   ]
  },
  {
   "cell_type": "code",
   "execution_count": 22,
   "metadata": {},
   "outputs": [
    {
     "data": {
      "text/plain": [
       "['disappointments',\n",
       " 'acknowledgment',\n",
       " 'representation',\n",
       " 'instantaneously',\n",
       " 'incautiousness',\n",
       " 'misapprehension',\n",
       " 'respectability',\n",
       " 'conscientiously',\n",
       " 'disrespectfully',\n",
       " 'irreproachable',\n",
       " 'unpleasantness',\n",
       " 'correspondence',\n",
       " 'considerations',\n",
       " 'irreconcilable',\n",
       " 'disqualifications']"
      ]
     },
     "execution_count": 22,
     "metadata": {},
     "output_type": "execute_result"
    }
   ],
   "source": [
    "# Let's look at long wods in the text\n",
    "longWords = [w for w in set(words) if len(w) > 13]\n",
    "longWords[:15]"
   ]
  },
  {
   "cell_type": "markdown",
   "metadata": {},
   "source": [
    "## 3.3 Concordance Views\n",
    "\n",
    "Concordance views, also called Keywords in Context (KWIC), show the specified word with the words that surround it in text. These views can be helpful in understanding how the words are being used in the text."
   ]
  },
  {
   "cell_type": "code",
   "execution_count": 23,
   "metadata": {},
   "outputs": [
    {
     "name": "stdout",
     "output_type": "stream",
     "text": [
      "Displaying 2 of 2 matches:\n",
      "before . She took them all most affectionately by the hand , and expressed gre\n",
      "ed , took her hand , kissed her affectionately several times , and then gave w\n",
      "\n",
      "Displaying 4 of 4 matches:\n",
      "ould not be maintained if their correspondence were to pass through Sir John '\n",
      "ve been Edward ' s gift ; but a correspondence between them by letter , could \n",
      "she had no doubt , and of their correspondence she was not astonished to hear \n",
      "e of Edward afforded her by the correspondence , for his name was not even men\n",
      "\n",
      "Displaying 25 of 36 matches:\n",
      " not know what he was talking of , I dare say ; ten to one but he was light - \n",
      "l . The assistance he thought of , I dare say , was only such as might be reas\n",
      "g , if I have plenty of money , as I dare say I shall , we may think about bui\n",
      ", you will make conquests enough , I dare say , one way or other . Poor Brando\n",
      "e . He is the curate of the parish I dare say .\" \" No , THAT he is not . He is\n",
      "m . He was afraid of catching cold I dare say , and invented this trick for ge\n",
      "ve it in my power to return , that I dare not engage for it at all .\" \" Oh ! h\n",
      "and as like him as she can stare . I dare say the Colonel will leave her all h\n",
      "t Miss Williams and , by the bye , I dare say it is , because he looked so con\n",
      " \" are of such a nature -- that -- I dare not flatter myself \"-- He stopt . Mr\n",
      "nd MY wealth are very much alike , I dare say ; and without them , as the worl\n",
      " unites beauty with utility -- and I dare say it is a picturesque one too , be\n",
      ", you know . Not above ten miles , I dare say .\" \" Much nearer thirty ,\" said \n",
      "h my uncle at Weymouth . However , I dare say we should have seen a great deal\n",
      "t if mama had not objected to it , I dare say he would have liked it of all th\n",
      "ill think my question an odd one , I dare say ,\" said Lucy to her one day , as\n",
      "an inquiry into her character .\" \" I dare say you are , and I am sure I do not\n",
      "ave had no idea of it before ; for I dare say he never dropped the smallest hi\n",
      "or she would never approve of it , I dare say . I shall have no fortune , and \n",
      " to Elinor . \" You know his hand , I dare say , a charming one it is ; but tha\n",
      "o well as usual .-- He was tired , I dare say , for he had just filled the she\n",
      "talking of their favourite beaux , I dare say .\" \" No sister ,\" cried Lucy , \"\n",
      "ng significantly round at them , \" I dare say Lucy ' s beau is quite as modest\n",
      " , for you are a party concerned . I dare say you have seen enough of Edward t\n",
      "h pleasure to meet you there ! But I dare say you will go for all that . To be\n",
      "\n"
     ]
    }
   ],
   "source": [
    "# Let's try looking at some of these recent words in a Concordance view\n",
    "sas.concordance(\"affectionately\")\n",
    "print()\n",
    "\n",
    "sas.concordance(\"correspondence\")\n",
    "print()\n",
    "\n",
    "sas.concordance(\"dare\")\n",
    "print()"
   ]
  },
  {
   "cell_type": "markdown",
   "metadata": {},
   "source": [
    "## 3.4 Other Exploration Task/Views"
   ]
  },
  {
   "cell_type": "code",
   "execution_count": 24,
   "metadata": {},
   "outputs": [
    {
     "name": "stdout",
     "output_type": "stream",
     "text": [
      "attention time regard mother love heart opinion sister wishes wife\n",
      "arrival marianne kindness family it marriage sisters sake conduct mind\n"
     ]
    }
   ],
   "source": [
    "# look at words similar to a word\n",
    "sas.similar(\"affection\")"
   ]
  },
  {
   "cell_type": "code",
   "execution_count": 25,
   "metadata": {},
   "outputs": [
    {
     "data": {
      "image/png": "[encoded data removed]",
      "text/plain": [
       "<matplotlib.figure.Figure at 0x18888a90>"
      ]
     },
     "metadata": {},
     "output_type": "display_data"
    }
   ],
   "source": [
    "# these 2 lines let us size the freq dist plot\n",
    "import matplotlib.pyplot as plt\n",
    "plt.figure(figsize=(15,4))\n",
    "\n",
    "# look at words as they appear over time in the book/document\n",
    "sas.dispersion_plot([\"sense\", \"love\", \"heart\", \"listen\", \"man\", \"woman\"])"
   ]
  },
  {
   "cell_type": "markdown",
   "metadata": {},
   "source": [
    "# 4. Building Features\n",
    "\n",
    "## 4.1 Bag-of-Words (BOW)\n",
    "\n",
    "One of the simplest features when dealing with multiple texts (like multiple documents, or multiple sentences within a document), is called Bag-of-Words. It builds a vocabular from each word in the set of texts, and then a feature for each word, indicate the presence/absence of that word within each text. Sometimes, the count of the word is used in place of a presence flag.\n",
    "\n",
    "A common way to represent a set of features like this is called a One-Hot vector. For example, lets say our vocabular from our set of texts is:\n",
    "\n",
    "```\n",
    "  today, here, I, a, fine, sun, moon, bird, saw\n",
    "```\n",
    "\n",
    "The sentence we want to build a BOW for is:\n",
    "\n",
    "```\n",
    "  I saw a bird today.\n",
    "```\n",
    "\n",
    "Using a 1/0 for each word in the vocabulary, our BOW encoded as a one-hot vector would be:\n",
    "\n",
    "```\n",
    "  1 0 1 1 0 0 1 1\n",
    "```\n"
   ]
  },
  {
   "cell_type": "markdown",
   "metadata": {},
   "source": [
    "## 4.2 N-Grams\n",
    "\n",
    "N-grams represent the sequence of N words that are found in a text. They are commonly used as a model of the text language since they represent the frequence of words/phrases appearing in the text.\n",
    "\n",
    "Common types of N-grams:\n",
    "\n",
    " * unigrams - these are the set of single words appearing in the text\n",
    " * bigrams - these are the set of word pairs, like \"good day\" or \"big deal\", from the text\n",
    " * trigrams - these are the set of word triples, like \"really good food\", from the text\n",
    " \n",
    "To build bigrams for a text, you need to extract all possible word pairs from the text and count how many times each pair occurs. Then, you can use the top N words (1000), or the top percent (50%) as your language model."
   ]
  },
  {
   "cell_type": "markdown",
   "metadata": {},
   "source": [
    "## 4.3 Morphological Parsing\n",
    "\n",
    "** Goal **: convert input word into its morphological parts. For example: \"geese\" would return goose + N + PL\n",
    "\n",
    "Morphological Parsing: geese -> goose + N + PL, \n",
    "caught -> catch + V + PastPart\n",
    "\n",
    "Morphological parsing is related to stemming, but instead of mapping the word variants to a stem word, it labels the stem word and its affixes.\n",
    "\n",
    "Morphological parsing, even for English, is quite involved."
   ]
  },
  {
   "cell_type": "markdown",
   "metadata": {},
   "source": [
    "## 4.4 TD/IDF\n",
    "\n",
    "TD/IDF stands for Term Document Inverse Document Frequency. \"Term\" here can be thought of as a word. This is a measure of the relative importance of a word within a document, in the context of multiple documents.\n",
    "\n",
    "We start with the TD part - this is simply a normalized frequency of the word in the document:\n",
    "\n",
    " * (word count in document) / (total words in document)\n",
    " \n",
    "The IDF is a weighting of the uniquess of the word across all of the documents. Here is the complete formula of TD/IDF:"
   ]
  },
  {
   "cell_type": "markdown",
   "metadata": {},
   "source": [
    "# 5. Classical NLP Applications\n",
    "\n",
    "## 5.1 Name Gender Classifier"
   ]
  },
  {
   "cell_type": "code",
   "execution_count": 26,
   "metadata": {},
   "outputs": [
    {
     "name": "stdout",
     "output_type": "stream",
     "text": [
      "trainData accuracy= 0.9230527143981118\n",
      "testData accuracy= 0.8458149779735683\n",
      "name= david classified as= male\n",
      "name= susan classified as= female\n",
      "name= alex classified as= male\n",
      "Most Informative Features\n",
      "                 suffix2 = 'na'           female : male   =     88.0 : 1.0\n",
      "                 suffix2 = 'la'           female : male   =     62.4 : 1.0\n",
      "                 suffix2 = 'us'             male : female =     38.9 : 1.0\n",
      "                  suffix = 'k'              male : female =     35.6 : 1.0\n",
      "                 suffix2 = 'ia'           female : male   =     34.7 : 1.0\n",
      "                  suffix = 'a'            female : male   =     32.7 : 1.0\n",
      "                 suffix2 = 'rt'             male : female =     30.8 : 1.0\n",
      "                 suffix2 = 'sa'           female : male   =     28.6 : 1.0\n",
      "                 suffix2 = 'ta'           female : male   =     27.8 : 1.0\n",
      "                 suffix3 = 'ana'          female : male   =     24.3 : 1.0\n",
      "                 suffix2 = 'ra'           female : male   =     22.9 : 1.0\n",
      "                  suffix = 'f'              male : female =     22.5 : 1.0\n",
      "                 suffix2 = 'rd'             male : female =     22.0 : 1.0\n",
      "                 suffix2 = 'do'             male : female =     22.0 : 1.0\n",
      "                 suffix3 = 'tta'          female : male   =     20.9 : 1.0\n",
      "                 suffix2 = 'ch'             male : female =     19.7 : 1.0\n",
      "                 suffix3 = 'son'            male : female =     19.2 : 1.0\n",
      "                 suffix3 = 'ard'            male : female =     18.2 : 1.0\n",
      "                 suffix2 = 'os'             male : female =     17.5 : 1.0\n",
      "                 suffix3 = 'ert'            male : female =     16.7 : 1.0\n",
      "                 suffix3 = 'nne'          female : male   =     16.6 : 1.0\n",
      "                 suffix2 = 'ld'             male : female =     16.6 : 1.0\n",
      "                 prefix3 = 'dor'          female : male   =     15.4 : 1.0\n",
      "                 suffix3 = 'old'            male : female =     14.2 : 1.0\n",
      "                 suffix3 = 'vin'            male : female =     14.2 : 1.0\n"
     ]
    }
   ],
   "source": [
    "# code to build a classifier to classify names as male or female\n",
    "# demonstrates the basics of feature extraction and model building\n",
    "import nltk\n",
    "\n",
    "names = [(name, 'male') for name in nltk.corpus.names.words(\"male.txt\")]\n",
    "names += [(name, 'female') for name in nltk.corpus.names.words(\"female.txt\")]\n",
    "\n",
    "def extract_gender_features(name):\n",
    "    name = name.lower()\n",
    "    features = {}\n",
    "    features[\"suffix\"] = name[-1:]\n",
    "    features[\"suffix2\"] = name[-2:] if len(name) > 1 else name[0]\n",
    "    features[\"suffix3\"] = name[-3:] if len(name) > 2 else name[0]\n",
    "    features[\"prefix\"] = name[:1]\n",
    "    features[\"prefix2\"] = name[:2] if len(name) > 1 else name[0]\n",
    "    features[\"prefix3\"] = name[:3] if len(name) > 2 else name[0]\n",
    "    features[\"prefix4\"] = name[:4] if len(name) > 3 else name[0]\n",
    "    features[\"prefix5\"] = name[:5] if len(name) > 4 else name[0]\n",
    "    #features[\"wordLen\"] = len(name)\n",
    "\n",
    "    #for letter in \"abcdefghijklmnopqrstuvwxyz\":\n",
    "    #    features[letter + \"-count\"] = name.count(letter)\n",
    "    \n",
    "    return features\n",
    "\n",
    "data = [(extract_gender_features(name), gender) for (name, gender) in names]\n",
    "\n",
    "import random\n",
    "random.shuffle(data)\n",
    "\n",
    "#print(data[:10])\n",
    "#print()\n",
    "#print(data[-10:])\n",
    "\n",
    "dataCount = len(data)\n",
    "trainCount = int(.8*dataCount)\n",
    "\n",
    "trainData = data[:trainCount]\n",
    "testData = data[trainCount:]\n",
    "bayes = nltk.NaiveBayesClassifier.train(trainData)\n",
    "\n",
    "def classify(name):\n",
    "    label = bayes.classify(extract_gender_features(name))\n",
    "    print(\"name=\", name, \"classified as=\", label)\n",
    "    \n",
    "print(\"trainData accuracy=\", nltk.classify.accuracy(bayes, trainData))\n",
    "print(\"testData accuracy=\", nltk.classify.accuracy(bayes, testData))\n",
    "\n",
    "classify(\"david\")\n",
    "classify(\"susan\")\n",
    "classify(\"alex\")\n",
    "\n",
    "bayes.show_most_informative_features(25)"
   ]
  },
  {
   "cell_type": "code",
   "execution_count": 27,
   "metadata": {},
   "outputs": [
    {
     "data": {
      "text/plain": [
       "[{'label': 'male', 'name': 'Abbie'},\n",
       " {'label': 'male', 'name': 'Abby'},\n",
       " {'label': 'male', 'name': 'Addie'},\n",
       " {'label': 'male', 'name': 'Aditya'},\n",
       " {'label': 'male', 'name': 'Adrian'},\n",
       " {'label': 'male', 'name': 'Adrien'},\n",
       " {'label': 'male', 'name': 'Agamemnon'},\n",
       " {'label': 'male', 'name': 'Alexei'},\n",
       " {'label': 'male', 'name': 'Alexis'},\n",
       " {'label': 'male', 'name': 'Ali'},\n",
       " {'label': 'male', 'name': 'Allah'},\n",
       " {'label': 'male', 'name': 'Allen'},\n",
       " {'label': 'male', 'name': 'Allie'},\n",
       " {'label': 'male', 'name': 'Allin'},\n",
       " {'label': 'male', 'name': 'Allyn'},\n",
       " {'label': 'male', 'name': 'Ambrosi'},\n",
       " {'label': 'male', 'name': 'Amery'},\n",
       " {'label': 'male', 'name': 'Andie'},\n",
       " {'label': 'male', 'name': 'Andre'},\n",
       " {'label': 'male', 'name': 'Andrea'},\n",
       " {'label': 'male', 'name': 'Andri'},\n",
       " {'label': 'male', 'name': 'Andy'},\n",
       " {'label': 'male', 'name': 'Angel'},\n",
       " {'label': 'male', 'name': 'Angie'},\n",
       " {'label': 'male', 'name': 'Anthony'},\n",
       " {'label': 'male', 'name': 'Antoine'},\n",
       " {'label': 'male', 'name': 'Antone'},\n",
       " {'label': 'male', 'name': 'Antoni'},\n",
       " {'label': 'male', 'name': 'Ari'},\n",
       " {'label': 'male', 'name': 'Arie'},\n",
       " {'label': 'male', 'name': 'Ariel'},\n",
       " {'label': 'male', 'name': 'Ashley'},\n",
       " {'label': 'male', 'name': 'Augustine'},\n",
       " {'label': 'male', 'name': 'Bealle'},\n",
       " {'label': 'male', 'name': 'Bela'},\n",
       " {'label': 'male', 'name': 'Bennie'},\n",
       " {'label': 'male', 'name': 'Bernie'},\n",
       " {'label': 'male', 'name': 'Bertie'},\n",
       " {'label': 'male', 'name': 'Billie'},\n",
       " {'label': 'male', 'name': 'Blaine'},\n",
       " {'label': 'male', 'name': 'Blake'},\n",
       " {'label': 'male', 'name': 'Blayne'},\n",
       " {'label': 'male', 'name': 'Bobbie'},\n",
       " {'label': 'male', 'name': 'Bobby'},\n",
       " {'label': 'male', 'name': 'Brandy'},\n",
       " {'label': 'male', 'name': 'Brendan'},\n",
       " {'label': 'male', 'name': 'Brian'},\n",
       " {'label': 'male', 'name': 'Brinkley'},\n",
       " {'label': 'male', 'name': 'Britt'},\n",
       " {'label': 'male', 'name': 'Bryan'},\n",
       " {'label': 'male', 'name': 'Bryce'},\n",
       " {'label': 'male', 'name': 'Bryn'},\n",
       " {'label': 'male', 'name': 'Cammy'},\n",
       " {'label': 'male', 'name': 'Carey'},\n",
       " {'label': 'male', 'name': 'Carl'},\n",
       " {'label': 'male', 'name': 'Carleigh'},\n",
       " {'label': 'male', 'name': 'Carlie'},\n",
       " {'label': 'male', 'name': 'Carlin'},\n",
       " {'label': 'male', 'name': 'Carlyle'},\n",
       " {'label': 'male', 'name': 'Carmine'},\n",
       " {'label': 'male', 'name': 'Carroll'},\n",
       " {'label': 'male', 'name': 'Cary'},\n",
       " {'label': 'male', 'name': 'Caryl'},\n",
       " {'label': 'male', 'name': 'Case'},\n",
       " {'label': 'male', 'name': 'Casey'},\n",
       " {'label': 'male', 'name': 'Cass'},\n",
       " {'label': 'male', 'name': 'Cat'},\n",
       " {'label': 'male', 'name': 'Cecil'},\n",
       " {'label': 'male', 'name': 'Chane'},\n",
       " {'label': 'male', 'name': 'Charley'},\n",
       " {'label': 'male', 'name': 'Charlie'},\n",
       " {'label': 'male', 'name': 'Chauncey'},\n",
       " {'label': 'male', 'name': 'Che'},\n",
       " {'label': 'male', 'name': 'Chris'},\n",
       " {'label': 'male', 'name': 'Chrissy'},\n",
       " {'label': 'male', 'name': 'Christie'},\n",
       " {'label': 'male', 'name': 'Christy'},\n",
       " {'label': 'male', 'name': 'Chrisy'},\n",
       " {'label': 'male', 'name': 'Clare'},\n",
       " {'label': 'male', 'name': 'Clarence'},\n",
       " {'label': 'male', 'name': 'Claude'},\n",
       " {'label': 'male', 'name': 'Clemente'},\n",
       " {'label': 'male', 'name': 'Clemmie'},\n",
       " {'label': 'male', 'name': 'Clyde'},\n",
       " {'label': 'male', 'name': 'Cole'},\n",
       " {'label': 'male', 'name': 'Connie'},\n",
       " {'label': 'male', 'name': 'Connolly'},\n",
       " {'label': 'male', 'name': 'Constantin'},\n",
       " {'label': 'male', 'name': 'Constantine'},\n",
       " {'label': 'male', 'name': 'Corey'},\n",
       " {'label': 'male', 'name': 'Cornellis'},\n",
       " {'label': 'male', 'name': 'Corrie'},\n",
       " {'label': 'male', 'name': 'Cortese'},\n",
       " {'label': 'male', 'name': 'Cory'},\n",
       " {'label': 'male', 'name': 'Costa'},\n",
       " {'label': 'male', 'name': 'Courtney'},\n",
       " {'label': 'male', 'name': 'Cris'},\n",
       " {'label': 'male', 'name': 'Cristopher'},\n",
       " {'label': 'male', 'name': 'Daffy'},\n",
       " {'label': 'male', 'name': 'Dana'},\n",
       " {'label': 'male', 'name': 'Dane'},\n",
       " {'label': 'male', 'name': 'Dani'},\n",
       " {'label': 'male', 'name': 'Danie'},\n",
       " {'label': 'male', 'name': 'Daniel'},\n",
       " {'label': 'male', 'name': 'Dannie'},\n",
       " {'label': 'male', 'name': 'Danny'},\n",
       " {'label': 'male', 'name': 'Dante'},\n",
       " {'label': 'male', 'name': 'Darcy'},\n",
       " {'label': 'male', 'name': 'Daryle'},\n",
       " {'label': 'male', 'name': 'Davide'},\n",
       " {'label': 'male', 'name': 'Dean'},\n",
       " {'label': 'male', 'name': 'Deane'},\n",
       " {'label': 'male', 'name': 'Del'},\n",
       " {'label': 'male', 'name': 'Dell'},\n",
       " {'label': 'male', 'name': 'Demetri'},\n",
       " {'label': 'male', 'name': 'Dennie'},\n",
       " {'label': 'male', 'name': 'Donn'},\n",
       " {'label': 'male', 'name': 'Donnie'},\n",
       " {'label': 'male', 'name': 'Donny'},\n",
       " {'label': 'male', 'name': 'Dorian'},\n",
       " {'label': 'male', 'name': 'Dory'},\n",
       " {'label': 'male', 'name': 'Duane'},\n",
       " {'label': 'male', 'name': 'Eddie'},\n",
       " {'label': 'male', 'name': 'Edie'},\n",
       " {'label': 'male', 'name': 'Eli'},\n",
       " {'label': 'male', 'name': 'Elisha'},\n",
       " {'label': 'male', 'name': 'Ely'},\n",
       " {'label': 'male', 'name': 'Emil'},\n",
       " {'label': 'male', 'name': 'Emile'},\n",
       " {'label': 'male', 'name': 'Emmery'},\n",
       " {'label': 'male', 'name': 'Emmet'},\n",
       " {'label': 'male', 'name': 'Emmett'},\n",
       " {'label': 'male', 'name': 'Emmit'},\n",
       " {'label': 'male', 'name': 'Emmy'},\n",
       " {'label': 'male', 'name': 'Emory'},\n",
       " {'label': 'male', 'name': 'Enrique'},\n",
       " {'label': 'male', 'name': 'Erin'},\n",
       " {'label': 'male', 'name': 'Ernie'},\n",
       " {'label': 'male', 'name': 'Erny'},\n",
       " {'label': 'male', 'name': 'Esme'},\n",
       " {'label': 'male', 'name': 'Esteban'},\n",
       " {'label': 'male', 'name': 'Etienne'},\n",
       " {'label': 'male', 'name': 'Eugene'},\n",
       " {'label': 'male', 'name': 'Evan'},\n",
       " {'label': 'male', 'name': 'Evelyn'},\n",
       " {'label': 'male', 'name': 'Ezra'},\n",
       " {'label': 'male', 'name': 'Fairfax'},\n",
       " {'label': 'male', 'name': 'Farley'},\n",
       " {'label': 'male', 'name': 'Felice'},\n",
       " {'label': 'male', 'name': 'Ferdie'},\n",
       " {'label': 'male', 'name': 'Ferdy'},\n",
       " {'label': 'male', 'name': 'Fidel'},\n",
       " {'label': 'male', 'name': 'Florian'},\n",
       " {'label': 'male', 'name': 'Frankie'},\n",
       " {'label': 'male', 'name': 'Franklyn'},\n",
       " {'label': 'male', 'name': 'Freddie'},\n",
       " {'label': 'male', 'name': 'Gabriele'},\n",
       " {'label': 'male', 'name': 'Garcia'},\n",
       " {'label': 'male', 'name': 'Gayle'},\n",
       " {'label': 'male', 'name': 'Gene'},\n",
       " {'label': 'male', 'name': 'Georgia'},\n",
       " {'label': 'male', 'name': 'Georgie'},\n",
       " {'label': 'male', 'name': 'Gere'},\n",
       " {'label': 'male', 'name': 'Geri'},\n",
       " {'label': 'male', 'name': 'Germaine'},\n",
       " {'label': 'male', 'name': 'Gerri'},\n",
       " {'label': 'male', 'name': 'Giavani'},\n",
       " {'label': 'male', 'name': 'Giovanne'},\n",
       " {'label': 'male', 'name': 'Giovanni'},\n",
       " {'label': 'male', 'name': 'Glen'},\n",
       " {'label': 'male', 'name': 'Glenn'},\n",
       " {'label': 'male', 'name': 'Glynn'},\n",
       " {'label': 'male', 'name': 'Grace'},\n",
       " {'label': 'male', 'name': 'Hailey'},\n",
       " {'label': 'male', 'name': 'Holly'},\n",
       " {'label': 'male', 'name': 'Ira'},\n",
       " {'label': 'male', 'name': 'Isa'},\n",
       " {'label': 'male', 'name': 'Isadore'},\n",
       " {'label': 'male', 'name': 'Jackie'},\n",
       " {'label': 'male', 'name': 'Jacques'},\n",
       " {'label': 'male', 'name': 'Jaime'},\n",
       " {'label': 'male', 'name': 'Jamie'},\n",
       " {'label': 'male', 'name': 'Jermaine'},\n",
       " {'label': 'male', 'name': 'Jerri'},\n",
       " {'label': 'male', 'name': 'Jerrie'},\n",
       " {'label': 'male', 'name': 'Jess'},\n",
       " {'label': 'male', 'name': 'Jesse'},\n",
       " {'label': 'male', 'name': 'Jessee'},\n",
       " {'label': 'male', 'name': 'Jessey'},\n",
       " {'label': 'male', 'name': 'Jessie'},\n",
       " {'label': 'male', 'name': 'Jodi'},\n",
       " {'label': 'male', 'name': 'Jodie'},\n",
       " {'label': 'male', 'name': 'Joey'},\n",
       " {'label': 'male', 'name': 'Johann'},\n",
       " {'label': 'male', 'name': 'Jordy'},\n",
       " {'label': 'male', 'name': 'Jose'},\n",
       " {'label': 'male', 'name': 'Juanita'},\n",
       " {'label': 'male', 'name': 'Jude'},\n",
       " {'label': 'male', 'name': 'Julian'},\n",
       " {'label': 'male', 'name': 'Julie'},\n",
       " {'label': 'male', 'name': 'Kalil'},\n",
       " {'label': 'male', 'name': 'Kalle'},\n",
       " {'label': 'male', 'name': 'Kane'},\n",
       " {'label': 'male', 'name': 'Karel'},\n",
       " {'label': 'male', 'name': 'Karim'},\n",
       " {'label': 'male', 'name': 'Karl'},\n",
       " {'label': 'male', 'name': 'Karsten'},\n",
       " {'label': 'male', 'name': 'Keene'},\n",
       " {'label': 'male', 'name': 'Kellen'},\n",
       " {'label': 'male', 'name': 'Kelley'},\n",
       " {'label': 'male', 'name': 'Kelly'},\n",
       " {'label': 'male', 'name': 'Kelsey'},\n",
       " {'label': 'male', 'name': 'Kerry'},\n",
       " {'label': 'male', 'name': 'Kirby'},\n",
       " {'label': 'male', 'name': 'Kit'},\n",
       " {'label': 'male', 'name': 'Klee'},\n",
       " {'label': 'male', 'name': 'Konstantin'},\n",
       " {'label': 'male', 'name': 'Kory'},\n",
       " {'label': 'male', 'name': 'Kris'},\n",
       " {'label': 'male', 'name': 'Krishna'},\n",
       " {'label': 'male', 'name': 'Kristian'},\n",
       " {'label': 'male', 'name': 'Kyle'},\n",
       " {'label': 'male', 'name': 'Lane'},\n",
       " {'label': 'male', 'name': 'Lanny'},\n",
       " {'label': 'male', 'name': 'Larry'},\n",
       " {'label': 'male', 'name': 'Laurance'},\n",
       " {'label': 'male', 'name': 'Lauren'},\n",
       " {'label': 'male', 'name': 'Laurence'},\n",
       " {'label': 'male', 'name': 'Laurent'},\n",
       " {'label': 'male', 'name': 'Laurie'},\n",
       " {'label': 'male', 'name': 'Lee'},\n",
       " {'label': 'male', 'name': 'Len'},\n",
       " {'label': 'male', 'name': 'Lennie'},\n",
       " {'label': 'male', 'name': 'Lesley'},\n",
       " {'label': 'male', 'name': 'Leslie'},\n",
       " {'label': 'male', 'name': 'Lin'},\n",
       " {'label': 'male', 'name': 'Lind'},\n",
       " {'label': 'male', 'name': 'Lindsay'},\n",
       " {'label': 'male', 'name': 'Lindsey'},\n",
       " {'label': 'male', 'name': 'Lindy'},\n",
       " {'label': 'male', 'name': 'Lonnie'},\n",
       " {'label': 'male', 'name': 'Lonny'},\n",
       " {'label': 'male', 'name': 'Loren'},\n",
       " {'label': 'male', 'name': 'Lorne'},\n",
       " {'label': 'male', 'name': 'Lorrie'},\n",
       " {'label': 'male', 'name': 'Luce'},\n",
       " {'label': 'male', 'name': 'Lucien'},\n",
       " {'label': 'male', 'name': 'Lyle'},\n",
       " {'label': 'male', 'name': 'Lyn'},\n",
       " {'label': 'male', 'name': 'Lynn'},\n",
       " {'label': 'male', 'name': 'Maddie'},\n",
       " {'label': 'male', 'name': 'Maddy'},\n",
       " {'label': 'male', 'name': 'Marietta'},\n",
       " {'label': 'male', 'name': 'Marilu'},\n",
       " {'label': 'male', 'name': 'Marlin'},\n",
       " {'label': 'male', 'name': 'Marlowe'},\n",
       " {'label': 'male', 'name': 'Martainn'},\n",
       " {'label': 'male', 'name': 'Marten'},\n",
       " {'label': 'male', 'name': 'Martie'},\n",
       " {'label': 'male', 'name': 'Martin'},\n",
       " {'label': 'male', 'name': 'Marty'},\n",
       " {'label': 'male', 'name': 'Martyn'},\n",
       " {'label': 'male', 'name': 'Matty'},\n",
       " {'label': 'male', 'name': 'Maurie'},\n",
       " {'label': 'male', 'name': 'Maurise'},\n",
       " {'label': 'male', 'name': 'Maxie'},\n",
       " {'label': 'male', 'name': 'Meade'},\n",
       " {'label': 'male', 'name': 'Mel'},\n",
       " {'label': 'male', 'name': 'Melvin'},\n",
       " {'label': 'male', 'name': 'Melvyn'},\n",
       " {'label': 'male', 'name': 'Meredeth'},\n",
       " {'label': 'male', 'name': 'Meredith'},\n",
       " {'label': 'male', 'name': 'Merill'},\n",
       " {'label': 'male', 'name': 'Merle'},\n",
       " {'label': 'male', 'name': 'Merlin'},\n",
       " {'label': 'male', 'name': 'Merril'},\n",
       " {'label': 'male', 'name': 'Merrill'},\n",
       " {'label': 'male', 'name': 'Merry'},\n",
       " {'label': 'male', 'name': 'Meryl'},\n",
       " {'label': 'male', 'name': 'Michele'},\n",
       " {'label': 'male', 'name': 'Mickie'},\n",
       " {'label': 'male', 'name': 'Mika'},\n",
       " {'label': 'male', 'name': 'Millicent'},\n",
       " {'label': 'male', 'name': 'Mischa'},\n",
       " {'label': 'male', 'name': 'Morlee'},\n",
       " {'label': 'male', 'name': 'Natale'},\n",
       " {'label': 'male', 'name': 'Nate'},\n",
       " {'label': 'male', 'name': 'Nichole'},\n",
       " {'label': 'male', 'name': 'Nickie'},\n",
       " {'label': 'male', 'name': 'Niki'},\n",
       " {'label': 'male', 'name': 'Nikita'},\n",
       " {'label': 'male', 'name': 'Nikki'},\n",
       " {'label': 'male', 'name': 'Nikolai'},\n",
       " {'label': 'male', 'name': 'Noe'},\n",
       " {'label': 'male', 'name': 'Noel'},\n",
       " {'label': 'male', 'name': 'Norris'},\n",
       " {'label': 'male', 'name': 'Olle'},\n",
       " {'label': 'male', 'name': 'Ollie'},\n",
       " {'label': 'male', 'name': 'Oral'},\n",
       " {'label': 'male', 'name': 'Orville'},\n",
       " {'label': 'male', 'name': 'Partha'},\n",
       " {'label': 'male', 'name': 'Pattie'},\n",
       " {'label': 'male', 'name': 'Pennie'},\n",
       " {'label': 'male', 'name': 'Pete'},\n",
       " {'label': 'male', 'name': 'Rabi'},\n",
       " {'label': 'male', 'name': 'Randi'},\n",
       " {'label': 'male', 'name': 'Rene'},\n",
       " {'label': 'male', 'name': 'Rikki'},\n",
       " {'label': 'male', 'name': 'Robbie'},\n",
       " {'label': 'male', 'name': 'Roni'},\n",
       " {'label': 'male', 'name': 'Ronnie'},\n",
       " {'label': 'male', 'name': 'Ronny'},\n",
       " {'label': 'male', 'name': 'Ryan'},\n",
       " {'label': 'male', 'name': 'Samuele'},\n",
       " {'label': 'male', 'name': 'Sascha'},\n",
       " {'label': 'male', 'name': 'Sasha'},\n",
       " {'label': 'male', 'name': 'Saundra'},\n",
       " {'label': 'male', 'name': 'Scotti'},\n",
       " {'label': 'male', 'name': 'Shaine'},\n",
       " {'label': 'male', 'name': 'Shane'},\n",
       " {'label': 'male', 'name': 'Shaun'},\n",
       " {'label': 'male', 'name': 'Shawn'},\n",
       " {'label': 'male', 'name': 'Shay'},\n",
       " {'label': 'male', 'name': 'Shayne'},\n",
       " {'label': 'male', 'name': 'Shea'},\n",
       " {'label': 'male', 'name': 'Shelley'},\n",
       " {'label': 'male', 'name': 'Sibyl'},\n",
       " {'label': 'male', 'name': 'Siddhartha'},\n",
       " {'label': 'male', 'name': 'Simone'},\n",
       " {'label': 'male', 'name': 'Sonnie'},\n",
       " {'label': 'male', 'name': 'Sonny'},\n",
       " {'label': 'male', 'name': 'Steffen'},\n",
       " {'label': 'male', 'name': 'Sunny'},\n",
       " {'label': 'male', 'name': 'Sydney'},\n",
       " {'label': 'male', 'name': 'Tabbie'},\n",
       " {'label': 'male', 'name': 'Tallie'},\n",
       " {'label': 'male', 'name': 'Tammie'},\n",
       " {'label': 'male', 'name': 'Tammy'},\n",
       " {'label': 'male', 'name': 'Tate'},\n",
       " {'label': 'male', 'name': 'Terri'},\n",
       " {'label': 'male', 'name': 'Tracie'},\n",
       " {'label': 'male', 'name': 'Vale'},\n",
       " {'label': 'male', 'name': 'Valentin'},\n",
       " {'label': 'male', 'name': 'Valentine'},\n",
       " {'label': 'male', 'name': 'Van'},\n",
       " {'label': 'male', 'name': 'Vance'},\n",
       " {'label': 'male', 'name': 'Vinnie'},\n",
       " {'label': 'male', 'name': 'Vite'},\n",
       " {'label': 'male', 'name': 'Winnie'},\n",
       " {'label': 'male', 'name': 'Yehudi'},\n",
       " {'label': 'male', 'name': 'Zacharia'},\n",
       " {'label': 'male', 'name': 'Zane'},\n",
       " {'label': 'male', 'name': 'Zollie'},\n",
       " {'label': 'female', 'name': 'Abbey'},\n",
       " {'label': 'female', 'name': 'Addis'},\n",
       " {'label': 'female', 'name': 'Adriaens'},\n",
       " {'label': 'female', 'name': 'Ag'},\n",
       " {'label': 'female', 'name': 'Ajay'},\n",
       " {'label': 'female', 'name': 'Alex'},\n",
       " {'label': 'female', 'name': 'Alfie'},\n",
       " {'label': 'female', 'name': 'Alison'},\n",
       " {'label': 'female', 'name': 'Alix'},\n",
       " {'label': 'female', 'name': 'Allison'},\n",
       " {'label': 'female', 'name': 'Allyson'},\n",
       " {'label': 'female', 'name': 'Amber'},\n",
       " {'label': 'female', 'name': 'Ambur'},\n",
       " {'label': 'female', 'name': 'Anstice'},\n",
       " {'label': 'female', 'name': 'Aubrey'},\n",
       " {'label': 'female', 'name': 'Auguste'},\n",
       " {'label': 'female', 'name': 'Austin'},\n",
       " {'label': 'female', 'name': 'Averil'},\n",
       " {'label': 'female', 'name': 'Averyl'},\n",
       " {'label': 'female', 'name': 'Avis'},\n",
       " {'label': 'female', 'name': 'Avril'},\n",
       " {'label': 'female', 'name': 'Avrit'},\n",
       " {'label': 'female', 'name': 'Bab'},\n",
       " {'label': 'female', 'name': 'Barb'},\n",
       " {'label': 'female', 'name': 'Barbe'},\n",
       " {'label': 'female', 'name': 'Barbey'},\n",
       " {'label': 'female', 'name': 'Barby'},\n",
       " {'label': 'female', 'name': 'Barrie'},\n",
       " {'label': 'female', 'name': 'Barry'},\n",
       " {'label': 'female', 'name': 'Beau'},\n",
       " {'label': 'female', 'name': 'Benny'},\n",
       " {'label': 'female', 'name': 'Bert'},\n",
       " {'label': 'female', 'name': 'Bev'},\n",
       " {'label': 'female', 'name': 'Bill'},\n",
       " {'label': 'female', 'name': 'Billy'},\n",
       " {'label': 'female', 'name': 'Bird'},\n",
       " {'label': 'female', 'name': 'Blair'},\n",
       " {'label': 'female', 'name': 'Blanch'},\n",
       " {'label': 'female', 'name': 'Blanche'},\n",
       " {'label': 'female', 'name': 'Bo'},\n",
       " {'label': 'female', 'name': 'Brett'},\n",
       " {'label': 'female', 'name': 'Brier'},\n",
       " {'label': 'female', 'name': 'Brook'},\n",
       " {'label': 'female', 'name': 'Brooke'},\n",
       " {'label': 'female', 'name': 'Brooks'},\n",
       " {'label': 'female', 'name': 'Buffy'},\n",
       " {'label': 'female', 'name': 'Cal'},\n",
       " {'label': 'female', 'name': 'Cam'},\n",
       " {'label': 'female', 'name': 'Cameo'},\n",
       " {'label': 'female', 'name': 'Carmon'},\n",
       " {'label': 'female', 'name': 'Chad'},\n",
       " {'label': 'female', 'name': 'Chandal'},\n",
       " {'label': 'female', 'name': 'Charlot'},\n",
       " {'label': 'female', 'name': 'Charlott'},\n",
       " {'label': 'female', 'name': 'Charmion'},\n",
       " {'label': 'female', 'name': 'Charo'},\n",
       " {'label': 'female', 'name': 'Cher'},\n",
       " {'label': 'female', 'name': 'Chriss'},\n",
       " {'label': 'female', 'name': 'Christan'},\n",
       " {'label': 'female', 'name': 'Christel'},\n",
       " {'label': 'female', 'name': 'Christen'},\n",
       " {'label': 'female', 'name': 'Christian'},\n",
       " {'label': 'female', 'name': 'Christin'},\n",
       " {'label': 'female', 'name': 'Chrysler'},\n",
       " {'label': 'female', 'name': 'Cinnamon'},\n",
       " {'label': 'female', 'name': 'Clair'},\n",
       " {'label': 'female', 'name': 'Claire'},\n",
       " {'label': 'female', 'name': 'Clem'},\n",
       " {'label': 'female', 'name': 'Clemence'},\n",
       " {'label': 'female', 'name': 'Clemmy'},\n",
       " {'label': 'female', 'name': 'Cleo'},\n",
       " {'label': 'female', 'name': 'Clio'},\n",
       " {'label': 'female', 'name': 'Clo'},\n",
       " {'label': 'female', 'name': 'Cody'},\n",
       " {'label': 'female', 'name': 'Con'},\n",
       " {'label': 'female', 'name': 'Consuelo'},\n",
       " {'label': 'female', 'name': 'Dagmar'},\n",
       " {'label': 'female', 'name': 'Dale'},\n",
       " {'label': 'female', 'name': 'Dallas'},\n",
       " {'label': 'female', 'name': 'Darby'},\n",
       " {'label': 'female', 'name': 'Darryl'},\n",
       " {'label': 'female', 'name': 'Daryl'},\n",
       " {'label': 'female', 'name': 'Deb'},\n",
       " {'label': 'female', 'name': 'Demeter'},\n",
       " {'label': 'female', 'name': 'Demetris'},\n",
       " {'label': 'female', 'name': 'Denny'},\n",
       " {'label': 'female', 'name': 'Devin'},\n",
       " {'label': 'female', 'name': 'Devon'},\n",
       " {'label': 'female', 'name': 'Dew'},\n",
       " {'label': 'female', 'name': 'Diamond'},\n",
       " {'label': 'female', 'name': 'Dido'},\n",
       " {'label': 'female', 'name': 'Dion'},\n",
       " {'label': 'female', 'name': 'Dionis'},\n",
       " {'label': 'female', 'name': 'Doe'},\n",
       " {'label': 'female', 'name': 'Dominique'},\n",
       " {'label': 'female', 'name': 'Drew'},\n",
       " {'label': 'female', 'name': 'Ealasaid'},\n",
       " {'label': 'female', 'name': 'Easter'},\n",
       " {'label': 'female', 'name': 'Eddy'},\n",
       " {'label': 'female', 'name': 'Em'},\n",
       " {'label': 'female', 'name': 'Enid'},\n",
       " {'label': 'female', 'name': 'Eran'},\n",
       " {'label': 'female', 'name': 'Felicdad'},\n",
       " {'label': 'female', 'name': 'Fern'},\n",
       " {'label': 'female', 'name': 'Flower'},\n",
       " {'label': 'female', 'name': 'Fran'},\n",
       " {'label': 'female', 'name': 'France'},\n",
       " {'label': 'female', 'name': 'Frances'},\n",
       " {'label': 'female', 'name': 'Francesmary'},\n",
       " {'label': 'female', 'name': 'Francis'},\n",
       " {'label': 'female', 'name': 'Frank'},\n",
       " {'label': 'female', 'name': 'Franky'},\n",
       " {'label': 'female', 'name': 'Fred'},\n",
       " {'label': 'female', 'name': 'Freddy'},\n",
       " {'label': 'female', 'name': 'Friederike'},\n",
       " {'label': 'female', 'name': 'Gabriel'},\n",
       " {'label': 'female', 'name': 'Gabriell'},\n",
       " {'label': 'female', 'name': 'Gael'},\n",
       " {'label': 'female', 'name': 'Gail'},\n",
       " {'label': 'female', 'name': 'Gale'},\n",
       " {'label': 'female', 'name': 'Garland'},\n",
       " {'label': 'female', 'name': 'Garnet'},\n",
       " {'label': 'female', 'name': 'Gates'},\n",
       " {'label': 'female', 'name': 'Gay'},\n",
       " {'label': 'female', 'name': 'Gaynor'},\n",
       " {'label': 'female', 'name': 'George'},\n",
       " {'label': 'female', 'name': 'Georgiamay'},\n",
       " {'label': 'female', 'name': 'Germain'},\n",
       " {'label': 'female', 'name': 'Gerry'},\n",
       " {'label': 'female', 'name': 'Gert'},\n",
       " {'label': 'female', 'name': 'Gigi'},\n",
       " {'label': 'female', 'name': 'Gill'},\n",
       " {'label': 'female', 'name': 'Gillan'},\n",
       " {'label': 'female', 'name': 'Ginger'},\n",
       " {'label': 'female', 'name': 'Ginnifer'},\n",
       " {'label': 'female', 'name': 'Gray'},\n",
       " {'label': 'female', 'name': 'Gredel'},\n",
       " {'label': 'female', 'name': 'Greer'},\n",
       " {'label': 'female', 'name': 'Gretchen'},\n",
       " {'label': 'female', 'name': 'Grier'},\n",
       " {'label': 'female', 'name': 'Grissel'},\n",
       " {'label': 'female', 'name': 'Gunvor'},\n",
       " {'label': 'female', 'name': 'Gus'},\n",
       " {'label': 'female', 'name': 'Haleigh'},\n",
       " {'label': 'female', 'name': 'Haley'},\n",
       " {'label': 'female', 'name': 'Halley'},\n",
       " {'label': 'female', 'name': 'Hally'},\n",
       " {'label': 'female', 'name': 'Hannibal'},\n",
       " {'label': 'female', 'name': 'Hannis'},\n",
       " {'label': 'female', 'name': 'Harley'},\n",
       " {'label': 'female', 'name': 'Harli'},\n",
       " {'label': 'female', 'name': 'Harlie'},\n",
       " {'label': 'female', 'name': 'Harmonie'},\n",
       " {'label': 'female', 'name': 'Harmony'},\n",
       " {'label': 'female', 'name': 'Harriet'},\n",
       " {'label': 'female', 'name': 'Harriett'},\n",
       " {'label': 'female', 'name': 'Harriot'},\n",
       " {'label': 'female', 'name': 'Harriott'},\n",
       " {'label': 'female', 'name': 'Havivah'},\n",
       " {'label': 'female', 'name': 'Hayley'},\n",
       " {'label': 'female', 'name': 'Hazel'},\n",
       " {'label': 'female', 'name': 'Heath'},\n",
       " {'label': 'female', 'name': 'Heather'},\n",
       " {'label': 'female', 'name': 'Hedwig'},\n",
       " {'label': 'female', 'name': 'Henrie'},\n",
       " {'label': 'female', 'name': 'Hester'},\n",
       " {'label': 'female', 'name': 'Hesther'},\n",
       " {'label': 'female', 'name': 'Hilary'},\n",
       " {'label': 'female', 'name': 'Hildagard'},\n",
       " {'label': 'female', 'name': 'Hildegaard'},\n",
       " {'label': 'female', 'name': 'Hillary'},\n",
       " {'label': 'female', 'name': 'Hilliary'},\n",
       " {'label': 'female', 'name': 'Idell'},\n",
       " {'label': 'female', 'name': 'Ike'},\n",
       " {'label': 'female', 'name': 'Ikey'},\n",
       " {'label': 'female', 'name': 'Inez'},\n",
       " {'label': 'female', 'name': 'Inger'},\n",
       " {'label': 'female', 'name': 'Isador'},\n",
       " {'label': 'female', 'name': 'Isis'},\n",
       " {'label': 'female', 'name': 'Ivett'},\n",
       " {'label': 'female', 'name': 'Ivory'},\n",
       " {'label': 'female', 'name': 'Ivy'},\n",
       " {'label': 'female', 'name': 'Jan'},\n",
       " {'label': 'female', 'name': 'Jean'},\n",
       " {'label': 'female', 'name': 'Jere'},\n",
       " {'label': 'female', 'name': 'Jerry'},\n",
       " {'label': 'female', 'name': 'Jo'},\n",
       " {'label': 'female', 'name': 'Jody'},\n",
       " {'label': 'female', 'name': 'Jonell'},\n",
       " {'label': 'female', 'name': 'Jonis'},\n",
       " {'label': 'female', 'name': 'Jordain'},\n",
       " {'label': 'female', 'name': 'Jordan'},\n",
       " {'label': 'female', 'name': 'Jourdan'},\n",
       " {'label': 'female', 'name': 'Joy'},\n",
       " {'label': 'female', 'name': 'Joyous'},\n",
       " {'label': 'female', 'name': 'Judie'},\n",
       " {'label': 'female', 'name': 'Judith'},\n",
       " {'label': 'female', 'name': 'Judy'},\n",
       " {'label': 'female', 'name': 'Justin'},\n",
       " {'label': 'female', 'name': 'Kaster'},\n",
       " {'label': 'female', 'name': 'Kim'},\n",
       " {'label': 'female', 'name': 'Kip'},\n",
       " {'label': 'female', 'name': 'Kipp'},\n",
       " {'label': 'female', 'name': 'Koo'},\n",
       " {'label': 'female', 'name': 'Lark'},\n",
       " {'label': 'female', 'name': 'Leigh'},\n",
       " {'label': 'female', 'name': 'Leland'},\n",
       " {'label': 'female', 'name': 'Lois'},\n",
       " {'label': 'female', 'name': 'Lou'},\n",
       " {'label': 'female', 'name': 'Lust'},\n",
       " {'label': 'female', 'name': 'Mair'},\n",
       " {'label': 'female', 'name': 'Marigold'},\n",
       " {'label': 'female', 'name': 'Marion'},\n",
       " {'label': 'female', 'name': 'Marlo'},\n",
       " {'label': 'female', 'name': 'Mattie'},\n",
       " {'label': 'female', 'name': 'Maud'},\n",
       " {'label': 'female', 'name': 'Max'},\n",
       " {'label': 'female', 'name': 'Mead'},\n",
       " {'label': 'female', 'name': 'Michal'},\n",
       " {'label': 'female', 'name': 'Michel'},\n",
       " {'label': 'female', 'name': 'Michell'},\n",
       " {'label': 'female', 'name': 'Micky'},\n",
       " {'label': 'female', 'name': 'Mikako'},\n",
       " {'label': 'female', 'name': 'Mildred'},\n",
       " {'label': 'female', 'name': 'Milicent'},\n",
       " {'label': 'female', 'name': 'Milissent'},\n",
       " {'label': 'female', 'name': 'Morgan'},\n",
       " {'label': 'female', 'name': 'Morgen'},\n",
       " {'label': 'female', 'name': 'Muffin'},\n",
       " {'label': 'female', 'name': 'Nat'},\n",
       " {'label': 'female', 'name': 'Nert'},\n",
       " {'label': 'female', 'name': 'Nichol'},\n",
       " {'label': 'female', 'name': 'Nicky'},\n",
       " {'label': 'female', 'name': 'Nil'},\n",
       " {'label': 'female', 'name': 'Olive'},\n",
       " {'label': 'female', 'name': 'Page'},\n",
       " {'label': 'female', 'name': 'Paige'},\n",
       " {'label': 'female', 'name': 'Pam'},\n",
       " {'label': 'female', 'name': 'Pat'},\n",
       " {'label': 'female', 'name': 'Patience'},\n",
       " {'label': 'female', 'name': 'Patrice'},\n",
       " {'label': 'female', 'name': 'Patsy'},\n",
       " {'label': 'female', 'name': 'Patty'},\n",
       " {'label': 'female', 'name': 'Peg'},\n",
       " {'label': 'female', 'name': 'Pen'},\n",
       " {'label': 'female', 'name': 'Penny'},\n",
       " {'label': 'female', 'name': 'Perry'},\n",
       " {'label': 'female', 'name': 'Pet'},\n",
       " {'label': 'female', 'name': 'Phil'},\n",
       " {'label': 'female', 'name': 'Philippe'},\n",
       " {'label': 'female', 'name': 'Philis'},\n",
       " {'label': 'female', 'name': 'Phillis'},\n",
       " {'label': 'female', 'name': 'Philly'},\n",
       " {'label': 'female', 'name': 'Pier'},\n",
       " {'label': 'female', 'name': 'Piper'},\n",
       " {'label': 'female', 'name': 'Pooh'},\n",
       " {'label': 'female', 'name': 'Pris'},\n",
       " {'label': 'female', 'name': 'Pru'},\n",
       " {'label': 'female', 'name': 'Quentin'},\n",
       " {'label': 'female', 'name': 'Quinn'},\n",
       " {'label': 'female', 'name': 'Rachael'},\n",
       " {'label': 'female', 'name': 'Rae'},\n",
       " {'label': 'female', 'name': 'Raf'},\n",
       " {'label': 'female', 'name': 'Ragnhild'},\n",
       " {'label': 'female', 'name': 'Rahal'},\n",
       " {'label': 'female', 'name': 'Rahel'},\n",
       " {'label': 'female', 'name': 'Rakel'},\n",
       " {'label': 'female', 'name': 'Randie'},\n",
       " {'label': 'female', 'name': 'Randy'},\n",
       " {'label': 'female', 'name': 'Raquel'},\n",
       " {'label': 'female', 'name': 'Raven'},\n",
       " {'label': 'female', 'name': 'Ray'},\n",
       " {'label': 'female', 'name': 'Raychel'},\n",
       " {'label': 'female', 'name': 'Raynell'},\n",
       " {'label': 'female', 'name': 'Rayshell'},\n",
       " {'label': 'female', 'name': 'Regan'},\n",
       " {'label': 'female', 'name': 'Reggie'},\n",
       " {'label': 'female', 'name': 'Remy'},\n",
       " {'label': 'female', 'name': 'Rey'},\n",
       " {'label': 'female', 'name': 'Rhiamon'},\n",
       " {'label': 'female', 'name': 'Ricki'},\n",
       " {'label': 'female', 'name': 'Rickie'},\n",
       " {'label': 'female', 'name': 'Ricky'},\n",
       " {'label': 'female', 'name': 'Robbin'},\n",
       " {'label': 'female', 'name': 'Robin'},\n",
       " {'label': 'female', 'name': 'Robinett'},\n",
       " {'label': 'female', 'name': 'Roch'},\n",
       " {'label': 'female', 'name': 'Rory'},\n",
       " {'label': 'female', 'name': 'Ros'},\n",
       " {'label': 'female', 'name': 'Row'},\n",
       " {'label': 'female', 'name': 'Roz'},\n",
       " {'label': 'female', 'name': 'Rozamond'},\n",
       " {'label': 'female', 'name': 'Ruby'},\n",
       " {'label': 'female', 'name': 'Sal'},\n",
       " {'label': 'female', 'name': 'Salome'},\n",
       " {'label': 'female', 'name': 'Sam'},\n",
       " {'label': 'female', 'name': 'Sammy'},\n",
       " {'label': 'female', 'name': 'Sandy'},\n",
       " {'label': 'female', 'name': 'Sandye'},\n",
       " {'label': 'female', 'name': 'Sayre'},\n",
       " {'label': 'female', 'name': 'Scarlet'},\n",
       " {'label': 'female', 'name': 'Scarlett'},\n",
       " {'label': 'female', 'name': 'Scotty'},\n",
       " {'label': 'female', 'name': 'Sean'},\n",
       " {'label': 'female', 'name': 'Shamit'},\n",
       " {'label': 'female', 'name': 'Shannon'},\n",
       " {'label': 'female', 'name': 'Shel'},\n",
       " {'label': 'female', 'name': 'Shelby'},\n",
       " {'label': 'female', 'name': 'Shell'},\n",
       " {'label': 'female', 'name': 'Sher'},\n",
       " {'label': 'female', 'name': 'Sigrid'},\n",
       " {'label': 'female', 'name': 'Sileas'},\n",
       " {'label': 'female', 'name': 'Sinead'},\n",
       " {'label': 'female', 'name': 'Siobhan'},\n",
       " {'label': 'female', 'name': 'Stacy'},\n",
       " {'label': 'female', 'name': 'Star'},\n",
       " {'label': 'female', 'name': 'Starr'},\n",
       " {'label': 'female', 'name': 'Stoddard'},\n",
       " {'label': 'female', 'name': 'Tabby'},\n",
       " {'label': 'female', 'name': 'Taffy'},\n",
       " {'label': 'female', 'name': 'Tally'},\n",
       " {'label': 'female', 'name': 'Talyah'},\n",
       " {'label': 'female', 'name': 'Tamar'},\n",
       " {'label': 'female', 'name': 'Tatum'},\n",
       " {'label': 'female', 'name': 'Ted'},\n",
       " {'label': 'female', 'name': 'Teddie'},\n",
       " {'label': 'female', 'name': 'Teddy'},\n",
       " {'label': 'female', 'name': 'Terri-Jo'},\n",
       " {'label': 'female', 'name': 'Terry'},\n",
       " {'label': 'female', 'name': 'Theo'},\n",
       " {'label': 'female', 'name': 'Thomasin'},\n",
       " {'label': 'female', 'name': 'Tiff'},\n",
       " {'label': 'female', 'name': 'Tim'},\n",
       " {'label': 'female', 'name': 'Timmie'},\n",
       " {'label': 'female', 'name': 'Timmy'},\n",
       " {'label': 'female', 'name': 'Tish'},\n",
       " {'label': 'female', 'name': 'Tobe'},\n",
       " {'label': 'female', 'name': 'Tobey'},\n",
       " {'label': 'female', 'name': 'Tobie'},\n",
       " {'label': 'female', 'name': 'Toby'},\n",
       " {'label': 'female', 'name': 'Tommie'},\n",
       " {'label': 'female', 'name': 'Tommy'},\n",
       " {'label': 'female', 'name': 'Tony'},\n",
       " {'label': 'female', 'name': 'Torey'},\n",
       " {'label': 'female', 'name': 'Torrie'},\n",
       " {'label': 'female', 'name': 'Tory'},\n",
       " {'label': 'female', 'name': 'Trace'},\n",
       " {'label': 'female', 'name': 'Tracey'},\n",
       " {'label': 'female', 'name': 'Tracy'},\n",
       " {'label': 'female', 'name': 'Tuesday'},\n",
       " {'label': 'female', 'name': 'Ulrike'},\n",
       " {'label': 'female', 'name': 'Val'},\n",
       " {'label': 'female', 'name': 'Venus'},\n",
       " {'label': 'female', 'name': 'Vicky'},\n",
       " {'label': 'female', 'name': 'Vin'},\n",
       " {'label': 'female', 'name': 'Vinny'},\n",
       " {'label': 'female', 'name': 'Virgie'},\n",
       " {'label': 'female', 'name': 'Wallie'},\n",
       " {'label': 'female', 'name': 'Wallis'},\n",
       " {'label': 'female', 'name': 'Wally'},\n",
       " {'label': 'female', 'name': 'Waly'},\n",
       " {'label': 'female', 'name': 'Wendeline'},\n",
       " {'label': 'female', 'name': 'Wendie'},\n",
       " {'label': 'female', 'name': 'Wendy'},\n",
       " {'label': 'female', 'name': 'Whitney'},\n",
       " {'label': 'female', 'name': 'Willi'},\n",
       " {'label': 'female', 'name': 'Willie'},\n",
       " {'label': 'female', 'name': 'Willow'},\n",
       " {'label': 'female', 'name': 'Willy'},\n",
       " {'label': 'female', 'name': 'Willyt'},\n",
       " {'label': 'female', 'name': 'Wilow'},\n",
       " {'label': 'female', 'name': 'Windy'},\n",
       " {'label': 'female', 'name': 'Winifred'},\n",
       " {'label': 'female', 'name': 'Winnifred'},\n",
       " {'label': 'female', 'name': 'Winny'},\n",
       " {'label': 'female', 'name': 'Wren'},\n",
       " {'label': 'female', 'name': 'Wynn'},\n",
       " {'label': 'female', 'name': 'Wynnie'},\n",
       " {'label': 'female', 'name': 'Wynny'},\n",
       " {'label': 'female', 'name': 'Yehudit'},\n",
       " {'label': 'female', 'name': 'Zoe'}]"
      ]
     },
     "execution_count": 27,
     "metadata": {},
     "output_type": "execute_result"
    }
   ],
   "source": [
    "# print gender classifier errors so we can design new features to identify the cases\n",
    "errors = []\n",
    "\n",
    "for (name,label) in names:\n",
    "    if bayes.classify(extract_gender_features(name)) != label:\n",
    "        errors.append({\"name\": name, \"label\": label})\n",
    "        \n",
    "errors"
   ]
  },
  {
   "cell_type": "markdown",
   "metadata": {},
   "source": [
    "## 5.2 Sentiment Analysis"
   ]
  },
  {
   "cell_type": "code",
   "execution_count": 28,
   "metadata": {},
   "outputs": [],
   "source": [
    "# sentiment analysis - part #1\n",
    "from nltk.corpus import movie_reviews as reviews\n",
    "import random\n",
    "\n",
    "docs = [(list(reviews.words(id)), cat) for cat in reviews.categories() for id in reviews.fileids(cat)]\n",
    "random.shuffle(docs)\n",
    "\n",
    "#print([ (len(d[0]), d[0][:2], d[1]) for d in docs[:10]])\n",
    "\n",
    "fd = nltk.FreqDist(word.lower() for word in reviews.words())\n",
    "topKeys = [ key for (key,value) in fd.most_common(2000)]"
   ]
  },
  {
   "cell_type": "code",
   "execution_count": 32,
   "metadata": {},
   "outputs": [
    {
     "name": "stdout",
     "output_type": "stream",
     "text": [
      "train accuracy= 0.86625\n",
      "test accuracy= 0.83\n",
      "Most Informative Features\n",
      "                   mulan = True              pos : neg    =      8.5 : 1.0\n",
      "             outstanding = True              pos : neg    =      8.1 : 1.0\n",
      "             wonderfully = True              pos : neg    =      7.4 : 1.0\n",
      "                   damon = True              pos : neg    =      6.9 : 1.0\n",
      "                  allows = True              pos : neg    =      6.5 : 1.0\n",
      "                  seagal = True              neg : pos    =      6.1 : 1.0\n",
      "                   snake = True              neg : pos    =      6.0 : 1.0\n",
      "              ridiculous = True              neg : pos    =      5.2 : 1.0\n",
      "                   awful = True              neg : pos    =      5.1 : 1.0\n",
      "                   worst = True              neg : pos    =      4.8 : 1.0\n",
      "                terrific = True              pos : neg    =      4.7 : 1.0\n",
      "               pointless = True              neg : pos    =      4.7 : 1.0\n",
      "                  wasted = True              neg : pos    =      4.6 : 1.0\n",
      "                  poorly = True              neg : pos    =      4.5 : 1.0\n",
      "                   waste = True              neg : pos    =      4.5 : 1.0\n",
      "                 unfunny = True              neg : pos    =      4.5 : 1.0\n",
      "                      it = False             neg : pos    =      4.5 : 1.0\n",
      "                  superb = True              pos : neg    =      4.4 : 1.0\n",
      "                    dull = True              neg : pos    =      4.4 : 1.0\n",
      "                    lame = True              neg : pos    =      4.3 : 1.0\n"
     ]
    }
   ],
   "source": [
    "# sentiment analysis - part #2\n",
    "import nltk\n",
    "\n",
    "def review_features(doc):\n",
    "    docSet = set(doc)\n",
    "    features = {}\n",
    "    \n",
    "    for word in topKeys:\n",
    "        features[word] = (word in docSet)\n",
    "    \n",
    "    return features\n",
    "\n",
    "#review_features(reviews.words(\"pos/cv957_8737.txt\"))\n",
    "\n",
    "data = [(review_features(doc), label) for (doc,label) in docs]\n",
    "\n",
    "dataCount = len(data)\n",
    "trainCount = int(.8*dataCount)\n",
    "\n",
    "trainData = data[:trainCount]\n",
    "testData = data[trainCount:]\n",
    "bayes2 = nltk.NaiveBayesClassifier.train(trainData)\n",
    "\n",
    "print(\"train accuracy=\", nltk.classify.accuracy(bayes2, trainData))\n",
    "print(\"test accuracy=\", nltk.classify.accuracy(bayes2, testData))\n",
    "\n",
    "bayes2.show_most_informative_features(20)"
   ]
  },
  {
   "cell_type": "code",
   "execution_count": null,
   "metadata": {
    "collapsed": true
   },
   "outputs": [],
   "source": []
  }
 ],
 "metadata": {
  "kernelspec": {
   "display_name": "Python 3",
   "language": "python",
   "name": "python3"
  },
  "language_info": {
   "codemirror_mode": {
    "name": "ipython",
    "version": 3
   },
   "file_extension": ".py",
   "mimetype": "text/x-python",
   "name": "python",
   "nbconvert_exporter": "python",
   "pygments_lexer": "ipython3",
   "version": "3.6.1"
  }
 },
 "nbformat": 4,
 "nbformat_minor": 2
}
