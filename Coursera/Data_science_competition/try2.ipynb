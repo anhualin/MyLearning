{
 "cells": [
  {
   "cell_type": "code",
   "execution_count": 1,
   "metadata": {},
   "outputs": [],
   "source": [
    "import os\n",
    "import numpy as np\n",
    "import pandas as pd\n",
    "import platform\n",
    "import pickle\n",
    "from pathlib import Path\n",
    "\n",
    "import matplotlib.pyplot as plt\n",
    "%matplotlib inline"
   ]
  },
  {
   "cell_type": "code",
   "execution_count": 2,
   "metadata": {},
   "outputs": [],
   "source": [
    "if platform.system() == 'Linux':\n",
    "    data_dir = '/home/alin/Data/DS_Competition'\n",
    "else:\n",
    "    data_dir = 'C:/Users/alin/Documents/Data/DS_Competition'"
   ]
  },
  {
   "cell_type": "code",
   "execution_count": 5,
   "metadata": {},
   "outputs": [
    {
     "name": "stdout",
     "output_type": "stream",
     "text": [
      "load previous dump\n"
     ]
    }
   ],
   "source": [
    "item_categories = pd.read_csv(data_dir + '/item_categories.csv')\n",
    "items = pd.read_csv(data_dir + '/items.csv')\n",
    "shops = pd.read_csv(data_dir + '/shops.csv')\n",
    "\n",
    "sales_train_dump = data_dir + '/sales_train.p'\n",
    "if Path(sales_train_dump).is_file():\n",
    "    print('load previous dump')\n",
    "    sales_train = pickle.load(open(sales_train_dump, 'rb'))\n",
    "else:\n",
    "    print('load from original csv')\n",
    "    sales_train = pd.read_csv(data_dir + '/sales_train.csv')\n",
    "    sales_train['year'] = sales_train.apply(lambda r: int(r['date'][6:]), axis=1)\n",
    "    sales_train['month'] = sales_train.apply(lambda r: int(r['date'][3:5]), axis=1)\n",
    "    sales_train['day'] = sales_train.apply(lambda r: int(r['date'][:2]), axis=1)\n",
    "    sales_train['year_month'] = sales_train.apply(lambda r: r['year']*100 + r['month'], axis=1)\n",
    "    sales_train['weekday'] = sales_train.apply(lambda r: datetime.datetime(r['year'], r['month'], r['day']).weekday() + 1, axis=1)\n",
    "    sales_train['transaction'] = 1\n",
    "    sales_train['money'] = sales_train.apply(lambda r: r['item_price'] * r['item_cnt_day'], axis=1)\n",
    "    sales_train = sales_train.join(items, on='item_id', how='inner', rsuffix='_r')\n",
    "    sales_train = sales_train.drop(['item_id_r', 'item_name'], axis=1)\n",
    "    sales_train['weekend'] = sales_train.apply(lambda r: 1 if r['weekday'] >= 6 else 0, axis=1)\n",
    "    sales_train['year'] = sales_train['year'] - 2013\n",
    "    sales_train = sales_train.rename(columns={'item_cnt_day': 'item_cnt'})\n",
    "    pickle.dump(sales_train, open(sales_train_dump, 'wb'))"
   ]
  },
  {
   "cell_type": "code",
   "execution_count": 6,
   "metadata": {},
   "outputs": [
    {
     "data": {
      "text/html": [
       "<div>\n",
       "<style>\n",
       "    .dataframe thead tr:only-child th {\n",
       "        text-align: right;\n",
       "    }\n",
       "\n",
       "    .dataframe thead th {\n",
       "        text-align: left;\n",
       "    }\n",
       "\n",
       "    .dataframe tbody tr th {\n",
       "        vertical-align: top;\n",
       "    }\n",
       "</style>\n",
       "<table border=\"1\" class=\"dataframe\">\n",
       "  <thead>\n",
       "    <tr style=\"text-align: right;\">\n",
       "      <th></th>\n",
       "      <th>date</th>\n",
       "      <th>date_block_num</th>\n",
       "      <th>shop_id</th>\n",
       "      <th>item_id</th>\n",
       "      <th>item_price</th>\n",
       "      <th>item_cnt</th>\n",
       "      <th>year</th>\n",
       "      <th>month</th>\n",
       "      <th>day</th>\n",
       "      <th>year_month</th>\n",
       "      <th>weekday</th>\n",
       "      <th>transaction</th>\n",
       "      <th>money</th>\n",
       "      <th>item_category_id</th>\n",
       "      <th>weekend</th>\n",
       "    </tr>\n",
       "  </thead>\n",
       "  <tbody>\n",
       "    <tr>\n",
       "      <th>0</th>\n",
       "      <td>02.01.2013</td>\n",
       "      <td>0</td>\n",
       "      <td>59</td>\n",
       "      <td>22154</td>\n",
       "      <td>999.0</td>\n",
       "      <td>1.0</td>\n",
       "      <td>0</td>\n",
       "      <td>1</td>\n",
       "      <td>2</td>\n",
       "      <td>201301</td>\n",
       "      <td>3</td>\n",
       "      <td>1</td>\n",
       "      <td>999.0</td>\n",
       "      <td>37</td>\n",
       "      <td>0</td>\n",
       "    </tr>\n",
       "    <tr>\n",
       "      <th>3270</th>\n",
       "      <td>23.01.2013</td>\n",
       "      <td>0</td>\n",
       "      <td>24</td>\n",
       "      <td>22154</td>\n",
       "      <td>999.0</td>\n",
       "      <td>1.0</td>\n",
       "      <td>0</td>\n",
       "      <td>1</td>\n",
       "      <td>23</td>\n",
       "      <td>201301</td>\n",
       "      <td>3</td>\n",
       "      <td>1</td>\n",
       "      <td>999.0</td>\n",
       "      <td>37</td>\n",
       "      <td>0</td>\n",
       "    </tr>\n",
       "    <tr>\n",
       "      <th>17081</th>\n",
       "      <td>20.01.2013</td>\n",
       "      <td>0</td>\n",
       "      <td>27</td>\n",
       "      <td>22154</td>\n",
       "      <td>999.0</td>\n",
       "      <td>1.0</td>\n",
       "      <td>0</td>\n",
       "      <td>1</td>\n",
       "      <td>20</td>\n",
       "      <td>201301</td>\n",
       "      <td>7</td>\n",
       "      <td>1</td>\n",
       "      <td>999.0</td>\n",
       "      <td>37</td>\n",
       "      <td>1</td>\n",
       "    </tr>\n",
       "    <tr>\n",
       "      <th>25918</th>\n",
       "      <td>02.01.2013</td>\n",
       "      <td>0</td>\n",
       "      <td>25</td>\n",
       "      <td>22154</td>\n",
       "      <td>999.0</td>\n",
       "      <td>1.0</td>\n",
       "      <td>0</td>\n",
       "      <td>1</td>\n",
       "      <td>2</td>\n",
       "      <td>201301</td>\n",
       "      <td>3</td>\n",
       "      <td>1</td>\n",
       "      <td>999.0</td>\n",
       "      <td>37</td>\n",
       "      <td>0</td>\n",
       "    </tr>\n",
       "    <tr>\n",
       "      <th>25919</th>\n",
       "      <td>03.01.2013</td>\n",
       "      <td>0</td>\n",
       "      <td>25</td>\n",
       "      <td>22154</td>\n",
       "      <td>999.0</td>\n",
       "      <td>1.0</td>\n",
       "      <td>0</td>\n",
       "      <td>1</td>\n",
       "      <td>3</td>\n",
       "      <td>201301</td>\n",
       "      <td>4</td>\n",
       "      <td>1</td>\n",
       "      <td>999.0</td>\n",
       "      <td>37</td>\n",
       "      <td>0</td>\n",
       "    </tr>\n",
       "  </tbody>\n",
       "</table>\n",
       "</div>"
      ],
      "text/plain": [
       "             date  date_block_num  shop_id  item_id  item_price  item_cnt  \\\n",
       "0      02.01.2013               0       59    22154       999.0       1.0   \n",
       "3270   23.01.2013               0       24    22154       999.0       1.0   \n",
       "17081  20.01.2013               0       27    22154       999.0       1.0   \n",
       "25918  02.01.2013               0       25    22154       999.0       1.0   \n",
       "25919  03.01.2013               0       25    22154       999.0       1.0   \n",
       "\n",
       "       year  month  day  year_month  weekday  transaction  money  \\\n",
       "0         0      1    2      201301        3            1  999.0   \n",
       "3270      0      1   23      201301        3            1  999.0   \n",
       "17081     0      1   20      201301        7            1  999.0   \n",
       "25918     0      1    2      201301        3            1  999.0   \n",
       "25919     0      1    3      201301        4            1  999.0   \n",
       "\n",
       "       item_category_id  weekend  \n",
       "0                    37        0  \n",
       "3270                 37        0  \n",
       "17081                37        1  \n",
       "25918                37        0  \n",
       "25919                37        0  "
      ]
     },
     "execution_count": 6,
     "metadata": {},
     "output_type": "execute_result"
    }
   ],
   "source": [
    "sales_train.head()"
   ]
  },
  {
   "cell_type": "code",
   "execution_count": 7,
   "metadata": {},
   "outputs": [],
   "source": [
    "sales_pre = sales_train[sales_train.year_month == 201510][['shop_id', 'item_id', 'item_cnt']]"
   ]
  },
  {
   "cell_type": "code",
   "execution_count": 8,
   "metadata": {},
   "outputs": [
    {
     "data": {
      "text/plain": [
       "(53514, 3)"
      ]
     },
     "execution_count": 8,
     "metadata": {},
     "output_type": "execute_result"
    }
   ],
   "source": [
    "sales_pre.shape"
   ]
  },
  {
   "cell_type": "code",
   "execution_count": 9,
   "metadata": {},
   "outputs": [],
   "source": [
    "%qtconsole"
   ]
  },
  {
   "cell_type": "code",
   "execution_count": 25,
   "metadata": {},
   "outputs": [],
   "source": [
    "sales_pre_month = sales_pre.groupby(by=['shop_id', 'item_id']).sum()['item_cnt'].to_frame()"
   ]
  },
  {
   "cell_type": "code",
   "execution_count": 29,
   "metadata": {},
   "outputs": [],
   "source": [
    "test = pd.read_csv(data_dir + '/test.csv')"
   ]
  },
  {
   "cell_type": "code",
   "execution_count": 31,
   "metadata": {},
   "outputs": [],
   "source": [
    "test1 = test.join(sales_pre_month, on=['shop_id', 'item_id'], how='left', rsuffix='_r')"
   ]
  },
  {
   "cell_type": "code",
   "execution_count": 35,
   "metadata": {},
   "outputs": [],
   "source": [
    "test1.fillna(0, inplace=True)"
   ]
  },
  {
   "cell_type": "code",
   "execution_count": 37,
   "metadata": {},
   "outputs": [],
   "source": [
    "test1['item_cnt_month'] = test1['item_cnt']"
   ]
  },
  {
   "cell_type": "code",
   "execution_count": 39,
   "metadata": {},
   "outputs": [],
   "source": [
    "output = test1[['ID', 'item_cnt_month']]"
   ]
  },
  {
   "cell_type": "code",
   "execution_count": 61,
   "metadata": {},
   "outputs": [
    {
     "name": "stderr",
     "output_type": "stream",
     "text": [
      "c:\\users\\alin\\envs\\datascience3\\lib\\site-packages\\ipykernel_launcher.py:1: SettingWithCopyWarning: \n",
      "A value is trying to be set on a copy of a slice from a DataFrame.\n",
      "Try using .loc[row_indexer,col_indexer] = value instead\n",
      "\n",
      "See the caveats in the documentation: http://pandas.pydata.org/pandas-docs/stable/indexing.html#indexing-view-versus-copy\n",
      "  \"\"\"Entry point for launching an IPython kernel.\n"
     ]
    }
   ],
   "source": [
    "output['item_cnt_month'] = output.apply(lambda r: 20 if r['item_cnt_month'] > 20 else r['item_cnt_month'], axis=1)"
   ]
  },
  {
   "cell_type": "code",
   "execution_count": 63,
   "metadata": {},
   "outputs": [],
   "source": [
    "output.to_csv(data_dir + '/submission4.csv', index=False)"
   ]
  },
  {
   "cell_type": "code",
   "execution_count": null,
   "metadata": {},
   "outputs": [],
   "source": []
  }
 ],
 "metadata": {
  "kernelspec": {
   "display_name": "Python 3",
   "language": "python",
   "name": "python3"
  },
  "language_info": {
   "codemirror_mode": {
    "name": "ipython",
    "version": 3
   },
   "file_extension": ".py",
   "mimetype": "text/x-python",
   "name": "python",
   "nbconvert_exporter": "python",
   "pygments_lexer": "ipython3",
   "version": "3.6.1"
  }
 },
 "nbformat": 4,
 "nbformat_minor": 2
}
