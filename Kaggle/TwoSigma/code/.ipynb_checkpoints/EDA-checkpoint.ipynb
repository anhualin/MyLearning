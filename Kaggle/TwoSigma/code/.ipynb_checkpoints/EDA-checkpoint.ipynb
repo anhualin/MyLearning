{
 "cells": [
  {
   "cell_type": "code",
   "execution_count": 1,
   "metadata": {
    "collapsed": false
   },
   "outputs": [
    {
     "name": "stdout",
     "output_type": "stream",
     "text": [
      "[1] \"/home/alin/MyLearning/Kaggle/TwoSigma/data\"\n"
     ]
    }
   ],
   "source": [
    "wd <- getwd()\n",
    "wd <- gsub('code', 'data', wd)\n",
    "setwd(wd)\n",
    "print(wd)"
   ]
  },
  {
   "cell_type": "markdown",
   "metadata": {},
   "source": [
    "### Load data"
   ]
  },
  {
   "cell_type": "code",
   "execution_count": 2,
   "metadata": {
    "collapsed": false
   },
   "outputs": [],
   "source": [
    "packages <- c(\"jsonlite\", \"dplyr\", \"purrr\", \"tidytext\", \"tibble\", \"ggplot2\", \"lubridate\", \"stringr\", \"tidyr\")\n",
    "purrr::walk(packages, library, character.only = TRUE, warn.conflicts = FALSE)"
   ]
  },
  {
   "cell_type": "code",
   "execution_count": 3,
   "metadata": {
    "collapsed": false
   },
   "outputs": [],
   "source": [
    "data <- fromJSON(\"train.json\")"
   ]
  },
  {
   "cell_type": "code",
   "execution_count": 4,
   "metadata": {
    "collapsed": false
   },
   "outputs": [
    {
     "data": {
      "text/html": [
       "<ol class=list-inline>\n",
       "\t<li>'bathrooms'</li>\n",
       "\t<li>'bedrooms'</li>\n",
       "\t<li>'building_id'</li>\n",
       "\t<li>'created'</li>\n",
       "\t<li>'description'</li>\n",
       "\t<li>'display_address'</li>\n",
       "\t<li>'features'</li>\n",
       "\t<li>'latitude'</li>\n",
       "\t<li>'listing_id'</li>\n",
       "\t<li>'longitude'</li>\n",
       "\t<li>'manager_id'</li>\n",
       "\t<li>'photos'</li>\n",
       "\t<li>'price'</li>\n",
       "\t<li>'street_address'</li>\n",
       "\t<li>'interest_level'</li>\n",
       "</ol>\n"
      ],
      "text/latex": [
       "\\begin{enumerate*}\n",
       "\\item 'bathrooms'\n",
       "\\item 'bedrooms'\n",
       "\\item 'building\\_id'\n",
       "\\item 'created'\n",
       "\\item 'description'\n",
       "\\item 'display\\_address'\n",
       "\\item 'features'\n",
       "\\item 'latitude'\n",
       "\\item 'listing\\_id'\n",
       "\\item 'longitude'\n",
       "\\item 'manager\\_id'\n",
       "\\item 'photos'\n",
       "\\item 'price'\n",
       "\\item 'street\\_address'\n",
       "\\item 'interest\\_level'\n",
       "\\end{enumerate*}\n"
      ],
      "text/markdown": [
       "1. 'bathrooms'\n",
       "2. 'bedrooms'\n",
       "3. 'building_id'\n",
       "4. 'created'\n",
       "5. 'description'\n",
       "6. 'display_address'\n",
       "7. 'features'\n",
       "8. 'latitude'\n",
       "9. 'listing_id'\n",
       "10. 'longitude'\n",
       "11. 'manager_id'\n",
       "12. 'photos'\n",
       "13. 'price'\n",
       "14. 'street_address'\n",
       "15. 'interest_level'\n",
       "\n",
       "\n"
      ],
      "text/plain": [
       " [1] \"bathrooms\"       \"bedrooms\"        \"building_id\"     \"created\"        \n",
       " [5] \"description\"     \"display_address\" \"features\"        \"latitude\"       \n",
       " [9] \"listing_id\"      \"longitude\"       \"manager_id\"      \"photos\"         \n",
       "[13] \"price\"           \"street_address\"  \"interest_level\" "
      ]
     },
     "metadata": {},
     "output_type": "display_data"
    }
   ],
   "source": [
    "names(data)"
   ]
  },
  {
   "cell_type": "markdown",
   "metadata": {},
   "source": [
    "#### convert to tibble\n",
    "\n",
    "#### we ignore photos and features for now"
   ]
  },
  {
   "cell_type": "code",
   "execution_count": 5,
   "metadata": {
    "collapsed": true
   },
   "outputs": [],
   "source": [
    "vars <- setdiff(names(data), c('photos', 'features'))"
   ]
  },
  {
   "cell_type": "code",
   "execution_count": 6,
   "metadata": {
    "collapsed": false
   },
   "outputs": [],
   "source": [
    "train_df <- map_at(data, vars, unlist) %>%\n",
    "            as_tibble(.) %>%\n",
    "            mutate(interest_level = factor(interest_level, c('low', 'medium', 'high')))"
   ]
  },
  {
   "cell_type": "code",
   "execution_count": 7,
   "metadata": {
    "collapsed": false
   },
   "outputs": [],
   "source": [
    "#head(train_df)"
   ]
  },
  {
   "cell_type": "code",
   "execution_count": 8,
   "metadata": {
    "collapsed": false
   },
   "outputs": [
    {
     "data": {
      "text/html": [
       "<ol class=list-inline>\n",
       "\t<li>'bathrooms'</li>\n",
       "\t<li>'bedrooms'</li>\n",
       "\t<li>'building_id'</li>\n",
       "\t<li>'created'</li>\n",
       "\t<li>'description'</li>\n",
       "\t<li>'display_address'</li>\n",
       "\t<li>'features'</li>\n",
       "\t<li>'latitude'</li>\n",
       "\t<li>'listing_id'</li>\n",
       "\t<li>'longitude'</li>\n",
       "\t<li>'manager_id'</li>\n",
       "\t<li>'photos'</li>\n",
       "\t<li>'price'</li>\n",
       "\t<li>'street_address'</li>\n",
       "\t<li>'interest_level'</li>\n",
       "</ol>\n"
      ],
      "text/latex": [
       "\\begin{enumerate*}\n",
       "\\item 'bathrooms'\n",
       "\\item 'bedrooms'\n",
       "\\item 'building\\_id'\n",
       "\\item 'created'\n",
       "\\item 'description'\n",
       "\\item 'display\\_address'\n",
       "\\item 'features'\n",
       "\\item 'latitude'\n",
       "\\item 'listing\\_id'\n",
       "\\item 'longitude'\n",
       "\\item 'manager\\_id'\n",
       "\\item 'photos'\n",
       "\\item 'price'\n",
       "\\item 'street\\_address'\n",
       "\\item 'interest\\_level'\n",
       "\\end{enumerate*}\n"
      ],
      "text/markdown": [
       "1. 'bathrooms'\n",
       "2. 'bedrooms'\n",
       "3. 'building_id'\n",
       "4. 'created'\n",
       "5. 'description'\n",
       "6. 'display_address'\n",
       "7. 'features'\n",
       "8. 'latitude'\n",
       "9. 'listing_id'\n",
       "10. 'longitude'\n",
       "11. 'manager_id'\n",
       "12. 'photos'\n",
       "13. 'price'\n",
       "14. 'street_address'\n",
       "15. 'interest_level'\n",
       "\n",
       "\n"
      ],
      "text/plain": [
       " [1] \"bathrooms\"       \"bedrooms\"        \"building_id\"     \"created\"        \n",
       " [5] \"description\"     \"display_address\" \"features\"        \"latitude\"       \n",
       " [9] \"listing_id\"      \"longitude\"       \"manager_id\"      \"photos\"         \n",
       "[13] \"price\"           \"street_address\"  \"interest_level\" "
      ]
     },
     "metadata": {},
     "output_type": "display_data"
    }
   ],
   "source": [
    "names(train_df)"
   ]
  },
  {
   "cell_type": "code",
   "execution_count": 9,
   "metadata": {
    "collapsed": false
   },
   "outputs": [
    {
     "data": {
      "text/html": [
       "<ol class=list-inline>\n",
       "\t<li>'tbl_df'</li>\n",
       "\t<li>'tbl'</li>\n",
       "\t<li>'data.frame'</li>\n",
       "</ol>\n"
      ],
      "text/latex": [
       "\\begin{enumerate*}\n",
       "\\item 'tbl\\_df'\n",
       "\\item 'tbl'\n",
       "\\item 'data.frame'\n",
       "\\end{enumerate*}\n"
      ],
      "text/markdown": [
       "1. 'tbl_df'\n",
       "2. 'tbl'\n",
       "3. 'data.frame'\n",
       "\n",
       "\n"
      ],
      "text/plain": [
       "[1] \"tbl_df\"     \"tbl\"        \"data.frame\""
      ]
     },
     "metadata": {},
     "output_type": "display_data"
    }
   ],
   "source": [
    "class(train_df)"
   ]
  },
  {
   "cell_type": "markdown",
   "metadata": {},
   "source": [
    "### Single variable exploration"
   ]
  },
  {
   "cell_type": "code",
   "execution_count": 10,
   "metadata": {
    "collapsed": true
   },
   "outputs": [],
   "source": [
    "interest_levels = levels(train_df$interest_level)"
   ]
  },
  {
   "cell_type": "markdown",
   "metadata": {},
   "source": [
    "#### functions for numeric variables and \"cat variables\""
   ]
  },
  {
   "cell_type": "code",
   "execution_count": 11,
   "metadata": {
    "collapsed": false
   },
   "outputs": [],
   "source": [
    "pull <- function(x,y) {\n",
    "    #utility function to pull a column from a tibble as a vector\n",
    "    x[,if(is.name(substitute(y))) deparse(substitute(y)) else y, drop = FALSE][[1]]\n",
    "  }\n",
    "        \n",
    "single_num <- function(dSet, feature){\n",
    "  #for numerical feature\n",
    "  val<- dSet %>% pull(as.character(feature))\n",
    "  print(paste(\"num of NA is \", sum(is.na(val))))\n",
    "  print(\"general summary:\")\n",
    "  print(summary(val))\n",
    "  for(lvl in interest_levels){\n",
    "      print(paste(\"summary of \", lvl, \"-interest:\"))\n",
    "      val <- dSet[dSet$interest_level == lvl,] %>% pull(as.character(feature))\n",
    "      print(summary(val))\n",
    "  }\n",
    "  \n",
    "}     \n",
    "\n",
    "\n",
    "single_cat <- function(dSet, feature, target = \"interest_level\"){\n",
    "    val <- dSet %>% pull(as.character(feature))\n",
    "    tar <- dSet %>% pull(as.character(target))\n",
    "    tab <- table(feature = val, target = tar)\n",
    "    print(tab)\n",
    "    print(tab/(tab[,1] + tab[, 2] + tab[, 3]))\n",
    "}"
   ]
  },
  {
   "cell_type": "markdown",
   "metadata": {},
   "source": [
    "#### bathrooms"
   ]
  },
  {
   "cell_type": "code",
   "execution_count": 12,
   "metadata": {
    "collapsed": false
   },
   "outputs": [
    {
     "name": "stdout",
     "output_type": "stream",
     "text": [
      "[1] \"num of NA is  0\"\n",
      "[1] \"general summary:\"\n",
      "   Min. 1st Qu.  Median    Mean 3rd Qu.    Max. \n",
      "  0.000   1.000   1.000   1.212   1.000  10.000 \n",
      "[1] \"summary of  low -interest:\"\n",
      "   Min. 1st Qu.  Median    Mean 3rd Qu.    Max. \n",
      "  0.000   1.000   1.000   1.239   1.000  10.000 \n",
      "[1] \"summary of  medium -interest:\"\n",
      "   Min. 1st Qu.  Median    Mean 3rd Qu.    Max. \n",
      "  0.000   1.000   1.000   1.164   1.000   4.000 \n",
      "[1] \"summary of  high -interest:\"\n",
      "   Min. 1st Qu.  Median    Mean 3rd Qu.    Max. \n",
      "  0.000   1.000   1.000   1.116   1.000   4.000 \n",
      "       target\n",
      "feature   low medium  high\n",
      "    0     306      6     1\n",
      "    1   26581   9428  3413\n",
      "    1.5   605     40     0\n",
      "    2    5566   1687   407\n",
      "    2.5   274      3     0\n",
      "    3     671     60    14\n",
      "    3.5    70      0     0\n",
      "    4     150      5     4\n",
      "    4.5    29      0     0\n",
      "    5      20      0     0\n",
      "    5.5     5      0     0\n",
      "    6       4      0     0\n",
      "    6.5     1      0     0\n",
      "    7       1      0     0\n",
      "    10      1      0     0\n",
      "       target\n",
      "feature         low      medium        high\n",
      "    0   0.977635783 0.019169329 0.003194888\n",
      "    1   0.674268175 0.239155801 0.086576024\n",
      "    1.5 0.937984496 0.062015504 0.000000000\n",
      "    2   0.726631854 0.220234987 0.053133159\n",
      "    2.5 0.989169675 0.010830325 0.000000000\n",
      "    3   0.900671141 0.080536913 0.018791946\n",
      "    3.5 1.000000000 0.000000000 0.000000000\n",
      "    4   0.943396226 0.031446541 0.025157233\n",
      "    4.5 1.000000000 0.000000000 0.000000000\n",
      "    5   1.000000000 0.000000000 0.000000000\n",
      "    5.5 1.000000000 0.000000000 0.000000000\n",
      "    6   1.000000000 0.000000000 0.000000000\n",
      "    6.5 1.000000000 0.000000000 0.000000000\n",
      "    7   1.000000000 0.000000000 0.000000000\n",
      "    10  1.000000000 0.000000000 0.000000000\n"
     ]
    }
   ],
   "source": [
    "single_num(train_df, 'bathrooms')\n",
    "single_cat(train_df, 'bathrooms')"
   ]
  },
  {
   "cell_type": "code",
   "execution_count": 13,
   "metadata": {
    "collapsed": false
   },
   "outputs": [
    {
     "data": {},
     "metadata": {},
     "output_type": "display_data"
    },
    {
     "data": {
      "image/png": "[encoded data removed]",
      "text/plain": [
       "plot without title"
      ]
     },
     "metadata": {},
     "output_type": "display_data"
    }
   ],
   "source": [
    "ggplot(data=train_df) +\n",
    "  geom_density(aes(x = bathrooms,\n",
    "                   color = interest_level,\n",
    "                   linetype = interest_level ))"
   ]
  },
  {
   "cell_type": "markdown",
   "metadata": {
    "collapsed": true
   },
   "source": [
    "#### not much difference,  61 low interest cases have many rooms"
   ]
  },
  {
   "cell_type": "markdown",
   "metadata": {},
   "source": [
    "#### bedrooms"
   ]
  },
  {
   "cell_type": "code",
   "execution_count": 14,
   "metadata": {
    "collapsed": false
   },
   "outputs": [
    {
     "name": "stdout",
     "output_type": "stream",
     "text": [
      "[1] \"num of NA is  0\"\n",
      "[1] \"general summary:\"\n",
      "   Min. 1st Qu.  Median    Mean 3rd Qu.    Max. \n",
      "  0.000   1.000   1.000   1.542   2.000   8.000 \n",
      "[1] \"summary of  low -interest:\"\n",
      "   Min. 1st Qu.  Median    Mean 3rd Qu.    Max. \n",
      "  0.000   1.000   1.000   1.515   2.000   8.000 \n",
      "[1] \"summary of  medium -interest:\"\n",
      "   Min. 1st Qu.  Median    Mean 3rd Qu.    Max. \n",
      "  0.000   1.000   2.000   1.622   2.000   7.000 \n",
      "[1] \"summary of  high -interest:\"\n",
      "   Min. 1st Qu.  Median    Mean 3rd Qu.    Max. \n",
      "  0.000   1.000   2.000   1.546   2.000   5.000 \n",
      "       target\n",
      "feature   low medium  high\n",
      "      0  6518   2110   847\n",
      "      1 11715   3094   943\n",
      "      2  9801   3516  1306\n",
      "      3  4727   1957   592\n",
      "      4  1233    547   149\n",
      "      5   243      2     2\n",
      "      6    44      2     0\n",
      "      7     1      1     0\n",
      "      8     2      0     0\n",
      "       target\n",
      "feature         low      medium        high\n",
      "      0 0.687915567 0.222691293 0.089393140\n",
      "      1 0.743715084 0.196419502 0.059865414\n",
      "      2 0.670245504 0.240443138 0.089311359\n",
      "      3 0.649670148 0.268966465 0.081363386\n",
      "      4 0.639191291 0.283566615 0.077242094\n",
      "      5 0.983805668 0.008097166 0.008097166\n",
      "      6 0.956521739 0.043478261 0.000000000\n",
      "      7 0.500000000 0.500000000 0.000000000\n",
      "      8 1.000000000 0.000000000 0.000000000\n"
     ]
    }
   ],
   "source": [
    "single_num(train_df, 'bedrooms')\n",
    "single_cat(train_df, 'bedrooms')"
   ]
  },
  {
   "cell_type": "markdown",
   "metadata": {},
   "source": [
    "#### created\n",
    "\n",
    "extract year/month/day from created"
   ]
  },
  {
   "cell_type": "code",
   "execution_count": 15,
   "metadata": {
    "collapsed": false
   },
   "outputs": [],
   "source": [
    "train_df$year <- year(train_df$created)\n",
    "train_df$month <- month(train_df$created)\n",
    "train_df$day <- day(train_df$created)"
   ]
  },
  {
   "cell_type": "code",
   "execution_count": 16,
   "metadata": {
    "collapsed": false
   },
   "outputs": [
    {
     "name": "stdout",
     "output_type": "stream",
     "text": [
      "[1] \"year distribution:\"\n",
      "\n",
      " 2016 \n",
      "49352 \n",
      "[1] \"month distribution:\"\n",
      "\n",
      "    4     5     6 \n",
      "16411 15797 17144 \n",
      "[1] \"day distribution:\"\n",
      "\n",
      "   1    2    3    4    5    6    7    8    9   10   11   12   13   14   15   16 \n",
      " 894 1783 1803 1493 1808 1851 1764 1655 1514 1603 1702 2348 1736 1951 1701 1891 \n",
      "  17   18   19   20   21   22   23   24   25   26   27   28   29   30   31 \n",
      "1615 1483 1412 1762 2475 1669 1049 1862 1458 1470 1588 1644 1641  721    6 \n"
     ]
    }
   ],
   "source": [
    "print(\"year distribution:\")\n",
    "print(table(train_df$year))\n",
    "print(\"month distribution:\")\n",
    "print(table(train_df$month))\n",
    "print(\"day distribution:\")\n",
    "print(table(train_df$day))"
   ]
  },
  {
   "cell_type": "markdown",
   "metadata": {
    "collapsed": true
   },
   "source": [
    "#### year is useless, may consider grouping days as beginning / middle / end of a month?"
   ]
  },
  {
   "cell_type": "code",
   "execution_count": 17,
   "metadata": {
    "collapsed": false
   },
   "outputs": [],
   "source": [
    "day_by_10 <- function(day){\n",
    "    floor((min(30, day) - 1) / 10)\n",
    "}\n",
    "train_df$ten_day <- unlist(map(train_df$day, day_by_10))"
   ]
  },
  {
   "cell_type": "code",
   "execution_count": 18,
   "metadata": {
    "collapsed": false
   },
   "outputs": [
    {
     "name": "stdout",
     "output_type": "stream",
     "text": [
      "       target\n",
      "feature   low medium  high\n",
      "      0 10886   3877  1405\n",
      "      1 12279   3927  1395\n",
      "      2 11119   3425  1039\n",
      "       target\n",
      "feature        low     medium       high\n",
      "      0 0.67330529 0.23979466 0.08690005\n",
      "      1 0.69763082 0.22311232 0.07925686\n",
      "      2 0.71353398 0.21979080 0.06667522\n"
     ]
    }
   ],
   "source": [
    "single_cat(train_df, 'ten_day')"
   ]
  },
  {
   "cell_type": "markdown",
   "metadata": {
    "collapsed": false
   },
   "source": [
    "#### Nope, not much difference"
   ]
  },
  {
   "cell_type": "code",
   "execution_count": 19,
   "metadata": {
    "collapsed": false
   },
   "outputs": [
    {
     "name": "stdout",
     "output_type": "stream",
     "text": [
      "       target\n",
      "feature   low medium  high\n",
      "      4 11360   3777  1274\n",
      "      5 10923   3640  1234\n",
      "      6 12001   3812  1331\n",
      "       target\n",
      "feature        low     medium       high\n",
      "      4 0.69221863 0.23015051 0.07763086\n",
      "      5 0.69146040 0.23042350 0.07811610\n",
      "      6 0.70001167 0.22235184 0.07763649\n"
     ]
    }
   ],
   "source": [
    "single_cat(train_df, 'month')"
   ]
  },
  {
   "cell_type": "markdown",
   "metadata": {},
   "source": [
    "#### not much difference"
   ]
  },
  {
   "cell_type": "markdown",
   "metadata": {},
   "source": [
    "#### description"
   ]
  },
  {
   "cell_type": "markdown",
   "metadata": {
    "collapsed": true
   },
   "source": [
    "#### define a function to remove some obvious unwanted stuff such as email, phone number, web-reacted,  etc."
   ]
  },
  {
   "cell_type": "code",
   "execution_count": 20,
   "metadata": {
    "collapsed": true
   },
   "outputs": [],
   "source": [
    "dejunk <- function(a){\n",
    "  a <- gsub('<a\\\\s+website_redacted', '',a)\n",
    "  a <- gsub('<\\\\S+\\\\s*/*>', ' ', a)\n",
    "  a <- gsub('\\\\S+\\\\s*@\\\\s*\\\\S+', ' ', a)\n",
    "  a <- gsub('\\\\d+[-]*\\\\d+[-]\\\\d+', ' ', a)\n",
    "  a <- gsub('\\\\W+', ' ', a)\n",
    "  a <- gsub('[[:digit:]]', ' ', a)\n",
    "}\n",
    "\n",
    "raw_description <- data[c(9,5)] %>%\n",
    "  tibble::as_tibble(.) %>%\n",
    "  mutate(listing_id = unlist(listing_id), description = dejunk(description)) \n",
    "  "
   ]
  },
  {
   "cell_type": "markdown",
   "metadata": {},
   "source": [
    "#### convert to tidy text for getting word count and sentiment"
   ]
  },
  {
   "cell_type": "code",
   "execution_count": 21,
   "metadata": {
    "collapsed": false
   },
   "outputs": [
    {
     "name": "stderr",
     "output_type": "stream",
     "text": [
      "Joining, by = \"word\"\n"
     ]
    }
   ],
   "source": [
    "tidy_train <- raw_description %>%\n",
    "  unnest_tokens(word, description) %>%\n",
    "  anti_join(stop_words)\n"
   ]
  },
  {
   "cell_type": "markdown",
   "metadata": {},
   "source": [
    "#### word count"
   ]
  },
  {
   "cell_type": "code",
   "execution_count": 22,
   "metadata": {
    "collapsed": false
   },
   "outputs": [
    {
     "data": {
      "text/html": [
       "<table>\n",
       "<thead><tr><th scope=col>listing_id</th><th scope=col>word_cnt</th></tr></thead>\n",
       "<tbody>\n",
       "\t<tr><td>6811957</td><td>10     </td></tr>\n",
       "\t<tr><td>6811965</td><td>38     </td></tr>\n",
       "\t<tr><td>6811966</td><td>41     </td></tr>\n",
       "\t<tr><td>6811973</td><td>82     </td></tr>\n",
       "\t<tr><td>6811975</td><td>37     </td></tr>\n",
       "\t<tr><td>6812000</td><td>75     </td></tr>\n",
       "</tbody>\n",
       "</table>\n"
      ],
      "text/latex": [
       "\\begin{tabular}{r|ll}\n",
       " listing\\_id & word\\_cnt\\\\\n",
       "\\hline\n",
       "\t 6811957 & 10     \\\\\n",
       "\t 6811965 & 38     \\\\\n",
       "\t 6811966 & 41     \\\\\n",
       "\t 6811973 & 82     \\\\\n",
       "\t 6811975 & 37     \\\\\n",
       "\t 6812000 & 75     \\\\\n",
       "\\end{tabular}\n"
      ],
      "text/markdown": [
       "\n",
       "listing_id | word_cnt | \n",
       "|---|---|---|---|---|---|\n",
       "| 6811957 | 10      | \n",
       "| 6811965 | 38      | \n",
       "| 6811966 | 41      | \n",
       "| 6811973 | 82      | \n",
       "| 6811975 | 37      | \n",
       "| 6812000 | 75      | \n",
       "\n",
       "\n"
      ],
      "text/plain": [
       "  listing_id word_cnt\n",
       "1 6811957    10      \n",
       "2 6811965    38      \n",
       "3 6811966    41      \n",
       "4 6811973    82      \n",
       "5 6811975    37      \n",
       "6 6812000    75      "
      ]
     },
     "metadata": {},
     "output_type": "display_data"
    }
   ],
   "source": [
    "word_cnt <- tidy_train %>% \n",
    "  count(listing_id) %>%\n",
    "  mutate(word_cnt = n) %>%\n",
    "  select(listing_id, word_cnt)\n",
    "head(word_cnt)"
   ]
  },
  {
   "cell_type": "markdown",
   "metadata": {},
   "source": [
    "#### sentiment (afinn score)"
   ]
  },
  {
   "cell_type": "code",
   "execution_count": 23,
   "metadata": {
    "collapsed": false
   },
   "outputs": [
    {
     "name": "stderr",
     "output_type": "stream",
     "text": [
      "Joining, by = \"word\"\n"
     ]
    },
    {
     "data": {
      "text/html": [
       "<table>\n",
       "<thead><tr><th scope=col>listing_id</th><th scope=col>sentiment1</th></tr></thead>\n",
       "<tbody>\n",
       "\t<tr><td>6811965</td><td> 5     </td></tr>\n",
       "\t<tr><td>6811966</td><td> 9     </td></tr>\n",
       "\t<tr><td>6811973</td><td>20     </td></tr>\n",
       "\t<tr><td>6811975</td><td> 2     </td></tr>\n",
       "\t<tr><td>6812000</td><td>11     </td></tr>\n",
       "\t<tr><td>6812004</td><td> 2     </td></tr>\n",
       "</tbody>\n",
       "</table>\n"
      ],
      "text/latex": [
       "\\begin{tabular}{r|ll}\n",
       " listing\\_id & sentiment1\\\\\n",
       "\\hline\n",
       "\t 6811965 &  5     \\\\\n",
       "\t 6811966 &  9     \\\\\n",
       "\t 6811973 & 20     \\\\\n",
       "\t 6811975 &  2     \\\\\n",
       "\t 6812000 & 11     \\\\\n",
       "\t 6812004 &  2     \\\\\n",
       "\\end{tabular}\n"
      ],
      "text/markdown": [
       "\n",
       "listing_id | sentiment1 | \n",
       "|---|---|---|---|---|---|\n",
       "| 6811965 |  5      | \n",
       "| 6811966 |  9      | \n",
       "| 6811973 | 20      | \n",
       "| 6811975 |  2      | \n",
       "| 6812000 | 11      | \n",
       "| 6812004 |  2      | \n",
       "\n",
       "\n"
      ],
      "text/plain": [
       "  listing_id sentiment1\n",
       "1 6811965     5        \n",
       "2 6811966     9        \n",
       "3 6811973    20        \n",
       "4 6811975     2        \n",
       "5 6812000    11        \n",
       "6 6812004     2        "
      ]
     },
     "metadata": {},
     "output_type": "display_data"
    }
   ],
   "source": [
    "senti <- tidy_train %>% \n",
    "  inner_join(get_sentiments(\"afinn\")) %>% \n",
    "  group_by(listing_id) %>% \n",
    "  summarise(sentiment1 = sum(score))\n",
    "\n",
    "head(senti)"
   ]
  },
  {
   "cell_type": "markdown",
   "metadata": {},
   "source": [
    "#### negate sentiment with negation words such as \"not bad\""
   ]
  },
  {
   "cell_type": "code",
   "execution_count": 24,
   "metadata": {
    "collapsed": false
   },
   "outputs": [
    {
     "data": {
      "text/html": [
       "<table>\n",
       "<thead><tr><th scope=col>listing_id</th><th scope=col>sentiment2</th></tr></thead>\n",
       "<tbody>\n",
       "\t<tr><td>6812142</td><td>-2     </td></tr>\n",
       "\t<tr><td>6812374</td><td> 4     </td></tr>\n",
       "\t<tr><td>6812585</td><td> 4     </td></tr>\n",
       "\t<tr><td>6813367</td><td>-2     </td></tr>\n",
       "\t<tr><td>6813776</td><td> 4     </td></tr>\n",
       "\t<tr><td>6815013</td><td>-2     </td></tr>\n",
       "</tbody>\n",
       "</table>\n"
      ],
      "text/latex": [
       "\\begin{tabular}{r|ll}\n",
       " listing\\_id & sentiment2\\\\\n",
       "\\hline\n",
       "\t 6812142 & -2     \\\\\n",
       "\t 6812374 &  4     \\\\\n",
       "\t 6812585 &  4     \\\\\n",
       "\t 6813367 & -2     \\\\\n",
       "\t 6813776 &  4     \\\\\n",
       "\t 6815013 & -2     \\\\\n",
       "\\end{tabular}\n"
      ],
      "text/markdown": [
       "\n",
       "listing_id | sentiment2 | \n",
       "|---|---|---|---|---|---|\n",
       "| 6812142 | -2      | \n",
       "| 6812374 |  4      | \n",
       "| 6812585 |  4      | \n",
       "| 6813367 | -2      | \n",
       "| 6813776 |  4      | \n",
       "| 6815013 | -2      | \n",
       "\n",
       "\n"
      ],
      "text/plain": [
       "  listing_id sentiment2\n",
       "1 6812142    -2        \n",
       "2 6812374     4        \n",
       "3 6812585     4        \n",
       "4 6813367    -2        \n",
       "5 6813776     4        \n",
       "6 6815013    -2        "
      ]
     },
     "metadata": {},
     "output_type": "display_data"
    }
   ],
   "source": [
    "negation_words <- c(\"not\", \"no\", \"never\", \"without\")\n",
    "\n",
    "neg_senti <- raw_description %>%\n",
    "  unnest_tokens(bigram, description, token = \"ngrams\", n = 2) %>%\n",
    "  separate(bigram, c(\"word1\", \"word2\"), sep = \" \") %>%\n",
    "  filter(word1 %in% negation_words) %>% \n",
    "  inner_join(get_sentiments(\"afinn\"), by = c(word2 = \"word\")) %>%\n",
    "  group_by(listing_id) %>%\n",
    "  summarise(sentiment2 = -2*sum(score))\n",
    "\n",
    "head(neg_senti)"
   ]
  },
  {
   "cell_type": "markdown",
   "metadata": {},
   "source": [
    "#### Final sentiment"
   ]
  },
  {
   "cell_type": "code",
   "execution_count": 25,
   "metadata": {
    "collapsed": false
   },
   "outputs": [
    {
     "name": "stderr",
     "output_type": "stream",
     "text": [
      "Joining, by = \"listing_id\"\n"
     ]
    },
    {
     "data": {
      "text/html": [
       "<table>\n",
       "<thead><tr><th scope=col>listing_id</th><th scope=col>sentiment</th></tr></thead>\n",
       "<tbody>\n",
       "\t<tr><td>6811965</td><td> 5     </td></tr>\n",
       "\t<tr><td>6811966</td><td> 9     </td></tr>\n",
       "\t<tr><td>6811973</td><td>20     </td></tr>\n",
       "\t<tr><td>6811975</td><td> 2     </td></tr>\n",
       "\t<tr><td>6812000</td><td>11     </td></tr>\n",
       "\t<tr><td>6812004</td><td> 2     </td></tr>\n",
       "</tbody>\n",
       "</table>\n"
      ],
      "text/latex": [
       "\\begin{tabular}{r|ll}\n",
       " listing\\_id & sentiment\\\\\n",
       "\\hline\n",
       "\t 6811965 &  5     \\\\\n",
       "\t 6811966 &  9     \\\\\n",
       "\t 6811973 & 20     \\\\\n",
       "\t 6811975 &  2     \\\\\n",
       "\t 6812000 & 11     \\\\\n",
       "\t 6812004 &  2     \\\\\n",
       "\\end{tabular}\n"
      ],
      "text/markdown": [
       "\n",
       "listing_id | sentiment | \n",
       "|---|---|---|---|---|---|\n",
       "| 6811965 |  5      | \n",
       "| 6811966 |  9      | \n",
       "| 6811973 | 20      | \n",
       "| 6811975 |  2      | \n",
       "| 6812000 | 11      | \n",
       "| 6812004 |  2      | \n",
       "\n",
       "\n"
      ],
      "text/plain": [
       "  listing_id sentiment\n",
       "1 6811965     5       \n",
       "2 6811966     9       \n",
       "3 6811973    20       \n",
       "4 6811975     2       \n",
       "5 6812000    11       \n",
       "6 6812004     2       "
      ]
     },
     "metadata": {},
     "output_type": "display_data"
    }
   ],
   "source": [
    "sentiment <- senti %>%\n",
    "  left_join(neg_senti)\n",
    "\n",
    "sentiment[is.na(sentiment$sentiment2), 'sentiment2'] <- 0\n",
    "sentiment <- sentiment %>%\n",
    "  mutate(sentiment = sentiment1 + sentiment2) %>%\n",
    "  select(listing_id, sentiment)\n",
    "\n",
    "head(sentiment)"
   ]
  },
  {
   "cell_type": "markdown",
   "metadata": {},
   "source": [
    "#### Features"
   ]
  },
  {
   "cell_type": "code",
   "execution_count": 26,
   "metadata": {
    "collapsed": false
   },
   "outputs": [
    {
     "data": {
      "text/html": [
       "<table>\n",
       "<thead><tr><th scope=col>listing_id</th><th scope=col>features</th></tr></thead>\n",
       "<tbody>\n",
       "\t<tr><td>7170325                                                                                                                                          </td><td>Dining Room        , Pre-War            , Laundry in Building, Dishwasher         , Hardwood Floors    , Dogs Allowed       , Cats Allowed       </td></tr>\n",
       "\t<tr><td>7092344                                                                                                                     </td><td>Doorman            , Elevator           , Laundry in Building, Dishwasher         , Hardwood Floors    , No Fee             </td></tr>\n",
       "\t<tr><td>7158677                                                                                                                     </td><td>Doorman            , Elevator           , Laundry in Building, Laundry in Unit    , Dishwasher         , Hardwood Floors    </td></tr>\n",
       "\t<tr><td>7211212</td><td>NULL   </td></tr>\n",
       "\t<tr><td>7225292                                                                           </td><td>Doorman            , Elevator           , Fitness Center     , Laundry in Building</td></tr>\n",
       "\t<tr><td>7226687                                                                                             </td><td>Doorman        , Elevator       , Loft           , Dishwasher     , Hardwood Floors, No Fee         </td></tr>\n",
       "</tbody>\n",
       "</table>\n"
      ],
      "text/latex": [
       "\\begin{tabular}{r|ll}\n",
       " listing\\_id & features\\\\\n",
       "\\hline\n",
       "\t 7170325                                                                                                                                           & Dining Room        , Pre-War            , Laundry in Building, Dishwasher         , Hardwood Floors    , Dogs Allowed       , Cats Allowed       \\\\\n",
       "\t 7092344                                                                                                                      & Doorman            , Elevator           , Laundry in Building, Dishwasher         , Hardwood Floors    , No Fee             \\\\\n",
       "\t 7158677                                                                                                                      & Doorman            , Elevator           , Laundry in Building, Laundry in Unit    , Dishwasher         , Hardwood Floors    \\\\\n",
       "\t 7211212 & NULL   \\\\\n",
       "\t 7225292                                                                            & Doorman            , Elevator           , Fitness Center     , Laundry in Building\\\\\n",
       "\t 7226687                                                                                              & Doorman        , Elevator       , Loft           , Dishwasher     , Hardwood Floors, No Fee         \\\\\n",
       "\\end{tabular}\n"
      ],
      "text/markdown": [
       "\n",
       "listing_id | features | \n",
       "|---|---|---|---|---|---|\n",
       "| 7170325                                                                                                                                           | Dining Room        , Pre-War            , Laundry in Building, Dishwasher         , Hardwood Floors    , Dogs Allowed       , Cats Allowed        | \n",
       "| 7092344                                                                                                                      | Doorman            , Elevator           , Laundry in Building, Dishwasher         , Hardwood Floors    , No Fee              | \n",
       "| 7158677                                                                                                                      | Doorman            , Elevator           , Laundry in Building, Laundry in Unit    , Dishwasher         , Hardwood Floors     | \n",
       "| 7211212 | NULL    | \n",
       "| 7225292                                                                            | Doorman            , Elevator           , Fitness Center     , Laundry in Building | \n",
       "| 7226687                                                                                              | Doorman        , Elevator       , Loft           , Dishwasher     , Hardwood Floors, No Fee          | \n",
       "\n",
       "\n"
      ],
      "text/plain": [
       "  listing_id\n",
       "1 7170325   \n",
       "2 7092344   \n",
       "3 7158677   \n",
       "4 7211212   \n",
       "5 7225292   \n",
       "6 7226687   \n",
       "  features                                                                                                                                         \n",
       "1 Dining Room        , Pre-War            , Laundry in Building, Dishwasher         , Hardwood Floors    , Dogs Allowed       , Cats Allowed       \n",
       "2 Doorman            , Elevator           , Laundry in Building, Dishwasher         , Hardwood Floors    , No Fee                                  \n",
       "3 Doorman            , Elevator           , Laundry in Building, Laundry in Unit    , Dishwasher         , Hardwood Floors                         \n",
       "4 NULL                                                                                                                                             \n",
       "5 Doorman            , Elevator           , Fitness Center     , Laundry in Building                                                               \n",
       "6 Doorman        , Elevator       , Loft           , Dishwasher     , Hardwood Floors, No Fee                                                      "
      ]
     },
     "metadata": {},
     "output_type": "display_data"
    }
   ],
   "source": [
    "feature_df <- data[c(9,7)] %>%\n",
    "  tibble::as_tibble(.) %>%\n",
    "  mutate(listing_id = unlist(listing_id)) \n",
    "\n",
    "head(feature_df)"
   ]
  },
  {
   "cell_type": "markdown",
   "metadata": {},
   "source": [
    "#### convert to \"tidy\" format, one listing_id, one feature per row"
   ]
  },
  {
   "cell_type": "code",
   "execution_count": 27,
   "metadata": {
    "collapsed": false
   },
   "outputs": [
    {
     "data": {
      "text/html": [
       "<table>\n",
       "<thead><tr><th scope=col>listing_id</th><th scope=col>features</th></tr></thead>\n",
       "<tbody>\n",
       "\t<tr><td>7170325            </td><td>dining room        </td></tr>\n",
       "\t<tr><td>7170325            </td><td>pre-war            </td></tr>\n",
       "\t<tr><td>7170325            </td><td>laundry in building</td></tr>\n",
       "\t<tr><td>7170325            </td><td>dishwasher         </td></tr>\n",
       "\t<tr><td>7170325            </td><td>hardwood floors    </td></tr>\n",
       "\t<tr><td>7170325            </td><td>dogs allowed       </td></tr>\n",
       "</tbody>\n",
       "</table>\n"
      ],
      "text/latex": [
       "\\begin{tabular}{r|ll}\n",
       " listing\\_id & features\\\\\n",
       "\\hline\n",
       "\t 7170325             & dining room        \\\\\n",
       "\t 7170325             & pre-war            \\\\\n",
       "\t 7170325             & laundry in building\\\\\n",
       "\t 7170325             & dishwasher         \\\\\n",
       "\t 7170325             & hardwood floors    \\\\\n",
       "\t 7170325             & dogs allowed       \\\\\n",
       "\\end{tabular}\n"
      ],
      "text/markdown": [
       "\n",
       "listing_id | features | \n",
       "|---|---|---|---|---|---|\n",
       "| 7170325             | dining room         | \n",
       "| 7170325             | pre-war             | \n",
       "| 7170325             | laundry in building | \n",
       "| 7170325             | dishwasher          | \n",
       "| 7170325             | hardwood floors     | \n",
       "| 7170325             | dogs allowed        | \n",
       "\n",
       "\n"
      ],
      "text/plain": [
       "  listing_id features           \n",
       "1 7170325    dining room        \n",
       "2 7170325    pre-war            \n",
       "3 7170325    laundry in building\n",
       "4 7170325    dishwasher         \n",
       "5 7170325    hardwood floors    \n",
       "6 7170325    dogs allowed       "
      ]
     },
     "metadata": {},
     "output_type": "display_data"
    }
   ],
   "source": [
    "feature_df$features <- apply(feature_df[,2], 1, function(l) tolower(paste(unlist(l), collapse = '|')))\n",
    "\n",
    "feature_df <- feature_df %>%\n",
    "  transform(features = strsplit(features, '|', fixed = TRUE)) %>%\n",
    "  unnest(features) %>%\n",
    "  tibble::as_tibble(.) \n",
    "\n",
    "head(feature_df)"
   ]
  },
  {
   "cell_type": "markdown",
   "metadata": {},
   "source": [
    "#### pet  (1: ok, -1: no)"
   ]
  },
  {
   "cell_type": "code",
   "execution_count": 28,
   "metadata": {
    "collapsed": false
   },
   "outputs": [
    {
     "data": {
      "text/plain": [
       "\n",
       "   -1     1 \n",
       "   69 23686 "
      ]
     },
     "metadata": {},
     "output_type": "display_data"
    }
   ],
   "source": [
    "pet_df <- feature_df %>%\n",
    "  filter(str_detect(features, '(^|\\\\s)(pet|cat|dog)(s$|s\\\\s|\\\\s|$)' )) %>%\n",
    "  mutate(pet = 1 - 2* as.integer(str_detect(features, '(^|\\\\s)no\\\\s+(pet|cat|dog)'))) %>%\n",
    "  select(listing_id, pet) %>%\n",
    "  group_by(listing_id) %>% \n",
    "  summarise(pet = max(pet))\n",
    "\n",
    "table(pet_df$pet)"
   ]
  },
  {
   "cell_type": "markdown",
   "metadata": {},
   "source": [
    "#### laundry"
   ]
  },
  {
   "cell_type": "code",
   "execution_count": 29,
   "metadata": {
    "collapsed": false
   },
   "outputs": [
    {
     "data": {
      "text/plain": [
       "\n",
       "    1 \n",
       "23888 "
      ]
     },
     "metadata": {},
     "output_type": "display_data"
    }
   ],
   "source": [
    "laundry_df <- feature_df %>%\n",
    "  filter(str_detect(features, 'laundry')) %>%\n",
    "  mutate(laundry = 1) %>%\n",
    "  select(listing_id, laundry) %>%\n",
    "  group_by(listing_id) %>%\n",
    "  summarise(laundry = max(laundry))\n",
    "\n",
    "table(laundry_df$laundry)"
   ]
  },
  {
   "cell_type": "markdown",
   "metadata": {},
   "source": [
    "#### pool"
   ]
  },
  {
   "cell_type": "code",
   "execution_count": 30,
   "metadata": {
    "collapsed": false
   },
   "outputs": [
    {
     "data": {
      "text/html": [
       "<table>\n",
       "<thead><tr><th scope=col>listing_id</th><th scope=col>pool</th></tr></thead>\n",
       "<tbody>\n",
       "\t<tr><td>6812000</td><td>1      </td></tr>\n",
       "\t<tr><td>6812256</td><td>1      </td></tr>\n",
       "\t<tr><td>6812475</td><td>1      </td></tr>\n",
       "\t<tr><td>6812493</td><td>1      </td></tr>\n",
       "\t<tr><td>6813474</td><td>1      </td></tr>\n",
       "\t<tr><td>6813513</td><td>1      </td></tr>\n",
       "</tbody>\n",
       "</table>\n"
      ],
      "text/latex": [
       "\\begin{tabular}{r|ll}\n",
       " listing\\_id & pool\\\\\n",
       "\\hline\n",
       "\t 6812000 & 1      \\\\\n",
       "\t 6812256 & 1      \\\\\n",
       "\t 6812475 & 1      \\\\\n",
       "\t 6812493 & 1      \\\\\n",
       "\t 6813474 & 1      \\\\\n",
       "\t 6813513 & 1      \\\\\n",
       "\\end{tabular}\n"
      ],
      "text/markdown": [
       "\n",
       "listing_id | pool | \n",
       "|---|---|---|---|---|---|\n",
       "| 6812000 | 1       | \n",
       "| 6812256 | 1       | \n",
       "| 6812475 | 1       | \n",
       "| 6812493 | 1       | \n",
       "| 6813474 | 1       | \n",
       "| 6813513 | 1       | \n",
       "\n",
       "\n"
      ],
      "text/plain": [
       "  listing_id pool\n",
       "1 6812000    1   \n",
       "2 6812256    1   \n",
       "3 6812475    1   \n",
       "4 6812493    1   \n",
       "5 6813474    1   \n",
       "6 6813513    1   "
      ]
     },
     "metadata": {},
     "output_type": "display_data"
    }
   ],
   "source": [
    "pool_df <- feature_df %>%\n",
    "  filter(str_detect(features, '(\\\\W|^)pool(\\\\W|$)')) %>%\n",
    "  mutate(pool = 1) %>%\n",
    "  select(listing_id, pool) %>%\n",
    "  group_by(listing_id) %>%\n",
    "  summarise(pool = max(pool))\n",
    "head(pool_df)"
   ]
  },
  {
   "cell_type": "markdown",
   "metadata": {},
   "source": [
    "#### fee (no fee: 1,  some fee: -1)"
   ]
  },
  {
   "cell_type": "code",
   "execution_count": 31,
   "metadata": {
    "collapsed": false
   },
   "outputs": [
    {
     "data": {
      "text/plain": [
       "\n",
       "   -1     1 \n",
       "  507 18067 "
      ]
     },
     "metadata": {},
     "output_type": "display_data"
    }
   ],
   "source": [
    "fee_df <- feature_df %>%\n",
    "  filter(str_detect(features, '(\\\\W)fee(\\\\W|$)')) %>%\n",
    "  mutate(fee = 2 * as.integer(str_detect(features, '(^|\\\\s)no(\\\\W)')) - 1) %>%\n",
    "  select(listing_id, fee) %>%\n",
    "  group_by(listing_id) %>%\n",
    "  summarise(fee = max(fee))\n",
    "\n",
    "table(fee_df$fee)"
   ]
  },
  {
   "cell_type": "code",
   "execution_count": 48,
   "metadata": {
    "collapsed": false
   },
   "outputs": [],
   "source": [
    "train_df <- train_df %>%\n",
    "  left_join(word_cnt) %>%\n",
    "  left_join(sentiment) %>%\n",
    "  left_join(pet_df) %>%\n",
    "  left_join(laundry_df) %>%\n",
    "  left_join(pool_df) %>%\n",
    "  left_join(fee_df)\n",
    "\n",
    "train_df[is.na(train_df$word_cnt), 'word_cnt'] <- 0\n",
    "train_df[is.na(train_df$sentiment), 'sentiment'] <- 0\n",
    "train_df[is.na(train_df$pet), 'pet'] <- 0\n",
    "train_df[is.na(train_df$laundry), 'laundry'] <- 0\n",
    "train_df[is.na(train_df$pool), 'pool'] <- 0\n",
    "train_df[is.na(train_df$fee), 'fee'] <- 0\n"
   ]
  },
  {
   "cell_type": "code",
   "execution_count": 49,
   "metadata": {
    "collapsed": false
   },
   "outputs": [
    {
     "data": {
      "text/html": [
       "<ol class=list-inline>\n",
       "\t<li>'bathrooms'</li>\n",
       "\t<li>'bedrooms'</li>\n",
       "\t<li>'building_id'</li>\n",
       "\t<li>'created'</li>\n",
       "\t<li>'description'</li>\n",
       "\t<li>'display_address'</li>\n",
       "\t<li>'features'</li>\n",
       "\t<li>'latitude'</li>\n",
       "\t<li>'listing_id'</li>\n",
       "\t<li>'longitude'</li>\n",
       "\t<li>'manager_id'</li>\n",
       "\t<li>'photos'</li>\n",
       "\t<li>'price'</li>\n",
       "\t<li>'street_address'</li>\n",
       "\t<li>'interest_level'</li>\n",
       "\t<li>'year'</li>\n",
       "\t<li>'month'</li>\n",
       "\t<li>'day'</li>\n",
       "\t<li>'ten_day'</li>\n",
       "\t<li>'word_cnt'</li>\n",
       "\t<li>'sentiment'</li>\n",
       "\t<li>'pet'</li>\n",
       "\t<li>'laundry'</li>\n",
       "\t<li>'pool'</li>\n",
       "\t<li>'fee'</li>\n",
       "</ol>\n"
      ],
      "text/latex": [
       "\\begin{enumerate*}\n",
       "\\item 'bathrooms'\n",
       "\\item 'bedrooms'\n",
       "\\item 'building\\_id'\n",
       "\\item 'created'\n",
       "\\item 'description'\n",
       "\\item 'display\\_address'\n",
       "\\item 'features'\n",
       "\\item 'latitude'\n",
       "\\item 'listing\\_id'\n",
       "\\item 'longitude'\n",
       "\\item 'manager\\_id'\n",
       "\\item 'photos'\n",
       "\\item 'price'\n",
       "\\item 'street\\_address'\n",
       "\\item 'interest\\_level'\n",
       "\\item 'year'\n",
       "\\item 'month'\n",
       "\\item 'day'\n",
       "\\item 'ten\\_day'\n",
       "\\item 'word\\_cnt'\n",
       "\\item 'sentiment'\n",
       "\\item 'pet'\n",
       "\\item 'laundry'\n",
       "\\item 'pool'\n",
       "\\item 'fee'\n",
       "\\end{enumerate*}\n"
      ],
      "text/markdown": [
       "1. 'bathrooms'\n",
       "2. 'bedrooms'\n",
       "3. 'building_id'\n",
       "4. 'created'\n",
       "5. 'description'\n",
       "6. 'display_address'\n",
       "7. 'features'\n",
       "8. 'latitude'\n",
       "9. 'listing_id'\n",
       "10. 'longitude'\n",
       "11. 'manager_id'\n",
       "12. 'photos'\n",
       "13. 'price'\n",
       "14. 'street_address'\n",
       "15. 'interest_level'\n",
       "16. 'year'\n",
       "17. 'month'\n",
       "18. 'day'\n",
       "19. 'ten_day'\n",
       "20. 'word_cnt'\n",
       "21. 'sentiment'\n",
       "22. 'pet'\n",
       "23. 'laundry'\n",
       "24. 'pool'\n",
       "25. 'fee'\n",
       "\n",
       "\n"
      ],
      "text/plain": [
       " [1] \"bathrooms\"       \"bedrooms\"        \"building_id\"     \"created\"        \n",
       " [5] \"description\"     \"display_address\" \"features\"        \"latitude\"       \n",
       " [9] \"listing_id\"      \"longitude\"       \"manager_id\"      \"photos\"         \n",
       "[13] \"price\"           \"street_address\"  \"interest_level\"  \"year\"           \n",
       "[17] \"month\"           \"day\"             \"ten_day\"         \"word_cnt\"       \n",
       "[21] \"sentiment\"       \"pet\"             \"laundry\"         \"pool\"           \n",
       "[25] \"fee\"            "
      ]
     },
     "metadata": {},
     "output_type": "display_data"
    }
   ],
   "source": [
    "names(train_df)"
   ]
  },
  {
   "cell_type": "code",
   "execution_count": 52,
   "metadata": {
    "collapsed": false
   },
   "outputs": [
    {
     "name": "stdout",
     "output_type": "stream",
     "text": [
      "[1] \"num of NA is  0\"\n",
      "[1] \"general summary:\"\n",
      "   Min. 1st Qu.  Median    Mean 3rd Qu.    Max. \n",
      "   0.00   27.00   46.00   50.11   67.00  417.00 \n",
      "[1] \"summary of  low -interest:\"\n",
      "   Min. 1st Qu.  Median    Mean 3rd Qu.    Max. \n",
      "   0.00   26.00   44.00   48.72   66.25  417.00 \n",
      "[1] \"summary of  medium -interest:\"\n",
      "   Min. 1st Qu.  Median    Mean 3rd Qu.    Max. \n",
      "   0.00   33.00   50.00   54.19   70.00  286.00 \n",
      "[1] \"summary of  high -interest:\"\n",
      "   Min. 1st Qu.  Median    Mean 3rd Qu.    Max. \n",
      "   0.00   29.00   47.00   50.61   66.00  222.00 \n"
     ]
    }
   ],
   "source": [
    "single_num(train_df, 'word_cnt')"
   ]
  },
  {
   "cell_type": "code",
   "execution_count": 53,
   "metadata": {
    "collapsed": false
   },
   "outputs": [
    {
     "name": "stdout",
     "output_type": "stream",
     "text": [
      "[1] \"num of NA is  0\"\n",
      "[1] \"general summary:\"\n",
      "    Min.  1st Qu.   Median     Mean  3rd Qu.     Max. \n",
      "-672.000    1.000    5.000    6.293   10.000   57.000 \n",
      "[1] \"summary of  low -interest:\"\n",
      "    Min.  1st Qu.   Median     Mean  3rd Qu.     Max. \n",
      "-672.000    1.000    5.000    5.973    9.000   57.000 \n",
      "[1] \"summary of  medium -interest:\"\n",
      "   Min. 1st Qu.  Median    Mean 3rd Qu.    Max. \n",
      " -12.00    3.00    6.00    7.12   10.00   54.00 \n",
      "[1] \"summary of  high -interest:\"\n",
      "   Min. 1st Qu.  Median    Mean 3rd Qu.    Max. \n",
      "-11.000   2.000   6.000   6.736  10.000  49.000 \n"
     ]
    }
   ],
   "source": [
    "single_num(train_df, 'sentiment')"
   ]
  },
  {
   "cell_type": "code",
   "execution_count": 54,
   "metadata": {
    "collapsed": false
   },
   "outputs": [
    {
     "name": "stdout",
     "output_type": "stream",
     "text": [
      "       target\n",
      "feature   low medium  high\n",
      "     -1    28     29    12\n",
      "     0  17101   6289  2207\n",
      "     1  17155   4911  1620\n",
      "       target\n",
      "feature        low     medium       high\n",
      "     -1 0.40579710 0.42028986 0.17391304\n",
      "     0  0.66808610 0.24569285 0.08622104\n",
      "     1  0.72426750 0.20733767 0.06839483\n"
     ]
    }
   ],
   "source": [
    "single_cat(train_df, 'pet')"
   ]
  },
  {
   "cell_type": "code",
   "execution_count": 55,
   "metadata": {
    "collapsed": false
   },
   "outputs": [
    {
     "name": "stdout",
     "output_type": "stream",
     "text": [
      "       target\n",
      "feature   low medium  high\n",
      "      0 18631   4840  1993\n",
      "      1 15653   6389  1846\n",
      "       target\n",
      "feature        low     medium       high\n",
      "      0 0.73166038 0.19007226 0.07826736\n",
      "      1 0.65526624 0.26745646 0.07727729\n"
     ]
    }
   ],
   "source": [
    "single_cat(train_df, 'laundry')"
   ]
  },
  {
   "cell_type": "code",
   "execution_count": 56,
   "metadata": {
    "collapsed": false
   },
   "outputs": [
    {
     "name": "stdout",
     "output_type": "stream",
     "text": [
      "       target\n",
      "feature   low medium  high\n",
      "      0 32060  10518  3672\n",
      "      1  2224    711   167\n",
      "       target\n",
      "feature        low     medium       high\n",
      "      0 0.69318919 0.22741622 0.07939459\n",
      "      1 0.71695680 0.22920696 0.05383623\n"
     ]
    }
   ],
   "source": [
    "single_cat(train_df, 'pool')"
   ]
  },
  {
   "cell_type": "code",
   "execution_count": 57,
   "metadata": {
    "collapsed": false
   },
   "outputs": [
    {
     "name": "stdout",
     "output_type": "stream",
     "text": [
      "       target\n",
      "feature   low medium  high\n",
      "     -1   187    209   111\n",
      "     0  23145   5674  1959\n",
      "     1  10952   5346  1769\n",
      "       target\n",
      "feature        low     medium       high\n",
      "     -1 0.36883629 0.41222880 0.21893491\n",
      "     0  0.75199818 0.18435246 0.06364936\n",
      "     1  0.60618808 0.29589860 0.09791332\n"
     ]
    }
   ],
   "source": [
    "single_cat(train_df, 'fee')"
   ]
  },
  {
   "cell_type": "markdown",
   "metadata": {},
   "source": [
    "#### Price"
   ]
  },
  {
   "cell_type": "code",
   "execution_count": 58,
   "metadata": {
    "collapsed": false
   },
   "outputs": [
    {
     "name": "stdout",
     "output_type": "stream",
     "text": [
      "[1] \"num of NA is  0\"\n",
      "[1] \"general summary:\"\n",
      "   Min. 1st Qu.  Median    Mean 3rd Qu.    Max. \n",
      "     43    2500    3150    3830    4100 4490000 \n",
      "[1] \"summary of  low -interest:\"\n",
      "   Min. 1st Qu.  Median    Mean 3rd Qu.    Max. \n",
      "     43    2625    3300    4177    4400 4490000 \n",
      "[1] \"summary of  medium -interest:\"\n",
      "   Min. 1st Qu.  Median    Mean 3rd Qu.    Max. \n",
      "    695    2300    2895    3159    3650   15000 \n",
      "[1] \"summary of  high -interest:\"\n",
      "   Min. 1st Qu.  Median    Mean 3rd Qu.    Max. \n",
      "    700    1850    2400    2700    3163  111100 \n"
     ]
    }
   ],
   "source": [
    "single_num(train_df, 'price')"
   ]
  },
  {
   "cell_type": "markdown",
   "metadata": {},
   "source": [
    "#### some really high prices, outlier"
   ]
  },
  {
   "cell_type": "code",
   "execution_count": 60,
   "metadata": {
    "collapsed": false
   },
   "outputs": [
    {
     "data": {},
     "metadata": {},
     "output_type": "display_data"
    },
    {
     "data": {
      "image/png": "[encoded data removed]",
      "text/plain": [
       "plot without title"
      ]
     },
     "metadata": {},
     "output_type": "display_data"
    }
   ],
   "source": [
    "ggplot(data=train_df[train_df$price < 20000, ]) +\n",
    "  geom_density(aes(x = price,\n",
    "                   color = interest_level,\n",
    "                   linetype = interest_level ))"
   ]
  },
  {
   "cell_type": "code",
   "execution_count": null,
   "metadata": {
    "collapsed": true
   },
   "outputs": [],
   "source": []
  }
 ],
 "metadata": {
  "kernelspec": {
   "display_name": "R",
   "language": "R",
   "name": "ir"
  },
  "language_info": {
   "codemirror_mode": "r",
   "file_extension": ".r",
   "mimetype": "text/x-r-source",
   "name": "R",
   "pygments_lexer": "r",
   "version": "3.3.3"
  }
 },
 "nbformat": 4,
 "nbformat_minor": 2
}
