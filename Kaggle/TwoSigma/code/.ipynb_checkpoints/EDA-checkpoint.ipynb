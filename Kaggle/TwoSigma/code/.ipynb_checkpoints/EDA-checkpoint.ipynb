{
 "cells": [
  {
   "cell_type": "code",
   "execution_count": 38,
   "metadata": {
    "collapsed": false
   },
   "outputs": [
    {
     "name": "stdout",
     "output_type": "stream",
     "text": [
      "[1] \"/home/alin/MyLearning/Kaggle/TwoSigma/data\"\n"
     ]
    }
   ],
   "source": [
    "wd <- getwd()\n",
    "wd <- gsub('code', 'data', wd)\n",
    "setwd(wd)\n",
    "print(wd)"
   ]
  },
  {
   "cell_type": "markdown",
   "metadata": {},
   "source": [
    "### Load data"
   ]
  },
  {
   "cell_type": "code",
   "execution_count": 39,
   "metadata": {
    "collapsed": false
   },
   "outputs": [],
   "source": [
    "packages <- c(\"jsonlite\", \"dplyr\", \"purrr\", \"tidytext\", \"tibble\", \"ggplot2\", \"lubridate\", \"stringr\", \"tidyr\")\n",
    "purrr::walk(packages, library, character.only = TRUE, warn.conflicts = FALSE)"
   ]
  },
  {
   "cell_type": "code",
   "execution_count": 40,
   "metadata": {
    "collapsed": false
   },
   "outputs": [],
   "source": [
    "data <- fromJSON(\"train.json\")"
   ]
  },
  {
   "cell_type": "code",
   "execution_count": 41,
   "metadata": {
    "collapsed": false
   },
   "outputs": [
    {
     "data": {
      "text/html": [
       "<ol class=list-inline>\n",
       "\t<li>'bathrooms'</li>\n",
       "\t<li>'bedrooms'</li>\n",
       "\t<li>'building_id'</li>\n",
       "\t<li>'created'</li>\n",
       "\t<li>'description'</li>\n",
       "\t<li>'display_address'</li>\n",
       "\t<li>'features'</li>\n",
       "\t<li>'latitude'</li>\n",
       "\t<li>'listing_id'</li>\n",
       "\t<li>'longitude'</li>\n",
       "\t<li>'manager_id'</li>\n",
       "\t<li>'photos'</li>\n",
       "\t<li>'price'</li>\n",
       "\t<li>'street_address'</li>\n",
       "\t<li>'interest_level'</li>\n",
       "</ol>\n"
      ],
      "text/latex": [
       "\\begin{enumerate*}\n",
       "\\item 'bathrooms'\n",
       "\\item 'bedrooms'\n",
       "\\item 'building\\_id'\n",
       "\\item 'created'\n",
       "\\item 'description'\n",
       "\\item 'display\\_address'\n",
       "\\item 'features'\n",
       "\\item 'latitude'\n",
       "\\item 'listing\\_id'\n",
       "\\item 'longitude'\n",
       "\\item 'manager\\_id'\n",
       "\\item 'photos'\n",
       "\\item 'price'\n",
       "\\item 'street\\_address'\n",
       "\\item 'interest\\_level'\n",
       "\\end{enumerate*}\n"
      ],
      "text/markdown": [
       "1. 'bathrooms'\n",
       "2. 'bedrooms'\n",
       "3. 'building_id'\n",
       "4. 'created'\n",
       "5. 'description'\n",
       "6. 'display_address'\n",
       "7. 'features'\n",
       "8. 'latitude'\n",
       "9. 'listing_id'\n",
       "10. 'longitude'\n",
       "11. 'manager_id'\n",
       "12. 'photos'\n",
       "13. 'price'\n",
       "14. 'street_address'\n",
       "15. 'interest_level'\n",
       "\n",
       "\n"
      ],
      "text/plain": [
       " [1] \"bathrooms\"       \"bedrooms\"        \"building_id\"     \"created\"        \n",
       " [5] \"description\"     \"display_address\" \"features\"        \"latitude\"       \n",
       " [9] \"listing_id\"      \"longitude\"       \"manager_id\"      \"photos\"         \n",
       "[13] \"price\"           \"street_address\"  \"interest_level\" "
      ]
     },
     "metadata": {},
     "output_type": "display_data"
    }
   ],
   "source": [
    "names(data)"
   ]
  },
  {
   "cell_type": "markdown",
   "metadata": {},
   "source": [
    "#### convert to tibble\n",
    "\n",
    "#### we ignore photos and features for now"
   ]
  },
  {
   "cell_type": "code",
   "execution_count": 42,
   "metadata": {
    "collapsed": true
   },
   "outputs": [],
   "source": [
    "vars <- setdiff(names(data), c('photos', 'features'))"
   ]
  },
  {
   "cell_type": "code",
   "execution_count": 43,
   "metadata": {
    "collapsed": false
   },
   "outputs": [],
   "source": [
    "train_df <- map_at(data, vars, unlist) %>%\n",
    "            as_tibble(.) %>%\n",
    "            mutate(interest_level = factor(interest_level, c('low', 'medium', 'high')))"
   ]
  },
  {
   "cell_type": "code",
   "execution_count": 44,
   "metadata": {
    "collapsed": false
   },
   "outputs": [],
   "source": [
    "#head(train_df)"
   ]
  },
  {
   "cell_type": "code",
   "execution_count": 45,
   "metadata": {
    "collapsed": false
   },
   "outputs": [
    {
     "data": {
      "text/html": [
       "<ol class=list-inline>\n",
       "\t<li>'bathrooms'</li>\n",
       "\t<li>'bedrooms'</li>\n",
       "\t<li>'building_id'</li>\n",
       "\t<li>'created'</li>\n",
       "\t<li>'description'</li>\n",
       "\t<li>'display_address'</li>\n",
       "\t<li>'features'</li>\n",
       "\t<li>'latitude'</li>\n",
       "\t<li>'listing_id'</li>\n",
       "\t<li>'longitude'</li>\n",
       "\t<li>'manager_id'</li>\n",
       "\t<li>'photos'</li>\n",
       "\t<li>'price'</li>\n",
       "\t<li>'street_address'</li>\n",
       "\t<li>'interest_level'</li>\n",
       "</ol>\n"
      ],
      "text/latex": [
       "\\begin{enumerate*}\n",
       "\\item 'bathrooms'\n",
       "\\item 'bedrooms'\n",
       "\\item 'building\\_id'\n",
       "\\item 'created'\n",
       "\\item 'description'\n",
       "\\item 'display\\_address'\n",
       "\\item 'features'\n",
       "\\item 'latitude'\n",
       "\\item 'listing\\_id'\n",
       "\\item 'longitude'\n",
       "\\item 'manager\\_id'\n",
       "\\item 'photos'\n",
       "\\item 'price'\n",
       "\\item 'street\\_address'\n",
       "\\item 'interest\\_level'\n",
       "\\end{enumerate*}\n"
      ],
      "text/markdown": [
       "1. 'bathrooms'\n",
       "2. 'bedrooms'\n",
       "3. 'building_id'\n",
       "4. 'created'\n",
       "5. 'description'\n",
       "6. 'display_address'\n",
       "7. 'features'\n",
       "8. 'latitude'\n",
       "9. 'listing_id'\n",
       "10. 'longitude'\n",
       "11. 'manager_id'\n",
       "12. 'photos'\n",
       "13. 'price'\n",
       "14. 'street_address'\n",
       "15. 'interest_level'\n",
       "\n",
       "\n"
      ],
      "text/plain": [
       " [1] \"bathrooms\"       \"bedrooms\"        \"building_id\"     \"created\"        \n",
       " [5] \"description\"     \"display_address\" \"features\"        \"latitude\"       \n",
       " [9] \"listing_id\"      \"longitude\"       \"manager_id\"      \"photos\"         \n",
       "[13] \"price\"           \"street_address\"  \"interest_level\" "
      ]
     },
     "metadata": {},
     "output_type": "display_data"
    }
   ],
   "source": [
    "names(train_df)"
   ]
  },
  {
   "cell_type": "code",
   "execution_count": 46,
   "metadata": {
    "collapsed": false
   },
   "outputs": [
    {
     "data": {
      "text/html": [
       "<ol class=list-inline>\n",
       "\t<li>'tbl_df'</li>\n",
       "\t<li>'tbl'</li>\n",
       "\t<li>'data.frame'</li>\n",
       "</ol>\n"
      ],
      "text/latex": [
       "\\begin{enumerate*}\n",
       "\\item 'tbl\\_df'\n",
       "\\item 'tbl'\n",
       "\\item 'data.frame'\n",
       "\\end{enumerate*}\n"
      ],
      "text/markdown": [
       "1. 'tbl_df'\n",
       "2. 'tbl'\n",
       "3. 'data.frame'\n",
       "\n",
       "\n"
      ],
      "text/plain": [
       "[1] \"tbl_df\"     \"tbl\"        \"data.frame\""
      ]
     },
     "metadata": {},
     "output_type": "display_data"
    }
   ],
   "source": [
    "class(train_df)"
   ]
  },
  {
   "cell_type": "markdown",
   "metadata": {},
   "source": [
    "### Single variable exploration"
   ]
  },
  {
   "cell_type": "code",
   "execution_count": 47,
   "metadata": {
    "collapsed": true
   },
   "outputs": [],
   "source": [
    "interest_levels = levels(train_df$interest_level)"
   ]
  },
  {
   "cell_type": "markdown",
   "metadata": {},
   "source": [
    "#### functions for numeric variables and \"cat variables\""
   ]
  },
  {
   "cell_type": "code",
   "execution_count": 48,
   "metadata": {
    "collapsed": false
   },
   "outputs": [],
   "source": [
    "pull <- function(x,y) {\n",
    "    #utility function to pull a column from a tibble as a vector\n",
    "    x[,if(is.name(substitute(y))) deparse(substitute(y)) else y, drop = FALSE][[1]]\n",
    "  }\n",
    "        \n",
    "single_num <- function(dSet, feature){\n",
    "  #for numerical feature\n",
    "  val<- dSet %>% pull(as.character(feature))\n",
    "  print(paste(\"num of NA is \", sum(is.na(val))))\n",
    "  print(\"general summary:\")\n",
    "  print(summary(val))\n",
    "  for(lvl in interest_levels){\n",
    "      print(paste(\"summary of \", lvl, \"-interest:\"))\n",
    "      val <- dSet[dSet$interest_level == lvl,] %>% pull(as.character(feature))\n",
    "      print(summary(val))\n",
    "  }\n",
    "  \n",
    "}     \n",
    "\n",
    "\n",
    "single_cat <- function(dSet, feature, target = \"interest_level\"){\n",
    "    val <- dSet %>% pull(as.character(feature))\n",
    "    tar <- dSet %>% pull(as.character(target))\n",
    "    tab <- table(feature = val, target = tar)\n",
    "    print(tab)\n",
    "    print(tab/(tab[,1] + tab[, 2] + tab[, 3]))\n",
    "}"
   ]
  },
  {
   "cell_type": "markdown",
   "metadata": {},
   "source": [
    "#### bathrooms"
   ]
  },
  {
   "cell_type": "code",
   "execution_count": 49,
   "metadata": {
    "collapsed": false
   },
   "outputs": [
    {
     "name": "stdout",
     "output_type": "stream",
     "text": [
      "[1] \"num of NA is  0\"\n",
      "[1] \"general summary:\"\n",
      "   Min. 1st Qu.  Median    Mean 3rd Qu.    Max. \n",
      "  0.000   1.000   1.000   1.212   1.000  10.000 \n",
      "[1] \"summary of  low -interest:\"\n",
      "   Min. 1st Qu.  Median    Mean 3rd Qu.    Max. \n",
      "  0.000   1.000   1.000   1.239   1.000  10.000 \n",
      "[1] \"summary of  medium -interest:\"\n",
      "   Min. 1st Qu.  Median    Mean 3rd Qu.    Max. \n",
      "  0.000   1.000   1.000   1.164   1.000   4.000 \n",
      "[1] \"summary of  high -interest:\"\n",
      "   Min. 1st Qu.  Median    Mean 3rd Qu.    Max. \n",
      "  0.000   1.000   1.000   1.116   1.000   4.000 \n",
      "       target\n",
      "feature   low medium  high\n",
      "    0     306      6     1\n",
      "    1   26581   9428  3413\n",
      "    1.5   605     40     0\n",
      "    2    5566   1687   407\n",
      "    2.5   274      3     0\n",
      "    3     671     60    14\n",
      "    3.5    70      0     0\n",
      "    4     150      5     4\n",
      "    4.5    29      0     0\n",
      "    5      20      0     0\n",
      "    5.5     5      0     0\n",
      "    6       4      0     0\n",
      "    6.5     1      0     0\n",
      "    7       1      0     0\n",
      "    10      1      0     0\n",
      "       target\n",
      "feature         low      medium        high\n",
      "    0   0.977635783 0.019169329 0.003194888\n",
      "    1   0.674268175 0.239155801 0.086576024\n",
      "    1.5 0.937984496 0.062015504 0.000000000\n",
      "    2   0.726631854 0.220234987 0.053133159\n",
      "    2.5 0.989169675 0.010830325 0.000000000\n",
      "    3   0.900671141 0.080536913 0.018791946\n",
      "    3.5 1.000000000 0.000000000 0.000000000\n",
      "    4   0.943396226 0.031446541 0.025157233\n",
      "    4.5 1.000000000 0.000000000 0.000000000\n",
      "    5   1.000000000 0.000000000 0.000000000\n",
      "    5.5 1.000000000 0.000000000 0.000000000\n",
      "    6   1.000000000 0.000000000 0.000000000\n",
      "    6.5 1.000000000 0.000000000 0.000000000\n",
      "    7   1.000000000 0.000000000 0.000000000\n",
      "    10  1.000000000 0.000000000 0.000000000\n"
     ]
    }
   ],
   "source": [
    "single_num(train_df, 'bathrooms')\n",
    "single_cat(train_df, 'bathrooms')"
   ]
  },
  {
   "cell_type": "code",
   "execution_count": 50,
   "metadata": {
    "collapsed": false
   },
   "outputs": [
    {
     "data": {},
     "metadata": {},
     "output_type": "display_data"
    },
    {
     "data": {
      "image/png": "[encoded data removed]",
      "text/plain": [
       "plot without title"
      ]
     },
     "metadata": {},
     "output_type": "display_data"
    }
   ],
   "source": [
    "ggplot(data=train_df) +\n",
    "  geom_density(aes(x = bathrooms,\n",
    "                   color = interest_level,\n",
    "                   linetype = interest_level ))"
   ]
  },
  {
   "cell_type": "markdown",
   "metadata": {
    "collapsed": true
   },
   "source": [
    "#### not much difference,  61 low interest cases have many rooms"
   ]
  },
  {
   "cell_type": "markdown",
   "metadata": {},
   "source": [
    "#### bedrooms"
   ]
  },
  {
   "cell_type": "code",
   "execution_count": 51,
   "metadata": {
    "collapsed": false
   },
   "outputs": [
    {
     "name": "stdout",
     "output_type": "stream",
     "text": [
      "[1] \"num of NA is  0\"\n",
      "[1] \"general summary:\"\n",
      "   Min. 1st Qu.  Median    Mean 3rd Qu.    Max. \n",
      "  0.000   1.000   1.000   1.542   2.000   8.000 \n",
      "[1] \"summary of  low -interest:\"\n",
      "   Min. 1st Qu.  Median    Mean 3rd Qu.    Max. \n",
      "  0.000   1.000   1.000   1.515   2.000   8.000 \n",
      "[1] \"summary of  medium -interest:\"\n",
      "   Min. 1st Qu.  Median    Mean 3rd Qu.    Max. \n",
      "  0.000   1.000   2.000   1.622   2.000   7.000 \n",
      "[1] \"summary of  high -interest:\"\n",
      "   Min. 1st Qu.  Median    Mean 3rd Qu.    Max. \n",
      "  0.000   1.000   2.000   1.546   2.000   5.000 \n",
      "       target\n",
      "feature   low medium  high\n",
      "      0  6518   2110   847\n",
      "      1 11715   3094   943\n",
      "      2  9801   3516  1306\n",
      "      3  4727   1957   592\n",
      "      4  1233    547   149\n",
      "      5   243      2     2\n",
      "      6    44      2     0\n",
      "      7     1      1     0\n",
      "      8     2      0     0\n",
      "       target\n",
      "feature         low      medium        high\n",
      "      0 0.687915567 0.222691293 0.089393140\n",
      "      1 0.743715084 0.196419502 0.059865414\n",
      "      2 0.670245504 0.240443138 0.089311359\n",
      "      3 0.649670148 0.268966465 0.081363386\n",
      "      4 0.639191291 0.283566615 0.077242094\n",
      "      5 0.983805668 0.008097166 0.008097166\n",
      "      6 0.956521739 0.043478261 0.000000000\n",
      "      7 0.500000000 0.500000000 0.000000000\n",
      "      8 1.000000000 0.000000000 0.000000000\n"
     ]
    }
   ],
   "source": [
    "single_num(train_df, 'bedrooms')\n",
    "single_cat(train_df, 'bedrooms')"
   ]
  },
  {
   "cell_type": "markdown",
   "metadata": {},
   "source": [
    "#### created\n",
    "\n",
    "extract year/month/day from created"
   ]
  },
  {
   "cell_type": "code",
   "execution_count": 52,
   "metadata": {
    "collapsed": false
   },
   "outputs": [],
   "source": [
    "train_df$year <- year(train_df$created)\n",
    "train_df$month <- month(train_df$created)\n",
    "train_df$day <- day(train_df$created)"
   ]
  },
  {
   "cell_type": "code",
   "execution_count": 53,
   "metadata": {
    "collapsed": false
   },
   "outputs": [
    {
     "name": "stdout",
     "output_type": "stream",
     "text": [
      "[1] \"year distribution:\"\n",
      "\n",
      " 2016 \n",
      "49352 \n",
      "[1] \"month distribution:\"\n",
      "\n",
      "    4     5     6 \n",
      "16411 15797 17144 \n",
      "[1] \"day distribution:\"\n",
      "\n",
      "   1    2    3    4    5    6    7    8    9   10   11   12   13   14   15   16 \n",
      " 894 1783 1803 1493 1808 1851 1764 1655 1514 1603 1702 2348 1736 1951 1701 1891 \n",
      "  17   18   19   20   21   22   23   24   25   26   27   28   29   30   31 \n",
      "1615 1483 1412 1762 2475 1669 1049 1862 1458 1470 1588 1644 1641  721    6 \n"
     ]
    }
   ],
   "source": [
    "print(\"year distribution:\")\n",
    "print(table(train_df$year))\n",
    "print(\"month distribution:\")\n",
    "print(table(train_df$month))\n",
    "print(\"day distribution:\")\n",
    "print(table(train_df$day))"
   ]
  },
  {
   "cell_type": "markdown",
   "metadata": {
    "collapsed": true
   },
   "source": [
    "#### year is useless, may consider grouping days as beginning / middle / end of a month?"
   ]
  },
  {
   "cell_type": "code",
   "execution_count": 54,
   "metadata": {
    "collapsed": false
   },
   "outputs": [],
   "source": [
    "day_by_10 <- function(day){\n",
    "    floor((min(30, day) - 1) / 10)\n",
    "}\n",
    "train_df$ten_day <- unlist(map(train_df$day, day_by_10))"
   ]
  },
  {
   "cell_type": "code",
   "execution_count": 55,
   "metadata": {
    "collapsed": false
   },
   "outputs": [
    {
     "name": "stdout",
     "output_type": "stream",
     "text": [
      "       target\n",
      "feature   low medium  high\n",
      "      0 10886   3877  1405\n",
      "      1 12279   3927  1395\n",
      "      2 11119   3425  1039\n",
      "       target\n",
      "feature        low     medium       high\n",
      "      0 0.67330529 0.23979466 0.08690005\n",
      "      1 0.69763082 0.22311232 0.07925686\n",
      "      2 0.71353398 0.21979080 0.06667522\n"
     ]
    }
   ],
   "source": [
    "single_cat(train_df, 'ten_day')"
   ]
  },
  {
   "cell_type": "markdown",
   "metadata": {
    "collapsed": false
   },
   "source": [
    "#### Nope, not much difference"
   ]
  },
  {
   "cell_type": "code",
   "execution_count": 56,
   "metadata": {
    "collapsed": false
   },
   "outputs": [
    {
     "name": "stdout",
     "output_type": "stream",
     "text": [
      "       target\n",
      "feature   low medium  high\n",
      "      4 11360   3777  1274\n",
      "      5 10923   3640  1234\n",
      "      6 12001   3812  1331\n",
      "       target\n",
      "feature        low     medium       high\n",
      "      4 0.69221863 0.23015051 0.07763086\n",
      "      5 0.69146040 0.23042350 0.07811610\n",
      "      6 0.70001167 0.22235184 0.07763649\n"
     ]
    }
   ],
   "source": [
    "single_cat(train_df, 'month')"
   ]
  },
  {
   "cell_type": "markdown",
   "metadata": {},
   "source": [
    "#### not much difference"
   ]
  },
  {
   "cell_type": "markdown",
   "metadata": {},
   "source": [
    "#### description"
   ]
  },
  {
   "cell_type": "markdown",
   "metadata": {},
   "source": [
    "#### For quick development we just take a subset."
   ]
  },
  {
   "cell_type": "code",
   "execution_count": 57,
   "metadata": {
    "collapsed": false
   },
   "outputs": [],
   "source": [
    "train0 <- train_df[1:500, c('listing_id', 'description')]"
   ]
  },
  {
   "cell_type": "markdown",
   "metadata": {
    "collapsed": true
   },
   "source": [
    "#### define a function to remove some obvious unwanted stuff such as email, phone number, web-reacted,  etc."
   ]
  },
  {
   "cell_type": "code",
   "execution_count": 58,
   "metadata": {
    "collapsed": true
   },
   "outputs": [],
   "source": [
    "dejunk <- function(a){\n",
    "  a <- gsub('<a\\\\s+website_redacted', '',a)\n",
    "  a <- gsub('<\\\\S+\\\\s*/*>', ' ', a)\n",
    "  a <- gsub('\\\\S+\\\\s*@\\\\s*\\\\S+', ' ', a)\n",
    "  a <- gsub('\\\\d+[-]*\\\\d+[-]\\\\d+', ' ', a)\n",
    "  a <- gsub('\\\\W+', ' ', a)\n",
    "  a <- gsub('[[:digit:]]', ' ', a)\n",
    "}\n"
   ]
  },
  {
   "cell_type": "code",
   "execution_count": 59,
   "metadata": {
    "collapsed": true
   },
   "outputs": [],
   "source": [
    "train0$description_tr <- unlist(train0 %>% \n",
    "                                select(description) %>% \n",
    "                                map(dejunk)\n",
    "                               )"
   ]
  },
  {
   "cell_type": "code",
   "execution_count": 68,
   "metadata": {
    "collapsed": false
   },
   "outputs": [
    {
     "data": {
      "text/html": [
       "<table>\n",
       "<thead><tr><th scope=col>description</th></tr></thead>\n",
       "<tbody>\n",
       "\t<tr><td><span style=white-space:pre-wrap>Spacious 1 Bedroom 1 Bathroom in Williamsburg!Apartment Features:- Renovated Eat in Kitchen With Dishwasher- Renovated Bathroom- Beautiful Hardwood Floors- Lots of Sunlight- Great Closet Space- Freshly Painted- Heat and Hot Water Included- Live in Super Nearby L, J, M &amp; G Trains !&lt;br /&gt;&lt;br /&gt;Contact Information:Kenneth BeakExclusive AgentC: 064-692-8838Email: kagglemanager@renthop.com, Text or Email to schedule a private viewing!&lt;br /&gt;&lt;br /&gt;&lt;br /&gt;&lt;br /&gt;&lt;br /&gt;&lt;br /&gt;&lt;br /&gt;&lt;br /&gt;&lt;br /&gt;&lt;br /&gt;&lt;br /&gt;&lt;br /&gt;&lt;br /&gt;&lt;br /&gt;&lt;br /&gt;&lt;br /&gt;&lt;p&gt;&lt;a  website_redacted                                                                                                                                                                                                                                                                                   </span></td></tr>\n",
       "\t<tr><td><span style=white-space:pre-wrap>BRAND NEW GUT RENOVATED TRUE 2 BEDROOMFind yourself and your home in the center of it all. Steps from Grand Central Station, at the epicenter of Manhattan, The Centra combines convenience and luxury to create a perfectly balanced living experience. Offering newly renovated over sized apartment layouts.&lt;br /&gt;&lt;br /&gt;Full Time DoormanElevatorNewly Renovated HallwaysLaundry in BuildingOn-Site Parking Garage&lt;br /&gt;&lt;br /&gt;I operate with the utmost care and integrity. The client is my #1 priority. Contact me for a viewing of the great apartment, I'm more than confident we'll find a place for you to call home.Call/Text Keon: Email: If you require a move within 30 days write \"URGENT\" in the subject email or text message to be taken with high priority.&lt;br /&gt;&lt;br /&gt;One Month Free - net effective rent listed&lt;p&gt;&lt;a  website_redacted </span></td></tr>\n",
       "\t<tr><td><span style=white-space:pre-wrap>**FLEX 2 BEDROOM WITH FULL PRESSURIZED WALL**Looking for the perfect apartment in Midtown East - Sutton Place? Come check out the beautiful apartment in this prime location! **Mid 50's and 1st Ave** Elevator Building with 24-hour doorman, laundry room, and bike room!LARGE living space with King Bedroom!Beautiful large kitchen with stainless steel appliances including dishwasher! Stunning modern bathroom! Ample amount of closet space throughout entire apartment, and enough space to fit everything you need and more! Apartment is in short distance to all shops, restaurants, and public transportation (E,M, 6 Trains). Don't miss out on this great apartment so act quick! Call/Text Edan (855-650-2204 to schedule a private viewing today!&lt;br /&gt;&lt;br /&gt;&lt;br /&gt;&lt;br /&gt;&lt;br /&gt;&lt;br /&gt;&lt;p&gt;&lt;a  website_redacted                             </span></td></tr>\n",
       "</tbody>\n",
       "</table>\n"
      ],
      "text/latex": [
       "\\begin{tabular}{r|l}\n",
       " description\\\\\n",
       "\\hline\n",
       "\t Spacious 1 Bedroom 1 Bathroom in Williamsburg!Apartment Features:- Renovated Eat in Kitchen With Dishwasher- Renovated Bathroom- Beautiful Hardwood Floors- Lots of Sunlight- Great Closet Space- Freshly Painted- Heat and Hot Water Included- Live in Super Nearby L, J, M \\& G Trains !<br /><br />Contact Information:Kenneth BeakExclusive AgentC: 064-692-8838Email: kagglemanager@renthop.com, Text or Email to schedule a private viewing!<br /><br /><br /><br /><br /><br /><br /><br /><br /><br /><br /><br /><br /><br /><br /><br /><p><a  website\\_redacted                                                                                                                                                                                                                                                                                   \\\\\n",
       "\t BRAND NEW GUT RENOVATED TRUE 2 BEDROOMFind yourself and your home in the center of it all. Steps from Grand Central Station, at the epicenter of Manhattan, The Centra combines convenience and luxury to create a perfectly balanced living experience. Offering newly renovated over sized apartment layouts.<br /><br />Full Time DoormanElevatorNewly Renovated HallwaysLaundry in BuildingOn-Site Parking Garage<br /><br />I operate with the utmost care and integrity. The client is my \\#1 priority. Contact me for a viewing of the great apartment, I'm more than confident we'll find a place for you to call home.Call/Text Keon: Email: If you require a move within 30 days write \"URGENT\" in the subject email or text message to be taken with high priority.<br /><br />One Month Free - net effective rent listed<p><a  website\\_redacted \\\\\n",
       "\t **FLEX 2 BEDROOM WITH FULL PRESSURIZED WALL**Looking for the perfect apartment in Midtown East - Sutton Place? Come check out the beautiful apartment in this prime location! **Mid 50's and 1st Ave** Elevator Building with 24-hour doorman, laundry room, and bike room!LARGE living space with King Bedroom!Beautiful large kitchen with stainless steel appliances including dishwasher! Stunning modern bathroom! Ample amount of closet space throughout entire apartment, and enough space to fit everything you need and more! Apartment is in short distance to all shops, restaurants, and public transportation (E,M, 6 Trains). Don't miss out on this great apartment so act quick! Call/Text Edan (855-650-2204 to schedule a private viewing today!<br /><br /><br /><br /><br /><br /><p><a  website\\_redacted                             \\\\\n",
       "\\end{tabular}\n"
      ],
      "text/markdown": [
       "\n",
       "description | \n",
       "|---|---|---|\n",
       "| Spacious 1 Bedroom 1 Bathroom in Williamsburg!Apartment Features:- Renovated Eat in Kitchen With Dishwasher- Renovated Bathroom- Beautiful Hardwood Floors- Lots of Sunlight- Great Closet Space- Freshly Painted- Heat and Hot Water Included- Live in Super Nearby L, J, M & G Trains !<br /><br />Contact Information:Kenneth BeakExclusive AgentC: 064-692-8838Email: kagglemanager@renthop.com, Text or Email to schedule a private viewing!<br /><br /><br /><br /><br /><br /><br /><br /><br /><br /><br /><br /><br /><br /><br /><br /><p><a  website_redacted                                                                                                                                                                                                                                                                                    | \n",
       "| BRAND NEW GUT RENOVATED TRUE 2 BEDROOMFind yourself and your home in the center of it all. Steps from Grand Central Station, at the epicenter of Manhattan, The Centra combines convenience and luxury to create a perfectly balanced living experience. Offering newly renovated over sized apartment layouts.<br /><br />Full Time DoormanElevatorNewly Renovated HallwaysLaundry in BuildingOn-Site Parking Garage<br /><br />I operate with the utmost care and integrity. The client is my #1 priority. Contact me for a viewing of the great apartment, I'm more than confident we'll find a place for you to call home.Call/Text Keon: Email: If you require a move within 30 days write \"URGENT\" in the subject email or text message to be taken with high priority.<br /><br />One Month Free - net effective rent listed<p><a  website_redacted  | \n",
       "| **FLEX 2 BEDROOM WITH FULL PRESSURIZED WALL**Looking for the perfect apartment in Midtown East - Sutton Place? Come check out the beautiful apartment in this prime location! **Mid 50's and 1st Ave** Elevator Building with 24-hour doorman, laundry room, and bike room!LARGE living space with King Bedroom!Beautiful large kitchen with stainless steel appliances including dishwasher! Stunning modern bathroom! Ample amount of closet space throughout entire apartment, and enough space to fit everything you need and more! Apartment is in short distance to all shops, restaurants, and public transportation (E,M, 6 Trains). Don't miss out on this great apartment so act quick! Call/Text Edan (855-650-2204 to schedule a private viewing today!<br /><br /><br /><br /><br /><br /><p><a  website_redacted                              | \n",
       "\n",
       "\n"
      ],
      "text/plain": [
       "  description                                                                                                                                                                                                                                                                                                                                                                                                                                                                                                                                                                                                                                                                                                                                                                                                                                                \n",
       "1 Spacious 1 Bedroom 1 Bathroom in Williamsburg!Apartment Features:- Renovated Eat in Kitchen With Dishwasher- Renovated Bathroom- Beautiful Hardwood Floors- Lots of Sunlight- Great Closet Space- Freshly Painted- Heat and Hot Water Included- Live in Super Nearby L, J, M & G Trains !<br /><br />Contact Information:Kenneth BeakExclusive AgentC: 064-692-8838Email: kagglemanager@renthop.com, Text or Email to schedule a private viewing!<br /><br /><br /><br /><br /><br /><br /><br /><br /><br /><br /><br /><br /><br /><br /><br /><p><a  website_redacted                                                                                                                                                                                                                                                                                   \n",
       "2 BRAND NEW GUT RENOVATED TRUE 2 BEDROOMFind yourself and your home in the center of it all. Steps from Grand Central Station, at the epicenter of Manhattan, The Centra combines convenience and luxury to create a perfectly balanced living experience. Offering newly renovated over sized apartment layouts.<br /><br />Full Time DoormanElevatorNewly Renovated HallwaysLaundry in BuildingOn-Site Parking Garage<br /><br />I operate with the utmost care and integrity. The client is my #1 priority. Contact me for a viewing of the great apartment, I'm more than confident we'll find a place for you to call home.Call/Text Keon: Email: If you require a move within 30 days write \"URGENT\" in the subject email or text message to be taken with high priority.<br /><br />One Month Free - net effective rent listed<p><a  website_redacted \n",
       "3 **FLEX 2 BEDROOM WITH FULL PRESSURIZED WALL**Looking for the perfect apartment in Midtown East - Sutton Place? Come check out the beautiful apartment in this prime location! **Mid 50's and 1st Ave** Elevator Building with 24-hour doorman, laundry room, and bike room!LARGE living space with King Bedroom!Beautiful large kitchen with stainless steel appliances including dishwasher! Stunning modern bathroom! Ample amount of closet space throughout entire apartment, and enough space to fit everything you need and more! Apartment is in short distance to all shops, restaurants, and public transportation (E,M, 6 Trains). Don't miss out on this great apartment so act quick! Call/Text Edan (855-650-2204 to schedule a private viewing today!<br /><br /><br /><br /><br /><br /><p><a  website_redacted                             "
      ]
     },
     "metadata": {},
     "output_type": "display_data"
    }
   ],
   "source": [
    "train0[1:3, 'description']"
   ]
  },
  {
   "cell_type": "code",
   "execution_count": 69,
   "metadata": {
    "collapsed": false
   },
   "outputs": [
    {
     "data": {
      "text/html": [
       "<table>\n",
       "<thead><tr><th scope=col>description_tr</th></tr></thead>\n",
       "<tbody>\n",
       "\t<tr><td>Spacious   Bedroom   Bathroom in Williamsburg Apartment Features Renovated Eat in Kitchen With Dishwasher Renovated Bathroom Beautiful Hardwood Floors Lots of Sunlight Great Closet Space Freshly Painted Heat and Hot Water Included Live in Super Nearby L J M G Trains Contact Information Kenneth BeakExclusive AgentC Email Text or Email to schedule a private viewing                                                                                                                                                                                                                                                                                                                                                                                                      </td></tr>\n",
       "\t<tr><td>BRAND NEW GUT RENOVATED TRUE   BEDROOMFind yourself and your home in the center of it all Steps from Grand Central Station at the epicenter of Manhattan The Centra combines convenience and luxury to create a perfectly balanced living experience Offering newly renovated over sized apartment layouts Full Time DoormanElevatorNewly Renovated HallwaysLaundry in BuildingOn Site Parking Garage I operate with the utmost care and integrity The client is my   priority Contact me for a viewing of the great apartment I m more than confident we ll find a place for you to call home Call Text Keon Email If you require a move within    days write URGENT in the subject email or text message to be taken with high priority One Month Free net effective rent listed </td></tr>\n",
       "\t<tr><td> FLEX   BEDROOM WITH FULL PRESSURIZED WALL Looking for the perfect apartment in Midtown East Sutton Place Come check out the beautiful apartment in this prime location Mid    s and  st Ave Elevator Building with    hour doorman laundry room and bike room LARGE living space with King Bedroom Beautiful large kitchen with stainless steel appliances including dishwasher Stunning modern bathroom Ample amount of closet space throughout entire apartment and enough space to fit everything you need and more Apartment is in short distance to all shops restaurants and public transportation E M   Trains Don t miss out on this great apartment so act quick Call Text Edan to schedule a private viewing today                                                      </td></tr>\n",
       "</tbody>\n",
       "</table>\n"
      ],
      "text/latex": [
       "\\begin{tabular}{r|l}\n",
       " description\\_tr\\\\\n",
       "\\hline\n",
       "\t Spacious   Bedroom   Bathroom in Williamsburg Apartment Features Renovated Eat in Kitchen With Dishwasher Renovated Bathroom Beautiful Hardwood Floors Lots of Sunlight Great Closet Space Freshly Painted Heat and Hot Water Included Live in Super Nearby L J M G Trains Contact Information Kenneth BeakExclusive AgentC Email Text or Email to schedule a private viewing                                                                                                                                                                                                                                                                                                                                                                                                      \\\\\n",
       "\t BRAND NEW GUT RENOVATED TRUE   BEDROOMFind yourself and your home in the center of it all Steps from Grand Central Station at the epicenter of Manhattan The Centra combines convenience and luxury to create a perfectly balanced living experience Offering newly renovated over sized apartment layouts Full Time DoormanElevatorNewly Renovated HallwaysLaundry in BuildingOn Site Parking Garage I operate with the utmost care and integrity The client is my   priority Contact me for a viewing of the great apartment I m more than confident we ll find a place for you to call home Call Text Keon Email If you require a move within    days write URGENT in the subject email or text message to be taken with high priority One Month Free net effective rent listed \\\\\n",
       "\t  FLEX   BEDROOM WITH FULL PRESSURIZED WALL Looking for the perfect apartment in Midtown East Sutton Place Come check out the beautiful apartment in this prime location Mid    s and  st Ave Elevator Building with    hour doorman laundry room and bike room LARGE living space with King Bedroom Beautiful large kitchen with stainless steel appliances including dishwasher Stunning modern bathroom Ample amount of closet space throughout entire apartment and enough space to fit everything you need and more Apartment is in short distance to all shops restaurants and public transportation E M   Trains Don t miss out on this great apartment so act quick Call Text Edan to schedule a private viewing today                                                      \\\\\n",
       "\\end{tabular}\n"
      ],
      "text/markdown": [
       "\n",
       "description_tr | \n",
       "|---|---|---|\n",
       "| Spacious   Bedroom   Bathroom in Williamsburg Apartment Features Renovated Eat in Kitchen With Dishwasher Renovated Bathroom Beautiful Hardwood Floors Lots of Sunlight Great Closet Space Freshly Painted Heat and Hot Water Included Live in Super Nearby L J M G Trains Contact Information Kenneth BeakExclusive AgentC Email Text or Email to schedule a private viewing                                                                                                                                                                                                                                                                                                                                                                                                       | \n",
       "| BRAND NEW GUT RENOVATED TRUE   BEDROOMFind yourself and your home in the center of it all Steps from Grand Central Station at the epicenter of Manhattan The Centra combines convenience and luxury to create a perfectly balanced living experience Offering newly renovated over sized apartment layouts Full Time DoormanElevatorNewly Renovated HallwaysLaundry in BuildingOn Site Parking Garage I operate with the utmost care and integrity The client is my   priority Contact me for a viewing of the great apartment I m more than confident we ll find a place for you to call home Call Text Keon Email If you require a move within    days write URGENT in the subject email or text message to be taken with high priority One Month Free net effective rent listed  | \n",
       "|  FLEX   BEDROOM WITH FULL PRESSURIZED WALL Looking for the perfect apartment in Midtown East Sutton Place Come check out the beautiful apartment in this prime location Mid    s and  st Ave Elevator Building with    hour doorman laundry room and bike room LARGE living space with King Bedroom Beautiful large kitchen with stainless steel appliances including dishwasher Stunning modern bathroom Ample amount of closet space throughout entire apartment and enough space to fit everything you need and more Apartment is in short distance to all shops restaurants and public transportation E M   Trains Don t miss out on this great apartment so act quick Call Text Edan to schedule a private viewing today                                                       | \n",
       "\n",
       "\n"
      ],
      "text/plain": [
       "  description_tr                                                                                                                                                                                                                                                                                                                                                                                                                                                                                                                                                                                                                                                                                                                                                                     \n",
       "1 Spacious   Bedroom   Bathroom in Williamsburg Apartment Features Renovated Eat in Kitchen With Dishwasher Renovated Bathroom Beautiful Hardwood Floors Lots of Sunlight Great Closet Space Freshly Painted Heat and Hot Water Included Live in Super Nearby L J M G Trains Contact Information Kenneth BeakExclusive AgentC Email Text or Email to schedule a private viewing                                                                                                                                                                                                                                                                                                                                                                                                      \n",
       "2 BRAND NEW GUT RENOVATED TRUE   BEDROOMFind yourself and your home in the center of it all Steps from Grand Central Station at the epicenter of Manhattan The Centra combines convenience and luxury to create a perfectly balanced living experience Offering newly renovated over sized apartment layouts Full Time DoormanElevatorNewly Renovated HallwaysLaundry in BuildingOn Site Parking Garage I operate with the utmost care and integrity The client is my   priority Contact me for a viewing of the great apartment I m more than confident we ll find a place for you to call home Call Text Keon Email If you require a move within    days write URGENT in the subject email or text message to be taken with high priority One Month Free net effective rent listed \n",
       "3  FLEX   BEDROOM WITH FULL PRESSURIZED WALL Looking for the perfect apartment in Midtown East Sutton Place Come check out the beautiful apartment in this prime location Mid    s and  st Ave Elevator Building with    hour doorman laundry room and bike room LARGE living space with King Bedroom Beautiful large kitchen with stainless steel appliances including dishwasher Stunning modern bathroom Ample amount of closet space throughout entire apartment and enough space to fit everything you need and more Apartment is in short distance to all shops restaurants and public transportation E M   Trains Don t miss out on this great apartment so act quick Call Text Edan to schedule a private viewing today                                                      "
      ]
     },
     "metadata": {},
     "output_type": "display_data"
    }
   ],
   "source": [
    "train0[1:3, 'description_tr']"
   ]
  },
  {
   "cell_type": "code",
   "execution_count": 70,
   "metadata": {
    "collapsed": true
   },
   "outputs": [],
   "source": [
    "train0$description <- NULL"
   ]
  },
  {
   "cell_type": "markdown",
   "metadata": {},
   "source": [
    "#### convert to tidy text for getting word count and sentiment"
   ]
  },
  {
   "cell_type": "code",
   "execution_count": 71,
   "metadata": {
    "collapsed": false
   },
   "outputs": [
    {
     "name": "stderr",
     "output_type": "stream",
     "text": [
      "Joining, by = \"word\"\n"
     ]
    }
   ],
   "source": [
    "tidy_train0 <- train0 %>%\n",
    "    unnest_tokens(word, description_tr) %>%\n",
    "    anti_join(stop_words)"
   ]
  },
  {
   "cell_type": "markdown",
   "metadata": {},
   "source": [
    "#### word count"
   ]
  },
  {
   "cell_type": "code",
   "execution_count": 73,
   "metadata": {
    "collapsed": false
   },
   "outputs": [],
   "source": [
    "word_cnt <- tidy_train0 %>% \n",
    "  count(listing_id) %>%\n",
    "  mutate(word_cnt = n)"
   ]
  },
  {
   "cell_type": "code",
   "execution_count": 77,
   "metadata": {
    "collapsed": false
   },
   "outputs": [
    {
     "name": "stderr",
     "output_type": "stream",
     "text": [
      "Joining, by = \"listing_id\"\n"
     ]
    }
   ],
   "source": [
    "train0a <- train0 %>%\n",
    "    left_join(word_cnt)"
   ]
  },
  {
   "cell_type": "code",
   "execution_count": 79,
   "metadata": {
    "collapsed": false
   },
   "outputs": [],
   "source": [
    "#head(train0a)"
   ]
  },
  {
   "cell_type": "markdown",
   "metadata": {},
   "source": [
    "#### sentiment"
   ]
  },
  {
   "cell_type": "code",
   "execution_count": 80,
   "metadata": {
    "collapsed": false
   },
   "outputs": [
    {
     "name": "stderr",
     "output_type": "stream",
     "text": [
      "Joining, by = \"word\"\n"
     ]
    }
   ],
   "source": [
    "senti <- tidy_train0 %>%\n",
    "  inner_join(get_sentiments(\"bing\")) %>%\n",
    "  count(listing_id, sentiment) %>%\n",
    "  spread(sentiment, n, fill = 0) %>%\n",
    "  mutate(sentiment = positive - negative)\n"
   ]
  },
  {
   "cell_type": "code",
   "execution_count": 81,
   "metadata": {
    "collapsed": false
   },
   "outputs": [
    {
     "data": {
      "text/html": [
       "<table>\n",
       "<thead><tr><th scope=col>listing_id</th><th scope=col>negative</th><th scope=col>positive</th><th scope=col>sentiment</th></tr></thead>\n",
       "<tbody>\n",
       "\t<tr><td>7087774</td><td>0      </td><td> 1     </td><td> 1     </td></tr>\n",
       "\t<tr><td>7087981</td><td>0      </td><td> 7     </td><td> 7     </td></tr>\n",
       "\t<tr><td>7088015</td><td>0      </td><td>10     </td><td>10     </td></tr>\n",
       "\t<tr><td>7088124</td><td>0      </td><td> 1     </td><td> 1     </td></tr>\n",
       "\t<tr><td>7088531</td><td>1      </td><td> 1     </td><td> 0     </td></tr>\n",
       "\t<tr><td>7088568</td><td>1      </td><td> 4     </td><td> 3     </td></tr>\n",
       "</tbody>\n",
       "</table>\n"
      ],
      "text/latex": [
       "\\begin{tabular}{r|llll}\n",
       " listing\\_id & negative & positive & sentiment\\\\\n",
       "\\hline\n",
       "\t 7087774 & 0       &  1      &  1     \\\\\n",
       "\t 7087981 & 0       &  7      &  7     \\\\\n",
       "\t 7088015 & 0       & 10      & 10     \\\\\n",
       "\t 7088124 & 0       &  1      &  1     \\\\\n",
       "\t 7088531 & 1       &  1      &  0     \\\\\n",
       "\t 7088568 & 1       &  4      &  3     \\\\\n",
       "\\end{tabular}\n"
      ],
      "text/markdown": [
       "\n",
       "listing_id | negative | positive | sentiment | \n",
       "|---|---|---|---|---|---|\n",
       "| 7087774 | 0       |  1      |  1      | \n",
       "| 7087981 | 0       |  7      |  7      | \n",
       "| 7088015 | 0       | 10      | 10      | \n",
       "| 7088124 | 0       |  1      |  1      | \n",
       "| 7088531 | 1       |  1      |  0      | \n",
       "| 7088568 | 1       |  4      |  3      | \n",
       "\n",
       "\n"
      ],
      "text/plain": [
       "  listing_id negative positive sentiment\n",
       "1 7087774    0         1        1       \n",
       "2 7087981    0         7        7       \n",
       "3 7088015    0        10       10       \n",
       "4 7088124    0         1        1       \n",
       "5 7088531    1         1        0       \n",
       "6 7088568    1         4        3       "
      ]
     },
     "metadata": {},
     "output_type": "display_data"
    }
   ],
   "source": [
    "head(senti)"
   ]
  },
  {
   "cell_type": "code",
   "execution_count": 82,
   "metadata": {
    "collapsed": false
   },
   "outputs": [
    {
     "name": "stderr",
     "output_type": "stream",
     "text": [
      "Joining, by = \"listing_id\"\n"
     ]
    }
   ],
   "source": [
    "train0b <- train0a %>%\n",
    "  left_join(senti) %>%\n",
    "  select(listing_id, word_cnt, sentiment)"
   ]
  },
  {
   "cell_type": "markdown",
   "metadata": {},
   "source": [
    "#### Features"
   ]
  },
  {
   "cell_type": "code",
   "execution_count": null,
   "metadata": {
    "collapsed": true
   },
   "outputs": [],
   "source": []
  }
 ],
 "metadata": {
  "kernelspec": {
   "display_name": "R",
   "language": "R",
   "name": "ir"
  },
  "language_info": {
   "codemirror_mode": "r",
   "file_extension": ".r",
   "mimetype": "text/x-r-source",
   "name": "R",
   "pygments_lexer": "r",
   "version": "3.3.3"
  }
 },
 "nbformat": 4,
 "nbformat_minor": 2
}
