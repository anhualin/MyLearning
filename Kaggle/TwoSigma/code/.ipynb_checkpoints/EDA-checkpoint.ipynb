{
 "cells": [
  {
   "cell_type": "code",
   "execution_count": 1,
   "metadata": {
    "collapsed": false
   },
   "outputs": [
    {
     "data": {
      "text/html": [
       "'C:/Users/alin/Documents/SelfStudy/MyLearning/Kaggle/TwoSigma/code'"
      ],
      "text/latex": [
       "'C:/Users/alin/Documents/SelfStudy/MyLearning/Kaggle/TwoSigma/code'"
      ],
      "text/markdown": [
       "'C:/Users/alin/Documents/SelfStudy/MyLearning/Kaggle/TwoSigma/code'"
      ],
      "text/plain": [
       "[1] \"C:/Users/alin/Documents/SelfStudy/MyLearning/Kaggle/TwoSigma/code\""
      ]
     },
     "metadata": {},
     "output_type": "display_data"
    }
   ],
   "source": [
    "getwd()"
   ]
  },
  {
   "cell_type": "code",
   "execution_count": 3,
   "metadata": {
    "collapsed": false
   },
   "outputs": [],
   "source": [
    "setwd('C:/Users/alin/Documents/SelfStudy/MyLearning/Kaggle/TwoSigma/data')"
   ]
  },
  {
   "cell_type": "markdown",
   "metadata": {},
   "source": [
    "### Load data"
   ]
  },
  {
   "cell_type": "code",
   "execution_count": 4,
   "metadata": {
    "collapsed": false
   },
   "outputs": [
    {
     "name": "stderr",
     "output_type": "stream",
     "text": [
      "Loading required package: jsonlite\n",
      "Warning message:\n",
      "\"package 'jsonlite' was built under R version 3.3.3\""
     ]
    }
   ],
   "source": [
    "require(jsonlite)"
   ]
  },
  {
   "cell_type": "code",
   "execution_count": 5,
   "metadata": {
    "collapsed": true
   },
   "outputs": [],
   "source": [
    "data <- fromJSON('train.json')"
   ]
  },
  {
   "cell_type": "code",
   "execution_count": 8,
   "metadata": {
    "collapsed": false
   },
   "outputs": [
    {
     "data": {
      "text/html": [
       "<ol class=list-inline>\n",
       "\t<li>'bathrooms'</li>\n",
       "\t<li>'bedrooms'</li>\n",
       "\t<li>'building_id'</li>\n",
       "\t<li>'created'</li>\n",
       "\t<li>'description'</li>\n",
       "\t<li>'display_address'</li>\n",
       "\t<li>'features'</li>\n",
       "\t<li>'latitude'</li>\n",
       "\t<li>'listing_id'</li>\n",
       "\t<li>'longitude'</li>\n",
       "\t<li>'manager_id'</li>\n",
       "\t<li>'photos'</li>\n",
       "\t<li>'price'</li>\n",
       "\t<li>'street_address'</li>\n",
       "\t<li>'interest_level'</li>\n",
       "</ol>\n"
      ],
      "text/latex": [
       "\\begin{enumerate*}\n",
       "\\item 'bathrooms'\n",
       "\\item 'bedrooms'\n",
       "\\item 'building\\_id'\n",
       "\\item 'created'\n",
       "\\item 'description'\n",
       "\\item 'display\\_address'\n",
       "\\item 'features'\n",
       "\\item 'latitude'\n",
       "\\item 'listing\\_id'\n",
       "\\item 'longitude'\n",
       "\\item 'manager\\_id'\n",
       "\\item 'photos'\n",
       "\\item 'price'\n",
       "\\item 'street\\_address'\n",
       "\\item 'interest\\_level'\n",
       "\\end{enumerate*}\n"
      ],
      "text/markdown": [
       "1. 'bathrooms'\n",
       "2. 'bedrooms'\n",
       "3. 'building_id'\n",
       "4. 'created'\n",
       "5. 'description'\n",
       "6. 'display_address'\n",
       "7. 'features'\n",
       "8. 'latitude'\n",
       "9. 'listing_id'\n",
       "10. 'longitude'\n",
       "11. 'manager_id'\n",
       "12. 'photos'\n",
       "13. 'price'\n",
       "14. 'street_address'\n",
       "15. 'interest_level'\n",
       "\n",
       "\n"
      ],
      "text/plain": [
       " [1] \"bathrooms\"       \"bedrooms\"        \"building_id\"     \"created\"        \n",
       " [5] \"description\"     \"display_address\" \"features\"        \"latitude\"       \n",
       " [9] \"listing_id\"      \"longitude\"       \"manager_id\"      \"photos\"         \n",
       "[13] \"price\"           \"street_address\"  \"interest_level\" "
      ]
     },
     "metadata": {},
     "output_type": "display_data"
    }
   ],
   "source": [
    "names(data)"
   ]
  },
  {
   "cell_type": "markdown",
   "metadata": {},
   "source": [
    "#### convert to tibble"
   ]
  },
  {
   "cell_type": "code",
   "execution_count": 16,
   "metadata": {
    "collapsed": false
   },
   "outputs": [
    {
     "name": "stderr",
     "output_type": "stream",
     "text": [
      "Loading required package: dplyr\n",
      "Warning message:\n",
      "\"package 'dplyr' was built under R version 3.3.3\"\n",
      "Attaching package: 'dplyr'\n",
      "\n",
      "The following objects are masked from 'package:purrr':\n",
      "\n",
      "    contains, order_by\n",
      "\n",
      "The following objects are masked from 'package:stats':\n",
      "\n",
      "    filter, lag\n",
      "\n",
      "The following objects are masked from 'package:base':\n",
      "\n",
      "    intersect, setdiff, setequal, union\n",
      "\n"
     ]
    }
   ],
   "source": [
    "require(dplyr)\n",
    "\n",
    "require(tibble)\n",
    "\n",
    "require(purrr)"
   ]
  },
  {
   "cell_type": "markdown",
   "metadata": {},
   "source": [
    "#### we ignore photos and features for now"
   ]
  },
  {
   "cell_type": "code",
   "execution_count": 18,
   "metadata": {
    "collapsed": true
   },
   "outputs": [],
   "source": [
    "vars <- setdiff(names(data), c('photos', 'features'))"
   ]
  },
  {
   "cell_type": "code",
   "execution_count": 19,
   "metadata": {
    "collapsed": false
   },
   "outputs": [],
   "source": [
    "train_df <- map_at(data, vars, unlist) %>%\n",
    "            as_tibble(.) %>%\n",
    "            mutate(interest_level = factor(interest_level, c('low', 'medium', 'high')))"
   ]
  },
  {
   "cell_type": "code",
   "execution_count": 27,
   "metadata": {
    "collapsed": false
   },
   "outputs": [],
   "source": [
    "#head(train_df)"
   ]
  },
  {
   "cell_type": "code",
   "execution_count": 23,
   "metadata": {
    "collapsed": false
   },
   "outputs": [
    {
     "data": {
      "text/html": [
       "<ol class=list-inline>\n",
       "\t<li>'bathrooms'</li>\n",
       "\t<li>'bedrooms'</li>\n",
       "\t<li>'building_id'</li>\n",
       "\t<li>'created'</li>\n",
       "\t<li>'description'</li>\n",
       "\t<li>'display_address'</li>\n",
       "\t<li>'features'</li>\n",
       "\t<li>'latitude'</li>\n",
       "\t<li>'listing_id'</li>\n",
       "\t<li>'longitude'</li>\n",
       "\t<li>'manager_id'</li>\n",
       "\t<li>'photos'</li>\n",
       "\t<li>'price'</li>\n",
       "\t<li>'street_address'</li>\n",
       "\t<li>'interest_level'</li>\n",
       "</ol>\n"
      ],
      "text/latex": [
       "\\begin{enumerate*}\n",
       "\\item 'bathrooms'\n",
       "\\item 'bedrooms'\n",
       "\\item 'building\\_id'\n",
       "\\item 'created'\n",
       "\\item 'description'\n",
       "\\item 'display\\_address'\n",
       "\\item 'features'\n",
       "\\item 'latitude'\n",
       "\\item 'listing\\_id'\n",
       "\\item 'longitude'\n",
       "\\item 'manager\\_id'\n",
       "\\item 'photos'\n",
       "\\item 'price'\n",
       "\\item 'street\\_address'\n",
       "\\item 'interest\\_level'\n",
       "\\end{enumerate*}\n"
      ],
      "text/markdown": [
       "1. 'bathrooms'\n",
       "2. 'bedrooms'\n",
       "3. 'building_id'\n",
       "4. 'created'\n",
       "5. 'description'\n",
       "6. 'display_address'\n",
       "7. 'features'\n",
       "8. 'latitude'\n",
       "9. 'listing_id'\n",
       "10. 'longitude'\n",
       "11. 'manager_id'\n",
       "12. 'photos'\n",
       "13. 'price'\n",
       "14. 'street_address'\n",
       "15. 'interest_level'\n",
       "\n",
       "\n"
      ],
      "text/plain": [
       " [1] \"bathrooms\"       \"bedrooms\"        \"building_id\"     \"created\"        \n",
       " [5] \"description\"     \"display_address\" \"features\"        \"latitude\"       \n",
       " [9] \"listing_id\"      \"longitude\"       \"manager_id\"      \"photos\"         \n",
       "[13] \"price\"           \"street_address\"  \"interest_level\" "
      ]
     },
     "metadata": {},
     "output_type": "display_data"
    }
   ],
   "source": [
    "names(train_df)"
   ]
  },
  {
   "cell_type": "code",
   "execution_count": 24,
   "metadata": {
    "collapsed": false
   },
   "outputs": [
    {
     "data": {
      "text/html": [
       "<ol class=list-inline>\n",
       "\t<li>'tbl_df'</li>\n",
       "\t<li>'tbl'</li>\n",
       "\t<li>'data.frame'</li>\n",
       "</ol>\n"
      ],
      "text/latex": [
       "\\begin{enumerate*}\n",
       "\\item 'tbl\\_df'\n",
       "\\item 'tbl'\n",
       "\\item 'data.frame'\n",
       "\\end{enumerate*}\n"
      ],
      "text/markdown": [
       "1. 'tbl_df'\n",
       "2. 'tbl'\n",
       "3. 'data.frame'\n",
       "\n",
       "\n"
      ],
      "text/plain": [
       "[1] \"tbl_df\"     \"tbl\"        \"data.frame\""
      ]
     },
     "metadata": {},
     "output_type": "display_data"
    }
   ],
   "source": [
    "class(train_df)"
   ]
  },
  {
   "cell_type": "markdown",
   "metadata": {},
   "source": [
    "#### bathrooms"
   ]
  },
  {
   "cell_type": "code",
   "execution_count": 26,
   "metadata": {
    "collapsed": false
   },
   "outputs": [
    {
     "name": "stdout",
     "output_type": "stream",
     "text": [
      " num [1:49352] 1 1 1 1.5 1 1 2 1 0 3 ...\n"
     ]
    }
   ],
   "source": [
    "str(train_df$bathrooms)"
   ]
  },
  {
   "cell_type": "code",
   "execution_count": 28,
   "metadata": {
    "collapsed": false
   },
   "outputs": [
    {
     "name": "stdout",
     "output_type": "stream",
     "text": [
      "[1] 0\n"
     ]
    }
   ],
   "source": [
    "print(sum(is.na(train_df[, 'bathrooms'])))"
   ]
  },
  {
   "cell_type": "code",
   "execution_count": 29,
   "metadata": {
    "collapsed": false
   },
   "outputs": [
    {
     "name": "stdout",
     "output_type": "stream",
     "text": [
      "   bathrooms     \n",
      " Min.   : 0.000  \n",
      " 1st Qu.: 1.000  \n",
      " Median : 1.000  \n",
      " Mean   : 1.212  \n",
      " 3rd Qu.: 1.000  \n",
      " Max.   :10.000  \n"
     ]
    }
   ],
   "source": [
    "print(summary(train_df[, 'bathrooms']))"
   ]
  },
  {
   "cell_type": "code",
   "execution_count": 32,
   "metadata": {
    "collapsed": false
   },
   "outputs": [
    {
     "data": {
      "text/html": [
       "<ol class=list-inline>\n",
       "\t<li>'tbl_df'</li>\n",
       "\t<li>'tbl'</li>\n",
       "\t<li>'data.frame'</li>\n",
       "</ol>\n"
      ],
      "text/latex": [
       "\\begin{enumerate*}\n",
       "\\item 'tbl\\_df'\n",
       "\\item 'tbl'\n",
       "\\item 'data.frame'\n",
       "\\end{enumerate*}\n"
      ],
      "text/markdown": [
       "1. 'tbl_df'\n",
       "2. 'tbl'\n",
       "3. 'data.frame'\n",
       "\n",
       "\n"
      ],
      "text/plain": [
       "[1] \"tbl_df\"     \"tbl\"        \"data.frame\""
      ]
     },
     "metadata": {},
     "output_type": "display_data"
    }
   ],
   "source": [
    "class(train_df[, 'bathrooms'])"
   ]
  },
  {
   "cell_type": "code",
   "execution_count": 33,
   "metadata": {
    "collapsed": false
   },
   "outputs": [
    {
     "name": "stderr",
     "output_type": "stream",
     "text": [
      "Loading required package: ggplot2\n",
      "Warning message:\n",
      "\"package 'ggplot2' was built under R version 3.3.3\""
     ]
    }
   ],
   "source": [
    "require(ggplot2)"
   ]
  },
  {
   "cell_type": "code",
   "execution_count": 34,
   "metadata": {
    "collapsed": false
   },
   "outputs": [
    {
     "data": {},
     "metadata": {},
     "output_type": "display_data"
    },
    {
     "data": {
      "image/png": "[encoded data removed]",
      "text/plain": [
       "plot without title"
      ]
     },
     "metadata": {},
     "output_type": "display_data"
    }
   ],
   "source": [
    "ggplot(aes(y = bathrooms, x = interest_level), data = train_df) + geom_boxplot()"
   ]
  },
  {
   "cell_type": "code",
   "execution_count": null,
   "metadata": {
    "collapsed": true
   },
   "outputs": [],
   "source": []
  }
 ],
 "metadata": {
  "kernelspec": {
   "display_name": "R",
   "language": "R",
   "name": "ir"
  },
  "language_info": {
   "codemirror_mode": "r",
   "file_extension": ".r",
   "mimetype": "text/x-r-source",
   "name": "R",
   "pygments_lexer": "r",
   "version": "3.3.2"
  }
 },
 "nbformat": 4,
 "nbformat_minor": 2
}
