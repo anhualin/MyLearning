{
 "cells": [
  {
   "cell_type": "code",
   "execution_count": 1,
   "metadata": {
    "collapsed": false
   },
   "outputs": [
    {
     "data": {
      "text/html": [
       "'C:/Users/alin/Documents/SelfStudy/MyLearning/Kaggle/TwoSigma/code'"
      ],
      "text/latex": [
       "'C:/Users/alin/Documents/SelfStudy/MyLearning/Kaggle/TwoSigma/code'"
      ],
      "text/markdown": [
       "'C:/Users/alin/Documents/SelfStudy/MyLearning/Kaggle/TwoSigma/code'"
      ],
      "text/plain": [
       "[1] \"C:/Users/alin/Documents/SelfStudy/MyLearning/Kaggle/TwoSigma/code\""
      ]
     },
     "metadata": {},
     "output_type": "display_data"
    }
   ],
   "source": [
    "getwd()"
   ]
  },
  {
   "cell_type": "code",
   "execution_count": 2,
   "metadata": {
    "collapsed": false
   },
   "outputs": [],
   "source": [
    "setwd('C:/Users/alin/Documents/Kaggle/TwoSigma/data')"
   ]
  },
  {
   "cell_type": "markdown",
   "metadata": {},
   "source": [
    "### Load data"
   ]
  },
  {
   "cell_type": "code",
   "execution_count": 26,
   "metadata": {
    "collapsed": false
   },
   "outputs": [
    {
     "name": "stderr",
     "output_type": "stream",
     "text": [
      "Warning message:\n",
      "\"package 'lubridate' was built under R version 3.3.3\""
     ]
    }
   ],
   "source": [
    "packages <- c(\"jsonlite\", \"dplyr\", \"purrr\", \"tidytext\", \"tibble\", \"ggplot2\", \"lubridate\")\n",
    "purrr::walk(packages, library, character.only = TRUE, warn.conflicts = FALSE)"
   ]
  },
  {
   "cell_type": "code",
   "execution_count": 4,
   "metadata": {
    "collapsed": true
   },
   "outputs": [],
   "source": [
    "data <- fromJSON('train.json')"
   ]
  },
  {
   "cell_type": "code",
   "execution_count": 5,
   "metadata": {
    "collapsed": false
   },
   "outputs": [
    {
     "data": {
      "text/html": [
       "<ol class=list-inline>\n",
       "\t<li>'bathrooms'</li>\n",
       "\t<li>'bedrooms'</li>\n",
       "\t<li>'building_id'</li>\n",
       "\t<li>'created'</li>\n",
       "\t<li>'description'</li>\n",
       "\t<li>'display_address'</li>\n",
       "\t<li>'features'</li>\n",
       "\t<li>'latitude'</li>\n",
       "\t<li>'listing_id'</li>\n",
       "\t<li>'longitude'</li>\n",
       "\t<li>'manager_id'</li>\n",
       "\t<li>'photos'</li>\n",
       "\t<li>'price'</li>\n",
       "\t<li>'street_address'</li>\n",
       "\t<li>'interest_level'</li>\n",
       "</ol>\n"
      ],
      "text/latex": [
       "\\begin{enumerate*}\n",
       "\\item 'bathrooms'\n",
       "\\item 'bedrooms'\n",
       "\\item 'building\\_id'\n",
       "\\item 'created'\n",
       "\\item 'description'\n",
       "\\item 'display\\_address'\n",
       "\\item 'features'\n",
       "\\item 'latitude'\n",
       "\\item 'listing\\_id'\n",
       "\\item 'longitude'\n",
       "\\item 'manager\\_id'\n",
       "\\item 'photos'\n",
       "\\item 'price'\n",
       "\\item 'street\\_address'\n",
       "\\item 'interest\\_level'\n",
       "\\end{enumerate*}\n"
      ],
      "text/markdown": [
       "1. 'bathrooms'\n",
       "2. 'bedrooms'\n",
       "3. 'building_id'\n",
       "4. 'created'\n",
       "5. 'description'\n",
       "6. 'display_address'\n",
       "7. 'features'\n",
       "8. 'latitude'\n",
       "9. 'listing_id'\n",
       "10. 'longitude'\n",
       "11. 'manager_id'\n",
       "12. 'photos'\n",
       "13. 'price'\n",
       "14. 'street_address'\n",
       "15. 'interest_level'\n",
       "\n",
       "\n"
      ],
      "text/plain": [
       " [1] \"bathrooms\"       \"bedrooms\"        \"building_id\"     \"created\"        \n",
       " [5] \"description\"     \"display_address\" \"features\"        \"latitude\"       \n",
       " [9] \"listing_id\"      \"longitude\"       \"manager_id\"      \"photos\"         \n",
       "[13] \"price\"           \"street_address\"  \"interest_level\" "
      ]
     },
     "metadata": {},
     "output_type": "display_data"
    }
   ],
   "source": [
    "names(data)"
   ]
  },
  {
   "cell_type": "markdown",
   "metadata": {},
   "source": [
    "#### convert to tibble\n",
    "\n",
    "#### we ignore photos and features for now"
   ]
  },
  {
   "cell_type": "code",
   "execution_count": 6,
   "metadata": {
    "collapsed": true
   },
   "outputs": [],
   "source": [
    "vars <- setdiff(names(data), c('photos', 'features'))"
   ]
  },
  {
   "cell_type": "code",
   "execution_count": 7,
   "metadata": {
    "collapsed": false
   },
   "outputs": [],
   "source": [
    "train_df <- map_at(data, vars, unlist) %>%\n",
    "            as_tibble(.) %>%\n",
    "            mutate(interest_level = factor(interest_level, c('low', 'medium', 'high')))"
   ]
  },
  {
   "cell_type": "code",
   "execution_count": 8,
   "metadata": {
    "collapsed": false
   },
   "outputs": [],
   "source": [
    "#head(train_df)"
   ]
  },
  {
   "cell_type": "code",
   "execution_count": 9,
   "metadata": {
    "collapsed": false
   },
   "outputs": [
    {
     "data": {
      "text/html": [
       "<ol class=list-inline>\n",
       "\t<li>'bathrooms'</li>\n",
       "\t<li>'bedrooms'</li>\n",
       "\t<li>'building_id'</li>\n",
       "\t<li>'created'</li>\n",
       "\t<li>'description'</li>\n",
       "\t<li>'display_address'</li>\n",
       "\t<li>'features'</li>\n",
       "\t<li>'latitude'</li>\n",
       "\t<li>'listing_id'</li>\n",
       "\t<li>'longitude'</li>\n",
       "\t<li>'manager_id'</li>\n",
       "\t<li>'photos'</li>\n",
       "\t<li>'price'</li>\n",
       "\t<li>'street_address'</li>\n",
       "\t<li>'interest_level'</li>\n",
       "</ol>\n"
      ],
      "text/latex": [
       "\\begin{enumerate*}\n",
       "\\item 'bathrooms'\n",
       "\\item 'bedrooms'\n",
       "\\item 'building\\_id'\n",
       "\\item 'created'\n",
       "\\item 'description'\n",
       "\\item 'display\\_address'\n",
       "\\item 'features'\n",
       "\\item 'latitude'\n",
       "\\item 'listing\\_id'\n",
       "\\item 'longitude'\n",
       "\\item 'manager\\_id'\n",
       "\\item 'photos'\n",
       "\\item 'price'\n",
       "\\item 'street\\_address'\n",
       "\\item 'interest\\_level'\n",
       "\\end{enumerate*}\n"
      ],
      "text/markdown": [
       "1. 'bathrooms'\n",
       "2. 'bedrooms'\n",
       "3. 'building_id'\n",
       "4. 'created'\n",
       "5. 'description'\n",
       "6. 'display_address'\n",
       "7. 'features'\n",
       "8. 'latitude'\n",
       "9. 'listing_id'\n",
       "10. 'longitude'\n",
       "11. 'manager_id'\n",
       "12. 'photos'\n",
       "13. 'price'\n",
       "14. 'street_address'\n",
       "15. 'interest_level'\n",
       "\n",
       "\n"
      ],
      "text/plain": [
       " [1] \"bathrooms\"       \"bedrooms\"        \"building_id\"     \"created\"        \n",
       " [5] \"description\"     \"display_address\" \"features\"        \"latitude\"       \n",
       " [9] \"listing_id\"      \"longitude\"       \"manager_id\"      \"photos\"         \n",
       "[13] \"price\"           \"street_address\"  \"interest_level\" "
      ]
     },
     "metadata": {},
     "output_type": "display_data"
    }
   ],
   "source": [
    "names(train_df)"
   ]
  },
  {
   "cell_type": "code",
   "execution_count": 10,
   "metadata": {
    "collapsed": false
   },
   "outputs": [
    {
     "data": {
      "text/html": [
       "<ol class=list-inline>\n",
       "\t<li>'tbl_df'</li>\n",
       "\t<li>'tbl'</li>\n",
       "\t<li>'data.frame'</li>\n",
       "</ol>\n"
      ],
      "text/latex": [
       "\\begin{enumerate*}\n",
       "\\item 'tbl\\_df'\n",
       "\\item 'tbl'\n",
       "\\item 'data.frame'\n",
       "\\end{enumerate*}\n"
      ],
      "text/markdown": [
       "1. 'tbl_df'\n",
       "2. 'tbl'\n",
       "3. 'data.frame'\n",
       "\n",
       "\n"
      ],
      "text/plain": [
       "[1] \"tbl_df\"     \"tbl\"        \"data.frame\""
      ]
     },
     "metadata": {},
     "output_type": "display_data"
    }
   ],
   "source": [
    "class(train_df)"
   ]
  },
  {
   "cell_type": "markdown",
   "metadata": {},
   "source": [
    "### Single variable exploration"
   ]
  },
  {
   "cell_type": "code",
   "execution_count": 11,
   "metadata": {
    "collapsed": true
   },
   "outputs": [],
   "source": [
    "interest_levels = levels(train_df$interest_level)"
   ]
  },
  {
   "cell_type": "markdown",
   "metadata": {},
   "source": [
    "#### functions for numeric variables and \"cat variables\""
   ]
  },
  {
   "cell_type": "code",
   "execution_count": 58,
   "metadata": {
    "collapsed": false
   },
   "outputs": [],
   "source": [
    "pull <- function(x,y) {\n",
    "    #utility function to pull a column from a tibble as a vector\n",
    "    x[,if(is.name(substitute(y))) deparse(substitute(y)) else y, drop = FALSE][[1]]\n",
    "  }\n",
    "        \n",
    "single_num <- function(dSet, feature){\n",
    "  #for numerical feature\n",
    "  val<- dSet %>% pull(as.character(feature))\n",
    "  print(paste(\"num of NA is \", sum(is.na(val))))\n",
    "  print(\"general summary:\")\n",
    "  print(summary(val))\n",
    "  for(lvl in interest_levels){\n",
    "      print(paste(\"summary of \", lvl, \"-interest:\"))\n",
    "      val <- dSet[dSet$interest_level == lvl,] %>% pull(as.character(feature))\n",
    "      print(summary(val))\n",
    "  }\n",
    "  \n",
    "}     \n",
    "\n",
    "\n",
    "single_cat <- function(dSet, feature){\n",
    "    tab <- table(feature = train_df[, feature], target = train_df$interest_level)\n",
    "    print(tab)\n",
    "    print(tab/(tab[,1] + tab[, 2] + tab[, 3]))\n",
    "}"
   ]
  },
  {
   "cell_type": "markdown",
   "metadata": {},
   "source": [
    "#### bathrooms"
   ]
  },
  {
   "cell_type": "code",
   "execution_count": 59,
   "metadata": {
    "collapsed": false
   },
   "outputs": [
    {
     "name": "stdout",
     "output_type": "stream",
     "text": [
      "[1] \"num of NA is  0\"\n",
      "[1] \"general summary:\"\n",
      "   Min. 1st Qu.  Median    Mean 3rd Qu.    Max. \n",
      "  0.000   1.000   1.000   1.212   1.000  10.000 \n",
      "[1] \"summary of  low -interest:\"\n",
      "   Min. 1st Qu.  Median    Mean 3rd Qu.    Max. \n",
      "  0.000   1.000   1.000   1.239   1.000  10.000 \n",
      "[1] \"summary of  medium -interest:\"\n",
      "   Min. 1st Qu.  Median    Mean 3rd Qu.    Max. \n",
      "  0.000   1.000   1.000   1.164   1.000   4.000 \n",
      "[1] \"summary of  high -interest:\"\n",
      "   Min. 1st Qu.  Median    Mean 3rd Qu.    Max. \n",
      "  0.000   1.000   1.000   1.116   1.000   4.000 \n"
     ]
    }
   ],
   "source": [
    "single_num(train_df, 'bathrooms')"
   ]
  },
  {
   "cell_type": "code",
   "execution_count": 15,
   "metadata": {
    "collapsed": false
   },
   "outputs": [
    {
     "data": {},
     "metadata": {},
     "output_type": "display_data"
    },
    {
     "data": {
      "image/png": "[encoded data removed]",
      "text/plain": [
       "plot without title"
      ]
     },
     "metadata": {},
     "output_type": "display_data"
    }
   ],
   "source": [
    "ggplot(data=train_df) +\n",
    "  geom_density(aes(x = bathrooms,\n",
    "                   color = interest_level,\n",
    "                   linetype = interest_level ))"
   ]
  },
  {
   "cell_type": "markdown",
   "metadata": {
    "collapsed": true
   },
   "source": [
    "#### not much difference,  61 low interest cases have many rooms"
   ]
  },
  {
   "cell_type": "markdown",
   "metadata": {},
   "source": [
    "#### bedrooms"
   ]
  },
  {
   "cell_type": "code",
   "execution_count": 16,
   "metadata": {
    "collapsed": false
   },
   "outputs": [
    {
     "name": "stdout",
     "output_type": "stream",
     "text": [
      "[1] \"num of NA is  0\"\n",
      "[1] \"general summary:\"\n",
      "    bedrooms    \n",
      " Min.   :0.000  \n",
      " 1st Qu.:1.000  \n",
      " Median :1.000  \n",
      " Mean   :1.542  \n",
      " 3rd Qu.:2.000  \n",
      " Max.   :8.000  \n",
      "[1] \"summary of  low -interest:\"\n",
      "    bedrooms    \n",
      " Min.   :0.000  \n",
      " 1st Qu.:1.000  \n",
      " Median :1.000  \n",
      " Mean   :1.515  \n",
      " 3rd Qu.:2.000  \n",
      " Max.   :8.000  \n",
      "[1] \"summary of  medium -interest:\"\n",
      "    bedrooms    \n",
      " Min.   :0.000  \n",
      " 1st Qu.:1.000  \n",
      " Median :2.000  \n",
      " Mean   :1.622  \n",
      " 3rd Qu.:2.000  \n",
      " Max.   :7.000  \n",
      "[1] \"summary of  high -interest:\"\n",
      "    bedrooms    \n",
      " Min.   :0.000  \n",
      " 1st Qu.:1.000  \n",
      " Median :2.000  \n",
      " Mean   :1.546  \n",
      " 3rd Qu.:2.000  \n",
      " Max.   :5.000  \n"
     ]
    }
   ],
   "source": [
    "single_num(train_df, 'bedrooms')"
   ]
  },
  {
   "cell_type": "code",
   "execution_count": 20,
   "metadata": {
    "collapsed": false
   },
   "outputs": [
    {
     "name": "stdout",
     "output_type": "stream",
     "text": [
      "       target\n",
      "feature   low medium  high\n",
      "      0  6518   2110   847\n",
      "      1 11715   3094   943\n",
      "      2  9801   3516  1306\n",
      "      3  4727   1957   592\n",
      "      4  1233    547   149\n",
      "      5   243      2     2\n",
      "      6    44      2     0\n",
      "      7     1      1     0\n",
      "      8     2      0     0\n",
      "       target\n",
      "feature         low      medium        high\n",
      "      0 0.687915567 0.222691293 0.089393140\n",
      "      1 0.743715084 0.196419502 0.059865414\n",
      "      2 0.670245504 0.240443138 0.089311359\n",
      "      3 0.649670148 0.268966465 0.081363386\n",
      "      4 0.639191291 0.283566615 0.077242094\n",
      "      5 0.983805668 0.008097166 0.008097166\n",
      "      6 0.956521739 0.043478261 0.000000000\n",
      "      7 0.500000000 0.500000000 0.000000000\n",
      "      8 1.000000000 0.000000000 0.000000000\n"
     ]
    }
   ],
   "source": [
    "\n",
    "tab <- table(feature = train_df$bedrooms, target = train_df$interest_level)\n",
    "print(tab)\n",
    "print(tab/(tab[,1] + tab[, 2] + tab[, 3]))"
   ]
  },
  {
   "cell_type": "code",
   "execution_count": 42,
   "metadata": {
    "collapsed": false
   },
   "outputs": [
    {
     "name": "stdout",
     "output_type": "stream",
     "text": [
      "       target\n",
      "feature   low medium  high\n",
      "      0  6518   2110   847\n",
      "      1 11715   3094   943\n",
      "      2  9801   3516  1306\n",
      "      3  4727   1957   592\n",
      "      4  1233    547   149\n",
      "      5   243      2     2\n",
      "      6    44      2     0\n",
      "      7     1      1     0\n",
      "      8     2      0     0\n"
     ]
    }
   ],
   "source": [
    "pull <- function(x,y) {\n",
    "    x[,if(is.name(substitute(y))) deparse(substitute(y)) else y, drop = FALSE][[1]]\n",
    "  }\n",
    "tab <- table(feature = train_df %>% pull('bedrooms'), target = train_df$interest_level)\n",
    "print(tab)"
   ]
  },
  {
   "cell_type": "code",
   "execution_count": 39,
   "metadata": {
    "collapsed": false
   },
   "outputs": [
    {
     "data": {
      "text/html": [
       "<ol class=list-inline>\n",
       "\t<li>'tbl_df'</li>\n",
       "\t<li>'tbl'</li>\n",
       "\t<li>'data.frame'</li>\n",
       "</ol>\n"
      ],
      "text/latex": [
       "\\begin{enumerate*}\n",
       "\\item 'tbl\\_df'\n",
       "\\item 'tbl'\n",
       "\\item 'data.frame'\n",
       "\\end{enumerate*}\n"
      ],
      "text/markdown": [
       "1. 'tbl_df'\n",
       "2. 'tbl'\n",
       "3. 'data.frame'\n",
       "\n",
       "\n"
      ],
      "text/plain": [
       "[1] \"tbl_df\"     \"tbl\"        \"data.frame\""
      ]
     },
     "metadata": {},
     "output_type": "display_data"
    }
   ],
   "source": [
    "class(train_df)"
   ]
  },
  {
   "cell_type": "markdown",
   "metadata": {},
   "source": [
    "#### created\n",
    "\n",
    "extract year/month/day from created"
   ]
  },
  {
   "cell_type": "code",
   "execution_count": 30,
   "metadata": {
    "collapsed": false
   },
   "outputs": [],
   "source": [
    "train_df$year = year(train_df$created)\n",
    "train_df$month = month(train_df$created)\n",
    "train_df$day = day(train_df$created)"
   ]
  },
  {
   "cell_type": "code",
   "execution_count": 35,
   "metadata": {
    "collapsed": false
   },
   "outputs": [
    {
     "name": "stdout",
     "output_type": "stream",
     "text": [
      "[1] \"year distribution:\"\n",
      "\n",
      " 2016 \n",
      "49352 \n",
      "[1] \"month distribution:\"\n",
      "\n",
      "    4     5     6 \n",
      "16411 15797 17144 \n",
      "[1] \"day distribution:\"\n",
      "\n",
      "   1    2    3    4    5    6    7    8    9   10   11   12   13   14   15   16 \n",
      " 894 1783 1803 1493 1808 1851 1764 1655 1514 1603 1702 2348 1736 1951 1701 1891 \n",
      "  17   18   19   20   21   22   23   24   25   26   27   28   29   30   31 \n",
      "1615 1483 1412 1762 2475 1669 1049 1862 1458 1470 1588 1644 1641  721    6 \n"
     ]
    }
   ],
   "source": [
    "print(\"year distribution:\")\n",
    "print(table(train_df$year))\n",
    "print(\"month distribution:\")\n",
    "print(table(train_df$month))\n",
    "print(\"day distribution:\")\n",
    "print(table(train_df$day))"
   ]
  },
  {
   "cell_type": "code",
   "execution_count": 33,
   "metadata": {
    "collapsed": false
   },
   "outputs": [
    {
     "name": "stdout",
     "output_type": "stream",
     "text": [
      "\n",
      " 2016 \n",
      "49352 \n"
     ]
    }
   ],
   "source": [
    "print(table(train_df$year))"
   ]
  },
  {
   "cell_type": "code",
   "execution_count": null,
   "metadata": {
    "collapsed": true
   },
   "outputs": [],
   "source": []
  }
 ],
 "metadata": {
  "kernelspec": {
   "display_name": "R",
   "language": "R",
   "name": "ir"
  },
  "language_info": {
   "codemirror_mode": "r",
   "file_extension": ".r",
   "mimetype": "text/x-r-source",
   "name": "R",
   "pygments_lexer": "r",
   "version": "3.3.2"
  }
 },
 "nbformat": 4,
 "nbformat_minor": 2
}
