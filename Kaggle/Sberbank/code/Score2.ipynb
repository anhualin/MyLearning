{
 "cells": [
  {
   "cell_type": "code",
   "execution_count": 1,
   "metadata": {},
   "outputs": [
    {
     "name": "stdout",
     "output_type": "stream",
     "text": [
      "/home/alin/MyLearning/Kaggle/Sberbank/data/\n"
     ]
    }
   ],
   "source": [
    "from sys import platform\n",
    "if platform == 'linux' or platform == 'linux2':\n",
    "    datapath = '/home/alin/MyLearning/Kaggle/Sberbank/data/'\n",
    "else:\n",
    "    datapath = 'C:/Users/alin/Documents/SelfStudy/MyLearning/Kaggle/Sberbank/data/'\n",
    "print datapath"
   ]
  },
  {
   "cell_type": "code",
   "execution_count": 2,
   "metadata": {
    "collapsed": true
   },
   "outputs": [],
   "source": [
    "import numpy as np\n",
    "import pandas as pd\n",
    "\n",
    "import matplotlib.pyplot as plt"
   ]
  },
  {
   "cell_type": "code",
   "execution_count": 3,
   "metadata": {
    "collapsed": true
   },
   "outputs": [],
   "source": [
    "import xgboost as xgb"
   ]
  },
  {
   "cell_type": "code",
   "execution_count": 4,
   "metadata": {
    "collapsed": true
   },
   "outputs": [],
   "source": [
    "#from xgboost.sklearn import XGBClassifier"
   ]
  },
  {
   "cell_type": "code",
   "execution_count": 5,
   "metadata": {
    "collapsed": true
   },
   "outputs": [],
   "source": [
    "#%matplotlib inline"
   ]
  },
  {
   "cell_type": "code",
   "execution_count": 4,
   "metadata": {
    "collapsed": true
   },
   "outputs": [],
   "source": [
    "# From here: https://www.kaggle.com/robertoruiz/sberbank-russian-housing-market/dealing-with-multicollinearity/notebook\n",
    "macro_cols = [\"balance_trade\", \"balance_trade_growth\", \"eurrub\", \"average_provision_of_build_contract\",\n",
    "\"micex_rgbi_tr\", \"micex_cbi_tr\", \"deposits_rate\", \"mortgage_value\", \"mortgage_rate\",\n",
    "\"income_per_cap\", \"rent_price_4+room_bus\", \"museum_visitis_per_100_cap\", \"apartment_build\"]"
   ]
  },
  {
   "cell_type": "code",
   "execution_count": 5,
   "metadata": {
    "collapsed": true
   },
   "outputs": [],
   "source": [
    "%qtconsole"
   ]
  },
  {
   "cell_type": "code",
   "execution_count": 15,
   "metadata": {
    "collapsed": true
   },
   "outputs": [],
   "source": [
    "train_df = pd.read_csv(datapath + 'train.csv', parse_dates=['timestamp'])\n",
    "test_df = pd.read_csv(datapath + 'test.csv', parse_dates = ['timestamp'])\n",
    "macro_df = pd.read_csv(datapath + 'macro.csv', parse_dates=['timestamp'], usecols=['timestamp'] + macro_cols)\n"
   ]
  },
  {
   "cell_type": "code",
   "execution_count": 34,
   "metadata": {},
   "outputs": [
    {
     "ename": "KeyError",
     "evalue": "'price_doc'",
     "output_type": "error",
     "traceback": [
      "\u001b[0;31m---------------------------------------------------------------------------\u001b[0m",
      "\u001b[0;31mKeyError\u001b[0m                                  Traceback (most recent call last)",
      "\u001b[0;32m<ipython-input-34-41ac960c1013>\u001b[0m in \u001b[0;36m<module>\u001b[0;34m()\u001b[0m\n\u001b[0;32m----> 1\u001b[0;31m \u001b[0mylog_train_all\u001b[0m \u001b[0;34m=\u001b[0m \u001b[0mnp\u001b[0m\u001b[0;34m.\u001b[0m\u001b[0mlog1p\u001b[0m\u001b[0;34m(\u001b[0m\u001b[0mtrain_df\u001b[0m\u001b[0;34m[\u001b[0m\u001b[0;34m'price_doc'\u001b[0m\u001b[0;34m]\u001b[0m\u001b[0;34m.\u001b[0m\u001b[0mvalues\u001b[0m\u001b[0;34m)\u001b[0m\u001b[0;34m\u001b[0m\u001b[0m\n\u001b[0m",
      "\u001b[0;32m/usr/local/lib/python2.7/dist-packages/pandas/core/frame.pyc\u001b[0m in \u001b[0;36m__getitem__\u001b[0;34m(self, key)\u001b[0m\n\u001b[1;32m   2057\u001b[0m             \u001b[0;32mreturn\u001b[0m \u001b[0mself\u001b[0m\u001b[0;34m.\u001b[0m\u001b[0m_getitem_multilevel\u001b[0m\u001b[0;34m(\u001b[0m\u001b[0mkey\u001b[0m\u001b[0;34m)\u001b[0m\u001b[0;34m\u001b[0m\u001b[0m\n\u001b[1;32m   2058\u001b[0m         \u001b[0;32melse\u001b[0m\u001b[0;34m:\u001b[0m\u001b[0;34m\u001b[0m\u001b[0m\n\u001b[0;32m-> 2059\u001b[0;31m             \u001b[0;32mreturn\u001b[0m \u001b[0mself\u001b[0m\u001b[0;34m.\u001b[0m\u001b[0m_getitem_column\u001b[0m\u001b[0;34m(\u001b[0m\u001b[0mkey\u001b[0m\u001b[0;34m)\u001b[0m\u001b[0;34m\u001b[0m\u001b[0m\n\u001b[0m\u001b[1;32m   2060\u001b[0m \u001b[0;34m\u001b[0m\u001b[0m\n\u001b[1;32m   2061\u001b[0m     \u001b[0;32mdef\u001b[0m \u001b[0m_getitem_column\u001b[0m\u001b[0;34m(\u001b[0m\u001b[0mself\u001b[0m\u001b[0;34m,\u001b[0m \u001b[0mkey\u001b[0m\u001b[0;34m)\u001b[0m\u001b[0;34m:\u001b[0m\u001b[0;34m\u001b[0m\u001b[0m\n",
      "\u001b[0;32m/usr/local/lib/python2.7/dist-packages/pandas/core/frame.pyc\u001b[0m in \u001b[0;36m_getitem_column\u001b[0;34m(self, key)\u001b[0m\n\u001b[1;32m   2064\u001b[0m         \u001b[0;31m# get column\u001b[0m\u001b[0;34m\u001b[0m\u001b[0;34m\u001b[0m\u001b[0m\n\u001b[1;32m   2065\u001b[0m         \u001b[0;32mif\u001b[0m \u001b[0mself\u001b[0m\u001b[0;34m.\u001b[0m\u001b[0mcolumns\u001b[0m\u001b[0;34m.\u001b[0m\u001b[0mis_unique\u001b[0m\u001b[0;34m:\u001b[0m\u001b[0;34m\u001b[0m\u001b[0m\n\u001b[0;32m-> 2066\u001b[0;31m             \u001b[0;32mreturn\u001b[0m \u001b[0mself\u001b[0m\u001b[0;34m.\u001b[0m\u001b[0m_get_item_cache\u001b[0m\u001b[0;34m(\u001b[0m\u001b[0mkey\u001b[0m\u001b[0;34m)\u001b[0m\u001b[0;34m\u001b[0m\u001b[0m\n\u001b[0m\u001b[1;32m   2067\u001b[0m \u001b[0;34m\u001b[0m\u001b[0m\n\u001b[1;32m   2068\u001b[0m         \u001b[0;31m# duplicate columns & possible reduce dimensionality\u001b[0m\u001b[0;34m\u001b[0m\u001b[0;34m\u001b[0m\u001b[0m\n",
      "\u001b[0;32m/usr/local/lib/python2.7/dist-packages/pandas/core/generic.pyc\u001b[0m in \u001b[0;36m_get_item_cache\u001b[0;34m(self, item)\u001b[0m\n\u001b[1;32m   1384\u001b[0m         \u001b[0mres\u001b[0m \u001b[0;34m=\u001b[0m \u001b[0mcache\u001b[0m\u001b[0;34m.\u001b[0m\u001b[0mget\u001b[0m\u001b[0;34m(\u001b[0m\u001b[0mitem\u001b[0m\u001b[0;34m)\u001b[0m\u001b[0;34m\u001b[0m\u001b[0m\n\u001b[1;32m   1385\u001b[0m         \u001b[0;32mif\u001b[0m \u001b[0mres\u001b[0m \u001b[0;32mis\u001b[0m \u001b[0mNone\u001b[0m\u001b[0;34m:\u001b[0m\u001b[0;34m\u001b[0m\u001b[0m\n\u001b[0;32m-> 1386\u001b[0;31m             \u001b[0mvalues\u001b[0m \u001b[0;34m=\u001b[0m \u001b[0mself\u001b[0m\u001b[0;34m.\u001b[0m\u001b[0m_data\u001b[0m\u001b[0;34m.\u001b[0m\u001b[0mget\u001b[0m\u001b[0;34m(\u001b[0m\u001b[0mitem\u001b[0m\u001b[0;34m)\u001b[0m\u001b[0;34m\u001b[0m\u001b[0m\n\u001b[0m\u001b[1;32m   1387\u001b[0m             \u001b[0mres\u001b[0m \u001b[0;34m=\u001b[0m \u001b[0mself\u001b[0m\u001b[0;34m.\u001b[0m\u001b[0m_box_item_values\u001b[0m\u001b[0;34m(\u001b[0m\u001b[0mitem\u001b[0m\u001b[0;34m,\u001b[0m \u001b[0mvalues\u001b[0m\u001b[0;34m)\u001b[0m\u001b[0;34m\u001b[0m\u001b[0m\n\u001b[1;32m   1388\u001b[0m             \u001b[0mcache\u001b[0m\u001b[0;34m[\u001b[0m\u001b[0mitem\u001b[0m\u001b[0;34m]\u001b[0m \u001b[0;34m=\u001b[0m \u001b[0mres\u001b[0m\u001b[0;34m\u001b[0m\u001b[0m\n",
      "\u001b[0;32m/usr/local/lib/python2.7/dist-packages/pandas/core/internals.pyc\u001b[0m in \u001b[0;36mget\u001b[0;34m(self, item, fastpath)\u001b[0m\n\u001b[1;32m   3539\u001b[0m \u001b[0;34m\u001b[0m\u001b[0m\n\u001b[1;32m   3540\u001b[0m             \u001b[0;32mif\u001b[0m \u001b[0;32mnot\u001b[0m \u001b[0misnull\u001b[0m\u001b[0;34m(\u001b[0m\u001b[0mitem\u001b[0m\u001b[0;34m)\u001b[0m\u001b[0;34m:\u001b[0m\u001b[0;34m\u001b[0m\u001b[0m\n\u001b[0;32m-> 3541\u001b[0;31m                 \u001b[0mloc\u001b[0m \u001b[0;34m=\u001b[0m \u001b[0mself\u001b[0m\u001b[0;34m.\u001b[0m\u001b[0mitems\u001b[0m\u001b[0;34m.\u001b[0m\u001b[0mget_loc\u001b[0m\u001b[0;34m(\u001b[0m\u001b[0mitem\u001b[0m\u001b[0;34m)\u001b[0m\u001b[0;34m\u001b[0m\u001b[0m\n\u001b[0m\u001b[1;32m   3542\u001b[0m             \u001b[0;32melse\u001b[0m\u001b[0;34m:\u001b[0m\u001b[0;34m\u001b[0m\u001b[0m\n\u001b[1;32m   3543\u001b[0m                 \u001b[0mindexer\u001b[0m \u001b[0;34m=\u001b[0m \u001b[0mnp\u001b[0m\u001b[0;34m.\u001b[0m\u001b[0marange\u001b[0m\u001b[0;34m(\u001b[0m\u001b[0mlen\u001b[0m\u001b[0;34m(\u001b[0m\u001b[0mself\u001b[0m\u001b[0;34m.\u001b[0m\u001b[0mitems\u001b[0m\u001b[0;34m)\u001b[0m\u001b[0;34m)\u001b[0m\u001b[0;34m[\u001b[0m\u001b[0misnull\u001b[0m\u001b[0;34m(\u001b[0m\u001b[0mself\u001b[0m\u001b[0;34m.\u001b[0m\u001b[0mitems\u001b[0m\u001b[0;34m)\u001b[0m\u001b[0;34m]\u001b[0m\u001b[0;34m\u001b[0m\u001b[0m\n",
      "\u001b[0;32m/usr/local/lib/python2.7/dist-packages/pandas/indexes/base.pyc\u001b[0m in \u001b[0;36mget_loc\u001b[0;34m(self, key, method, tolerance)\u001b[0m\n\u001b[1;32m   2134\u001b[0m                 \u001b[0;32mreturn\u001b[0m \u001b[0mself\u001b[0m\u001b[0;34m.\u001b[0m\u001b[0m_engine\u001b[0m\u001b[0;34m.\u001b[0m\u001b[0mget_loc\u001b[0m\u001b[0;34m(\u001b[0m\u001b[0mkey\u001b[0m\u001b[0;34m)\u001b[0m\u001b[0;34m\u001b[0m\u001b[0m\n\u001b[1;32m   2135\u001b[0m             \u001b[0;32mexcept\u001b[0m \u001b[0mKeyError\u001b[0m\u001b[0;34m:\u001b[0m\u001b[0;34m\u001b[0m\u001b[0m\n\u001b[0;32m-> 2136\u001b[0;31m                 \u001b[0;32mreturn\u001b[0m \u001b[0mself\u001b[0m\u001b[0;34m.\u001b[0m\u001b[0m_engine\u001b[0m\u001b[0;34m.\u001b[0m\u001b[0mget_loc\u001b[0m\u001b[0;34m(\u001b[0m\u001b[0mself\u001b[0m\u001b[0;34m.\u001b[0m\u001b[0m_maybe_cast_indexer\u001b[0m\u001b[0;34m(\u001b[0m\u001b[0mkey\u001b[0m\u001b[0;34m)\u001b[0m\u001b[0;34m)\u001b[0m\u001b[0;34m\u001b[0m\u001b[0m\n\u001b[0m\u001b[1;32m   2137\u001b[0m \u001b[0;34m\u001b[0m\u001b[0m\n\u001b[1;32m   2138\u001b[0m         \u001b[0mindexer\u001b[0m \u001b[0;34m=\u001b[0m \u001b[0mself\u001b[0m\u001b[0;34m.\u001b[0m\u001b[0mget_indexer\u001b[0m\u001b[0;34m(\u001b[0m\u001b[0;34m[\u001b[0m\u001b[0mkey\u001b[0m\u001b[0;34m]\u001b[0m\u001b[0;34m,\u001b[0m \u001b[0mmethod\u001b[0m\u001b[0;34m=\u001b[0m\u001b[0mmethod\u001b[0m\u001b[0;34m,\u001b[0m \u001b[0mtolerance\u001b[0m\u001b[0;34m=\u001b[0m\u001b[0mtolerance\u001b[0m\u001b[0;34m)\u001b[0m\u001b[0;34m\u001b[0m\u001b[0m\n",
      "\u001b[0;32mpandas/index.pyx\u001b[0m in \u001b[0;36mpandas.index.IndexEngine.get_loc (pandas/index.c:4443)\u001b[0;34m()\u001b[0m\n",
      "\u001b[0;32mpandas/index.pyx\u001b[0m in \u001b[0;36mpandas.index.IndexEngine.get_loc (pandas/index.c:4289)\u001b[0;34m()\u001b[0m\n",
      "\u001b[0;32mpandas/src/hashtable_class_helper.pxi\u001b[0m in \u001b[0;36mpandas.hashtable.PyObjectHashTable.get_item (pandas/hashtable.c:13733)\u001b[0;34m()\u001b[0m\n",
      "\u001b[0;32mpandas/src/hashtable_class_helper.pxi\u001b[0m in \u001b[0;36mpandas.hashtable.PyObjectHashTable.get_item (pandas/hashtable.c:13687)\u001b[0;34m()\u001b[0m\n",
      "\u001b[0;31mKeyError\u001b[0m: 'price_doc'"
     ]
    }
   ],
   "source": [
    "ylog_train_all = np.log1p(train_df['price_doc'].values)\n"
   ]
  },
  {
   "cell_type": "code",
   "execution_count": 17,
   "metadata": {
    "collapsed": true
   },
   "outputs": [],
   "source": [
    "train_df.drop(['id', 'price_doc'], axis = 1, inplace = True)\n",
    "tid = test_df.id.copy()\n",
    "test_df.drop(['id'], axis = 1, inplace = True)"
   ]
  },
  {
   "cell_type": "code",
   "execution_count": 18,
   "metadata": {
    "collapsed": true
   },
   "outputs": [],
   "source": [
    "all_df = pd.merge(train_df, macro_df, on = 'timestamp', how = 'left')\n",
    "all_test = pd.merge(test_df, macro_df, on = 'timestamp', how = 'left')"
   ]
  },
  {
   "cell_type": "code",
   "execution_count": 19,
   "metadata": {},
   "outputs": [],
   "source": [
    "month_year = (all_df.timestamp.dt.month + all_df.timestamp.dt.year * 100)\n",
    "month_year_cnt_map = month_year.value_counts().to_dict()\n",
    "all_df['month_year_cnt'] = month_year.map(month_year_cnt_map)\n",
    "\n",
    "\n",
    "test_month_year = (all_test.timestamp.dt.month + all_test.timestamp.dt.year * 100)\n",
    "test_month_year_cnt_map = test_month_year.value_counts().to_dict()\n",
    "all_test['month_year_cnt'] = test_month_year.map(test_month_year_cnt_map)"
   ]
  },
  {
   "cell_type": "code",
   "execution_count": 20,
   "metadata": {
    "collapsed": true
   },
   "outputs": [],
   "source": [
    "week_year = (all_df.timestamp.dt.weekofyear + all_df.timestamp.dt.year * 100)\n",
    "week_year_cnt_map = week_year.value_counts().to_dict()\n",
    "all_df['week_year_cnt'] = week_year.map(week_year_cnt_map)\n",
    "\n",
    "test_week_year = (all_test.timestamp.dt.weekofyear + all_test.timestamp.dt.year * 100)\n",
    "test_week_year_cnt_map = test_week_year.value_counts().to_dict()\n",
    "all_test['week_year_cnt'] = test_week_year.map(test_week_year_cnt_map)\n"
   ]
  },
  {
   "cell_type": "code",
   "execution_count": 21,
   "metadata": {
    "collapsed": true
   },
   "outputs": [],
   "source": [
    "all_df['month'] = all_df.timestamp.dt.month\n",
    "all_df['dow'] = all_df.timestamp.dt.dayofweek\n",
    "\n",
    "all_test['month'] = all_test.timestamp.dt.month\n",
    "all_test['dow'] = all_test.timestamp.dt.dayofweek\n"
   ]
  },
  {
   "cell_type": "code",
   "execution_count": 22,
   "metadata": {
    "collapsed": true
   },
   "outputs": [],
   "source": [
    "all_df['rel_floor'] = all_df['floor'] / all_df['max_floor'].astype(float)\n",
    "all_test['rel_floor'] = all_test['floor'] / all_test['max_floor'].astype(float)"
   ]
  },
  {
   "cell_type": "code",
   "execution_count": 23,
   "metadata": {
    "collapsed": true
   },
   "outputs": [],
   "source": [
    "all_df['rel_kitch_sq'] = all_df['kitch_sq'] / all_df['full_sq'].astype(float)\n",
    "all_test['rel_kitch_sq'] = all_test['kitch_sq'] / all_test['full_sq'].astype(float)"
   ]
  },
  {
   "cell_type": "code",
   "execution_count": 24,
   "metadata": {
    "collapsed": true
   },
   "outputs": [],
   "source": [
    "all_df.drop(['timestamp'], axis = 1, inplace = True)\n",
    "all_test.drop(['timestamp'], axis = 1, inplace = True)"
   ]
  },
  {
   "cell_type": "code",
   "execution_count": 27,
   "metadata": {
    "collapsed": true
   },
   "outputs": [],
   "source": [
    "num_df = all_df.select_dtypes(include = [np.number])\n",
    "cat_df = all_df.select_dtypes(exclude = [np.number]).copy()\n",
    "\n",
    "test_num_df = all_test.select_dtypes(include = [np.number])\n",
    "test_cat_df = all_test.select_dtypes(exclude = [np.number]).copy()"
   ]
  },
  {
   "cell_type": "code",
   "execution_count": 28,
   "metadata": {},
   "outputs": [],
   "source": [
    "for c in cat_df:\n",
    "    cat_df[c] = pd.factorize(cat_df[c])[0]\n",
    "    \n",
    "for c in test_cat_df:\n",
    "    test_cat_df[c] = pd.factorize(test_cat_df[c])[0]"
   ]
  },
  {
   "cell_type": "code",
   "execution_count": 29,
   "metadata": {},
   "outputs": [],
   "source": [
    "df_values = pd.concat([num_df, cat_df], axis = 1)\n",
    "\n",
    "test_values = pd.concat([test_num_df, test_cat_df], axis = 1)"
   ]
  },
  {
   "cell_type": "code",
   "execution_count": 30,
   "metadata": {
    "collapsed": true
   },
   "outputs": [],
   "source": [
    "X_all = df_values.values\n",
    "X_test = test_values.values"
   ]
  },
  {
   "cell_type": "code",
   "execution_count": 31,
   "metadata": {
    "collapsed": true
   },
   "outputs": [],
   "source": [
    "df_columns = df_values.columns"
   ]
  },
  {
   "cell_type": "code",
   "execution_count": 37,
   "metadata": {
    "collapsed": true
   },
   "outputs": [],
   "source": [
    "dtrain = xgb.DMatrix(X_all, ylog_train_all, feature_names=df_columns)"
   ]
  },
  {
   "cell_type": "code",
   "execution_count": 38,
   "metadata": {
    "collapsed": true
   },
   "outputs": [],
   "source": [
    "dtest = xgb.DMatrix(X_test, feature_names=df_columns)"
   ]
  },
  {
   "cell_type": "code",
   "execution_count": 39,
   "metadata": {
    "collapsed": true
   },
   "outputs": [],
   "source": [
    "#def rmsle(lp, la):\n",
    "#    return np.sqrt(np.mean(np.square(lp - la)))"
   ]
  },
  {
   "cell_type": "code",
   "execution_count": 40,
   "metadata": {
    "collapsed": true
   },
   "outputs": [],
   "source": [
    "xgb_params = {\n",
    "    'eta': 0.1,\n",
    "    'max_depth': 5,\n",
    "     'min_child_weight': 1,\n",
    "    'subsample': 0.8,\n",
    "    'colsample_bytree': 0.8,\n",
    "    'objective': 'reg:linear',\n",
    "    'eval_metric': 'rmse',\n",
    "    'silent': 1\n",
    "}"
   ]
  },
  {
   "cell_type": "code",
   "execution_count": 41,
   "metadata": {},
   "outputs": [
    {
     "name": "stdout",
     "output_type": "stream",
     "text": [
      "[0]\ttrain-rmse:13.6116+0.00134418\ttest-rmse:13.6118+0.00576962\n",
      "[1]\ttrain-rmse:12.253+0.00114206\ttest-rmse:12.2533+0.00581466\n",
      "[2]\ttrain-rmse:11.0303+0.00107428\ttest-rmse:11.0303+0.00577657\n",
      "[3]\ttrain-rmse:9.93013+0.000988969\ttest-rmse:9.93004+0.00585588\n",
      "[4]\ttrain-rmse:8.94001+0.000914724\ttest-rmse:8.93994+0.00595607\n",
      "[5]\ttrain-rmse:8.04933+0.000802956\ttest-rmse:8.04926+0.00581896\n",
      "[6]\ttrain-rmse:7.24789+0.000862564\ttest-rmse:7.24781+0.00571481\n",
      "[7]\ttrain-rmse:6.52702+0.000749533\ttest-rmse:6.52706+0.00574875\n",
      "[8]\ttrain-rmse:5.87839+0.00067804\ttest-rmse:5.87849+0.00547783\n",
      "[9]\ttrain-rmse:5.29509+0.000606661\ttest-rmse:5.29517+0.00552826\n",
      "[10]\ttrain-rmse:4.77066+0.000573571\ttest-rmse:4.77086+0.00555212\n",
      "[11]\ttrain-rmse:4.29923+0.000567435\ttest-rmse:4.29949+0.00540612\n",
      "[12]\ttrain-rmse:3.87522+0.000451203\ttest-rmse:3.87554+0.00540791\n",
      "[13]\ttrain-rmse:3.49423+0.00043294\ttest-rmse:3.49494+0.00547622\n",
      "[14]\ttrain-rmse:3.15182+0.000385634\ttest-rmse:3.15283+0.00529388\n",
      "[15]\ttrain-rmse:2.84432+0.000365403\ttest-rmse:2.84562+0.00510959\n",
      "[16]\ttrain-rmse:2.5685+0.000382541\ttest-rmse:2.57+0.00487323\n",
      "[17]\ttrain-rmse:2.32087+0.000211325\ttest-rmse:2.32272+0.00493982\n",
      "[18]\ttrain-rmse:2.09895+0.000343612\ttest-rmse:2.10112+0.00461406\n",
      "[19]\ttrain-rmse:1.90009+0.000230498\ttest-rmse:1.90277+0.00465461\n",
      "[20]\ttrain-rmse:1.72207+0.000199788\ttest-rmse:1.72524+0.0046832\n",
      "[21]\ttrain-rmse:1.56309+0.000196114\ttest-rmse:1.56671+0.00442744\n",
      "[22]\ttrain-rmse:1.4212+0.000216314\ttest-rmse:1.42541+0.00431423\n",
      "[23]\ttrain-rmse:1.29469+0.000241851\ttest-rmse:1.29958+0.00430644\n",
      "[24]\ttrain-rmse:1.18224+0.000333524\ttest-rmse:1.1879+0.00411944\n",
      "[25]\ttrain-rmse:1.08249+0.000329264\ttest-rmse:1.08904+0.0040327\n",
      "[26]\ttrain-rmse:0.994316+0.000369639\ttest-rmse:1.00176+0.00391647\n",
      "[27]\ttrain-rmse:0.916549+0.000308311\ttest-rmse:0.924967+0.00368287\n",
      "[28]\ttrain-rmse:0.848237+0.000316484\ttest-rmse:0.857708+0.00357518\n",
      "[29]\ttrain-rmse:0.788259+0.000310443\ttest-rmse:0.798943+0.00344141\n",
      "[30]\ttrain-rmse:0.736071+0.000247782\ttest-rmse:0.747966+0.00334792\n",
      "[31]\ttrain-rmse:0.690786+0.000279149\ttest-rmse:0.703746+0.0032554\n",
      "[32]\ttrain-rmse:0.651709+0.000243986\ttest-rmse:0.665786+0.00312785\n",
      "[33]\ttrain-rmse:0.617969+0.00037926\ttest-rmse:0.633306+0.00312266\n",
      "[34]\ttrain-rmse:0.589155+0.000509563\ttest-rmse:0.605744+0.00304305\n",
      "[35]\ttrain-rmse:0.564446+0.000681332\ttest-rmse:0.582178+0.00299224\n",
      "[36]\ttrain-rmse:0.543594+0.000572509\ttest-rmse:0.562459+0.00294475\n",
      "[37]\ttrain-rmse:0.526061+0.000488355\ttest-rmse:0.546032+0.00304307\n",
      "[38]\ttrain-rmse:0.511136+0.000461174\ttest-rmse:0.532338+0.00310836\n",
      "[39]\ttrain-rmse:0.498595+0.000551593\ttest-rmse:0.520646+0.00303331\n",
      "[40]\ttrain-rmse:0.488094+0.000453656\ttest-rmse:0.510972+0.00325964\n",
      "[41]\ttrain-rmse:0.479378+0.000362708\ttest-rmse:0.503106+0.00334842\n",
      "[42]\ttrain-rmse:0.471987+0.000456355\ttest-rmse:0.496483+0.00356392\n",
      "[43]\ttrain-rmse:0.465776+0.000447809\ttest-rmse:0.491092+0.00360155\n",
      "[44]\ttrain-rmse:0.460444+0.000410267\ttest-rmse:0.486497+0.00358903\n",
      "[45]\ttrain-rmse:0.45578+0.000388819\ttest-rmse:0.482708+0.00355115\n",
      "[46]\ttrain-rmse:0.452008+0.000584779\ttest-rmse:0.479707+0.00364772\n",
      "[47]\ttrain-rmse:0.448775+0.000575016\ttest-rmse:0.477147+0.00366419\n",
      "[48]\ttrain-rmse:0.446054+0.00056608\ttest-rmse:0.475087+0.00366423\n",
      "[49]\ttrain-rmse:0.443635+0.000444377\ttest-rmse:0.473217+0.00371503\n",
      "[50]\ttrain-rmse:0.441518+0.000420991\ttest-rmse:0.47168+0.00381822\n",
      "[51]\ttrain-rmse:0.439645+0.000562408\ttest-rmse:0.470581+0.0038432\n",
      "[52]\ttrain-rmse:0.437853+0.000587086\ttest-rmse:0.469442+0.0038434\n",
      "[53]\ttrain-rmse:0.436463+0.000613794\ttest-rmse:0.468544+0.00383454\n",
      "[54]\ttrain-rmse:0.435057+0.000671283\ttest-rmse:0.467881+0.00384221\n",
      "[55]\ttrain-rmse:0.433785+0.000830306\ttest-rmse:0.467213+0.00381518\n",
      "[56]\ttrain-rmse:0.432586+0.0010064\ttest-rmse:0.466656+0.0037562\n",
      "[57]\ttrain-rmse:0.43163+0.000972161\ttest-rmse:0.466243+0.00378314\n",
      "[58]\ttrain-rmse:0.430728+0.000979855\ttest-rmse:0.465896+0.00382556\n",
      "[59]\ttrain-rmse:0.429755+0.000919471\ttest-rmse:0.465565+0.00396132\n",
      "[60]\ttrain-rmse:0.429+0.000877113\ttest-rmse:0.465321+0.00395527\n",
      "[61]\ttrain-rmse:0.428101+0.000686428\ttest-rmse:0.46506+0.00397119\n",
      "[62]\ttrain-rmse:0.427395+0.000602728\ttest-rmse:0.46482+0.0039528\n",
      "[63]\ttrain-rmse:0.426682+0.000636986\ttest-rmse:0.464708+0.00392091\n",
      "[64]\ttrain-rmse:0.425923+0.000603731\ttest-rmse:0.46445+0.00399543\n",
      "[65]\ttrain-rmse:0.42537+0.00057525\ttest-rmse:0.464256+0.00400682\n",
      "[66]\ttrain-rmse:0.424596+0.000693006\ttest-rmse:0.464093+0.0040462\n",
      "[67]\ttrain-rmse:0.423788+0.000849552\ttest-rmse:0.463843+0.00397309\n",
      "[68]\ttrain-rmse:0.423174+0.000855682\ttest-rmse:0.463791+0.00400347\n",
      "[69]\ttrain-rmse:0.422533+0.000797878\ttest-rmse:0.463716+0.00388527\n",
      "[70]\ttrain-rmse:0.421788+0.000755881\ttest-rmse:0.463554+0.00388157\n",
      "[71]\ttrain-rmse:0.42129+0.000602408\ttest-rmse:0.463479+0.00389149\n",
      "[72]\ttrain-rmse:0.420693+0.000423121\ttest-rmse:0.463396+0.00387184\n",
      "[73]\ttrain-rmse:0.419989+0.000483336\ttest-rmse:0.463236+0.00387147\n",
      "[74]\ttrain-rmse:0.419297+0.000515274\ttest-rmse:0.463117+0.00389325\n",
      "[75]\ttrain-rmse:0.418639+0.000532021\ttest-rmse:0.463069+0.00393353\n",
      "[76]\ttrain-rmse:0.417987+0.000659504\ttest-rmse:0.462978+0.00390749\n",
      "[77]\ttrain-rmse:0.417416+0.000763469\ttest-rmse:0.462884+0.00389121\n",
      "[78]\ttrain-rmse:0.416931+0.000731099\ttest-rmse:0.462823+0.00395382\n",
      "[79]\ttrain-rmse:0.416523+0.000861732\ttest-rmse:0.462713+0.00400515\n",
      "[80]\ttrain-rmse:0.415993+0.000797845\ttest-rmse:0.462688+0.00410056\n",
      "[81]\ttrain-rmse:0.415418+0.000628141\ttest-rmse:0.462662+0.00412684\n",
      "[82]\ttrain-rmse:0.414935+0.000625304\ttest-rmse:0.462652+0.00411085\n",
      "[83]\ttrain-rmse:0.414443+0.000635429\ttest-rmse:0.462706+0.00413898\n",
      "[84]\ttrain-rmse:0.414048+0.000532393\ttest-rmse:0.462595+0.00411655\n",
      "[85]\ttrain-rmse:0.41353+0.000721775\ttest-rmse:0.462527+0.00407672\n",
      "[86]\ttrain-rmse:0.412982+0.000742234\ttest-rmse:0.462449+0.00409406\n",
      "[87]\ttrain-rmse:0.412559+0.000702683\ttest-rmse:0.462445+0.00409646\n",
      "[88]\ttrain-rmse:0.412051+0.000633146\ttest-rmse:0.462408+0.00405689\n",
      "[89]\ttrain-rmse:0.411699+0.000582701\ttest-rmse:0.462339+0.00407682\n",
      "[90]\ttrain-rmse:0.411259+0.000450708\ttest-rmse:0.462309+0.00405734\n",
      "[91]\ttrain-rmse:0.410743+0.000399908\ttest-rmse:0.462293+0.00410238\n",
      "[92]\ttrain-rmse:0.410312+0.000442707\ttest-rmse:0.462279+0.00409896\n",
      "[93]\ttrain-rmse:0.409879+0.000361041\ttest-rmse:0.462308+0.00413604\n",
      "[94]\ttrain-rmse:0.409436+0.000395459\ttest-rmse:0.462312+0.00416926\n",
      "[95]\ttrain-rmse:0.409004+0.000331668\ttest-rmse:0.462233+0.00424363\n",
      "[96]\ttrain-rmse:0.408507+0.000325779\ttest-rmse:0.462234+0.00430053\n",
      "[97]\ttrain-rmse:0.408032+0.000496061\ttest-rmse:0.46229+0.00435375\n",
      "[98]\ttrain-rmse:0.407744+0.000507922\ttest-rmse:0.462335+0.00437425\n",
      "[99]\ttrain-rmse:0.407251+0.000463307\ttest-rmse:0.462318+0.00432404\n",
      "[100]\ttrain-rmse:0.40693+0.000518517\ttest-rmse:0.462309+0.00432449\n",
      "[101]\ttrain-rmse:0.406351+0.000552518\ttest-rmse:0.462283+0.00426399\n",
      "[102]\ttrain-rmse:0.405863+0.000592007\ttest-rmse:0.462178+0.00424267\n",
      "[103]\ttrain-rmse:0.405363+0.000560365\ttest-rmse:0.462204+0.00423559\n",
      "[104]\ttrain-rmse:0.40485+0.000672906\ttest-rmse:0.462223+0.00422379\n",
      "[105]\ttrain-rmse:0.404384+0.000698106\ttest-rmse:0.462204+0.00422805\n",
      "[106]\ttrain-rmse:0.403907+0.000807366\ttest-rmse:0.462181+0.00423145\n",
      "[107]\ttrain-rmse:0.403519+0.000939613\ttest-rmse:0.462125+0.00419187\n",
      "[108]\ttrain-rmse:0.403057+0.00104485\ttest-rmse:0.462207+0.00415004\n",
      "[109]\ttrain-rmse:0.402694+0.0011455\ttest-rmse:0.462165+0.00416249\n",
      "[110]\ttrain-rmse:0.402252+0.00108439\ttest-rmse:0.462087+0.00416754\n",
      "[111]\ttrain-rmse:0.401751+0.00103889\ttest-rmse:0.462071+0.0043031\n",
      "[112]\ttrain-rmse:0.40139+0.000978297\ttest-rmse:0.462071+0.00432025\n",
      "[113]\ttrain-rmse:0.401059+0.000952862\ttest-rmse:0.462094+0.00431947\n",
      "[114]\ttrain-rmse:0.400608+0.00088809\ttest-rmse:0.462207+0.00435046\n",
      "[115]\ttrain-rmse:0.400078+0.000910746\ttest-rmse:0.462176+0.00439643\n",
      "[116]\ttrain-rmse:0.399678+0.000910488\ttest-rmse:0.462167+0.00433862\n",
      "[117]\ttrain-rmse:0.399219+0.00102867\ttest-rmse:0.462247+0.00436112\n",
      "[118]\ttrain-rmse:0.398883+0.000930667\ttest-rmse:0.462263+0.00434997\n",
      "[119]\ttrain-rmse:0.39847+0.000965552\ttest-rmse:0.462324+0.00436701\n",
      "[120]\ttrain-rmse:0.398076+0.000840644\ttest-rmse:0.462313+0.00439044\n",
      "[121]\ttrain-rmse:0.397572+0.000743727\ttest-rmse:0.46229+0.00440719\n",
      "[122]\ttrain-rmse:0.397002+0.000746711\ttest-rmse:0.46225+0.0044349\n",
      "[123]\ttrain-rmse:0.39671+0.00081397\ttest-rmse:0.46227+0.00443198\n",
      "[124]\ttrain-rmse:0.396385+0.000751965\ttest-rmse:0.462238+0.00447423\n",
      "[125]\ttrain-rmse:0.395887+0.000823913\ttest-rmse:0.462241+0.00446039\n",
      "[126]\ttrain-rmse:0.395408+0.00077398\ttest-rmse:0.46225+0.00443413\n",
      "[127]\ttrain-rmse:0.39486+0.000729185\ttest-rmse:0.462311+0.00447609\n",
      "[128]\ttrain-rmse:0.394383+0.000753308\ttest-rmse:0.462378+0.004468\n",
      "[129]\ttrain-rmse:0.39392+0.00065024\ttest-rmse:0.462357+0.00448054\n",
      "[130]\ttrain-rmse:0.393586+0.000606672\ttest-rmse:0.462327+0.00446184\n",
      "[131]\ttrain-rmse:0.393121+0.000534055\ttest-rmse:0.462354+0.00440757\n",
      "[132]\ttrain-rmse:0.392765+0.000567229\ttest-rmse:0.462364+0.00439982\n",
      "[133]\ttrain-rmse:0.39222+0.00053031\ttest-rmse:0.462407+0.00435014\n",
      "[134]\ttrain-rmse:0.391805+0.00053169\ttest-rmse:0.462408+0.00440418\n",
      "[135]\ttrain-rmse:0.391372+0.000521717\ttest-rmse:0.462426+0.00442112\n",
      "[136]\ttrain-rmse:0.390871+0.000573067\ttest-rmse:0.462465+0.00443654\n",
      "[137]\ttrain-rmse:0.390541+0.000537643\ttest-rmse:0.462497+0.0044203\n",
      "[138]\ttrain-rmse:0.390277+0.00056953\ttest-rmse:0.462498+0.00443576\n",
      "[139]\ttrain-rmse:0.389952+0.000661563\ttest-rmse:0.462501+0.00448463\n",
      "[140]\ttrain-rmse:0.389607+0.000584161\ttest-rmse:0.462448+0.0044915\n",
      "[141]\ttrain-rmse:0.389164+0.000566824\ttest-rmse:0.462404+0.00455542\n",
      "[142]\ttrain-rmse:0.388795+0.000530345\ttest-rmse:0.462357+0.00454076\n",
      "[143]\ttrain-rmse:0.388423+0.000442822\ttest-rmse:0.46237+0.00447028\n",
      "[144]\ttrain-rmse:0.388133+0.000408946\ttest-rmse:0.462414+0.00450503\n",
      "[145]\ttrain-rmse:0.387757+0.000476369\ttest-rmse:0.462443+0.0045708\n",
      "[146]\ttrain-rmse:0.387377+0.000301701\ttest-rmse:0.462473+0.00453048\n",
      "[147]\ttrain-rmse:0.387076+0.000197638\ttest-rmse:0.462475+0.00456978\n",
      "[148]\ttrain-rmse:0.386721+0.000207422\ttest-rmse:0.462496+0.00460391\n",
      "[149]\ttrain-rmse:0.38633+0.000280128\ttest-rmse:0.4625+0.00458849\n",
      "[150]\ttrain-rmse:0.38601+0.000255658\ttest-rmse:0.462488+0.00460487\n",
      "[151]\ttrain-rmse:0.385584+0.000275142\ttest-rmse:0.462484+0.00461997\n",
      "[152]\ttrain-rmse:0.385256+0.000317352\ttest-rmse:0.462523+0.00460122\n",
      "[153]\ttrain-rmse:0.384917+0.00044924\ttest-rmse:0.462494+0.00464563\n",
      "[154]\ttrain-rmse:0.38457+0.0003775\ttest-rmse:0.46253+0.00462158\n",
      "[155]\ttrain-rmse:0.384189+0.000341905\ttest-rmse:0.462546+0.00461586\n",
      "[156]\ttrain-rmse:0.383829+0.000429158\ttest-rmse:0.462599+0.00461854\n",
      "[157]\ttrain-rmse:0.383564+0.000380355\ttest-rmse:0.462562+0.00462213\n",
      "[158]\ttrain-rmse:0.383237+0.000426206\ttest-rmse:0.462512+0.00466901\n",
      "[159]\ttrain-rmse:0.382834+0.000375227\ttest-rmse:0.462536+0.00462127\n",
      "[160]\ttrain-rmse:0.382342+0.000443363\ttest-rmse:0.462566+0.00465917\n"
     ]
    }
   ],
   "source": [
    "cvresult = xgb.cv(xgb_params, dtrain, num_boost_round=1000, nfold=5,\n",
    "            metrics='rmse', early_stopping_rounds=50, verbose_eval=True)"
   ]
  },
  {
   "cell_type": "code",
   "execution_count": 42,
   "metadata": {
    "collapsed": true
   },
   "outputs": [],
   "source": [
    "num_rounds = 160"
   ]
  },
  {
   "cell_type": "code",
   "execution_count": 43,
   "metadata": {},
   "outputs": [
    {
     "name": "stdout",
     "output_type": "stream",
     "text": [
      "[0]\ttrain-rmse:13.6116\n",
      "[20]\ttrain-rmse:1.72215\n",
      "[40]\ttrain-rmse:0.491769\n",
      "[60]\ttrain-rmse:0.435083\n",
      "[80]\ttrain-rmse:0.424119\n",
      "[100]\ttrain-rmse:0.41431\n",
      "[120]\ttrain-rmse:0.407212\n",
      "[140]\ttrain-rmse:0.399462\n",
      "[159]\ttrain-rmse:0.392983\n"
     ]
    }
   ],
   "source": [
    "model0 = xgb.train(xgb_params, dtrain, num_boost_round = num_rounds, evals = [(dtrain, 'train')], verbose_eval = 20)"
   ]
  },
  {
   "cell_type": "code",
   "execution_count": 44,
   "metadata": {
    "collapsed": true
   },
   "outputs": [],
   "source": [
    "y_pred1 = model0.predict(dtest)\n"
   ]
  },
  {
   "cell_type": "code",
   "execution_count": 47,
   "metadata": {
    "collapsed": true
   },
   "outputs": [],
   "source": [
    "price1 = np.exp(y_pred1) - 1\n",
    "output1 = pd.DataFrame({'id':tid, 'price_doc': price1})\n",
    "output1.to_csv('/home/alin/MyLearning/Kaggle/Sberbank/data/submission3.csv', index = False)"
   ]
  },
  {
   "cell_type": "code",
   "execution_count": 48,
   "metadata": {
    "collapsed": true
   },
   "outputs": [],
   "source": [
    "import lightgbm as lgb"
   ]
  },
  {
   "cell_type": "code",
   "execution_count": 49,
   "metadata": {
    "collapsed": true
   },
   "outputs": [],
   "source": [
    "lgb_train = lgb.Dataset(X_all, ylog_train_all)\n",
    "lgb_test = lgb.Dataset(X_test)"
   ]
  },
  {
   "cell_type": "code",
   "execution_count": 50,
   "metadata": {
    "collapsed": true
   },
   "outputs": [],
   "source": [
    "params = {\n",
    "    'task': 'train',\n",
    "    'boosting_type': 'gbdt',\n",
    "    'objective': 'regression_l2',\n",
    "    'metric': {'rmse'},\n",
    "    'num_leaves': 31,\n",
    "    'learning_rate': 0.05,\n",
    "    'feature_fraction': 0.9\n",
    "    }\n"
   ]
  },
  {
   "cell_type": "code",
   "execution_count": 51,
   "metadata": {
    "scrolled": true
   },
   "outputs": [
    {
     "name": "stdout",
     "output_type": "stream",
     "text": [
      "[1]\tcv_agg's rmse: 0.594002 + 0.00715451\n",
      "[2]\tcv_agg's rmse: 0.584334 + 0.00706042\n",
      "[3]\tcv_agg's rmse: 0.575362 + 0.00695474\n",
      "[4]\tcv_agg's rmse: 0.567243 + 0.00689153\n",
      "[5]\tcv_agg's rmse: 0.559678 + 0.00686926\n",
      "[6]\tcv_agg's rmse: 0.552805 + 0.00678876\n",
      "[7]\tcv_agg's rmse: 0.546433 + 0.00669059\n",
      "[8]\tcv_agg's rmse: 0.540624 + 0.00662611\n",
      "[9]\tcv_agg's rmse: 0.535171 + 0.0065282\n",
      "[10]\tcv_agg's rmse: 0.530166 + 0.00633255\n",
      "[11]\tcv_agg's rmse: 0.525527 + 0.00625786\n",
      "[12]\tcv_agg's rmse: 0.521281 + 0.00612695\n",
      "[13]\tcv_agg's rmse: 0.517397 + 0.00602595\n",
      "[14]\tcv_agg's rmse: 0.513871 + 0.00590885\n",
      "[15]\tcv_agg's rmse: 0.510513 + 0.00589572\n",
      "[16]\tcv_agg's rmse: 0.507465 + 0.00577046\n",
      "[17]\tcv_agg's rmse: 0.504614 + 0.00574196\n",
      "[18]\tcv_agg's rmse: 0.502011 + 0.00572196\n",
      "[19]\tcv_agg's rmse: 0.499657 + 0.00557755\n",
      "[20]\tcv_agg's rmse: 0.497557 + 0.00549843\n",
      "[21]\tcv_agg's rmse: 0.495476 + 0.00542067\n",
      "[22]\tcv_agg's rmse: 0.493567 + 0.00535888\n",
      "[23]\tcv_agg's rmse: 0.491796 + 0.00526665\n",
      "[24]\tcv_agg's rmse: 0.490138 + 0.00525892\n",
      "[25]\tcv_agg's rmse: 0.488567 + 0.00512314\n",
      "[26]\tcv_agg's rmse: 0.487178 + 0.00507033\n",
      "[27]\tcv_agg's rmse: 0.485918 + 0.0050076\n",
      "[28]\tcv_agg's rmse: 0.484709 + 0.00493896\n",
      "[29]\tcv_agg's rmse: 0.483563 + 0.00489893\n",
      "[30]\tcv_agg's rmse: 0.482507 + 0.00486791\n",
      "[31]\tcv_agg's rmse: 0.481497 + 0.00485267\n",
      "[32]\tcv_agg's rmse: 0.480592 + 0.00477729\n",
      "[33]\tcv_agg's rmse: 0.479746 + 0.00473323\n",
      "[34]\tcv_agg's rmse: 0.478931 + 0.00471311\n",
      "[35]\tcv_agg's rmse: 0.478128 + 0.00470647\n",
      "[36]\tcv_agg's rmse: 0.477394 + 0.00470278\n",
      "[37]\tcv_agg's rmse: 0.476785 + 0.00471367\n",
      "[38]\tcv_agg's rmse: 0.476174 + 0.00465354\n",
      "[39]\tcv_agg's rmse: 0.475592 + 0.00456843\n",
      "[40]\tcv_agg's rmse: 0.475033 + 0.00453698\n",
      "[41]\tcv_agg's rmse: 0.474436 + 0.00452285\n",
      "[42]\tcv_agg's rmse: 0.473896 + 0.0045129\n",
      "[43]\tcv_agg's rmse: 0.473465 + 0.00444728\n",
      "[44]\tcv_agg's rmse: 0.472983 + 0.00438548\n",
      "[45]\tcv_agg's rmse: 0.472641 + 0.00436283\n",
      "[46]\tcv_agg's rmse: 0.472134 + 0.00431481\n",
      "[47]\tcv_agg's rmse: 0.471755 + 0.0043287\n",
      "[48]\tcv_agg's rmse: 0.471372 + 0.00424909\n",
      "[49]\tcv_agg's rmse: 0.470968 + 0.00423247\n",
      "[50]\tcv_agg's rmse: 0.470552 + 0.00416463\n",
      "[51]\tcv_agg's rmse: 0.470207 + 0.00414208\n",
      "[52]\tcv_agg's rmse: 0.469874 + 0.00415146\n",
      "[53]\tcv_agg's rmse: 0.469597 + 0.00410208\n",
      "[54]\tcv_agg's rmse: 0.469309 + 0.00404399\n",
      "[55]\tcv_agg's rmse: 0.469008 + 0.00405896\n",
      "[56]\tcv_agg's rmse: 0.468727 + 0.00405387\n",
      "[57]\tcv_agg's rmse: 0.468419 + 0.00411463\n",
      "[58]\tcv_agg's rmse: 0.46814 + 0.00408416\n",
      "[59]\tcv_agg's rmse: 0.467877 + 0.00409908\n",
      "[60]\tcv_agg's rmse: 0.467602 + 0.00414786\n",
      "[61]\tcv_agg's rmse: 0.467346 + 0.00411479\n",
      "[62]\tcv_agg's rmse: 0.467152 + 0.00408905\n",
      "[63]\tcv_agg's rmse: 0.466975 + 0.00409045\n",
      "[64]\tcv_agg's rmse: 0.466755 + 0.00405324\n",
      "[65]\tcv_agg's rmse: 0.466543 + 0.00405038\n",
      "[66]\tcv_agg's rmse: 0.466277 + 0.00401525\n",
      "[67]\tcv_agg's rmse: 0.466116 + 0.00405191\n",
      "[68]\tcv_agg's rmse: 0.46593 + 0.00405232\n",
      "[69]\tcv_agg's rmse: 0.465814 + 0.00399689\n",
      "[70]\tcv_agg's rmse: 0.465631 + 0.00396823\n",
      "[71]\tcv_agg's rmse: 0.465462 + 0.00395698\n",
      "[72]\tcv_agg's rmse: 0.465271 + 0.00393274\n",
      "[73]\tcv_agg's rmse: 0.46516 + 0.00393298\n",
      "[74]\tcv_agg's rmse: 0.465043 + 0.00386866\n",
      "[75]\tcv_agg's rmse: 0.464911 + 0.00389288\n",
      "[76]\tcv_agg's rmse: 0.464765 + 0.00392632\n",
      "[77]\tcv_agg's rmse: 0.464588 + 0.00391729\n",
      "[78]\tcv_agg's rmse: 0.464423 + 0.00393358\n",
      "[79]\tcv_agg's rmse: 0.464321 + 0.00390096\n",
      "[80]\tcv_agg's rmse: 0.464134 + 0.00388885\n",
      "[81]\tcv_agg's rmse: 0.464027 + 0.00383002\n",
      "[82]\tcv_agg's rmse: 0.463942 + 0.00383576\n",
      "[83]\tcv_agg's rmse: 0.463812 + 0.00384431\n",
      "[84]\tcv_agg's rmse: 0.463718 + 0.00383904\n",
      "[85]\tcv_agg's rmse: 0.463628 + 0.00386424\n",
      "[86]\tcv_agg's rmse: 0.463489 + 0.0038387\n",
      "[87]\tcv_agg's rmse: 0.463396 + 0.00383272\n",
      "[88]\tcv_agg's rmse: 0.463245 + 0.00380087\n",
      "[89]\tcv_agg's rmse: 0.463074 + 0.00380958\n",
      "[90]\tcv_agg's rmse: 0.463036 + 0.00381949\n",
      "[91]\tcv_agg's rmse: 0.462941 + 0.00385882\n",
      "[92]\tcv_agg's rmse: 0.46291 + 0.00380051\n",
      "[93]\tcv_agg's rmse: 0.462784 + 0.00382759\n",
      "[94]\tcv_agg's rmse: 0.462688 + 0.00385497\n",
      "[95]\tcv_agg's rmse: 0.462576 + 0.00384267\n",
      "[96]\tcv_agg's rmse: 0.462489 + 0.00383136\n",
      "[97]\tcv_agg's rmse: 0.462403 + 0.00386792\n",
      "[98]\tcv_agg's rmse: 0.462345 + 0.00382461\n",
      "[99]\tcv_agg's rmse: 0.462187 + 0.00377016\n",
      "[100]\tcv_agg's rmse: 0.462127 + 0.00374965\n",
      "[101]\tcv_agg's rmse: 0.462054 + 0.00376111\n",
      "[102]\tcv_agg's rmse: 0.461961 + 0.00376911\n",
      "[103]\tcv_agg's rmse: 0.461861 + 0.00380001\n",
      "[104]\tcv_agg's rmse: 0.461812 + 0.00382587\n",
      "[105]\tcv_agg's rmse: 0.461743 + 0.00383099\n",
      "[106]\tcv_agg's rmse: 0.461651 + 0.00385804\n",
      "[107]\tcv_agg's rmse: 0.461577 + 0.00383535\n",
      "[108]\tcv_agg's rmse: 0.46148 + 0.00389514\n",
      "[109]\tcv_agg's rmse: 0.461434 + 0.00388928\n",
      "[110]\tcv_agg's rmse: 0.461359 + 0.00392651\n",
      "[111]\tcv_agg's rmse: 0.461265 + 0.00393723\n",
      "[112]\tcv_agg's rmse: 0.461172 + 0.00393783\n",
      "[113]\tcv_agg's rmse: 0.461126 + 0.00393951\n",
      "[114]\tcv_agg's rmse: 0.461106 + 0.00389313\n",
      "[115]\tcv_agg's rmse: 0.461035 + 0.00387935\n",
      "[116]\tcv_agg's rmse: 0.460945 + 0.0038703\n",
      "[117]\tcv_agg's rmse: 0.460928 + 0.00386268\n",
      "[118]\tcv_agg's rmse: 0.460915 + 0.00385621\n",
      "[119]\tcv_agg's rmse: 0.460897 + 0.00387709\n",
      "[120]\tcv_agg's rmse: 0.460853 + 0.00386756\n",
      "[121]\tcv_agg's rmse: 0.460803 + 0.00384142\n",
      "[122]\tcv_agg's rmse: 0.460746 + 0.00383792\n",
      "[123]\tcv_agg's rmse: 0.460732 + 0.00382822\n",
      "[124]\tcv_agg's rmse: 0.460699 + 0.00385445\n",
      "[125]\tcv_agg's rmse: 0.460677 + 0.00387713\n",
      "[126]\tcv_agg's rmse: 0.46059 + 0.00387222\n",
      "[127]\tcv_agg's rmse: 0.460597 + 0.00386645\n",
      "[128]\tcv_agg's rmse: 0.460573 + 0.00386207\n",
      "[129]\tcv_agg's rmse: 0.46054 + 0.00382958\n",
      "[130]\tcv_agg's rmse: 0.460481 + 0.0038427\n",
      "[131]\tcv_agg's rmse: 0.460439 + 0.00382514\n",
      "[132]\tcv_agg's rmse: 0.460399 + 0.00382258\n",
      "[133]\tcv_agg's rmse: 0.46032 + 0.00382129\n",
      "[134]\tcv_agg's rmse: 0.460281 + 0.00382474\n",
      "[135]\tcv_agg's rmse: 0.460264 + 0.00388596\n",
      "[136]\tcv_agg's rmse: 0.46025 + 0.00387226\n",
      "[137]\tcv_agg's rmse: 0.460244 + 0.00389921\n",
      "[138]\tcv_agg's rmse: 0.460227 + 0.00391887\n",
      "[139]\tcv_agg's rmse: 0.460195 + 0.0039276\n",
      "[140]\tcv_agg's rmse: 0.460114 + 0.00395108\n",
      "[141]\tcv_agg's rmse: 0.460122 + 0.00398421\n",
      "[142]\tcv_agg's rmse: 0.460129 + 0.00398773\n",
      "[143]\tcv_agg's rmse: 0.460096 + 0.00397525\n",
      "[144]\tcv_agg's rmse: 0.460069 + 0.00397959\n",
      "[145]\tcv_agg's rmse: 0.460012 + 0.00399876\n",
      "[146]\tcv_agg's rmse: 0.459997 + 0.00399106\n",
      "[147]\tcv_agg's rmse: 0.459972 + 0.00402687\n",
      "[148]\tcv_agg's rmse: 0.459948 + 0.00397443\n",
      "[149]\tcv_agg's rmse: 0.459932 + 0.00394184\n",
      "[150]\tcv_agg's rmse: 0.459928 + 0.00396593\n",
      "[151]\tcv_agg's rmse: 0.459901 + 0.00399669\n",
      "[152]\tcv_agg's rmse: 0.459945 + 0.0039871\n",
      "[153]\tcv_agg's rmse: 0.459948 + 0.00398736\n",
      "[154]\tcv_agg's rmse: 0.459976 + 0.00398048\n",
      "[155]\tcv_agg's rmse: 0.459952 + 0.00398763\n",
      "[156]\tcv_agg's rmse: 0.459919 + 0.00402164\n",
      "[157]\tcv_agg's rmse: 0.459908 + 0.00405645\n",
      "[158]\tcv_agg's rmse: 0.459912 + 0.00408274\n",
      "[159]\tcv_agg's rmse: 0.459885 + 0.0040794\n",
      "[160]\tcv_agg's rmse: 0.459876 + 0.00409059\n",
      "[161]\tcv_agg's rmse: 0.45987 + 0.0040991\n",
      "[162]\tcv_agg's rmse: 0.459877 + 0.00409182\n",
      "[163]\tcv_agg's rmse: 0.459856 + 0.00410138\n",
      "[164]\tcv_agg's rmse: 0.45982 + 0.004097\n",
      "[165]\tcv_agg's rmse: 0.45979 + 0.00408177\n",
      "[166]\tcv_agg's rmse: 0.459759 + 0.00406454\n",
      "[167]\tcv_agg's rmse: 0.45977 + 0.00404332\n",
      "[168]\tcv_agg's rmse: 0.459776 + 0.00403663\n",
      "[169]\tcv_agg's rmse: 0.459736 + 0.00403379\n",
      "[170]\tcv_agg's rmse: 0.459721 + 0.00400979\n",
      "[171]\tcv_agg's rmse: 0.459715 + 0.00400646\n",
      "[172]\tcv_agg's rmse: 0.459685 + 0.00404359\n",
      "[173]\tcv_agg's rmse: 0.459683 + 0.00406278\n",
      "[174]\tcv_agg's rmse: 0.459644 + 0.00403533\n",
      "[175]\tcv_agg's rmse: 0.459646 + 0.00405631\n",
      "[176]\tcv_agg's rmse: 0.459648 + 0.00402333\n",
      "[177]\tcv_agg's rmse: 0.459629 + 0.00399943\n",
      "[178]\tcv_agg's rmse: 0.459634 + 0.00401865\n",
      "[179]\tcv_agg's rmse: 0.459668 + 0.00403363\n",
      "[180]\tcv_agg's rmse: 0.459671 + 0.004022\n",
      "[181]\tcv_agg's rmse: 0.459669 + 0.00405276\n",
      "[182]\tcv_agg's rmse: 0.459636 + 0.00406788\n",
      "[183]\tcv_agg's rmse: 0.459651 + 0.00406082\n",
      "[184]\tcv_agg's rmse: 0.459639 + 0.00409868\n",
      "[185]\tcv_agg's rmse: 0.459646 + 0.00412594\n",
      "[186]\tcv_agg's rmse: 0.459688 + 0.00412016\n",
      "[187]\tcv_agg's rmse: 0.459696 + 0.00411965\n",
      "[188]\tcv_agg's rmse: 0.459724 + 0.00411254\n",
      "[189]\tcv_agg's rmse: 0.45974 + 0.00409234\n",
      "[190]\tcv_agg's rmse: 0.459736 + 0.00408242\n",
      "[191]\tcv_agg's rmse: 0.45976 + 0.00407625\n",
      "[192]\tcv_agg's rmse: 0.459746 + 0.0040392\n",
      "[193]\tcv_agg's rmse: 0.459757 + 0.00407264\n",
      "[194]\tcv_agg's rmse: 0.45974 + 0.00407759\n",
      "[195]\tcv_agg's rmse: 0.459758 + 0.00408602\n",
      "[196]\tcv_agg's rmse: 0.459751 + 0.00407419\n",
      "[197]\tcv_agg's rmse: 0.459767 + 0.00411742\n",
      "[198]\tcv_agg's rmse: 0.45978 + 0.00413934\n",
      "[199]\tcv_agg's rmse: 0.459781 + 0.00411536\n",
      "[200]\tcv_agg's rmse: 0.459776 + 0.00412131\n",
      "[201]\tcv_agg's rmse: 0.459785 + 0.0041367\n",
      "[202]\tcv_agg's rmse: 0.459769 + 0.00413021\n",
      "[203]\tcv_agg's rmse: 0.459757 + 0.00416271\n",
      "[204]\tcv_agg's rmse: 0.459753 + 0.00416945\n",
      "[205]\tcv_agg's rmse: 0.459746 + 0.00417312\n",
      "[206]\tcv_agg's rmse: 0.459781 + 0.00415272\n",
      "[207]\tcv_agg's rmse: 0.459773 + 0.00417097\n",
      "[208]\tcv_agg's rmse: 0.459747 + 0.00419848\n",
      "[209]\tcv_agg's rmse: 0.45973 + 0.00420545\n",
      "[210]\tcv_agg's rmse: 0.4597 + 0.00420476\n",
      "[211]\tcv_agg's rmse: 0.459698 + 0.00422165\n",
      "[212]\tcv_agg's rmse: 0.459678 + 0.0042399\n",
      "[213]\tcv_agg's rmse: 0.459679 + 0.00424457\n",
      "[214]\tcv_agg's rmse: 0.459672 + 0.00425062\n",
      "[215]\tcv_agg's rmse: 0.459691 + 0.00426629\n",
      "[216]\tcv_agg's rmse: 0.459685 + 0.00426528\n",
      "[217]\tcv_agg's rmse: 0.459687 + 0.00429786\n",
      "[218]\tcv_agg's rmse: 0.459689 + 0.00429672\n",
      "[219]\tcv_agg's rmse: 0.459699 + 0.00428243\n",
      "[220]\tcv_agg's rmse: 0.45968 + 0.00425768\n",
      "[221]\tcv_agg's rmse: 0.459688 + 0.00426733\n",
      "[222]\tcv_agg's rmse: 0.459655 + 0.00423749\n",
      "[223]\tcv_agg's rmse: 0.45968 + 0.00420082\n",
      "[224]\tcv_agg's rmse: 0.459674 + 0.00420963\n",
      "[225]\tcv_agg's rmse: 0.459663 + 0.0042093\n",
      "[226]\tcv_agg's rmse: 0.459683 + 0.00421564\n",
      "[227]\tcv_agg's rmse: 0.459674 + 0.00419623\n"
     ]
    }
   ],
   "source": [
    "cv_lgb = lgb.cv(params, lgb_train, num_boost_round = 1000, nfold=5, early_stopping_rounds = 50, \n",
    "                verbose_eval = True)"
   ]
  },
  {
   "cell_type": "code",
   "execution_count": 52,
   "metadata": {
    "collapsed": true
   },
   "outputs": [],
   "source": [
    "gbm = lgb.train(params,lgb_train,num_boost_round=227)"
   ]
  },
  {
   "cell_type": "code",
   "execution_count": 53,
   "metadata": {
    "collapsed": true
   },
   "outputs": [],
   "source": [
    "y_pred2 = gbm.predict(X_test)\n",
    "price2 = np.exp(y_pred2) - 1\n",
    "output2 = pd.DataFrame({'id':tid, 'price_doc': price2})\n",
    "output2.to_csv('/home/alin/MyLearning/Kaggle/Sberbank/data/submission4.csv', index = False)"
   ]
  },
  {
   "cell_type": "code",
   "execution_count": null,
   "metadata": {
    "collapsed": true
   },
   "outputs": [],
   "source": []
  }
 ],
 "metadata": {
  "kernelspec": {
   "display_name": "Python 3",
   "language": "python",
   "name": "python3"
  },
  "language_info": {
   "codemirror_mode": {
    "name": "ipython",
    "version": 3
   },
   "file_extension": ".py",
   "mimetype": "text/x-python",
   "name": "python",
   "nbconvert_exporter": "python",
   "pygments_lexer": "ipython3",
   "version": "3.6.3"
  }
 },
 "nbformat": 4,
 "nbformat_minor": 2
}
