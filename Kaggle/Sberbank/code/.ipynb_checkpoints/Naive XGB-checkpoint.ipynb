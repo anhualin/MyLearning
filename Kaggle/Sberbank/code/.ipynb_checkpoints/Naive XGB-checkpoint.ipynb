{
 "cells": [
  {
   "cell_type": "code",
   "execution_count": 1,
   "metadata": {
    "collapsed": false
   },
   "outputs": [
    {
     "name": "stdout",
     "output_type": "stream",
     "text": [
      "/home/alin/MyLearning/Kaggle/Sberbank/data/\n"
     ]
    }
   ],
   "source": [
    "from sys import platform\n",
    "if platform == 'linux' or platform == 'linux2':\n",
    "    datapath = '/home/alin/MyLearning/Kaggle/Sberbank/data/'\n",
    "else:\n",
    "    datapath = 'C:/Users/alin/Documents/SelfStudy/MyLearning/Kaggle/Sberbank/data/'\n",
    "print datapath"
   ]
  },
  {
   "cell_type": "code",
   "execution_count": 2,
   "metadata": {
    "collapsed": true
   },
   "outputs": [],
   "source": [
    "import numpy as np\n",
    "import pandas as pd\n",
    "\n",
    "import matplotlib.pyplot as plt"
   ]
  },
  {
   "cell_type": "code",
   "execution_count": 3,
   "metadata": {
    "collapsed": true
   },
   "outputs": [],
   "source": [
    "import xgboost as xgb"
   ]
  },
  {
   "cell_type": "code",
   "execution_count": 4,
   "metadata": {
    "collapsed": true
   },
   "outputs": [],
   "source": [
    "from xgboost.sklearn import XGBClassifier"
   ]
  },
  {
   "cell_type": "code",
   "execution_count": 5,
   "metadata": {
    "collapsed": true
   },
   "outputs": [],
   "source": [
    "%matplotlib inline"
   ]
  },
  {
   "cell_type": "code",
   "execution_count": 6,
   "metadata": {
    "collapsed": true
   },
   "outputs": [],
   "source": [
    "# From here: https://www.kaggle.com/robertoruiz/sberbank-russian-housing-market/dealing-with-multicollinearity/notebook\n",
    "macro_cols = [\"balance_trade\", \"balance_trade_growth\", \"eurrub\", \"average_provision_of_build_contract\",\n",
    "\"micex_rgbi_tr\", \"micex_cbi_tr\", \"deposits_rate\", \"mortgage_value\", \"mortgage_rate\",\n",
    "\"income_per_cap\", \"rent_price_4+room_bus\", \"museum_visitis_per_100_cap\", \"apartment_build\"]"
   ]
  },
  {
   "cell_type": "code",
   "execution_count": 7,
   "metadata": {
    "collapsed": true
   },
   "outputs": [],
   "source": [
    "%qtconsole"
   ]
  },
  {
   "cell_type": "code",
   "execution_count": 8,
   "metadata": {
    "collapsed": true
   },
   "outputs": [],
   "source": [
    "train_df = pd.read_csv(datapath + 'train.csv', parse_dates=['timestamp'])\n",
    "macro_df = pd.read_csv(datapath + 'macro.csv', parse_dates=['timestamp'], usecols=['timestamp'] + macro_cols)\n"
   ]
  },
  {
   "cell_type": "code",
   "execution_count": 9,
   "metadata": {
    "collapsed": true
   },
   "outputs": [],
   "source": [
    "ylog_train_all = np.log1p(train_df['price_doc'].values)\n"
   ]
  },
  {
   "cell_type": "code",
   "execution_count": 10,
   "metadata": {
    "collapsed": true
   },
   "outputs": [],
   "source": [
    "train_df.drop(['id', 'price_doc'], axis = 1, inplace = True)"
   ]
  },
  {
   "cell_type": "code",
   "execution_count": 11,
   "metadata": {
    "collapsed": true
   },
   "outputs": [],
   "source": [
    "all_df = pd.merge(train_df, macro_df, on = 'timestamp', how = 'left')"
   ]
  },
  {
   "cell_type": "code",
   "execution_count": 12,
   "metadata": {
    "collapsed": true
   },
   "outputs": [],
   "source": [
    "month_year = (all_df.timestamp.dt.month + all_df.timestamp.dt.year * 100)\n",
    "month_year_cnt_map = month_year.value_counts().to_dict()\n",
    "all_df['month_year_cnt'] = month_year.map(month_year_cnt_map)"
   ]
  },
  {
   "cell_type": "code",
   "execution_count": 13,
   "metadata": {
    "collapsed": true
   },
   "outputs": [],
   "source": [
    "week_year = (all_df.timestamp.dt.weekofyear + all_df.timestamp.dt.year * 100)\n",
    "week_year_cnt_map = week_year.value_counts().to_dict()\n",
    "all_df['week_year_cnt'] = week_year.map(week_year_cnt_map)"
   ]
  },
  {
   "cell_type": "code",
   "execution_count": 14,
   "metadata": {
    "collapsed": true
   },
   "outputs": [],
   "source": [
    "all_df['month'] = all_df.timestamp.dt.month\n",
    "all_df['dow'] = all_df.timestamp.dt.dayofweek"
   ]
  },
  {
   "cell_type": "code",
   "execution_count": 15,
   "metadata": {
    "collapsed": true
   },
   "outputs": [],
   "source": [
    "all_df['rel_floor'] = all_df['floor'] / all_df['max_floor'].astype(float)"
   ]
  },
  {
   "cell_type": "code",
   "execution_count": 16,
   "metadata": {
    "collapsed": true
   },
   "outputs": [],
   "source": [
    "all_df['rel_kitch_sq'] = all_df['kitch_sq'] / all_df['full_sq'].astype(float)"
   ]
  },
  {
   "cell_type": "code",
   "execution_count": 17,
   "metadata": {
    "collapsed": true
   },
   "outputs": [],
   "source": [
    "all_df.drop(['timestamp'], axis = 1, inplace = True)"
   ]
  },
  {
   "cell_type": "code",
   "execution_count": 18,
   "metadata": {
    "collapsed": true
   },
   "outputs": [],
   "source": [
    "num_df = all_df.select_dtypes(include = [np.number])\n",
    "cat_df = all_df.select_dtypes(exclude = [np.number]).copy()"
   ]
  },
  {
   "cell_type": "code",
   "execution_count": 19,
   "metadata": {
    "collapsed": false
   },
   "outputs": [],
   "source": [
    "for c in cat_df:\n",
    "    cat_df[c] = pd.factorize(cat_df[c])[0]"
   ]
  },
  {
   "cell_type": "code",
   "execution_count": 20,
   "metadata": {
    "collapsed": false
   },
   "outputs": [],
   "source": [
    "df_values = pd.concat([num_df, cat_df], axis = 1)"
   ]
  },
  {
   "cell_type": "code",
   "execution_count": 21,
   "metadata": {
    "collapsed": true
   },
   "outputs": [],
   "source": [
    "X_all = df_values.values"
   ]
  },
  {
   "cell_type": "code",
   "execution_count": 22,
   "metadata": {
    "collapsed": true
   },
   "outputs": [],
   "source": [
    "num_val = int(X_all.shape[0] * 0.2)\n",
    "num_train = X_all.shape[0] - num_val"
   ]
  },
  {
   "cell_type": "code",
   "execution_count": 23,
   "metadata": {
    "collapsed": true
   },
   "outputs": [],
   "source": [
    "X_train = X_all[:num_train]\n",
    "\n",
    "X_valid = X_all[num_train:]\n",
    "\n",
    "ylog_train = ylog_train_all[:num_train]\n",
    "\n",
    "ylog_valid = ylog_train_all[num_train:]"
   ]
  },
  {
   "cell_type": "code",
   "execution_count": 24,
   "metadata": {
    "collapsed": true
   },
   "outputs": [],
   "source": [
    "num_train0 = int(num_train * 0.2)\n",
    "X_train0 = X_train[:num_train0]\n",
    "X_valid0 = X_train[num_train0:]\n",
    "ylog_train0 = ylog_train[:num_train0]\n",
    "ylog_valid0 = ylog_train[num_train0:]"
   ]
  },
  {
   "cell_type": "code",
   "execution_count": 25,
   "metadata": {
    "collapsed": true
   },
   "outputs": [],
   "source": [
    "df_columns = df_values.columns"
   ]
  },
  {
   "cell_type": "code",
   "execution_count": 26,
   "metadata": {
    "collapsed": true
   },
   "outputs": [],
   "source": [
    "dtrain = xgb.DMatrix(X_train, ylog_train, feature_names=df_columns)"
   ]
  },
  {
   "cell_type": "code",
   "execution_count": 27,
   "metadata": {
    "collapsed": true
   },
   "outputs": [],
   "source": [
    "dval = xgb.DMatrix(X_valid, feature_names=df_columns)"
   ]
  },
  {
   "cell_type": "code",
   "execution_count": 28,
   "metadata": {
    "collapsed": true
   },
   "outputs": [],
   "source": [
    "dtrain0 = xgb.DMatrix(X_train0, ylog_train0, feature_names= df_columns)\n",
    "dvalid0 = xgb.DMatrix(X_valid0, ylog_valid0, feature_names= df_columns)"
   ]
  },
  {
   "cell_type": "code",
   "execution_count": 29,
   "metadata": {
    "collapsed": true
   },
   "outputs": [],
   "source": [
    "def rmsle(lp, la):\n",
    "    return np.sqrt(np.mean(np.square(lp - la)))"
   ]
  },
  {
   "cell_type": "code",
   "execution_count": 47,
   "metadata": {
    "collapsed": false
   },
   "outputs": [],
   "source": [
    "def modelfit(alg, Xt, yt, useTrainCV=True, cv_folds=5, early_stopping_rounds=50):\n",
    "    \n",
    "    if useTrainCV:\n",
    "        xgb_param = alg.get_xgb_params()\n",
    "        xgtrain = xgb.DMatrix(Xt, yt)\n",
    "        cvresult = xgb.cv(xgb_param, xgtrain, num_boost_round=alg.get_params()['n_estimators'], nfold=cv_folds,\n",
    "            metrics='rmse', early_stopping_rounds=early_stopping_rounds, verbose_eval=False)\n",
    "        alg.set_params(n_estimators=cvresult.shape[0])\n",
    "    \n",
    "    #Fit the algorithm on the data\n",
    "    print 'opt iterations = ', cvresult.shape[0]\n",
    "    alg.fit(Xt, yt ,eval_metric='rmse')\n",
    "        \n",
    "    #Predict training set:\n",
    "    dtrain_predictions = alg.predict(Xt)\n",
    "    \n",
    "        \n",
    "    #Print model report:\n",
    "    print \"\\nModel Report\"\n",
    "    print \"rmse : %.4g\" % metrics.rmse_score(dtrain_predictions, yt)\n",
    "                    \n",
    "    #feat_imp = pd.Series(alg.booster().get_fscore()).sort_values(ascending=False)\n",
    "    #feat_imp.plot(kind='bar', title='Feature Importances')\n",
    "    #plt.ylabel('Feature Importance Score')"
   ]
  },
  {
   "cell_type": "code",
   "execution_count": 31,
   "metadata": {
    "collapsed": false
   },
   "outputs": [],
   "source": [
    "xgb1 = XGBClassifier(\n",
    " learning_rate =0.1,\n",
    " n_estimators=115,\n",
    " max_depth=5,\n",
    " min_child_weight=1,\n",
    " gamma=0,\n",
    " subsample=0.8,\n",
    " colsample_bytree=0.8,\n",
    " objective= 'reg:linear',\n",
    " silent = 0,\n",
    " seed=27)\n",
    "#modelfit(xgb1, X_train, ylog_train )"
   ]
  },
  {
   "cell_type": "code",
   "execution_count": 31,
   "metadata": {
    "collapsed": true
   },
   "outputs": [],
   "source": [
    "params = {\n",
    "    'objective': 'reg:linear',\n",
    "    'max_depth': 5,\n",
    "    'learning_rate': 0.1,\n",
    "    'silent': 1.0,\n",
    "    'n_estimators': 2,\n",
    "    'min_child_weight': 1,\n",
    "    'gamma': 0,\n",
    "    'subsample': 0.8,\n",
    "    'colsample_bytree': 0.8,\n",
    "    'seed': 27\n",
    "}"
   ]
  },
  {
   "cell_type": "code",
   "execution_count": null,
   "metadata": {
    "collapsed": true
   },
   "outputs": [],
   "source": [
    "bst = XGBClassifier(**params).fit(X_train, ylog_train, verbose = True)"
   ]
  },
  {
   "cell_type": "code",
   "execution_count": null,
   "metadata": {
    "collapsed": false
   },
   "outputs": [],
   "source": [
    "xgb1.fit(X_train, ylog_train, eval_metric = 'rmse')"
   ]
  },
  {
   "cell_type": "code",
   "execution_count": null,
   "metadata": {
    "collapsed": true
   },
   "outputs": [],
   "source": [
    "xgb_params = {\n",
    "    'eta': 0.05,\n",
    "    'max_depth': 5,\n",
    "    'subsample': 1.0,\n",
    "    'colsample_bytree': 0.7,\n",
    "    'objective': 'reg:linear',\n",
    "    'eval_metric': 'rmse',\n",
    "    'silent': 1\n",
    "}"
   ]
  },
  {
   "cell_type": "markdown",
   "metadata": {},
   "source": [
    "partial_model = xgb.train(xgb_params, dtrain, num_boost_round=1000, evals=[(dval, 'val')],\n",
    "                       early_stopping_rounds=20, verbose_eval=20)\n"
   ]
  },
  {
   "cell_type": "code",
   "execution_count": 128,
   "metadata": {
    "collapsed": true
   },
   "outputs": [],
   "source": [
    "xgb_params1 = { 'eta': 0.1, 'max_depth': 3, 'subsample': 0.8,  'eval_metric': 'rmse'}"
   ]
  },
  {
   "cell_type": "code",
   "execution_count": 120,
   "metadata": {
    "collapsed": false
   },
   "outputs": [
    {
     "name": "stdout",
     "output_type": "stream",
     "text": [
      "[0]\tval0-rmse:14.3729\n",
      "Will train until val0-rmse hasn't improved in 20 rounds.\n",
      "[20]\tval0-rmse:5.2655\n",
      "[40]\tval0-rmse:2.0529\n",
      "[60]\tval0-rmse:0.957311\n",
      "[80]\tval0-rmse:0.627749\n",
      "[100]\tval0-rmse:0.544778\n",
      "[120]\tval0-rmse:0.523233\n",
      "[140]\tval0-rmse:0.518817\n",
      "[160]\tval0-rmse:0.517428\n",
      "Stopping. Best iteration:\n",
      "[158]\tval0-rmse:0.517222\n",
      "\n"
     ]
    }
   ],
   "source": [
    "model0 = xgb.train(xgb_params, dtrain0, num_boost_round = 1000, evals=[(dvalid0, 'val0')], \n",
    "                   early_stopping_rounds = 20, verbose_eval = 20)"
   ]
  },
  {
   "cell_type": "code",
   "execution_count": 125,
   "metadata": {
    "collapsed": true
   },
   "outputs": [],
   "source": [
    "model1 = xgb.train(xgb_params1, dtrain, num_boost_round = 300)"
   ]
  },
  {
   "cell_type": "code",
   "execution_count": 129,
   "metadata": {
    "collapsed": false
   },
   "outputs": [
    {
     "name": "stdout",
     "output_type": "stream",
     "text": [
      "[0]\ttrain-rmse:13.5867+0.0013655\ttest-rmse:13.5867+0.00668001\n",
      "[30]\ttrain-rmse:0.752034+0.00165326\ttest-rmse:0.755884+0.0032213\n",
      "[60]\ttrain-rmse:0.468277+0.00317942\ttest-rmse:0.480555+0.0118964\n",
      "[90]\ttrain-rmse:0.458668+0.00326311\ttest-rmse:0.476454+0.0119979\n",
      "[120]\ttrain-rmse:0.45154+0.00320829\ttest-rmse:0.474773+0.0118628\n",
      "[150]\ttrain-rmse:0.445083+0.00317647\ttest-rmse:0.474134+0.011661\n",
      "[180]\ttrain-rmse:0.439518+0.00298479\ttest-rmse:0.474012+0.0116063\n",
      "[210]\ttrain-rmse:0.434416+0.00319044\ttest-rmse:0.473796+0.0115415\n",
      "[240]\ttrain-rmse:0.429502+0.00309017\ttest-rmse:0.473665+0.0115035\n"
     ]
    }
   ],
   "source": [
    "num_rounds = 300 # how many estimators\n",
    "hist = xgb.cv(xgb_params1, dtrain, num_rounds, nfold=5, metrics={'rmse'}, \n",
    "              early_stopping_rounds = 30, verbose_eval = 30, seed = 1983)\n",
    "#hist"
   ]
  },
  {
   "cell_type": "code",
   "execution_count": 123,
   "metadata": {
    "collapsed": false
   },
   "outputs": [],
   "source": [
    "\n",
    "#watchlist = [(dtrain, 'train')]\n",
    "\n",
    "#model1 = xgb.train(xgb_params1, dtrain, num_boost_round = 1000, evals = watchlist, early_stopping_rounds = 20,\n",
    "#                  verbose_eval = 20)"
   ]
  },
  {
   "cell_type": "code",
   "execution_count": 126,
   "metadata": {
    "collapsed": false
   },
   "outputs": [
    {
     "name": "stdout",
     "output_type": "stream",
     "text": [
      "0.308468130457\n",
      "0.440355450041\n"
     ]
    }
   ],
   "source": [
    "pred_train = model1.predict(dtrain)\n",
    "pred_valid = model1.predict(dval)\n",
    "print rmsle(pred_train, ylog_train)\n",
    "print rmsle(pred_valid, ylog_valid)"
   ]
  },
  {
   "cell_type": "code",
   "execution_count": 103,
   "metadata": {
    "collapsed": true
   },
   "outputs": [],
   "source": []
  },
  {
   "cell_type": "code",
   "execution_count": 112,
   "metadata": {
    "collapsed": false
   },
   "outputs": [
    {
     "name": "stdout",
     "output_type": "stream",
     "text": [
      "0.150935053058\n"
     ]
    }
   ],
   "source": []
  },
  {
   "cell_type": "code",
   "execution_count": 113,
   "metadata": {
    "collapsed": false
   },
   "outputs": [
    {
     "name": "stdout",
     "output_type": "stream",
     "text": [
      "0.475545644267\n"
     ]
    }
   ],
   "source": [
    "print rmsle(pred_valid, ylog_valid)"
   ]
  },
  {
   "cell_type": "code",
   "execution_count": 107,
   "metadata": {
    "collapsed": true
   },
   "outputs": [],
   "source": [
    "pred_train2 = partial_model.predict(dtrain)\n",
    "pred_valid2 = partial_model.predict(dval)"
   ]
  },
  {
   "cell_type": "code",
   "execution_count": 108,
   "metadata": {
    "collapsed": false
   },
   "outputs": [
    {
     "name": "stdout",
     "output_type": "stream",
     "text": [
      "0.418201616459\n",
      "0.421250702114\n"
     ]
    }
   ],
   "source": [
    "print rmsle(pred_train2, ylog_train)\n",
    "print rmsle(pred_valid2, ylog_valid)"
   ]
  },
  {
   "cell_type": "code",
   "execution_count": null,
   "metadata": {
    "collapsed": true
   },
   "outputs": [],
   "source": []
  }
 ],
 "metadata": {
  "kernelspec": {
   "display_name": "Python 2",
   "language": "python",
   "name": "python2"
  },
  "language_info": {
   "codemirror_mode": {
    "name": "ipython",
    "version": 2
   },
   "file_extension": ".py",
   "mimetype": "text/x-python",
   "name": "python",
   "nbconvert_exporter": "python",
   "pygments_lexer": "ipython2",
   "version": "2.7.12"
  }
 },
 "nbformat": 4,
 "nbformat_minor": 2
}
