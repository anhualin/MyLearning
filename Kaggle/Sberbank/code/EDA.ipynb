{
 "cells": [
  {
   "cell_type": "markdown",
   "metadata": {},
   "source": [
    "### Load data"
   ]
  },
  {
   "cell_type": "code",
   "execution_count": 70,
   "metadata": {
    "collapsed": false
   },
   "outputs": [
    {
     "name": "stdout",
     "output_type": "stream",
     "text": [
      "/home/alin/MyLearning/Kaggle/Sberbank/data/\n"
     ]
    }
   ],
   "source": [
    "from sys import platform\n",
    "if platform == 'linux' or platform == 'linux2':\n",
    "    datapath = '/home/alin/MyLearning/Kaggle/Sberbank/data/'\n",
    "else:\n",
    "    datapath = 'C:/Users/alin/Documents/SelfStudy/MyLearning/Kaggle/Sberbank/data/'\n",
    "print datapath"
   ]
  },
  {
   "cell_type": "code",
   "execution_count": 71,
   "metadata": {
    "collapsed": true
   },
   "outputs": [],
   "source": [
    "import pandas as pd\n",
    "import matplotlib.pyplot as plt\n",
    "import numpy as np\n",
    "%matplotlib inline\n",
    "import seaborn as sns\n",
    "sns.set(color_codes=True)\n",
    "from sklearn import metrics\n",
    "from sklearn.preprocessing import scale \n",
    "\n",
    "from sklearn.preprocessing import StandardScaler\n",
    "from sklearn.tree import DecisionTreeRegressor"
   ]
  },
  {
   "cell_type": "code",
   "execution_count": 72,
   "metadata": {
    "collapsed": false,
    "scrolled": true
   },
   "outputs": [],
   "source": [
    "\n",
    "train_df = pd.read_csv(datapath + 'train.csv')\n",
    "# change column nams to lower case\n",
    "train_df.columns = train_df.columns.str.lower()\n",
    "train_df.head()\n",
    "original_cols = train_df.columns.tolist()"
   ]
  },
  {
   "cell_type": "code",
   "execution_count": 73,
   "metadata": {
    "collapsed": false
   },
   "outputs": [
    {
     "data": {
      "text/html": [
       "<div>\n",
       "<table border=\"1\" class=\"dataframe\">\n",
       "  <thead>\n",
       "    <tr style=\"text-align: right;\">\n",
       "      <th></th>\n",
       "      <th>timestamp</th>\n",
       "      <th>oil_urals</th>\n",
       "      <th>gdp_quart</th>\n",
       "      <th>gdp_quart_growth</th>\n",
       "      <th>cpi</th>\n",
       "      <th>ppi</th>\n",
       "      <th>gdp_deflator</th>\n",
       "      <th>balance_trade</th>\n",
       "      <th>balance_trade_growth</th>\n",
       "      <th>usdrub</th>\n",
       "      <th>...</th>\n",
       "      <th>provision_retail_space_modern_sqm</th>\n",
       "      <th>turnover_catering_per_cap</th>\n",
       "      <th>theaters_viewers_per_1000_cap</th>\n",
       "      <th>seats_theather_rfmin_per_100000_cap</th>\n",
       "      <th>museum_visitis_per_100_cap</th>\n",
       "      <th>bandwidth_sports</th>\n",
       "      <th>population_reg_sports_share</th>\n",
       "      <th>students_reg_sports_share</th>\n",
       "      <th>apartment_build</th>\n",
       "      <th>apartment_fund_sqm</th>\n",
       "    </tr>\n",
       "  </thead>\n",
       "  <tbody>\n",
       "    <tr>\n",
       "      <th>0</th>\n",
       "      <td>2010-01-01</td>\n",
       "      <td>76.1</td>\n",
       "      <td>NaN</td>\n",
       "      <td>NaN</td>\n",
       "      <td>NaN</td>\n",
       "      <td>NaN</td>\n",
       "      <td>NaN</td>\n",
       "      <td>NaN</td>\n",
       "      <td>NaN</td>\n",
       "      <td>NaN</td>\n",
       "      <td>...</td>\n",
       "      <td>690.0</td>\n",
       "      <td>6221.0</td>\n",
       "      <td>527.0</td>\n",
       "      <td>0.41</td>\n",
       "      <td>993.0</td>\n",
       "      <td>NaN</td>\n",
       "      <td>NaN</td>\n",
       "      <td>63.03</td>\n",
       "      <td>22825.0</td>\n",
       "      <td>NaN</td>\n",
       "    </tr>\n",
       "    <tr>\n",
       "      <th>1</th>\n",
       "      <td>2010-01-02</td>\n",
       "      <td>76.1</td>\n",
       "      <td>NaN</td>\n",
       "      <td>NaN</td>\n",
       "      <td>NaN</td>\n",
       "      <td>NaN</td>\n",
       "      <td>NaN</td>\n",
       "      <td>NaN</td>\n",
       "      <td>NaN</td>\n",
       "      <td>NaN</td>\n",
       "      <td>...</td>\n",
       "      <td>690.0</td>\n",
       "      <td>6221.0</td>\n",
       "      <td>527.0</td>\n",
       "      <td>0.41</td>\n",
       "      <td>993.0</td>\n",
       "      <td>NaN</td>\n",
       "      <td>NaN</td>\n",
       "      <td>63.03</td>\n",
       "      <td>22825.0</td>\n",
       "      <td>NaN</td>\n",
       "    </tr>\n",
       "    <tr>\n",
       "      <th>2</th>\n",
       "      <td>2010-01-03</td>\n",
       "      <td>76.1</td>\n",
       "      <td>NaN</td>\n",
       "      <td>NaN</td>\n",
       "      <td>NaN</td>\n",
       "      <td>NaN</td>\n",
       "      <td>NaN</td>\n",
       "      <td>NaN</td>\n",
       "      <td>NaN</td>\n",
       "      <td>NaN</td>\n",
       "      <td>...</td>\n",
       "      <td>690.0</td>\n",
       "      <td>6221.0</td>\n",
       "      <td>527.0</td>\n",
       "      <td>0.41</td>\n",
       "      <td>993.0</td>\n",
       "      <td>NaN</td>\n",
       "      <td>NaN</td>\n",
       "      <td>63.03</td>\n",
       "      <td>22825.0</td>\n",
       "      <td>NaN</td>\n",
       "    </tr>\n",
       "    <tr>\n",
       "      <th>3</th>\n",
       "      <td>2010-01-04</td>\n",
       "      <td>76.1</td>\n",
       "      <td>NaN</td>\n",
       "      <td>NaN</td>\n",
       "      <td>NaN</td>\n",
       "      <td>NaN</td>\n",
       "      <td>NaN</td>\n",
       "      <td>NaN</td>\n",
       "      <td>NaN</td>\n",
       "      <td>29.905</td>\n",
       "      <td>...</td>\n",
       "      <td>690.0</td>\n",
       "      <td>6221.0</td>\n",
       "      <td>527.0</td>\n",
       "      <td>0.41</td>\n",
       "      <td>993.0</td>\n",
       "      <td>NaN</td>\n",
       "      <td>NaN</td>\n",
       "      <td>63.03</td>\n",
       "      <td>22825.0</td>\n",
       "      <td>NaN</td>\n",
       "    </tr>\n",
       "    <tr>\n",
       "      <th>4</th>\n",
       "      <td>2010-01-05</td>\n",
       "      <td>76.1</td>\n",
       "      <td>NaN</td>\n",
       "      <td>NaN</td>\n",
       "      <td>NaN</td>\n",
       "      <td>NaN</td>\n",
       "      <td>NaN</td>\n",
       "      <td>NaN</td>\n",
       "      <td>NaN</td>\n",
       "      <td>29.836</td>\n",
       "      <td>...</td>\n",
       "      <td>690.0</td>\n",
       "      <td>6221.0</td>\n",
       "      <td>527.0</td>\n",
       "      <td>0.41</td>\n",
       "      <td>993.0</td>\n",
       "      <td>NaN</td>\n",
       "      <td>NaN</td>\n",
       "      <td>63.03</td>\n",
       "      <td>22825.0</td>\n",
       "      <td>NaN</td>\n",
       "    </tr>\n",
       "  </tbody>\n",
       "</table>\n",
       "<p>5 rows × 100 columns</p>\n",
       "</div>"
      ],
      "text/plain": [
       "    timestamp  oil_urals  gdp_quart  gdp_quart_growth  cpi  ppi  gdp_deflator  \\\n",
       "0  2010-01-01       76.1        NaN               NaN  NaN  NaN           NaN   \n",
       "1  2010-01-02       76.1        NaN               NaN  NaN  NaN           NaN   \n",
       "2  2010-01-03       76.1        NaN               NaN  NaN  NaN           NaN   \n",
       "3  2010-01-04       76.1        NaN               NaN  NaN  NaN           NaN   \n",
       "4  2010-01-05       76.1        NaN               NaN  NaN  NaN           NaN   \n",
       "\n",
       "   balance_trade  balance_trade_growth  usdrub         ...          \\\n",
       "0            NaN                   NaN     NaN         ...           \n",
       "1            NaN                   NaN     NaN         ...           \n",
       "2            NaN                   NaN     NaN         ...           \n",
       "3            NaN                   NaN  29.905         ...           \n",
       "4            NaN                   NaN  29.836         ...           \n",
       "\n",
       "   provision_retail_space_modern_sqm  turnover_catering_per_cap  \\\n",
       "0                              690.0                     6221.0   \n",
       "1                              690.0                     6221.0   \n",
       "2                              690.0                     6221.0   \n",
       "3                              690.0                     6221.0   \n",
       "4                              690.0                     6221.0   \n",
       "\n",
       "   theaters_viewers_per_1000_cap  seats_theather_rfmin_per_100000_cap  \\\n",
       "0                          527.0                                 0.41   \n",
       "1                          527.0                                 0.41   \n",
       "2                          527.0                                 0.41   \n",
       "3                          527.0                                 0.41   \n",
       "4                          527.0                                 0.41   \n",
       "\n",
       "   museum_visitis_per_100_cap  bandwidth_sports  population_reg_sports_share  \\\n",
       "0                       993.0               NaN                          NaN   \n",
       "1                       993.0               NaN                          NaN   \n",
       "2                       993.0               NaN                          NaN   \n",
       "3                       993.0               NaN                          NaN   \n",
       "4                       993.0               NaN                          NaN   \n",
       "\n",
       "   students_reg_sports_share  apartment_build  apartment_fund_sqm  \n",
       "0                      63.03          22825.0                 NaN  \n",
       "1                      63.03          22825.0                 NaN  \n",
       "2                      63.03          22825.0                 NaN  \n",
       "3                      63.03          22825.0                 NaN  \n",
       "4                      63.03          22825.0                 NaN  \n",
       "\n",
       "[5 rows x 100 columns]"
      ]
     },
     "execution_count": 73,
     "metadata": {},
     "output_type": "execute_result"
    }
   ],
   "source": [
    "macro_df = pd.read_csv(datapath + 'macro.csv')\n",
    "macro_df.columns = macro_df.columns.str.lower()\n",
    "macro_df.head()"
   ]
  },
  {
   "cell_type": "code",
   "execution_count": 74,
   "metadata": {
    "collapsed": false
   },
   "outputs": [],
   "source": [
    "%qtconsole"
   ]
  },
  {
   "cell_type": "code",
   "execution_count": 75,
   "metadata": {
    "collapsed": true
   },
   "outputs": [],
   "source": [
    "train_df = pd.merge(train_df, macro_df, on = 'timestamp')"
   ]
  },
  {
   "cell_type": "markdown",
   "metadata": {},
   "source": [
    "### Exploration data analysis"
   ]
  },
  {
   "cell_type": "code",
   "execution_count": 76,
   "metadata": {
    "collapsed": false
   },
   "outputs": [
    {
     "data": {
      "text/plain": [
       "(30471, 391)"
      ]
     },
     "execution_count": 76,
     "metadata": {},
     "output_type": "execute_result"
    }
   ],
   "source": [
    "train_df.shape"
   ]
  },
  {
   "cell_type": "markdown",
   "metadata": {},
   "source": [
    "### process timestamp and build_year fields"
   ]
  },
  {
   "cell_type": "code",
   "execution_count": 77,
   "metadata": {
    "collapsed": true
   },
   "outputs": [],
   "source": [
    " from datetime import datetime"
   ]
  },
  {
   "cell_type": "code",
   "execution_count": 78,
   "metadata": {
    "collapsed": false
   },
   "outputs": [],
   "source": [
    "train_df['year'] = map(lambda x: datetime.strptime(x, '%Y-%m-%d').year, train_df.timestamp)\n",
    "#train_df['year'] = map(lambda x: int(x[0:4]), train_df.timestamp)\n",
    "#train_df['month'] = map(lambda x: int(x[5:7]), train_df.timestamp)\n"
   ]
  },
  {
   "cell_type": "code",
   "execution_count": 79,
   "metadata": {
    "collapsed": true
   },
   "outputs": [],
   "source": [
    "train_df['month'] = map(lambda x: datetime.strptime(x, '%Y-%m-%d').month, train_df.timestamp)"
   ]
  },
  {
   "cell_type": "markdown",
   "metadata": {},
   "source": [
    "Too many missing values of build_year, currently ignore it\n"
   ]
  },
  {
   "cell_type": "code",
   "execution_count": 80,
   "metadata": {
    "collapsed": false
   },
   "outputs": [],
   "source": [
    "#train_df.build_year = map(lambda x: x if x > 1850 and x < 2019 else np.nan, train_df.build_year)\n",
    "\n",
    "\n",
    "#train_df['build_year1'] = train_df.build_year\n",
    "#train_df.build_year1.fillna(train_df.build_year.mean(), inplace = True)\n",
    "#train_df['age'] = train_df.year - train_df.build_year1\n",
    "\n",
    "#train_df = train_df[(train_df.state.isnull()) | (train_df.state < 10)]\n",
    "\n",
    "#del train_df['build_year1']\n",
    "\n",
    "del train_df['timestamp']"
   ]
  },
  {
   "cell_type": "markdown",
   "metadata": {},
   "source": [
    "### some  values are like '90,80\" etc."
   ]
  },
  {
   "cell_type": "code",
   "execution_count": 81,
   "metadata": {
    "collapsed": true
   },
   "outputs": [],
   "source": [
    "def myaoti(x):\n",
    "    try:\n",
    "        return float(str(x).replace(',', ''))\n",
    "    except:\n",
    "        return np.nan"
   ]
  },
  {
   "cell_type": "code",
   "execution_count": 82,
   "metadata": {
    "collapsed": false
   },
   "outputs": [],
   "source": [
    "#train_df['modern_education_share'] = train_df.modern_education_share.map(lambda x: float(str(x).replace(',','')))\n",
    "train_df['modern_education_share'] = train_df.modern_education_share.map(myaoti)\n",
    "\n",
    "train_df['old_education_build_share'] = train_df.old_education_build_share.map(myaoti)\n",
    "\n",
    "train_df['child_on_acc_pre_school'] = train_df.child_on_acc_pre_school.map(myaoti)"
   ]
  },
  {
   "cell_type": "code",
   "execution_count": 83,
   "metadata": {
    "collapsed": true
   },
   "outputs": [],
   "source": [
    "def bi_convert(df, feature, pos = 'yes'):\n",
    "    df[feature] = df[feature].map(lambda x: 1 if x == pos else 0)"
   ]
  },
  {
   "cell_type": "code",
   "execution_count": 84,
   "metadata": {
    "collapsed": true
   },
   "outputs": [],
   "source": [
    "\n",
    "bi_convert(train_df, 'thermal_power_plant_raion')\n",
    "bi_convert(train_df, 'incineration_raion')\n",
    "bi_convert(train_df, 'oil_chemistry_raion')\n",
    "bi_convert(train_df, 'radiation_raion')\n",
    "bi_convert(train_df, 'railroad_terminal_raion')\n",
    "bi_convert(train_df, 'big_market_raion')\n",
    "bi_convert(train_df, 'nuclear_reactor_raion')\n",
    "bi_convert(train_df, 'detention_facility_raion')\n",
    "bi_convert(train_df, 'water_1line')\n",
    "bi_convert(train_df, 'big_road1_1line')\n",
    "bi_convert(train_df, 'railroad_1line')\n",
    "bi_convert(train_df, 'product_type', 'OwnerOccupier')\n",
    "bi_convert(train_df, 'culture_objects_top_25')\n"
   ]
  },
  {
   "cell_type": "code",
   "execution_count": 85,
   "metadata": {
    "collapsed": true
   },
   "outputs": [],
   "source": [
    "def ecology_convert(x):\n",
    "    eco ={'poor':-1, 'no data': 0, 'good': 1, 'satisfactory': 2, 'excellent': 3 }\n",
    "    return eco[x]"
   ]
  },
  {
   "cell_type": "code",
   "execution_count": 86,
   "metadata": {
    "collapsed": true
   },
   "outputs": [],
   "source": [
    "train_df['ecology'] = train_df.ecology.map(ecology_convert)"
   ]
  },
  {
   "cell_type": "markdown",
   "metadata": {},
   "source": [
    "### First find all columns with missing values, all numerical columns and all categorial columns"
   ]
  },
  {
   "cell_type": "code",
   "execution_count": 18,
   "metadata": {
    "collapsed": false
   },
   "outputs": [],
   "source": [
    "miss_cols = []\n",
    "for col in train_df.columns:\n",
    "    num_null = train_df[col].isnull().sum()\n",
    "    if  num_null > 0:\n",
    "        miss_cols.append((col, num_null*1.0 / train_df.shape[0]))"
   ]
  },
  {
   "cell_type": "code",
   "execution_count": 19,
   "metadata": {
    "collapsed": true
   },
   "outputs": [],
   "source": [
    "col_with_null = [c for (c,n) in miss_cols if n < 0.3]\n",
    "exclude_col = [c for (c,n) in miss_cols if n >= 0.3]"
   ]
  },
  {
   "cell_type": "markdown",
   "metadata": {},
   "source": [
    "remove those with >= 30% missing values"
   ]
  },
  {
   "cell_type": "code",
   "execution_count": 20,
   "metadata": {
    "collapsed": true
   },
   "outputs": [],
   "source": [
    "train_df_backup = train_df.copy()\n",
    "train_df = train_df.drop(exclude_col, axis = 1)"
   ]
  },
  {
   "cell_type": "code",
   "execution_count": 89,
   "metadata": {
    "collapsed": false
   },
   "outputs": [],
   "source": [
    "num_df = train_df.select_dtypes(include = [np.number])\n",
    "cat_df = train_df.select_dtypes(exclude = [np.number])\n",
    "\n",
    "num_col = num_df.columns.tolist()\n",
    "cat_col = cat_df.columns.tolist()"
   ]
  },
  {
   "cell_type": "code",
   "execution_count": 22,
   "metadata": {
    "collapsed": false
   },
   "outputs": [
    {
     "name": "stdout",
     "output_type": "stream",
     "text": [
      "77 0\n"
     ]
    }
   ],
   "source": [
    "num_missing_col = list(set(col_with_null).intersection(set(num_col)))\n",
    "cat_missing_col = list(set(col_with_null).intersection(set(cat_col)))\n",
    "print len(num_missing_col), len(cat_missing_col)"
   ]
  },
  {
   "cell_type": "markdown",
   "metadata": {},
   "source": [
    "Observation: all missing values are from numeric column."
   ]
  },
  {
   "cell_type": "code",
   "execution_count": 23,
   "metadata": {
    "collapsed": true
   },
   "outputs": [],
   "source": [
    "a = train_df.copy()\n",
    "a['price1'] = a.price_doc / 100000\n",
    "a = a[a.life_sq < 7000]"
   ]
  },
  {
   "cell_type": "code",
   "execution_count": 24,
   "metadata": {
    "collapsed": false,
    "scrolled": true
   },
   "outputs": [
    {
     "data": {
      "text/plain": [
       "<matplotlib.text.Text at 0x7fda93542fd0>"
      ]
     },
     "execution_count": 24,
     "metadata": {},
     "output_type": "execute_result"
    },
    {
     "data": {
      "image/png": "[encoded data removed]",
      "text/plain": [
       "<matplotlib.figure.Figure at 0x7fda94896c90>"
      ]
     },
     "metadata": {},
     "output_type": "display_data"
    }
   ],
   "source": [
    "x = num_col[2]\n",
    "y = 'price1'\n",
    "sns.lmplot(x, y,\n",
    "           data=a,\n",
    "           fit_reg=False,\n",
    "        \n",
    "           \n",
    "           scatter_kws={\"marker\": \"D\",\n",
    "                        \"s\": 10})\n",
    "plt.title('Scatter Plot ')\n",
    "plt.xlabel(x)\n",
    "plt.ylabel(y)"
   ]
  },
  {
   "cell_type": "markdown",
   "metadata": {},
   "source": [
    "### For each column with missing value, we set the missing values to 0 and add a binary column recording the missing value locations"
   ]
  },
  {
   "cell_type": "code",
   "execution_count": 25,
   "metadata": {
    "collapsed": false
   },
   "outputs": [],
   "source": [
    "# each column (except the id one) of add_df corresonds to a column in train_df with missing value.\n",
    "# The column is binary, 1 means missing in train_df, 0 otherwise.\n",
    "#add_df = pd.DataFrame({'id': train_df.id})\n",
    "#for col in num_missing_col:\n",
    "#    add_df[col + '_missing'] = num_df[col].isnull().astype(int)\n",
    "#num_df = num_df.fillna(0)\n",
    "#del num_df['build_year']"
   ]
  },
  {
   "cell_type": "code",
   "execution_count": 26,
   "metadata": {
    "collapsed": true
   },
   "outputs": [],
   "source": [
    "num_df = num_df.fillna(num_df.mean())"
   ]
  },
  {
   "cell_type": "markdown",
   "metadata": {},
   "source": [
    "### only one cat variable 'sub_area', combine low counts to \"other\" then one -hot encoding"
   ]
  },
  {
   "cell_type": "code",
   "execution_count": 27,
   "metadata": {
    "collapsed": false
   },
   "outputs": [
    {
     "name": "stderr",
     "output_type": "stream",
     "text": [
      "/usr/local/lib/python2.7/dist-packages/ipykernel/__main__.py:4: SettingWithCopyWarning: \n",
      "A value is trying to be set on a copy of a slice from a DataFrame.\n",
      "Try using .loc[row_indexer,col_indexer] = value instead\n",
      "\n",
      "See the caveats in the documentation: http://pandas.pydata.org/pandas-docs/stable/indexing.html#indexing-view-versus-copy\n"
     ]
    }
   ],
   "source": [
    "sub1 = cat_df.sub_area.value_counts()\n",
    "sub2 = sub1[sub1 < 20].index.tolist()\n",
    "\n",
    "cat_df['sub_area'] = map(lambda x: 'Other' if x in sub2 else x, cat_df.sub_area)"
   ]
  },
  {
   "cell_type": "code",
   "execution_count": 92,
   "metadata": {
    "collapsed": true
   },
   "outputs": [],
   "source": [
    "cat_one_hot = pd.get_dummies(cat_df.sub_area)"
   ]
  },
  {
   "cell_type": "code",
   "execution_count": 93,
   "metadata": {
    "collapsed": true
   },
   "outputs": [],
   "source": [
    "from random import shuffle\n",
    "indices = num_df.index.tolist()\n",
    "shuffle(indices)"
   ]
  },
  {
   "cell_type": "code",
   "execution_count": 94,
   "metadata": {
    "collapsed": true
   },
   "outputs": [],
   "source": [
    "train_ix = [indices[i] for i in range(21328)]\n",
    "valid_ix = [indices[i] for i in range(21328, len(indices))]\n",
    "num_train = num_df.ix[train_ix]\n",
    "num_valid = num_df.ix[valid_ix]\n",
    "cat_train = cat_one_hot.ix[train_ix]\n",
    "cat_valid = cat_one_hot.ix[valid_ix]\n"
   ]
  },
  {
   "cell_type": "code",
   "execution_count": 95,
   "metadata": {
    "collapsed": false
   },
   "outputs": [],
   "source": [
    "y_train = np.log(num_train.price_doc.as_matrix()+1)\n",
    "y_valid = np.log(num_valid.price_doc.as_matrix()+1)\n",
    "num_train = num_train.drop(['id', 'price_doc'], axis = 1)\n",
    "num_valid = num_valid.drop(['id', 'price_doc'], axis = 1)"
   ]
  },
  {
   "cell_type": "markdown",
   "metadata": {},
   "source": [
    "### check out the predictive power of each variable\n",
    "for numerical variable, use linear regression or tree(?)"
   ]
  },
  {
   "cell_type": "code",
   "execution_count": 44,
   "metadata": {
    "collapsed": false
   },
   "outputs": [],
   "source": [
    "def rmsle(lp, la):\n",
    "    return np.sqrt(np.mean(np.square(lp - la)))"
   ]
  },
  {
   "cell_type": "code",
   "execution_count": 45,
   "metadata": {
    "collapsed": true
   },
   "outputs": [],
   "source": [
    "# a decision tree regresson on a simple numerical variable with performance on the validation set\n",
    "def single_num(feature):\n",
    "    X_train = num_train[feature].as_matrix().reshape(-1,1)\n",
    "    X_valid = num_valid[feature].as_matrix().reshape(-1,1)\n",
    "    tree = DecisionTreeRegressor(max_depth=5)\n",
    "    tree.fit(X_train, y_train)\n",
    "    y_pred = tree.predict(X_valid)\n",
    "    return rmsle(y_pred, y_valid)"
   ]
  },
  {
   "cell_type": "code",
   "execution_count": 46,
   "metadata": {
    "collapsed": true
   },
   "outputs": [],
   "source": [
    "def single_cat():\n",
    "\n",
    "    X_train = cat_train.as_matrix()\n",
    "    X_valid = cat_valid.as_matrix()\n",
    "    tree = DecisionTreeRegressor(max_depth=5)\n",
    "    tree.fit(X_train, y_train)\n",
    "    y_pred = tree.predict(X_valid)\n",
    "    return rmsle(y_pred, y_valid)"
   ]
  },
  {
   "cell_type": "code",
   "execution_count": 37,
   "metadata": {
    "collapsed": true
   },
   "outputs": [],
   "source": [
    "#simple utility funciton to sort of visualize a tre\n",
    "def get_code(tree, feature_names, tabdepth=0):\n",
    "    left      = tree.tree_.children_left\n",
    "    right     = tree.tree_.children_right\n",
    "    threshold = tree.tree_.threshold\n",
    "    features  = [feature_names[i] for i in tree.tree_.feature]\n",
    "    value = tree.tree_.value\n",
    "\n",
    "    def recurse(left, right, threshold, features, node, tabdepth=0):\n",
    "            if (threshold[node] != -2):\n",
    "                    print '\\t' * tabdepth,\n",
    "                    print \"if ( \" + features[node] + \" <= \" + str(threshold[node]) + \" ) {\"\n",
    "                    if left[node] != -1:\n",
    "                            recurse (left, right, threshold, features,left[node], tabdepth+1)\n",
    "                    print '\\t' * tabdepth,\n",
    "                    print \"} else {\"\n",
    "                    if right[node] != -1:\n",
    "                            recurse (left, right, threshold, features,right[node], tabdepth+1)\n",
    "                    print '\\t' * tabdepth,\n",
    "                    print \"}\"\n",
    "            else:\n",
    "                    print '\\t' * tabdepth,\n",
    "                    print \"return \" + str(value[node])\n",
    "\n",
    "    recurse(left, right, threshold, features, 0)"
   ]
  },
  {
   "cell_type": "markdown",
   "metadata": {},
   "source": [
    "### order features by their single predicting power"
   ]
  },
  {
   "cell_type": "code",
   "execution_count": 106,
   "metadata": {
    "collapsed": false
   },
   "outputs": [
    {
     "name": "stdout",
     "output_type": "stream",
     "text": [
      "full_sq\n",
      "life_sq\n"
     ]
    },
    {
     "ename": "ValueError",
     "evalue": "Input contains NaN, infinity or a value too large for dtype('float32').",
     "output_type": "error",
     "traceback": [
      "\u001b[0;31m---------------------------------------------------------------------------\u001b[0m",
      "\u001b[0;31mValueError\u001b[0m                                Traceback (most recent call last)",
      "\u001b[0;32m<ipython-input-106-68368e58ce3d>\u001b[0m in \u001b[0;36m<module>\u001b[0;34m()\u001b[0m\n\u001b[1;32m      3\u001b[0m \u001b[0;32mfor\u001b[0m \u001b[0mcol\u001b[0m \u001b[0;32min\u001b[0m \u001b[0mnum_col\u001b[0m\u001b[0;34m:\u001b[0m\u001b[0;34m\u001b[0m\u001b[0m\n\u001b[1;32m      4\u001b[0m     \u001b[0;32mprint\u001b[0m \u001b[0mcol\u001b[0m\u001b[0;34m\u001b[0m\u001b[0m\n\u001b[0;32m----> 5\u001b[0;31m     \u001b[0mpower\u001b[0m\u001b[0;34m.\u001b[0m\u001b[0mappend\u001b[0m\u001b[0;34m(\u001b[0m\u001b[0;34m(\u001b[0m\u001b[0mcol\u001b[0m\u001b[0;34m,\u001b[0m \u001b[0msingle_num\u001b[0m\u001b[0;34m(\u001b[0m\u001b[0mcol\u001b[0m\u001b[0;34m)\u001b[0m\u001b[0;34m)\u001b[0m\u001b[0;34m)\u001b[0m\u001b[0;34m\u001b[0m\u001b[0m\n\u001b[0m\u001b[1;32m      6\u001b[0m \u001b[0;31m#power.append(('sub_area', single_cat()))\u001b[0m\u001b[0;34m\u001b[0m\u001b[0;34m\u001b[0m\u001b[0m\n",
      "\u001b[0;32m<ipython-input-45-8e03ce124766>\u001b[0m in \u001b[0;36msingle_num\u001b[0;34m(feature)\u001b[0m\n\u001b[1;32m      4\u001b[0m     \u001b[0mX_valid\u001b[0m \u001b[0;34m=\u001b[0m \u001b[0mnum_valid\u001b[0m\u001b[0;34m[\u001b[0m\u001b[0mfeature\u001b[0m\u001b[0;34m]\u001b[0m\u001b[0;34m.\u001b[0m\u001b[0mas_matrix\u001b[0m\u001b[0;34m(\u001b[0m\u001b[0;34m)\u001b[0m\u001b[0;34m.\u001b[0m\u001b[0mreshape\u001b[0m\u001b[0;34m(\u001b[0m\u001b[0;34m-\u001b[0m\u001b[0;36m1\u001b[0m\u001b[0;34m,\u001b[0m\u001b[0;36m1\u001b[0m\u001b[0;34m)\u001b[0m\u001b[0;34m\u001b[0m\u001b[0m\n\u001b[1;32m      5\u001b[0m     \u001b[0mtree\u001b[0m \u001b[0;34m=\u001b[0m \u001b[0mDecisionTreeRegressor\u001b[0m\u001b[0;34m(\u001b[0m\u001b[0mmax_depth\u001b[0m\u001b[0;34m=\u001b[0m\u001b[0;36m5\u001b[0m\u001b[0;34m)\u001b[0m\u001b[0;34m\u001b[0m\u001b[0m\n\u001b[0;32m----> 6\u001b[0;31m     \u001b[0mtree\u001b[0m\u001b[0;34m.\u001b[0m\u001b[0mfit\u001b[0m\u001b[0;34m(\u001b[0m\u001b[0mX_train\u001b[0m\u001b[0;34m,\u001b[0m \u001b[0my_train\u001b[0m\u001b[0;34m)\u001b[0m\u001b[0;34m\u001b[0m\u001b[0m\n\u001b[0m\u001b[1;32m      7\u001b[0m     \u001b[0my_pred\u001b[0m \u001b[0;34m=\u001b[0m \u001b[0mtree\u001b[0m\u001b[0;34m.\u001b[0m\u001b[0mpredict\u001b[0m\u001b[0;34m(\u001b[0m\u001b[0mX_valid\u001b[0m\u001b[0;34m)\u001b[0m\u001b[0;34m\u001b[0m\u001b[0m\n\u001b[1;32m      8\u001b[0m     \u001b[0;32mreturn\u001b[0m \u001b[0mrmsle\u001b[0m\u001b[0;34m(\u001b[0m\u001b[0my_pred\u001b[0m\u001b[0;34m,\u001b[0m \u001b[0my_valid\u001b[0m\u001b[0;34m)\u001b[0m\u001b[0;34m\u001b[0m\u001b[0m\n",
      "\u001b[0;32m/usr/local/lib/python2.7/dist-packages/sklearn/tree/tree.pyc\u001b[0m in \u001b[0;36mfit\u001b[0;34m(self, X, y, sample_weight, check_input, X_idx_sorted)\u001b[0m\n\u001b[1;32m   1027\u001b[0m             \u001b[0msample_weight\u001b[0m\u001b[0;34m=\u001b[0m\u001b[0msample_weight\u001b[0m\u001b[0;34m,\u001b[0m\u001b[0;34m\u001b[0m\u001b[0m\n\u001b[1;32m   1028\u001b[0m             \u001b[0mcheck_input\u001b[0m\u001b[0;34m=\u001b[0m\u001b[0mcheck_input\u001b[0m\u001b[0;34m,\u001b[0m\u001b[0;34m\u001b[0m\u001b[0m\n\u001b[0;32m-> 1029\u001b[0;31m             X_idx_sorted=X_idx_sorted)\n\u001b[0m\u001b[1;32m   1030\u001b[0m         \u001b[0;32mreturn\u001b[0m \u001b[0mself\u001b[0m\u001b[0;34m\u001b[0m\u001b[0m\n\u001b[1;32m   1031\u001b[0m \u001b[0;34m\u001b[0m\u001b[0m\n",
      "\u001b[0;32m/usr/local/lib/python2.7/dist-packages/sklearn/tree/tree.pyc\u001b[0m in \u001b[0;36mfit\u001b[0;34m(self, X, y, sample_weight, check_input, X_idx_sorted)\u001b[0m\n\u001b[1;32m    120\u001b[0m         \u001b[0mrandom_state\u001b[0m \u001b[0;34m=\u001b[0m \u001b[0mcheck_random_state\u001b[0m\u001b[0;34m(\u001b[0m\u001b[0mself\u001b[0m\u001b[0;34m.\u001b[0m\u001b[0mrandom_state\u001b[0m\u001b[0;34m)\u001b[0m\u001b[0;34m\u001b[0m\u001b[0m\n\u001b[1;32m    121\u001b[0m         \u001b[0;32mif\u001b[0m \u001b[0mcheck_input\u001b[0m\u001b[0;34m:\u001b[0m\u001b[0;34m\u001b[0m\u001b[0m\n\u001b[0;32m--> 122\u001b[0;31m             \u001b[0mX\u001b[0m \u001b[0;34m=\u001b[0m \u001b[0mcheck_array\u001b[0m\u001b[0;34m(\u001b[0m\u001b[0mX\u001b[0m\u001b[0;34m,\u001b[0m \u001b[0mdtype\u001b[0m\u001b[0;34m=\u001b[0m\u001b[0mDTYPE\u001b[0m\u001b[0;34m,\u001b[0m \u001b[0maccept_sparse\u001b[0m\u001b[0;34m=\u001b[0m\u001b[0;34m\"csc\"\u001b[0m\u001b[0;34m)\u001b[0m\u001b[0;34m\u001b[0m\u001b[0m\n\u001b[0m\u001b[1;32m    123\u001b[0m             \u001b[0my\u001b[0m \u001b[0;34m=\u001b[0m \u001b[0mcheck_array\u001b[0m\u001b[0;34m(\u001b[0m\u001b[0my\u001b[0m\u001b[0;34m,\u001b[0m \u001b[0mensure_2d\u001b[0m\u001b[0;34m=\u001b[0m\u001b[0mFalse\u001b[0m\u001b[0;34m,\u001b[0m \u001b[0mdtype\u001b[0m\u001b[0;34m=\u001b[0m\u001b[0mNone\u001b[0m\u001b[0;34m)\u001b[0m\u001b[0;34m\u001b[0m\u001b[0m\n\u001b[1;32m    124\u001b[0m             \u001b[0;32mif\u001b[0m \u001b[0missparse\u001b[0m\u001b[0;34m(\u001b[0m\u001b[0mX\u001b[0m\u001b[0;34m)\u001b[0m\u001b[0;34m:\u001b[0m\u001b[0;34m\u001b[0m\u001b[0m\n",
      "\u001b[0;32m/usr/local/lib/python2.7/dist-packages/sklearn/utils/validation.pyc\u001b[0m in \u001b[0;36mcheck_array\u001b[0;34m(array, accept_sparse, dtype, order, copy, force_all_finite, ensure_2d, allow_nd, ensure_min_samples, ensure_min_features, warn_on_dtype, estimator)\u001b[0m\n\u001b[1;32m    405\u001b[0m                              % (array.ndim, estimator_name))\n\u001b[1;32m    406\u001b[0m         \u001b[0;32mif\u001b[0m \u001b[0mforce_all_finite\u001b[0m\u001b[0;34m:\u001b[0m\u001b[0;34m\u001b[0m\u001b[0m\n\u001b[0;32m--> 407\u001b[0;31m             \u001b[0m_assert_all_finite\u001b[0m\u001b[0;34m(\u001b[0m\u001b[0marray\u001b[0m\u001b[0;34m)\u001b[0m\u001b[0;34m\u001b[0m\u001b[0m\n\u001b[0m\u001b[1;32m    408\u001b[0m \u001b[0;34m\u001b[0m\u001b[0m\n\u001b[1;32m    409\u001b[0m     \u001b[0mshape_repr\u001b[0m \u001b[0;34m=\u001b[0m \u001b[0m_shape_repr\u001b[0m\u001b[0;34m(\u001b[0m\u001b[0marray\u001b[0m\u001b[0;34m.\u001b[0m\u001b[0mshape\u001b[0m\u001b[0;34m)\u001b[0m\u001b[0;34m\u001b[0m\u001b[0m\n",
      "\u001b[0;32m/usr/local/lib/python2.7/dist-packages/sklearn/utils/validation.pyc\u001b[0m in \u001b[0;36m_assert_all_finite\u001b[0;34m(X)\u001b[0m\n\u001b[1;32m     56\u001b[0m             and not np.isfinite(X).all()):\n\u001b[1;32m     57\u001b[0m         raise ValueError(\"Input contains NaN, infinity\"\n\u001b[0;32m---> 58\u001b[0;31m                          \" or a value too large for %r.\" % X.dtype)\n\u001b[0m\u001b[1;32m     59\u001b[0m \u001b[0;34m\u001b[0m\u001b[0m\n\u001b[1;32m     60\u001b[0m \u001b[0;34m\u001b[0m\u001b[0m\n",
      "\u001b[0;31mValueError\u001b[0m: Input contains NaN, infinity or a value too large for dtype('float32')."
     ]
    }
   ],
   "source": [
    "power = []\n",
    "num_col = num_train.columns.tolist()\n",
    "for col in num_col:\n",
    "    print col\n",
    "    power.append((col, single_num(col)))\n",
    "#power.append(('sub_area', single_cat()))\n"
   ]
  },
  {
   "cell_type": "code",
   "execution_count": 48,
   "metadata": {
    "collapsed": false
   },
   "outputs": [],
   "source": [
    "power = sorted(power, key = lambda x: x[1])"
   ]
  },
  {
   "cell_type": "markdown",
   "metadata": {},
   "source": [
    "### now try some methods"
   ]
  },
  {
   "cell_type": "markdown",
   "metadata": {},
   "source": [
    "### try with all numerical variables"
   ]
  },
  {
   "cell_type": "code",
   "execution_count": 52,
   "metadata": {
    "collapsed": true
   },
   "outputs": [],
   "source": [
    "from sklearn.ensemble import RandomForestRegressor"
   ]
  },
  {
   "cell_type": "code",
   "execution_count": 77,
   "metadata": {
    "collapsed": false
   },
   "outputs": [
    {
     "data": {
      "text/plain": [
       "RandomForestRegressor(bootstrap=True, criterion='mse', max_depth=None,\n",
       "           max_features='auto', max_leaf_nodes=None,\n",
       "           min_impurity_split=1e-07, min_samples_leaf=1,\n",
       "           min_samples_split=2, min_weight_fraction_leaf=0.0,\n",
       "           n_estimators=500, n_jobs=1, oob_score=False, random_state=None,\n",
       "           verbose=0, warm_start=False)"
      ]
     },
     "execution_count": 77,
     "metadata": {},
     "output_type": "execute_result"
    }
   ],
   "source": [
    "rf = RandomForestRegressor(n_estimators=500)\n",
    "rf.fit(num_train, y_train)"
   ]
  },
  {
   "cell_type": "code",
   "execution_count": 79,
   "metadata": {
    "collapsed": false
   },
   "outputs": [],
   "source": [
    "y_pred = rf.predict(num_valid)"
   ]
  },
  {
   "cell_type": "code",
   "execution_count": 80,
   "metadata": {
    "collapsed": false
   },
   "outputs": [
    {
     "name": "stdout",
     "output_type": "stream",
     "text": [
      "0.471642319806\n"
     ]
    }
   ],
   "source": [
    "print rmsle(y_pred, y_valid)"
   ]
  },
  {
   "cell_type": "markdown",
   "metadata": {},
   "source": [
    "#top 10 numerical features"
   ]
  },
  {
   "cell_type": "code",
   "execution_count": 53,
   "metadata": {
    "collapsed": false
   },
   "outputs": [
    {
     "name": "stdout",
     "output_type": "stream",
     "text": [
      "0.486221475389\n"
     ]
    }
   ],
   "source": [
    "features = [f for (f,s) in power[0:50]]\n",
    "\n",
    "num_train0 = num_train[features].as_matrix()\n",
    "\n",
    "num_valid0 = num_valid[features].as_matrix()\n",
    "\n",
    "rf = RandomForestRegressor(n_estimators=500)\n",
    "rf.fit(num_train0, y_train)\n",
    "y_pred = rf.predict(num_valid0)\n",
    "print rmsle(y_pred, y_valid)"
   ]
  },
  {
   "cell_type": "markdown",
   "metadata": {},
   "source": [
    "### try xgboost"
   ]
  },
  {
   "cell_type": "code",
   "execution_count": 54,
   "metadata": {
    "collapsed": true
   },
   "outputs": [],
   "source": [
    "import xgboost as xgb"
   ]
  },
  {
   "cell_type": "code",
   "execution_count": 127,
   "metadata": {
    "collapsed": true
   },
   "outputs": [],
   "source": [
    "macro_cols = [\"balance_trade\", \"balance_trade_growth\", \"eurrub\", \"average_provision_of_build_contract\",\n",
    "\"micex_rgbi_tr\", \"micex_cbi_tr\", \"deposits_rate\", \"mortgage_value\", \"mortgage_rate\",\n",
    "\"income_per_cap\", \"rent_price_4+room_bus\", \"museum_visitis_per_100_cap\", \"apartment_build\"]\n",
    "\n",
    "use_cols = original_cols + macro_cols"
   ]
  },
  {
   "cell_type": "code",
   "execution_count": 128,
   "metadata": {
    "collapsed": true
   },
   "outputs": [],
   "source": [
    "use_cols.remove('id')\n",
    "use_cols.remove('timestamp')\n",
    "use_cols.remove('sub_area')\n",
    "use_cols.remove('price_doc')\n",
    "use_cols = use_cols + ['year', 'month']     "
   ]
  },
  {
   "cell_type": "code",
   "execution_count": 129,
   "metadata": {
    "collapsed": false
   },
   "outputs": [],
   "source": [
    "num_train0 = num_train[use_cols]"
   ]
  },
  {
   "cell_type": "code",
   "execution_count": 130,
   "metadata": {
    "collapsed": true
   },
   "outputs": [],
   "source": [
    "num_valid0 = num_valid[use_cols]"
   ]
  },
  {
   "cell_type": "code",
   "execution_count": 131,
   "metadata": {
    "collapsed": false
   },
   "outputs": [],
   "source": [
    "xgtrain = xgb.DMatrix(num_train0.as_matrix(), y_train, feature_names=num_train0.columns.tolist())\n",
    "xgvalid = xgb.DMatrix(num_valid0.as_matrix(), feature_names=num_valid0.columns.tolist())"
   ]
  },
  {
   "cell_type": "code",
   "execution_count": 132,
   "metadata": {
    "collapsed": false
   },
   "outputs": [
    {
     "name": "stdout",
     "output_type": "stream",
     "text": [
      "0.469523295601\n"
     ]
    }
   ],
   "source": [
    "xgb_params = {\n",
    "    'eta': 0.05,\n",
    "    'max_depth': 5,\n",
    "    'subsample': 1.0,\n",
    "    'colsample_bytree': 0.7,\n",
    "    'objective': 'reg:linear',\n",
    "    'eval_metric': 'rmse',\n",
    "    'silent': 1\n",
    "}\n",
    "num_round = 500\n",
    "model = xgb.train(xgb_params, xgtrain, num_round)\n",
    "# make prediction\n",
    "y_pred1 = model.predict(xgvalid)\n",
    "print rmsle(y_pred1, y_valid)\n",
    "\n"
   ]
  },
  {
   "cell_type": "code",
   "execution_count": null,
   "metadata": {
    "collapsed": true
   },
   "outputs": [],
   "source": [
    "xgb_params = {\n",
    "    'eta': 0.05,\n",
    "    'max_depth': 5,\n",
    "    'subsample': 1.0,\n",
    "    'colsample_bytree': 0.7,\n",
    "    'objective': 'reg:linear',\n",
    "    'eval_metric': 'rmse',\n",
    "    'silent': 1\n",
    "}"
   ]
  },
  {
   "cell_type": "code",
   "execution_count": null,
   "metadata": {
    "collapsed": true
   },
   "outputs": [],
   "source": [
    "features = [f for (f,s) in power[0:10]]\n",
    "num_fea = list(set(features).difference(set(cat_col)))\n",
    "cat_fea = list(set(features + ['product_type']).intersection(set(cat_col)))"
   ]
  },
  {
   "cell_type": "code",
   "execution_count": null,
   "metadata": {
    "collapsed": true
   },
   "outputs": [],
   "source": []
  },
  {
   "cell_type": "code",
   "execution_count": null,
   "metadata": {
    "collapsed": true
   },
   "outputs": [],
   "source": []
  },
  {
   "cell_type": "code",
   "execution_count": 115,
   "metadata": {
    "collapsed": false
   },
   "outputs": [],
   "source": [
    "train_num = train[num_fea].as_matrix()\n",
    "train_cat = pd.get_dummies(train[cat_fea]).as_matrix()\n",
    "valid_num = valid[num_fea].as_matrix()\n",
    "valid_cat = pd.get_dummies(valid[cat_fea]).as_matrix()"
   ]
  },
  {
   "cell_type": "code",
   "execution_count": 116,
   "metadata": {
    "collapsed": true
   },
   "outputs": [],
   "source": [
    "X_train = np.concatenate((train_num, train_cat), axis = 1)\n",
    "X_valid = np.concatenate((valid_num, valid_cat), axis = 1)"
   ]
  },
  {
   "cell_type": "code",
   "execution_count": 103,
   "metadata": {
    "collapsed": true
   },
   "outputs": [],
   "source": [
    "from sklearn.ensemble import RandomForestRegressor"
   ]
  },
  {
   "cell_type": "code",
   "execution_count": 117,
   "metadata": {
    "collapsed": false
   },
   "outputs": [
    {
     "data": {
      "text/plain": [
       "RandomForestRegressor(bootstrap=True, criterion='mse', max_depth=None,\n",
       "           max_features='auto', max_leaf_nodes=None,\n",
       "           min_impurity_split=1e-07, min_samples_leaf=1,\n",
       "           min_samples_split=2, min_weight_fraction_leaf=0.0,\n",
       "           n_estimators=500, n_jobs=1, oob_score=False, random_state=None,\n",
       "           verbose=0, warm_start=False)"
      ]
     },
     "execution_count": 117,
     "metadata": {},
     "output_type": "execute_result"
    }
   ],
   "source": [
    "rf = RandomForestRegressor(n_estimators=500)\n",
    "rf.fit(X_train, y_train)"
   ]
  },
  {
   "cell_type": "code",
   "execution_count": 118,
   "metadata": {
    "collapsed": true
   },
   "outputs": [],
   "source": [
    "y_pred = rf.predict(X_valid)"
   ]
  },
  {
   "cell_type": "code",
   "execution_count": 119,
   "metadata": {
    "collapsed": false
   },
   "outputs": [
    {
     "name": "stdout",
     "output_type": "stream",
     "text": [
      "0.478211748166\n"
     ]
    }
   ],
   "source": [
    "print rmsle(y_pred, y_valid)"
   ]
  },
  {
   "cell_type": "code",
   "execution_count": 5,
   "metadata": {
    "collapsed": false
   },
   "outputs": [],
   "source": [
    "def single_cat(dSet, feature, target = 'risk'):\n",
    "    \"\"\" exploring single categorical variable\"\"\"\n",
    "    print \"number of missing values =\", dSet[feature].isnull().sum()\n",
    "    \n",
    "    #cross tabulation of feature v.s. target\n",
    "    ctab = pd.crosstab(dSet[target], dSet[feature])\n",
    "    rate = (ctab.iloc[1] / ctab.sum(axis = 0)).to_frame().T\n",
    "    rate.index = range(2,3)\n",
    "    ctab = pd.concat([ctab, rate])\n",
    "    print ctab\n"
   ]
  },
  {
   "cell_type": "code",
   "execution_count": 6,
   "metadata": {
    "collapsed": true
   },
   "outputs": [],
   "source": [
    "def single_num(dSet, feature, target = 'risk'):\n",
    "    \"\"\" exploring single numerical variable\"\"\"\n",
    "    print \"number of missing values =\", dSet[feature].isnull().sum()\n",
    "    print \"summary of the whole set\"\n",
    "    print dSet[feature].describe()\n",
    "    print \"summary of subset with target = 0\"\n",
    "    print dSet[dSet[target] == 0][feature].describe()\n",
    "    print \"summary of subset with target = 1\"\n",
    "    print dSet[dSet[target] == 1][feature].describe()\n",
    "    sns.plt.title('double density plot')\n",
    "    sns.kdeplot(train[train[target]==0][feature], label = target + ' = 0')\n",
    "    sns.kdeplot(train[train['risk']==1]['bb_activity_latest'], label = target + ' = 1')"
   ]
  },
  {
   "cell_type": "markdown",
   "metadata": {},
   "source": [
    "#### aging"
   ]
  },
  {
   "cell_type": "code",
   "execution_count": 7,
   "metadata": {
    "collapsed": false
   },
   "outputs": [
    {
     "name": "stdout",
     "output_type": "stream",
     "text": [
      "number of missing values = 0\n",
      "summary of the whole set\n",
      "count    7813.000000\n",
      "mean       74.817612\n",
      "std       103.293105\n",
      "min         0.000000\n",
      "25%         0.000000\n",
      "50%        30.000000\n",
      "75%        90.000000\n",
      "max       360.000000\n",
      "Name: aging, dtype: float64\n",
      "summary of subset with target = 0\n",
      "count    3489.000000\n",
      "mean       35.821152\n",
      "std        57.288883\n",
      "min         0.000000\n",
      "25%         0.000000\n",
      "50%        30.000000\n",
      "75%        60.000000\n",
      "max       360.000000\n",
      "Name: aging, dtype: float64\n",
      "summary of subset with target = 1\n",
      "count    4324.000000\n",
      "mean      106.283534\n",
      "std       120.061647\n",
      "min         0.000000\n",
      "25%        30.000000\n",
      "50%        60.000000\n",
      "75%       150.000000\n",
      "max       360.000000\n",
      "Name: aging, dtype: float64\n"
     ]
    },
    {
     "data": {
      "image/png": "[encoded data removed]",
      "text/plain": [
       "<matplotlib.figure.Figure at 0x7fe1b8375f90>"
      ]
     },
     "metadata": {},
     "output_type": "display_data"
    }
   ],
   "source": [
    "single_num(train, 'aging')"
   ]
  },
  {
   "cell_type": "markdown",
   "metadata": {},
   "source": [
    "No missing value.\n",
    "clearly longer aging --> higher risk"
   ]
  },
  {
   "cell_type": "markdown",
   "metadata": {},
   "source": [
    "#### college"
   ]
  },
  {
   "cell_type": "code",
   "execution_count": 8,
   "metadata": {
    "collapsed": false
   },
   "outputs": [
    {
     "name": "stdout",
     "output_type": "stream",
     "text": [
      "number of missing values = 0\n",
      "college          ED           MG         PA           PH          PY\n",
      "0        530.000000  1941.000000  59.000000   788.000000  171.000000\n",
      "1        480.000000  2577.000000  94.000000  1042.000000  131.000000\n",
      "2          0.475248     0.570385   0.614379     0.569399    0.433775\n"
     ]
    }
   ],
   "source": [
    "single_cat(train, 'college')"
   ]
  },
  {
   "cell_type": "markdown",
   "metadata": {},
   "source": [
    "#### ba_age"
   ]
  },
  {
   "cell_type": "code",
   "execution_count": 9,
   "metadata": {
    "collapsed": false,
    "scrolled": true
   },
   "outputs": [
    {
     "name": "stdout",
     "output_type": "stream",
     "text": [
      "number of missing values = 3\n",
      "summary of the whole set\n",
      "count    7810.000000\n",
      "mean       37.957875\n",
      "std         8.334605\n",
      "min         0.000000\n",
      "25%        32.000000\n",
      "50%        37.000000\n",
      "75%        43.000000\n",
      "max       121.000000\n",
      "Name: ba_age, dtype: float64\n",
      "summary of subset with target = 0\n",
      "count    3489.000000\n",
      "mean       38.116652\n",
      "std         8.552716\n",
      "min         0.000000\n",
      "25%        32.000000\n",
      "50%        37.000000\n",
      "75%        43.000000\n",
      "max       121.000000\n",
      "Name: ba_age, dtype: float64\n",
      "summary of subset with target = 1\n",
      "count    4321.000000\n",
      "mean       37.829669\n",
      "std         8.152974\n",
      "min         1.000000\n",
      "25%        32.000000\n",
      "50%        37.000000\n",
      "75%        43.000000\n",
      "max        73.000000\n",
      "Name: ba_age, dtype: float64\n"
     ]
    },
    {
     "data": {
      "image/png": "[encoded data removed]",
      "text/plain": [
       "<matplotlib.figure.Figure at 0x7fe1b8375ed0>"
      ]
     },
     "metadata": {},
     "output_type": "display_data"
    }
   ],
   "source": [
    "single_num(train, 'ba_age')"
   ]
  },
  {
   "cell_type": "markdown",
   "metadata": {},
   "source": [
    "3 missing values, impute with mean"
   ]
  },
  {
   "cell_type": "code",
   "execution_count": 10,
   "metadata": {
    "collapsed": false
   },
   "outputs": [
    {
     "name": "stderr",
     "output_type": "stream",
     "text": [
      "/usr/local/lib/python2.7/dist-packages/pandas/core/generic.py:3295: SettingWithCopyWarning: \n",
      "A value is trying to be set on a copy of a slice from a DataFrame\n",
      "\n",
      "See the caveats in the documentation: http://pandas.pydata.org/pandas-docs/stable/indexing.html#indexing-view-versus-copy\n",
      "  self._update_inplace(new_data)\n"
     ]
    },
    {
     "name": "stdout",
     "output_type": "stream",
     "text": [
      "number of missing values = 0\n",
      "summary of the whole set\n",
      "count    7813.000000\n",
      "mean       37.957875\n",
      "std         8.333004\n",
      "min         0.000000\n",
      "25%        32.000000\n",
      "50%        37.000000\n",
      "75%        43.000000\n",
      "max       121.000000\n",
      "Name: ba_age, dtype: float64\n",
      "summary of subset with target = 0\n",
      "count    3489.000000\n",
      "mean       38.116652\n",
      "std         8.552716\n",
      "min         0.000000\n",
      "25%        32.000000\n",
      "50%        37.000000\n",
      "75%        43.000000\n",
      "max       121.000000\n",
      "Name: ba_age, dtype: float64\n",
      "summary of subset with target = 1\n",
      "count    4324.000000\n",
      "mean       37.829758\n",
      "std         8.150145\n",
      "min         1.000000\n",
      "25%        32.000000\n",
      "50%        37.000000\n",
      "75%        43.000000\n",
      "max        73.000000\n",
      "Name: ba_age, dtype: float64\n"
     ]
    },
    {
     "data": {
      "image/png": "[encoded data removed]",
      "text/plain": [
       "<matplotlib.figure.Figure at 0x7fe1b59974d0>"
      ]
     },
     "metadata": {},
     "output_type": "display_data"
    }
   ],
   "source": [
    "train.ba_age.fillna(train.ba_age.mean(), inplace = True)\n",
    "single_num(train, 'ba_age')"
   ]
  },
  {
   "cell_type": "markdown",
   "metadata": {},
   "source": [
    "#### gender"
   ]
  },
  {
   "cell_type": "code",
   "execution_count": 11,
   "metadata": {
    "collapsed": false
   },
   "outputs": [
    {
     "name": "stdout",
     "output_type": "stream",
     "text": [
      "number of missing values = 3\n",
      "gender            F           M        N\n",
      "0       1541.000000  1943.00000   5.0000\n",
      "1       1448.000000  2862.00000  11.0000\n",
      "2          0.484443     0.59563   0.6875\n"
     ]
    }
   ],
   "source": [
    "single_cat(train, 'gender')"
   ]
  },
  {
   "cell_type": "code",
   "execution_count": 12,
   "metadata": {
    "collapsed": false
   },
   "outputs": [
    {
     "name": "stdout",
     "output_type": "stream",
     "text": [
      "number of missing values = 0\n",
      "gender            F           M          N\n",
      "0       1541.000000  1943.00000   5.000000\n",
      "1       1448.000000  2862.00000  14.000000\n",
      "2          0.484443     0.59563   0.736842\n"
     ]
    }
   ],
   "source": [
    "train.gender.fillna('N', inplace = True)\n",
    "single_cat(train, 'gender')"
   ]
  },
  {
   "cell_type": "markdown",
   "metadata": {},
   "source": [
    " #### cp_prior3mon_pay_total"
   ]
  },
  {
   "cell_type": "code",
   "execution_count": 13,
   "metadata": {
    "collapsed": false
   },
   "outputs": [
    {
     "name": "stdout",
     "output_type": "stream",
     "text": [
      "number of missing values = 0\n",
      "summary of the whole set\n",
      "count    7813.000000\n",
      "mean      307.369557\n",
      "std       480.123325\n",
      "min      -814.810000\n",
      "25%         0.000000\n",
      "50%         0.000000\n",
      "75%       533.330000\n",
      "max      6716.800000\n",
      "Name: cp_prior3mon_pay_total, dtype: float64\n",
      "summary of subset with target = 0\n",
      "count    3489.000000\n",
      "mean      536.322221\n",
      "std       532.416251\n",
      "min         0.000000\n",
      "25%         0.000000\n",
      "50%       410.040000\n",
      "75%      1111.110000\n",
      "max      2666.660000\n",
      "Name: cp_prior3mon_pay_total, dtype: float64\n",
      "summary of subset with target = 1\n",
      "count    4324.000000\n",
      "mean      122.629537\n",
      "std       333.776852\n",
      "min      -814.810000\n",
      "25%         0.000000\n",
      "50%         0.000000\n",
      "75%         0.000000\n",
      "max      6716.800000\n",
      "Name: cp_prior3mon_pay_total, dtype: float64\n"
     ]
    },
    {
     "data": {
      "image/png": "[encoded data removed]",
      "text/plain": [
       "<matplotlib.figure.Figure at 0x7fe1b8375fd0>"
      ]
     },
     "metadata": {},
     "output_type": "display_data"
    }
   ],
   "source": [
    "single_num(train, 'cp_prior3mon_pay_total')"
   ]
  },
  {
   "cell_type": "markdown",
   "metadata": {},
   "source": [
    "There is an outlier -814.81, could be data error, another outlier 6717. Remove them before moving on."
   ]
  },
  {
   "cell_type": "code",
   "execution_count": 14,
   "metadata": {
    "collapsed": false
   },
   "outputs": [
    {
     "name": "stdout",
     "output_type": "stream",
     "text": [
      "number of missing values = 0\n",
      "summary of the whole set\n",
      "count    7811.000000\n",
      "mean      306.692659\n",
      "std       474.505758\n",
      "min         0.000000\n",
      "25%         0.000000\n",
      "50%         0.000000\n",
      "75%       533.330000\n",
      "max      2666.660000\n",
      "Name: cp_prior3mon_pay_total, dtype: float64\n",
      "summary of subset with target = 0\n",
      "count    3489.000000\n",
      "mean      536.322221\n",
      "std       532.416251\n",
      "min         0.000000\n",
      "25%         0.000000\n",
      "50%       410.040000\n",
      "75%      1111.110000\n",
      "max      2666.660000\n",
      "Name: cp_prior3mon_pay_total, dtype: float64\n",
      "summary of subset with target = 1\n",
      "count    4322.000000\n",
      "mean      121.320715\n",
      "std       318.104169\n",
      "min         0.000000\n",
      "25%         0.000000\n",
      "50%         0.000000\n",
      "75%         0.000000\n",
      "max      2648.840000\n",
      "Name: cp_prior3mon_pay_total, dtype: float64\n"
     ]
    },
    {
     "data": {
      "image/png": "[encoded data removed]",
      "text/plain": [
       "<matplotlib.figure.Figure at 0x7fe1b5a367d0>"
      ]
     },
     "metadata": {},
     "output_type": "display_data"
    }
   ],
   "source": [
    "train = train[(train.cp_prior3mon_pay_total >= 0) &  (train.cp_prior3mon_pay_total < 2700)]\n",
    "single_num(train, 'cp_prior3mon_pay_total')"
   ]
  },
  {
   "cell_type": "markdown",
   "metadata": {},
   "source": [
    "#### nation_desc"
   ]
  },
  {
   "cell_type": "code",
   "execution_count": 15,
   "metadata": {
    "collapsed": false
   },
   "outputs": [
    {
     "data": {
      "text/plain": [
       "False"
      ]
     },
     "execution_count": 15,
     "metadata": {},
     "output_type": "execute_result"
    }
   ],
   "source": [
    "# replace na with \"Other'\n",
    "train.nation_desc.isnull().any()\n",
    "train.nation_desc.fillna('Other', inplace = True)\n",
    "train.nation_desc.isnull().any()"
   ]
  },
  {
   "cell_type": "code",
   "execution_count": 16,
   "metadata": {
    "collapsed": true
   },
   "outputs": [],
   "source": [
    "nation_cnt = train.nation_desc.value_counts().to_dict()\n",
    "train['nation_tr'] = map(lambda x: x if nation_cnt[x] > 50 else 'Other', train.nation_desc)"
   ]
  },
  {
   "cell_type": "code",
   "execution_count": 17,
   "metadata": {
    "collapsed": false,
    "scrolled": true
   },
   "outputs": [
    {
     "name": "stdout",
     "output_type": "stream",
     "text": [
      "number of missing values = 0\n",
      "nation_tr     ANGOLA  BOTSWANA      CANADA       GHANA    JAMAICA       KENYA  \\\n",
      "0          11.000000      34.0  144.000000  101.000000  41.000000   88.000000   \n",
      "1          75.000000      51.0   45.000000  121.000000  32.000000  127.000000   \n",
      "2           0.872093       0.6    0.238095    0.545045   0.438356    0.590698   \n",
      "\n",
      "nation_tr    NAMIBIA     NIGERIA       Other     QATAR  SAUDI ARABIA  \\\n",
      "0          48.000000   942.00000  925.000000  81.00000    176.000000   \n",
      "1          46.000000  1866.00000  922.000000  66.00000    151.000000   \n",
      "2           0.489362     0.66453    0.499188   0.44898      0.461774   \n",
      "\n",
      "nation_tr  SIERRA LEONE  SOUTH AFRICA  SOUTH SUDAN     UGANDA  \\\n",
      "0             59.000000    127.000000    28.000000  25.000000   \n",
      "1             69.000000    173.000000    37.000000  40.000000   \n",
      "2              0.539062      0.576667     0.569231   0.615385   \n",
      "\n",
      "nation_tr  UNITED ARAB EMIRATES  UNITED KINGDOM  UNITED STATES     ZAMBIA  \\\n",
      "0                    181.000000      236.000000      75.000000  71.000000   \n",
      "1                    116.000000      152.000000      44.000000  94.000000   \n",
      "2                      0.390572        0.391753       0.369748   0.569697   \n",
      "\n",
      "nation_tr   ZIMBABWE  \n",
      "0          96.000000  \n",
      "1          95.000000  \n",
      "2           0.497382  \n"
     ]
    }
   ],
   "source": [
    "single_cat(train, 'nation_tr')"
   ]
  },
  {
   "cell_type": "markdown",
   "metadata": {},
   "source": [
    "### important\n",
    "crosstab of columns from the same df is not problem.\n",
    "but crosstab of columns from different source can be a problem if their indices don't match.\n",
    "So here we reset the train index for mkPredN()"
   ]
  },
  {
   "cell_type": "code",
   "execution_count": 18,
   "metadata": {
    "collapsed": false
   },
   "outputs": [],
   "source": [
    "\n",
    "train.index = range(train.shape[0])"
   ]
  },
  {
   "cell_type": "markdown",
   "metadata": {},
   "source": [
    "### Explore one-variable model"
   ]
  },
  {
   "cell_type": "markdown",
   "metadata": {},
   "source": [
    "#### categorical variable"
   ]
  },
  {
   "cell_type": "code",
   "execution_count": 53,
   "metadata": {
    "collapsed": true
   },
   "outputs": [],
   "source": [
    "def mkPredC(outCol, varCol, appCol):\n",
    "    \"\"\"outCol: the target column of the training data\n",
    "       varCol: the variable column of the training data\n",
    "       appCol: the variable column of the test/validate data\n",
    "    this fuctions build a cross table of target v.s. a single categorical variable \n",
    "    using the training data and applied it to the appCol\n",
    "       \"\"\"\n",
    "    pos = 1\n",
    "    pPos = float(sum(outCol == pos)) /outCol.shape[0]\n",
    "    vTab = pd.crosstab(outCol, varCol)\n",
    "    pPosWv = (vTab.iloc[1] + 1.0e-3 * pPos) / (vTab.sum(axis = 0) + 1.0e-3)\n",
    "    pred = pPosWv[appCol]\n",
    "    pred.index = range(appCol.shape[0])\n",
    "    return pred"
   ]
  },
  {
   "cell_type": "markdown",
   "metadata": {},
   "source": [
    "#### numerical variable, converted into categorical variable"
   ]
  },
  {
   "cell_type": "code",
   "execution_count": 20,
   "metadata": {
    "collapsed": true
   },
   "outputs": [],
   "source": [
    "def cut(v, cuts):\n",
    "    for i in range(cuts.shape[0] - 1):\n",
    "        if v >= cuts[i] and v <= cuts[i+1]:\n",
    "            return i\n",
    "    return i\n",
    "\n",
    "def mkPredN(outCol, varCol, appCol):\n",
    "    pos = 1\n",
    "    cuts = np.unique(np.percentile(varCol, range(0,110,10)))\n",
    "    varC = pd.Series(map(lambda x: cut(x, cuts), varCol))\n",
    "    appC = pd.Series(map(lambda x: cut(x, cuts), appCol))\n",
    "    return mkPredC(outCol,varC,appC)\n",
    "    #return cuts, varC, appC"
   ]
  },
  {
   "cell_type": "markdown",
   "metadata": {
    "collapsed": true
   },
   "source": [
    "#### function to calculate auc"
   ]
  },
  {
   "cell_type": "code",
   "execution_count": 21,
   "metadata": {
    "collapsed": true
   },
   "outputs": [],
   "source": [
    "def calcAUC(predcol, outcol):\n",
    "    fpr, tpr, thresholds = metrics.roc_curve(outcol, predcol, pos_label=1)\n",
    "    return metrics.auc(fpr, tpr)"
   ]
  },
  {
   "cell_type": "markdown",
   "metadata": {
    "collapsed": true
   },
   "source": [
    "#### use july and august as train, sep as val"
   ]
  },
  {
   "cell_type": "code",
   "execution_count": 22,
   "metadata": {
    "collapsed": true
   },
   "outputs": [],
   "source": [
    "numericalVars = ['future', 'aging', 'bb_activity_latest', 'cum_gpa', 'cum_credits',\n",
    "                'ba_credits_passed_prior1yr', 'ba_age', 'cp_prior3mon_pay_total',\n",
    "                'current_balance', 'module_cp', 'day_since_end', 'day_since_begin', 'day_to_begin']\n",
    "catVars = ['program', 'degree', 'college', 'gender', 'in_module', 'in_future', 'in_dissertation', 'nation_tr']"
   ]
  },
  {
   "cell_type": "code",
   "execution_count": 23,
   "metadata": {
    "collapsed": false
   },
   "outputs": [],
   "source": [
    "train0 = train.ix[train.ind <= 8, numericalVars + catVars + ['risk']]\n",
    "valid0 = train.ix[train.ind == 9, numericalVars + catVars + ['risk']]"
   ]
  },
  {
   "cell_type": "markdown",
   "metadata": {},
   "source": [
    "#### scale numerical variables in train and valid, later for test"
   ]
  },
  {
   "cell_type": "code",
   "execution_count": 36,
   "metadata": {
    "collapsed": true
   },
   "outputs": [],
   "source": [
    "scaler = StandardScaler().fit(train0[numericalVars])\n",
    "train0[numericalVars] = scaler.transform(train0[numericalVars])\n",
    "valid0[numericalVars] = scaler.transform(valid0[numericalVars])\n",
    "\n",
    "\n",
    "#dfTest[['A', 'B']] = scaler.fit_transform(dfTest[['A', 'B']])\n",
    "#dfTest[['A','B','C']] = scale.fit_transform(dfTest[['A','B','C']].as_matrix())\n"
   ]
  },
  {
   "cell_type": "markdown",
   "metadata": {},
   "source": [
    "#### check AUC for one variable models"
   ]
  },
  {
   "cell_type": "code",
   "execution_count": 44,
   "metadata": {
    "collapsed": true
   },
   "outputs": [],
   "source": [
    "train0.index = range(train0.shape[0])"
   ]
  },
  {
   "cell_type": "code",
   "execution_count": null,
   "metadata": {
    "collapsed": true
   },
   "outputs": [],
   "source": [
    "for v in numericalVars:\n",
    "    train0['pred' + v] = mkPredN(train0.risk, train0[v], train0[v])\n",
    "    valid0['pred' + v] = mkPredN(train0.risk, train0[v], valid0[v])\n",
    "    aucTrain = calcAUC(train0['pred' + v], train0.risk)\n",
    "    aucCal = calcAUC(valid0['pred' + v], valid0.risk)\n",
    "    "
   ]
  }
 ],
 "metadata": {
  "kernelspec": {
   "display_name": "Python 2",
   "language": "python",
   "name": "python2"
  },
  "language_info": {
   "codemirror_mode": {
    "name": "ipython",
    "version": 2
   },
   "file_extension": ".py",
   "mimetype": "text/x-python",
   "name": "python",
   "nbconvert_exporter": "python",
   "pygments_lexer": "ipython2",
   "version": "2.7.12"
  }
 },
 "nbformat": 4,
 "nbformat_minor": 0
}
