{
 "cells": [
  {
   "cell_type": "markdown",
   "metadata": {},
   "source": [
    "### Load data"
   ]
  },
  {
   "cell_type": "code",
   "execution_count": 3,
   "metadata": {
    "collapsed": false
   },
   "outputs": [
    {
     "name": "stdout",
     "output_type": "stream",
     "text": [
      "/home/alin/MyLearning/Kaggle/Sberbank/data/\n"
     ]
    }
   ],
   "source": [
    "from sys import platform\n",
    "if platform == 'linux' or platform == 'linux2':\n",
    "    datapath = '/home/alin/MyLearning/Kaggle/Sberbank/data/'\n",
    "else:\n",
    "    datapath = 'C:/Users/alin/Documents/SelfStudy/MyLearning/Kaggle/Sberbank/data/'\n",
    "print datapath"
   ]
  },
  {
   "cell_type": "code",
   "execution_count": 4,
   "metadata": {
    "collapsed": true
   },
   "outputs": [],
   "source": [
    "import pandas as pd\n",
    "import matplotlib.pyplot as plt\n",
    "import numpy as np\n",
    "%matplotlib inline\n",
    "import seaborn as sns\n",
    "sns.set(color_codes=True)\n",
    "from sklearn import metrics\n",
    "from sklearn.preprocessing import scale \n",
    "\n",
    "from sklearn.preprocessing import StandardScaler\n",
    "from sklearn.tree import DecisionTreeRegressor"
   ]
  },
  {
   "cell_type": "code",
   "execution_count": 5,
   "metadata": {
    "collapsed": false,
    "scrolled": true
   },
   "outputs": [],
   "source": [
    "\n",
    "train_df = pd.read_csv(datapath + 'train.csv')\n",
    "# change column nams to lower case\n",
    "train_df.columns = train_df.columns.str.lower()\n",
    "original_cols = train_df.columns.tolist()\n",
    "test_df = pd.read_csv(datapath + 'test.csv')\n",
    "test_df.columns = test_df.columns.str.lower()\n",
    "\n",
    "macro_df = pd.read_csv(datapath + 'macro.csv')\n",
    "macro_df.columns = macro_df.columns.str.lower()\n"
   ]
  },
  {
   "cell_type": "code",
   "execution_count": 6,
   "metadata": {
    "collapsed": false
   },
   "outputs": [],
   "source": [
    "%qtconsole"
   ]
  },
  {
   "cell_type": "code",
   "execution_count": 8,
   "metadata": {
    "collapsed": true
   },
   "outputs": [],
   "source": [
    "train_df = pd.merge(train_df, macro_df, on = 'timestamp')\n",
    "test_df = pd.merge(test_df, macro_df, on = 'timestamp')"
   ]
  },
  {
   "cell_type": "markdown",
   "metadata": {},
   "source": [
    "### process timestamp and build_year fields"
   ]
  },
  {
   "cell_type": "code",
   "execution_count": 13,
   "metadata": {
    "collapsed": true
   },
   "outputs": [],
   "source": [
    " from datetime import datetime"
   ]
  },
  {
   "cell_type": "code",
   "execution_count": 14,
   "metadata": {
    "collapsed": false
   },
   "outputs": [],
   "source": [
    "train_df['year'] = map(lambda x: datetime.strptime(x, '%Y-%m-%d').year, train_df.timestamp)\n",
    "test_df['year'] = map(lambda x: datetime.strptime(x, '%Y-%m-%d').year, test_df.timestamp)\n",
    "\n",
    "#train_df['year'] = map(lambda x: int(x[0:4]), train_df.timestamp)\n",
    "#train_df['month'] = map(lambda x: int(x[5:7]), train_df.timestamp)\n"
   ]
  },
  {
   "cell_type": "code",
   "execution_count": 15,
   "metadata": {
    "collapsed": true
   },
   "outputs": [],
   "source": [
    "train_df['month'] = map(lambda x: datetime.strptime(x, '%Y-%m-%d').month, train_df.timestamp)\n",
    "test_df['month'] = map(lambda x: datetime.strptime(x, '%Y-%m-%d').month, test_df.timestamp)"
   ]
  },
  {
   "cell_type": "code",
   "execution_count": 16,
   "metadata": {
    "collapsed": false
   },
   "outputs": [],
   "source": [
    "\n",
    "\n",
    "del train_df['timestamp']\n",
    "del test_df['timestamp']"
   ]
  },
  {
   "cell_type": "markdown",
   "metadata": {},
   "source": [
    "### some  values are like '90,80\" etc."
   ]
  },
  {
   "cell_type": "code",
   "execution_count": 17,
   "metadata": {
    "collapsed": true
   },
   "outputs": [],
   "source": [
    "def myaoti(x):\n",
    "    try:\n",
    "        return float(str(x).replace(',', ''))\n",
    "    except:\n",
    "        return np.nan"
   ]
  },
  {
   "cell_type": "code",
   "execution_count": 18,
   "metadata": {
    "collapsed": false
   },
   "outputs": [],
   "source": [
    "#train_df['modern_education_share'] = train_df.modern_education_share.map(lambda x: float(str(x).replace(',','')))\n",
    "train_df['modern_education_share'] = train_df.modern_education_share.map(myaoti)\n",
    "\n",
    "train_df['old_education_build_share'] = train_df.old_education_build_share.map(myaoti)\n",
    "\n",
    "train_df['child_on_acc_pre_school'] = train_df.child_on_acc_pre_school.map(myaoti)\n",
    "\n",
    "test_df['modern_education_share'] = test_df.modern_education_share.map(myaoti)\n",
    "\n",
    "test_df['old_education_build_share'] = test_df.old_education_build_share.map(myaoti)\n",
    "\n",
    "test_df['child_on_acc_pre_school'] = test_df.child_on_acc_pre_school.map(myaoti)\n",
    "\n"
   ]
  },
  {
   "cell_type": "code",
   "execution_count": 19,
   "metadata": {
    "collapsed": true
   },
   "outputs": [],
   "source": [
    "def bi_convert(df, feature, pos = 'yes'):\n",
    "    df[feature] = df[feature].map(lambda x: 1 if x == pos else 0)"
   ]
  },
  {
   "cell_type": "code",
   "execution_count": 20,
   "metadata": {
    "collapsed": true
   },
   "outputs": [],
   "source": [
    "\n",
    "bi_convert(train_df, 'thermal_power_plant_raion')\n",
    "bi_convert(train_df, 'incineration_raion')\n",
    "bi_convert(train_df, 'oil_chemistry_raion')\n",
    "bi_convert(train_df, 'radiation_raion')\n",
    "bi_convert(train_df, 'railroad_terminal_raion')\n",
    "bi_convert(train_df, 'big_market_raion')\n",
    "bi_convert(train_df, 'nuclear_reactor_raion')\n",
    "bi_convert(train_df, 'detention_facility_raion')\n",
    "bi_convert(train_df, 'water_1line')\n",
    "bi_convert(train_df, 'big_road1_1line')\n",
    "bi_convert(train_df, 'railroad_1line')\n",
    "bi_convert(train_df, 'product_type', 'OwnerOccupier')\n",
    "bi_convert(train_df, 'culture_objects_top_25')\n",
    "\n",
    "bi_convert(test_df, 'thermal_power_plant_raion')\n",
    "bi_convert(test_df, 'incineration_raion')\n",
    "bi_convert(test_df, 'oil_chemistry_raion')\n",
    "bi_convert(test_df, 'radiation_raion')\n",
    "bi_convert(test_df, 'railroad_terminal_raion')\n",
    "bi_convert(test_df, 'big_market_raion')\n",
    "bi_convert(test_df, 'nuclear_reactor_raion')\n",
    "bi_convert(test_df, 'detention_facility_raion')\n",
    "bi_convert(test_df, 'water_1line')\n",
    "bi_convert(test_df, 'big_road1_1line')\n",
    "bi_convert(test_df, 'railroad_1line')\n",
    "bi_convert(test_df, 'product_type', 'OwnerOccupier')\n",
    "bi_convert(test_df, 'culture_objects_top_25')\n"
   ]
  },
  {
   "cell_type": "code",
   "execution_count": 21,
   "metadata": {
    "collapsed": true
   },
   "outputs": [],
   "source": [
    "def ecology_convert(x):\n",
    "    eco ={'poor':-1, 'no data': 0, 'good': 1, 'satisfactory': 2, 'excellent': 3 }\n",
    "    return eco[x]"
   ]
  },
  {
   "cell_type": "code",
   "execution_count": 22,
   "metadata": {
    "collapsed": true
   },
   "outputs": [],
   "source": [
    "train_df['ecology'] = train_df.ecology.map(ecology_convert)\n",
    "test_df['ecology'] = test_df.ecology.map(ecology_convert)\n",
    "\n"
   ]
  },
  {
   "cell_type": "code",
   "execution_count": 23,
   "metadata": {
    "collapsed": true
   },
   "outputs": [],
   "source": [
    "train_df['sub_area'] = pd.Categorical(train_df.sub_area).codes\n",
    "test_df['sub_area'] = pd.Categorical(test_df.sub_area).codes"
   ]
  },
  {
   "cell_type": "code",
   "execution_count": 28,
   "metadata": {
    "collapsed": false
   },
   "outputs": [],
   "source": [
    "y_train = np.log(train_df.price_doc.as_matrix()+1)\n"
   ]
  },
  {
   "cell_type": "code",
   "execution_count": null,
   "metadata": {
    "collapsed": true
   },
   "outputs": [],
   "source": [
    "train_df.drop(['id', 'price_doc'], axis = 1, inplace = True )"
   ]
  },
  {
   "cell_type": "code",
   "execution_count": 31,
   "metadata": {
    "collapsed": false
   },
   "outputs": [],
   "source": [
    "tid = test_df.id.copy()"
   ]
  },
  {
   "cell_type": "code",
   "execution_count": 34,
   "metadata": {
    "collapsed": true
   },
   "outputs": [],
   "source": [
    "test_df.drop(['id'], axis = 1, inplace = True)"
   ]
  },
  {
   "cell_type": "markdown",
   "metadata": {},
   "source": [
    "### check out the predictive power of each variable\n",
    "for numerical variable, use linear regression or tree(?)"
   ]
  },
  {
   "cell_type": "code",
   "execution_count": 38,
   "metadata": {
    "collapsed": false
   },
   "outputs": [],
   "source": [
    "def rmsle(lp, la):\n",
    "    return np.sqrt(np.mean(np.square(lp - la)))"
   ]
  },
  {
   "cell_type": "code",
   "execution_count": 39,
   "metadata": {
    "collapsed": true
   },
   "outputs": [],
   "source": [
    "from sklearn.preprocessing import Imputer\n",
    "impute = Imputer()"
   ]
  },
  {
   "cell_type": "code",
   "execution_count": 42,
   "metadata": {
    "collapsed": true
   },
   "outputs": [],
   "source": [
    "# a decision tree regresson on a simple numerical variable with performance on the validation set\n",
    "def single_num(feature):\n",
    "    try:\n",
    "        X_train = train0[feature].as_matrix().reshape(-1,1)\n",
    "        X_valid = val0[feature].as_matrix().reshape(-1,1)\n",
    "        X_tr = impute.fit_transform(X_train)\n",
    "        X_val = impute.fit_transform(X_valid)\n",
    "        tree = DecisionTreeRegressor(max_depth=5)\n",
    "        tree.fit(X_tr, y_train0)\n",
    "        y_pred = tree.predict(X_val)\n",
    "        return rmsle(y_pred, y_val0)\n",
    "    except:\n",
    "        return 1"
   ]
  },
  {
   "cell_type": "markdown",
   "metadata": {},
   "source": [
    "### order features by their single predicting power"
   ]
  },
  {
   "cell_type": "code",
   "execution_count": 43,
   "metadata": {
    "collapsed": false
   },
   "outputs": [],
   "source": [
    "power = []\n",
    "num_col = train0.columns.tolist()\n",
    "for col in num_col:\n",
    "   \n",
    "    power.append((col, single_num(col)))\n",
    "#power.append(('sub_area', single_cat()))\n"
   ]
  },
  {
   "cell_type": "code",
   "execution_count": 44,
   "metadata": {
    "collapsed": false
   },
   "outputs": [],
   "source": [
    "power = sorted(power, key = lambda x: x[1])"
   ]
  },
  {
   "cell_type": "code",
   "execution_count": 46,
   "metadata": {
    "collapsed": true
   },
   "outputs": [],
   "source": [
    "used_features = [f for (f,s) in power[0:50]]"
   ]
  },
  {
   "cell_type": "markdown",
   "metadata": {},
   "source": [
    "### try xgboost"
   ]
  },
  {
   "cell_type": "code",
   "execution_count": 49,
   "metadata": {
    "collapsed": true
   },
   "outputs": [],
   "source": [
    "import xgboost as xgb"
   ]
  },
  {
   "cell_type": "code",
   "execution_count": 50,
   "metadata": {
    "collapsed": false
   },
   "outputs": [],
   "source": [
    "X_train = train_df[used_features].values\n",
    "X_test = test_df[used_features].values"
   ]
  },
  {
   "cell_type": "code",
   "execution_count": 59,
   "metadata": {
    "collapsed": true
   },
   "outputs": [],
   "source": [
    "xgtrain = xgb.DMatrix(X_train, y_train)\n",
    "xgtest = xgb.DMatrix(X_test)"
   ]
  },
  {
   "cell_type": "code",
   "execution_count": 52,
   "metadata": {
    "collapsed": true
   },
   "outputs": [],
   "source": [
    "xgb_params = {\n",
    "    'eta': 0.1,\n",
    "    'max_depth': 5,\n",
    "     'min_child_weight': 1,\n",
    "    'subsample': 0.8,\n",
    "    'colsample_bytree': 0.8,\n",
    "    'objective': 'reg:linear',\n",
    "    'eval_metric': 'rmse',\n",
    "    'silent': 1\n",
    "}"
   ]
  },
  {
   "cell_type": "code",
   "execution_count": 55,
   "metadata": {
    "collapsed": false
   },
   "outputs": [],
   "source": [
    "#cvresult = xgb.cv(xgb_params, xgtrain, num_boost_round=1000, nfold=5, metrics='rmse', early_stopping_rounds=50, verbose_eval=True)"
   ]
  },
  {
   "cell_type": "code",
   "execution_count": 57,
   "metadata": {
    "collapsed": true
   },
   "outputs": [],
   "source": [
    "num_rounds = 193"
   ]
  },
  {
   "cell_type": "code",
   "execution_count": 60,
   "metadata": {
    "collapsed": false
   },
   "outputs": [
    {
     "name": "stdout",
     "output_type": "stream",
     "text": [
      "[0]\ttrain-rmse:13.6116\n",
      "[20]\ttrain-rmse:1.72302\n",
      "[40]\ttrain-rmse:0.503307\n",
      "[60]\ttrain-rmse:0.452667\n",
      "[80]\ttrain-rmse:0.444803\n",
      "[100]\ttrain-rmse:0.43858\n",
      "[120]\ttrain-rmse:0.433512\n",
      "[140]\ttrain-rmse:0.428487\n",
      "[160]\ttrain-rmse:0.423099\n",
      "[180]\ttrain-rmse:0.41785\n",
      "[192]\ttrain-rmse:0.41493\n"
     ]
    }
   ],
   "source": [
    "model = xgb.train(xgb_params, xgtrain, num_boost_round=num_rounds, evals = [(xgtrain, 'train')], verbose_eval=20)\n",
    "# make prediction\n",
    "y_pred1 = model.predict(xgtest)\n"
   ]
  },
  {
   "cell_type": "code",
   "execution_count": 83,
   "metadata": {
    "collapsed": true
   },
   "outputs": [],
   "source": [
    "price1 = np.exp(y_pred1) - 1"
   ]
  },
  {
   "cell_type": "code",
   "execution_count": 88,
   "metadata": {
    "collapsed": false
   },
   "outputs": [],
   "source": [
    "output1 = pd.DataFrame({'id':tid, 'price_doc': price1})"
   ]
  },
  {
   "cell_type": "code",
   "execution_count": 89,
   "metadata": {
    "collapsed": true
   },
   "outputs": [],
   "source": [
    "output1.to_csv('/home/alin/MyLearning/Kaggle/Sberbank/data/submission1.csv', index = False)"
   ]
  },
  {
   "cell_type": "code",
   "execution_count": 68,
   "metadata": {
    "collapsed": true
   },
   "outputs": [],
   "source": [
    "import lightgbm as lgb"
   ]
  },
  {
   "cell_type": "code",
   "execution_count": 69,
   "metadata": {
    "collapsed": true
   },
   "outputs": [],
   "source": [
    "lgb_train = lgb.Dataset(X_train, y_train)\n",
    "lgb_test = lgb.Dataset(X_test)"
   ]
  },
  {
   "cell_type": "code",
   "execution_count": 70,
   "metadata": {
    "collapsed": false
   },
   "outputs": [],
   "source": [
    "params = {\n",
    "    'task': 'train',\n",
    "    'boosting_type': 'gbdt',\n",
    "    'objective': 'regression_l2',\n",
    "    'metric': {'rmse'},\n",
    "    'num_leaves': 31,\n",
    "    'learning_rate': 0.05,\n",
    "    'feature_fraction': 0.9\n",
    "    }\n"
   ]
  },
  {
   "cell_type": "code",
   "execution_count": 74,
   "metadata": {
    "collapsed": false
   },
   "outputs": [],
   "source": [
    "#cv_lgb = lgb.cv(params, lgb_train, num_boost_round = 1000, nfold=5, early_stopping_rounds = 50, \n",
    "#                verbose_eval = True)"
   ]
  },
  {
   "cell_type": "code",
   "execution_count": 75,
   "metadata": {
    "collapsed": true
   },
   "outputs": [],
   "source": [
    "gbm = lgb.train(params,lgb_train,num_boost_round=300)"
   ]
  },
  {
   "cell_type": "code",
   "execution_count": 76,
   "metadata": {
    "collapsed": true
   },
   "outputs": [],
   "source": [
    "y_pred2 = gbm.predict(X_test)"
   ]
  },
  {
   "cell_type": "code",
   "execution_count": 90,
   "metadata": {
    "collapsed": true
   },
   "outputs": [],
   "source": [
    "price2 = np.exp(y_pred2) - 1"
   ]
  },
  {
   "cell_type": "code",
   "execution_count": 91,
   "metadata": {
    "collapsed": true
   },
   "outputs": [],
   "source": [
    "output2 = pd.DataFrame({'id':tid, 'price_doc': price2})\n",
    "output2.to_csv('/home/alin/MyLearning/Kaggle/Sberbank/data/submission2.csv', index = False)"
   ]
  },
  {
   "cell_type": "code",
   "execution_count": null,
   "metadata": {
    "collapsed": true
   },
   "outputs": [],
   "source": []
  }
 ],
 "metadata": {
  "kernelspec": {
   "display_name": "Python 2",
   "language": "python",
   "name": "python2"
  },
  "language_info": {
   "codemirror_mode": {
    "name": "ipython",
    "version": 2
   },
   "file_extension": ".py",
   "mimetype": "text/x-python",
   "name": "python",
   "nbconvert_exporter": "python",
   "pygments_lexer": "ipython2",
   "version": "2.7.12"
  }
 },
 "nbformat": 4,
 "nbformat_minor": 0
}
