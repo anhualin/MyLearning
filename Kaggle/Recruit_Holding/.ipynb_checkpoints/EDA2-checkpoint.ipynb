{
 "cells": [
  {
   "cell_type": "markdown",
   "metadata": {},
   "source": [
    "## Finding:\n",
    "## 1.\n",
    "## Test Date 4/23/2017 - 5/31/2017\n",
    "## Train Date 1/1/2016 - 4/22/2017\n",
    "## Air Reserve Date 1/1/2016 - 5/31/2017\n",
    "## Hpg Reserve Date 1/1/2016 - 5/31/2017\n",
    "\n",
    "## 2.\n",
    "## Air Reserve has 314 stores\n",
    "## Hpg Reserve has 13325 stores\n",
    "## Train Data have 829 stores\n",
    "## Test Data have 821 stores\n",
    "## 150 stores have both Air and Hpg\n",
    "\n",
    "## 3.\n",
    "## Day_of_week and Month matters\n",
    "\n",
    "## Friday, Holiday eve matters ?\n",
    "\n",
    "## 4.\n",
    "## Try Lag, start with 7\n",
    "\n",
    "## 5.\n",
    "## Some reserve data are weird:\n",
    "## - air_store_id = 'air_e7fbee4e3cfe65c5' and visit_date = '2017-02-05' has lots of reservation nearly half year ago with total reserve visitors = 1663, way more than the real # of visitors\n",
    "\n",
    "## 6.\n",
    "## Even among those with reservations, the relation between total number of visitors and total number of reservation visitors seems to be quite weak.\n",
    "\n",
    "## 7. Area and genre can start with regular label encoding, then mean encoding."
   ]
  },
  {
   "cell_type": "code",
   "execution_count": 1,
   "metadata": {},
   "outputs": [],
   "source": [
    "import os\n",
    "import numpy as np\n",
    "import pandas as pd\n",
    "import platform\n",
    "import pickle\n",
    "from pathlib import Path\n",
    "from datetime import datetime, date, timedelta\n",
    "import matplotlib.pyplot as plt\n",
    "%matplotlib inline"
   ]
  },
  {
   "cell_type": "code",
   "execution_count": 2,
   "metadata": {},
   "outputs": [],
   "source": [
    "%qtconsole"
   ]
  },
  {
   "cell_type": "code",
   "execution_count": 3,
   "metadata": {},
   "outputs": [],
   "source": [
    "if platform.system() == 'Linux':\n",
    "    data_dir = '/home/alin/Data/Recruit_Holding'\n",
    "else:\n",
    "    data_dir = 'C:/Users/alin/Documents/Data/Recruit_Holding'"
   ]
  },
  {
   "cell_type": "code",
   "execution_count": 69,
   "metadata": {},
   "outputs": [
    {
     "name": "stdout",
     "output_type": "stream",
     "text": [
      "load previous dump\n"
     ]
    }
   ],
   "source": [
    "DFS_dump = data_dir + '/DFS.p'\n",
    "if Path(DFS_dump).is_file():\n",
    "    print('load previous dump')\n",
    "    DFS = pickle.load(open(DFS_dump, 'rb'))\n",
    "    air_reserve = DFS['air_reserve']\n",
    "    air_reserve_day = DFS['air_reserve_day']\n",
    "    hpg_reserve = DFS['hpg_reserve']\n",
    "    hpg_reserve_day = DFS['hpg_reserve_day']\n",
    "    air_visit_hist = DFS['air_visit_hist']\n",
    "    date_info = DFS['date_info']\n",
    "    test = DFS['test']\n",
    "    air_store_info = DFS['air_store_info']\n",
    "    hpg_store_info = DFS['hpg_store_info']\n",
    "    store_id_relation = DFS['store_id_relation']\n",
    "    test = DFS['test']\n",
    "else:\n",
    "    print('run EDA1 first')"
   ]
  },
  {
   "cell_type": "code",
   "execution_count": null,
   "metadata": {},
   "outputs": [],
   "source": []
  },
  {
   "cell_type": "markdown",
   "metadata": {},
   "source": [
    "## Explore air_visit_hist"
   ]
  },
  {
   "cell_type": "code",
   "execution_count": 6,
   "metadata": {},
   "outputs": [
    {
     "data": {
      "text/html": [
       "<div>\n",
       "<style>\n",
       "    .dataframe thead tr:only-child th {\n",
       "        text-align: right;\n",
       "    }\n",
       "\n",
       "    .dataframe thead th {\n",
       "        text-align: left;\n",
       "    }\n",
       "\n",
       "    .dataframe tbody tr th {\n",
       "        vertical-align: top;\n",
       "    }\n",
       "</style>\n",
       "<table border=\"1\" class=\"dataframe\">\n",
       "  <thead>\n",
       "    <tr style=\"text-align: right;\">\n",
       "      <th></th>\n",
       "      <th>air_store_id</th>\n",
       "      <th>visitors</th>\n",
       "      <th>day_of_week</th>\n",
       "      <th>holiday_flg</th>\n",
       "      <th>date</th>\n",
       "      <th>day_ind</th>\n",
       "      <th>month_ind</th>\n",
       "      <th>air_genre_name</th>\n",
       "      <th>air_area_name</th>\n",
       "      <th>latitude</th>\n",
       "      <th>longitude</th>\n",
       "      <th>hpg_store_id</th>\n",
       "    </tr>\n",
       "  </thead>\n",
       "  <tbody>\n",
       "    <tr>\n",
       "      <th>0</th>\n",
       "      <td>air_ba937bf13d40fb24</td>\n",
       "      <td>25</td>\n",
       "      <td>Wednesday</td>\n",
       "      <td>0</td>\n",
       "      <td>2016-01-13</td>\n",
       "      <td>12</td>\n",
       "      <td>0</td>\n",
       "      <td>Dining bar</td>\n",
       "      <td>Tōkyō-to Minato-ku Shibakōen</td>\n",
       "      <td>35.658068</td>\n",
       "      <td>139.751599</td>\n",
       "      <td>NaN</td>\n",
       "    </tr>\n",
       "    <tr>\n",
       "      <th>1</th>\n",
       "      <td>air_25e9888d30b386df</td>\n",
       "      <td>21</td>\n",
       "      <td>Wednesday</td>\n",
       "      <td>0</td>\n",
       "      <td>2016-01-13</td>\n",
       "      <td>12</td>\n",
       "      <td>0</td>\n",
       "      <td>Izakaya</td>\n",
       "      <td>Tōkyō-to Shinagawa-ku Higashigotanda</td>\n",
       "      <td>35.626568</td>\n",
       "      <td>139.725858</td>\n",
       "      <td>NaN</td>\n",
       "    </tr>\n",
       "    <tr>\n",
       "      <th>2</th>\n",
       "      <td>air_fd6aac1043520e83</td>\n",
       "      <td>40</td>\n",
       "      <td>Wednesday</td>\n",
       "      <td>0</td>\n",
       "      <td>2016-01-13</td>\n",
       "      <td>12</td>\n",
       "      <td>0</td>\n",
       "      <td>Izakaya</td>\n",
       "      <td>Tōkyō-to Minato-ku Shibakōen</td>\n",
       "      <td>35.658068</td>\n",
       "      <td>139.751599</td>\n",
       "      <td>NaN</td>\n",
       "    </tr>\n",
       "    <tr>\n",
       "      <th>3</th>\n",
       "      <td>air_64d4491ad8cdb1c6</td>\n",
       "      <td>5</td>\n",
       "      <td>Wednesday</td>\n",
       "      <td>0</td>\n",
       "      <td>2016-01-13</td>\n",
       "      <td>12</td>\n",
       "      <td>0</td>\n",
       "      <td>Dining bar</td>\n",
       "      <td>Tōkyō-to Minato-ku Shibakōen</td>\n",
       "      <td>35.658068</td>\n",
       "      <td>139.751599</td>\n",
       "      <td>NaN</td>\n",
       "    </tr>\n",
       "    <tr>\n",
       "      <th>4</th>\n",
       "      <td>air_ee3a01f0c71a769f</td>\n",
       "      <td>18</td>\n",
       "      <td>Wednesday</td>\n",
       "      <td>0</td>\n",
       "      <td>2016-01-13</td>\n",
       "      <td>12</td>\n",
       "      <td>0</td>\n",
       "      <td>Cafe/Sweets</td>\n",
       "      <td>Shizuoka-ken Hamamatsu-shi Motoshirochō</td>\n",
       "      <td>34.710895</td>\n",
       "      <td>137.725940</td>\n",
       "      <td>NaN</td>\n",
       "    </tr>\n",
       "  </tbody>\n",
       "</table>\n",
       "</div>"
      ],
      "text/plain": [
       "           air_store_id  visitors day_of_week  holiday_flg        date  \\\n",
       "0  air_ba937bf13d40fb24        25   Wednesday            0  2016-01-13   \n",
       "1  air_25e9888d30b386df        21   Wednesday            0  2016-01-13   \n",
       "2  air_fd6aac1043520e83        40   Wednesday            0  2016-01-13   \n",
       "3  air_64d4491ad8cdb1c6         5   Wednesday            0  2016-01-13   \n",
       "4  air_ee3a01f0c71a769f        18   Wednesday            0  2016-01-13   \n",
       "\n",
       "   day_ind  month_ind air_genre_name                            air_area_name  \\\n",
       "0       12          0     Dining bar             Tōkyō-to Minato-ku Shibakōen   \n",
       "1       12          0        Izakaya     Tōkyō-to Shinagawa-ku Higashigotanda   \n",
       "2       12          0        Izakaya             Tōkyō-to Minato-ku Shibakōen   \n",
       "3       12          0     Dining bar             Tōkyō-to Minato-ku Shibakōen   \n",
       "4       12          0    Cafe/Sweets  Shizuoka-ken Hamamatsu-shi Motoshirochō   \n",
       "\n",
       "    latitude   longitude hpg_store_id  \n",
       "0  35.658068  139.751599          NaN  \n",
       "1  35.626568  139.725858          NaN  \n",
       "2  35.658068  139.751599          NaN  \n",
       "3  35.658068  139.751599          NaN  \n",
       "4  34.710895  137.725940          NaN  "
      ]
     },
     "execution_count": 6,
     "metadata": {},
     "output_type": "execute_result"
    }
   ],
   "source": [
    "air_visit_hist.head()"
   ]
  },
  {
   "cell_type": "code",
   "execution_count": 8,
   "metadata": {},
   "outputs": [],
   "source": [
    "test_stores = test.air_store_id.unique()"
   ]
  },
  {
   "cell_type": "markdown",
   "metadata": {},
   "source": [
    "### Check visit counts by store/day/month/weekday"
   ]
  },
  {
   "cell_type": "code",
   "execution_count": 9,
   "metadata": {},
   "outputs": [],
   "source": [
    "weekdays = ('Monday', 'Tuesday', 'Wednesday', 'Thursday', 'Friday', 'Saturday', 'Sunday')\n",
    "weekdays_short = ('M', 'T', 'W', 'R', 'F', 'Sa', 'Su')\n",
    "weekday_pos = np.arange(len(weekdays))"
   ]
  },
  {
   "cell_type": "code",
   "execution_count": 97,
   "metadata": {},
   "outputs": [],
   "source": [
    "def visit_by_store(store_id=None):\n",
    "    '''\n",
    "    check visit count by store\n",
    "    (1) by day\n",
    "    (2) by month\n",
    "    (3) by weekday\n",
    "    check #days by store by month\n",
    "    '''\n",
    "    store_visit = air_visit_hist[air_visit_hist.air_store_id == store_id]\n",
    "    store_by_month = store_visit.groupby('month_ind', as_index=False).sum()[['month_ind', 'visitors']]\n",
    "    store_by_weekday = store_visit.groupby('day_of_week', as_index=False).sum()[['day_of_week', 'visitors']]\n",
    "    days_by_month = store_visit.groupby('month_ind', as_index=False).count()[['month_ind', 'day_ind']]\n",
    "    days_by_month.rename(columns={'day_ind': 'day_cnt'}, inplace=True)\n",
    "    \n",
    "    plt.scatter(store_visit['day_ind'], store_visit['visitors'], s=13)\n",
    "    plt.title('visitor count by day')\n",
    "    plt.show()\n",
    "    \n",
    "    months = np.sort(np.unique(store_visit.month_ind))\n",
    "    month_pos = np.arange(len(months))\n",
    "    cnt = [store_by_month[store_by_month.month_ind == mid].visitors.iloc[0] for mid in months]\n",
    "    plt.bar(month_pos, cnt, align='center', alpha=0.5)\n",
    "    plt.xticks(month_pos, months)\n",
    "    plt.ylabel('visitors')\n",
    "    plt.title('Visitors by Month')\n",
    "    plt.show()\n",
    "    \n",
    "    cnt = [store_by_weekday[store_by_weekday.day_of_week == wday].\n",
    "           visitors.iloc[0] if wday in list(store_by_weekday.day_of_week) else 0 for wday in weekdays]\n",
    "  \n",
    "    \n",
    "    plt.bar(weekday_pos, cnt, align='center', alpha=0.5)\n",
    "    plt.xticks(weekday_pos, weekdays_short)\n",
    "    plt.ylabel('visitors')\n",
    "    plt.title('Visitors by Weekday')\n",
    "    plt.show()\n",
    "    \n",
    "    cnt =[days_by_month[days_by_month.month_ind == mid].day_cnt.iloc[0] for mid in months]\n",
    "    plt.bar(month_pos, cnt, align='center', alpha=0.5)\n",
    "    plt.xticks(month_pos, months)\n",
    "    plt.ylabel('days')\n",
    "    plt.title('Days by Month')\n",
    "    plt.show()"
   ]
  },
  {
   "cell_type": "code",
   "execution_count": 100,
   "metadata": {},
   "outputs": [
    {
     "data": {
      "image/png": "[encoded data removed]",
      "text/plain": [
       "<matplotlib.figure.Figure at 0x1cd28048>"
      ]
     },
     "metadata": {},
     "output_type": "display_data"
    },
    {
     "data": {
      "image/png": "[encoded data removed]",
      "text/plain": [
       "<matplotlib.figure.Figure at 0x1d157358>"
      ]
     },
     "metadata": {},
     "output_type": "display_data"
    },
    {
     "data": {
      "image/png": "[encoded data removed]",
      "text/plain": [
       "<matplotlib.figure.Figure at 0x34a9bbe0>"
      ]
     },
     "metadata": {},
     "output_type": "display_data"
    },
    {
     "data": {
      "image/png": "[encoded data removed]",
      "text/plain": [
       "<matplotlib.figure.Figure at 0x1cd31518>"
      ]
     },
     "metadata": {},
     "output_type": "display_data"
    }
   ],
   "source": [
    "visit_by_store(test_stores[34])"
   ]
  },
  {
   "cell_type": "markdown",
   "metadata": {},
   "source": [
    "### Given a store, check out the difference of number of visitors between two dates"
   ]
  },
  {
   "cell_type": "code",
   "execution_count": 6,
   "metadata": {},
   "outputs": [],
   "source": [
    "def diff_by_day(store_id=None, delta=7):\n",
    "    store_visit = air_visit_hist[air_visit_hist.air_store_id == store_id][['day_ind', 'visitors']]\n",
    "    store_next_delta = store_visit.copy()\n",
    "    store_visit['next_delta'] = store_visit['day_ind'] + delta\n",
    "    store_visit = store_visit.merge(store_next_delta, left_on='next_delta', right_on='day_ind', suffixes=['', '_r'])\n",
    "    \n",
    "    store_visit['diff_'+str(delta)] = store_visit['visitors'] - store_visit['visitors_r']\n",
    "    plt.scatter(store_visit['day_ind'], store_visit['diff_'+str(delta)], s=13)\n",
    "    plt.title('difference in count by delta=' + str(delta))\n",
    "    plt.show()\n",
    "    print(store_visit.describe()['diff_'+str(delta)])"
   ]
  },
  {
   "cell_type": "code",
   "execution_count": 10,
   "metadata": {},
   "outputs": [
    {
     "data": {
      "image/png": "[encoded data removed]",
      "text/plain": [
       "<matplotlib.figure.Figure at 0x2bb11ef0>"
      ]
     },
     "metadata": {},
     "output_type": "display_data"
    },
    {
     "name": "stdout",
     "output_type": "stream",
     "text": [
      "count    283.000000\n",
      "mean      -0.222615\n",
      "std       12.974467\n",
      "min      -42.000000\n",
      "25%       -9.000000\n",
      "50%        1.000000\n",
      "75%        8.500000\n",
      "max       36.000000\n",
      "Name: diff_3, dtype: float64\n"
     ]
    }
   ],
   "source": [
    "diff_by_day(store_id=test_stores[200], delta=3)"
   ]
  },
  {
   "cell_type": "markdown",
   "metadata": {},
   "source": [
    "### Explore relation between reserve and total visitors"
   ]
  },
  {
   "cell_type": "code",
   "execution_count": 11,
   "metadata": {},
   "outputs": [],
   "source": [
    "cols = list(air_visit_hist.columns) + ['reserve_visitors']\n",
    "\n",
    "air_visit_hist1 = air_visit_hist.merge(air_reserve_day, how='left', left_on=['air_store_id', 'day_ind'], \n",
    "                                       right_on=['air_store_id', 'day_ind'], suffixes=['', '_r'])[cols]\n",
    "\n",
    "cols = cols + ['reserve_visitors_h']\n",
    "\n",
    "air_visit_hist2 = air_visit_hist1.merge(hpg_reserve_day, how='left', left_on=['hpg_store_id', 'day_ind'],\n",
    "                                       right_on=['hpg_store_id', 'day_ind'], suffixes=['', '_h'])[cols]\n",
    "\n",
    "air_visit_hist2.drop('hpg_store_id', axis=1, inplace=True)\n",
    "\n",
    "air_visit_hist2.fillna(0, inplace=True)\n",
    "\n",
    "air_visit_hist2['all_reserve_visitors'] = air_visit_hist2['reserve_visitors'] + air_visit_hist2['reserve_visitors_h']\n",
    "\n",
    "air_visit_hist3 = air_visit_hist2[air_visit_hist2.all_reserve_visitors > 0 ].copy()\n",
    "\n",
    "air_visit_hist3['non_reserve_visitors'] = air_visit_hist3['visitors'] - air_visit_hist3['all_reserve_visitors']"
   ]
  },
  {
   "cell_type": "code",
   "execution_count": 12,
   "metadata": {},
   "outputs": [],
   "source": [
    "check = air_visit_hist3[air_visit_hist3.non_reserve_visitors < 0]"
   ]
  },
  {
   "cell_type": "code",
   "execution_count": 34,
   "metadata": {},
   "outputs": [],
   "source": [
    "with_reserve = air_visit_hist3[air_visit_hist3.all_reserve_visitors > 0][['visitors', 'all_reserve_visitors']]"
   ]
  },
  {
   "cell_type": "code",
   "execution_count": 37,
   "metadata": {},
   "outputs": [
    {
     "data": {
      "text/plain": [
       "<matplotlib.collections.PathCollection at 0x28ebd588>"
      ]
     },
     "execution_count": 37,
     "metadata": {},
     "output_type": "execute_result"
    },
    {
     "data": {
      "image/png": "[encoded data removed]",
      "text/plain": [
       "<matplotlib.figure.Figure at 0x28979470>"
      ]
     },
     "metadata": {},
     "output_type": "display_data"
    }
   ],
   "source": [
    "plt.scatter(with_reserve.all_reserve_visitors, with_reserve.visitors)"
   ]
  },
  {
   "cell_type": "markdown",
   "metadata": {},
   "source": [
    "### Outliers are annoying"
   ]
  },
  {
   "cell_type": "code",
   "execution_count": 38,
   "metadata": {},
   "outputs": [],
   "source": [
    "with_reserve1 = with_reserve[with_reserve.all_reserve_visitors < 300]"
   ]
  },
  {
   "cell_type": "code",
   "execution_count": 41,
   "metadata": {},
   "outputs": [
    {
     "data": {
      "text/plain": [
       "<matplotlib.collections.PathCollection at 0x28e64ef0>"
      ]
     },
     "execution_count": 41,
     "metadata": {},
     "output_type": "execute_result"
    },
    {
     "data": {
      "image/png": "[encoded data removed]",
      "text/plain": [
       "<matplotlib.figure.Figure at 0x2dde2908>"
      ]
     },
     "metadata": {},
     "output_type": "display_data"
    }
   ],
   "source": [
    "plt.scatter(with_reserve1.all_reserve_visitors, with_reserve1.visitors, s=0.5)"
   ]
  },
  {
   "cell_type": "markdown",
   "metadata": {},
   "source": [
    "### Explore area and genre"
   ]
  },
  {
   "cell_type": "code",
   "execution_count": 54,
   "metadata": {},
   "outputs": [
    {
     "data": {
      "text/plain": [
       "Fukuoka-ken Fukuoka-shi Daimyō                   64\n",
       "Tōkyō-to Shibuya-ku Shibuya                      58\n",
       "Tōkyō-to Minato-ku Shibakōen                     51\n",
       "Tōkyō-to Shinjuku-ku Kabukichō                   39\n",
       "Tōkyō-to Setagaya-ku Setagaya                    30\n",
       "Tōkyō-to Chūō-ku Tsukiji                         29\n",
       "Ōsaka-fu Ōsaka-shi Ōgimachi                      25\n",
       "Hiroshima-ken Hiroshima-shi Kokutaijimachi       23\n",
       "Tōkyō-to Meguro-ku Kamimeguro                    22\n",
       "Tōkyō-to Suginami-ku Asagayaminami               21\n",
       "Hokkaidō Sapporo-shi Minami 3 Jōnishi            21\n",
       "Tōkyō-to Chiyoda-ku Kudanminami                  20\n",
       "Ōsaka-fu Ōsaka-shi Kyūtarōmachi                  19\n",
       "Hyōgo-ken Kōbe-shi Kumoidōri                     17\n",
       "Miyagi-ken Sendai-shi Kamisugi                   17\n",
       "Tōkyō-to Taitō-ku Higashiueno                    16\n",
       "Fukuoka-ken Fukuoka-shi Hakata Ekimae            16\n",
       "Tōkyō-to Chūō-ku Ginza                           14\n",
       "Shizuoka-ken Hamamatsu-shi Motoshirochō          13\n",
       "Hokkaidō Asahikawa-shi 6 Jōdōri                  13\n",
       "Tōkyō-to Toshima-ku Minamiikebukuro              12\n",
       "Ōsaka-fu Ōsaka-shi Shinmachi                     10\n",
       "Hyōgo-ken Kakogawa-shi Kakogawachō Kitazaike     10\n",
       "Hyōgo-ken Himeji-shi Yasuda                       9\n",
       "Tōkyō-to Kōtō-ku Tōyō                             9\n",
       "Tōkyō-to Minato-ku Akasaka                        8\n",
       "Hiroshima-ken Fukuyama-shi Higashisakuramachi     7\n",
       "Hyōgo-ken Nishinomiya-shi Rokutanjichō            7\n",
       "Fukuoka-ken Itoshima-shi Maebarunishi             7\n",
       "Fukuoka-ken Fukuoka-shi Shiobaru                  7\n",
       "                                                 ..\n",
       "Tōkyō-to Taitō-ku Kuramae                         2\n",
       "Tōkyō-to Shibuya-ku Dōgenzaka                     2\n",
       "Shizuoka-ken Numazu-shi Miyukichō                 2\n",
       "Tōkyō-to Setagaya-ku Kitazawa                     2\n",
       "Ōsaka-fu Sakai-shi Minamikawaramachi              2\n",
       "Fukuoka-ken Yame-shi Motomachi                    2\n",
       "Tōkyō-to Fuchū-shi Miyanishichō                   2\n",
       "Ōsaka-fu Ōsaka-shi Nakanochō                      2\n",
       "Tōkyō-to Shibuya-ku Higashi                       2\n",
       "Hokkaidō Sapporo-shi Kita 24 Jōnishi              2\n",
       "Niigata-ken Kashiwazaki-shi Chūōchō               2\n",
       "Fukuoka-ken Kitakyūshū-shi Konyamachi             2\n",
       "Fukuoka-ken Fukuoka-shi Tenjin                    2\n",
       "Tōkyō-to Meguro-ku Takaban                        2\n",
       "Tōkyō-to Toshima-ku Sugamo                        2\n",
       "Tōkyō-to Kōtō-ku Kameido                          2\n",
       "Tōkyō-to Bunkyō-ku Sendagi                        2\n",
       "Tōkyō-to Koganei-shi Honchō                       2\n",
       "Hokkaidō Abashiri-shi Minami 6 Jōhigashi          2\n",
       "Ōsaka-fu Suita-shi Izumichō                       2\n",
       "Niigata-ken Nagaoka-shi Ōtedōri                   2\n",
       "Hyōgo-ken Amagasaki-shi Higashinanamatsuchō       2\n",
       "Tōkyō-to Musashino-shi Midorichō                  2\n",
       "Hiroshima-ken Hiroshima-shi Nagarekawachō         2\n",
       "Tōkyō-to Meguro-ku Jiyūgaoka                      2\n",
       "Fukuoka-ken Fukuoka-shi Imaizumi                  2\n",
       "Tōkyō-to Setagaya-ku Sangenjaya                   2\n",
       "Ōsaka-fu Higashiōsaka-shi Aramotokita             2\n",
       "Ōsaka-fu Neyagawa-shi Honmachi                    2\n",
       "Hyōgo-ken Kōbe-shi Motomachidōri                  2\n",
       "Name: air_area_name, Length: 103, dtype: int64"
      ]
     },
     "execution_count": 54,
     "metadata": {},
     "output_type": "execute_result"
    }
   ],
   "source": [
    "air_store_info.air_area_name.value_counts()"
   ]
  },
  {
   "cell_type": "markdown",
   "metadata": {},
   "source": [
    "Note: the number of restaurants in each area greatly varies, the trouble is that we don't know the size and population of each area."
   ]
  },
  {
   "cell_type": "code",
   "execution_count": 55,
   "metadata": {},
   "outputs": [
    {
     "data": {
      "text/plain": [
       "Izakaya                         197\n",
       "Cafe/Sweets                     181\n",
       "Dining bar                      108\n",
       "Italian/French                  102\n",
       "Bar/Cocktail                     79\n",
       "Japanese food                    63\n",
       "Other                            27\n",
       "Yakiniku/Korean food             23\n",
       "Western food                     16\n",
       "Okonomiyaki/Monja/Teppanyaki     14\n",
       "Creative cuisine                 13\n",
       "International cuisine             2\n",
       "Asian                             2\n",
       "Karaoke/Party                     2\n",
       "Name: air_genre_name, dtype: int64"
      ]
     },
     "execution_count": 55,
     "metadata": {},
     "output_type": "execute_result"
    }
   ],
   "source": [
    "air_store_info.air_genre_name.value_counts()"
   ]
  },
  {
   "cell_type": "code",
   "execution_count": null,
   "metadata": {},
   "outputs": [],
   "source": []
  }
 ],
 "metadata": {
  "kernelspec": {
   "display_name": "Python 3",
   "language": "python",
   "name": "python3"
  },
  "language_info": {
   "codemirror_mode": {
    "name": "ipython",
    "version": 3
   },
   "file_extension": ".py",
   "mimetype": "text/x-python",
   "name": "python",
   "nbconvert_exporter": "python",
   "pygments_lexer": "ipython3",
   "version": "3.6.1"
  }
 },
 "nbformat": 4,
 "nbformat_minor": 2
}
