{
 "cells": [
  {
   "cell_type": "markdown",
   "metadata": {},
   "source": [
    "### 1. Submission_6_1: grid = 23, lag_length = 49, use mean/median/max/min/count visitors\n",
    "### 2. Submission_5_2_c: grid = 23, lag_length = 49, not using mean/median/max/min/count visitors\n",
    "### 3. Submission_5_2_d: grid = 3x? lag_length = 63? don't remember\n",
    "### 4. Submission_5_2_cd: average of 5_2_c and 5_2_d\n",
    "### 5. Submission_6_2: average of 6_1 and 5_2_cd, currently the best"
   ]
  },
  {
   "cell_type": "code",
   "execution_count": null,
   "metadata": {},
   "outputs": [],
   "source": []
  }
 ],
 "metadata": {
  "kernelspec": {
   "display_name": "Python 3",
   "language": "python",
   "name": "python3"
  },
  "language_info": {
   "codemirror_mode": {
    "name": "ipython",
    "version": 3
   },
   "file_extension": ".py",
   "mimetype": "text/x-python",
   "name": "python",
   "nbconvert_exporter": "python",
   "pygments_lexer": "ipython3",
   "version": "3.6.3"
  }
 },
 "nbformat": 4,
 "nbformat_minor": 2
}
