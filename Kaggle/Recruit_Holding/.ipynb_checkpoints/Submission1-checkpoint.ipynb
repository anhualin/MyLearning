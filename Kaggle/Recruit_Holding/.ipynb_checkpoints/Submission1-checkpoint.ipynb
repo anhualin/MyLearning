{
 "cells": [
  {
   "cell_type": "markdown",
   "metadata": {},
   "source": [
    "### For (air_store_id, test_date), \n",
    "### 1. if test_date is not a holiday, find the closest (air_store_id, train_date) where train_date is not  a holiday and is the same weekday as test_date.\n",
    "### 2. if test_date is a holiday, find the closest (air_store_id, train_date) where train_date is a holiday"
   ]
  },
  {
   "cell_type": "code",
   "execution_count": 1,
   "metadata": {},
   "outputs": [],
   "source": [
    "import os\n",
    "import numpy as np\n",
    "import pandas as pd\n",
    "import platform\n",
    "import pickle\n",
    "from pathlib import Path\n",
    "from datetime import datetime, date, timedelta\n",
    "import matplotlib.pyplot as plt\n",
    "%matplotlib inline"
   ]
  },
  {
   "cell_type": "code",
   "execution_count": 2,
   "metadata": {},
   "outputs": [],
   "source": [
    "%qtconsole"
   ]
  },
  {
   "cell_type": "code",
   "execution_count": 3,
   "metadata": {},
   "outputs": [],
   "source": [
    "if platform.system() == 'Linux':\n",
    "    data_dir = '/home/alin/Data/Recruit_Holding'\n",
    "else:\n",
    "    data_dir = 'C:/Users/alin/Documents/Data/Recruit_Holding'"
   ]
  },
  {
   "cell_type": "code",
   "execution_count": 4,
   "metadata": {},
   "outputs": [
    {
     "name": "stdout",
     "output_type": "stream",
     "text": [
      "load previous dump\n"
     ]
    }
   ],
   "source": [
    "DFS_dump = data_dir + '/DFS.p'\n",
    "if Path(DFS_dump).is_file():\n",
    "    print('load previous dump')\n",
    "    DFS = pickle.load(open(DFS_dump, 'rb'))\n",
    "    air_reserve = DFS['air_reserve']\n",
    "    air_reserve_day = DFS['air_reserve_day']\n",
    "    hpg_reserve = DFS['hpg_reserve']\n",
    "    hpg_reserve_day = DFS['hpg_reserve_day']\n",
    "    air_visit_hist = DFS['air_visit_hist']\n",
    "    date_info = DFS['date_info']\n",
    "    test = DFS['test']\n",
    "    air_store_info = DFS['air_store_info']\n",
    "    hpg_store_info = DFS['hpg_store_info']\n",
    "    store_id_relation = DFS['store_id_relation']\n",
    "    test = DFS['test']\n",
    "else:\n",
    "    print('run EDA1 first')"
   ]
  },
  {
   "cell_type": "code",
   "execution_count": 68,
   "metadata": {},
   "outputs": [],
   "source": [
    "def day_score(hday1, wday1, hday2, wday2, day2_ind):\n",
    "    '''\n",
    "    score the closeness of wday2 to wday1\n",
    "    '''\n",
    "    score = day2_ind\n",
    "    if hday1 == 1:\n",
    "        if hday2 == 1:\n",
    "            score += 2000\n",
    "        elif wday2 == 'Saturday' or wday2 == 'Sunday':\n",
    "            score += 1000\n",
    "    elif wday1 == 'Saturday':\n",
    "        if wday2 == 'Saturday':\n",
    "            score += 2000\n",
    "        elif wday2 == 'Sunday':\n",
    "            score += 1000\n",
    "        elif hday2 == 1:\n",
    "            score += 500\n",
    "    elif wday1 == 'Sunday':\n",
    "        if wday2 == 'Sunday':\n",
    "            score += 2000\n",
    "        elif wday2 == 'Saturday':\n",
    "            score += 1000\n",
    "        elif hday2 == 1:\n",
    "            score += 500\n",
    "    else:\n",
    "        if wday2 == wday1:\n",
    "            score += 2000\n",
    "        elif wday2 != wday1 and wday2 != 'Saturday' and wday2 != 'Sunday':\n",
    "            score += 1000\n",
    "    return score"
   ]
  },
  {
   "cell_type": "code",
   "execution_count": 61,
   "metadata": {},
   "outputs": [],
   "source": [
    "test_train = test.merge(air_visit_hist, left_on = 'air_store_id', right_on = 'air_store_id', suffixes=['', '_tr'])\n",
    "\n",
    "test_train = test_train[['id', 'day_of_week', 'holiday_flg', 'day_of_week_tr', 'holiday_flg_tr', 'day_ind_tr', 'visitors']]"
   ]
  },
  {
   "cell_type": "code",
   "execution_count": 76,
   "metadata": {},
   "outputs": [],
   "source": [
    "test_train['score'] = test_train.apply(lambda r: day_score(r['holiday_flg'], r['day_of_week'], r['holiday_flg_tr'], \n",
    "                                           r['day_of_week_tr'], r['day_ind_tr']), axis=1)"
   ]
  },
  {
   "cell_type": "code",
   "execution_count": 82,
   "metadata": {},
   "outputs": [],
   "source": [
    "test_max_score = test_train.groupby('id', as_index=False).max()[['id', 'score']]"
   ]
  },
  {
   "cell_type": "code",
   "execution_count": 90,
   "metadata": {},
   "outputs": [],
   "source": [
    "test_result1 = test_train.merge(test_max_score, on=['id', 'score'])"
   ]
  },
  {
   "cell_type": "code",
   "execution_count": 94,
   "metadata": {},
   "outputs": [],
   "source": [
    "output = test_result1[['id', 'visitors']]"
   ]
  },
  {
   "cell_type": "code",
   "execution_count": 97,
   "metadata": {},
   "outputs": [],
   "source": [
    "sample_submission = pd.read_csv(data_dir + '/sample_submission.csv.zip')"
   ]
  },
  {
   "cell_type": "code",
   "execution_count": 102,
   "metadata": {},
   "outputs": [],
   "source": [
    "sample_submission['ord'] = sample_submission.index"
   ]
  },
  {
   "cell_type": "code",
   "execution_count": 107,
   "metadata": {},
   "outputs": [],
   "source": [
    "output = output.merge(sample_submission, on='id', suffixes=['','_r'])[['id', 'visitors', 'ord']]"
   ]
  },
  {
   "cell_type": "code",
   "execution_count": 111,
   "metadata": {},
   "outputs": [
    {
     "data": {
      "text/html": [
       "<div>\n",
       "<style>\n",
       "    .dataframe thead tr:only-child th {\n",
       "        text-align: right;\n",
       "    }\n",
       "\n",
       "    .dataframe thead th {\n",
       "        text-align: left;\n",
       "    }\n",
       "\n",
       "    .dataframe tbody tr th {\n",
       "        vertical-align: top;\n",
       "    }\n",
       "</style>\n",
       "<table border=\"1\" class=\"dataframe\">\n",
       "  <thead>\n",
       "    <tr style=\"text-align: right;\">\n",
       "      <th></th>\n",
       "      <th>id</th>\n",
       "      <th>visitors</th>\n",
       "      <th>ord</th>\n",
       "    </tr>\n",
       "  </thead>\n",
       "  <tbody>\n",
       "    <tr>\n",
       "      <th>0</th>\n",
       "      <td>air_00a91d42b08b08d9_2017-04-23</td>\n",
       "      <td>2</td>\n",
       "      <td>0</td>\n",
       "    </tr>\n",
       "    <tr>\n",
       "      <th>1</th>\n",
       "      <td>air_00a91d42b08b08d9_2017-04-24</td>\n",
       "      <td>19</td>\n",
       "      <td>1</td>\n",
       "    </tr>\n",
       "    <tr>\n",
       "      <th>2</th>\n",
       "      <td>air_00a91d42b08b08d9_2017-04-25</td>\n",
       "      <td>35</td>\n",
       "      <td>2</td>\n",
       "    </tr>\n",
       "    <tr>\n",
       "      <th>3</th>\n",
       "      <td>air_00a91d42b08b08d9_2017-04-26</td>\n",
       "      <td>17</td>\n",
       "      <td>3</td>\n",
       "    </tr>\n",
       "    <tr>\n",
       "      <th>4</th>\n",
       "      <td>air_00a91d42b08b08d9_2017-04-27</td>\n",
       "      <td>38</td>\n",
       "      <td>4</td>\n",
       "    </tr>\n",
       "  </tbody>\n",
       "</table>\n",
       "</div>"
      ],
      "text/plain": [
       "                                id  visitors  ord\n",
       "0  air_00a91d42b08b08d9_2017-04-23         2    0\n",
       "1  air_00a91d42b08b08d9_2017-04-24        19    1\n",
       "2  air_00a91d42b08b08d9_2017-04-25        35    2\n",
       "3  air_00a91d42b08b08d9_2017-04-26        17    3\n",
       "4  air_00a91d42b08b08d9_2017-04-27        38    4"
      ]
     },
     "execution_count": 111,
     "metadata": {},
     "output_type": "execute_result"
    }
   ],
   "source": [
    "output.head()"
   ]
  },
  {
   "cell_type": "code",
   "execution_count": 116,
   "metadata": {},
   "outputs": [],
   "source": [
    "output = output.sort_values('ord', axis=0)[['id', 'visitors']]"
   ]
  },
  {
   "cell_type": "code",
   "execution_count": 119,
   "metadata": {},
   "outputs": [],
   "source": [
    "output.to_csv(data_dir + '/submission1.csv', index=False)"
   ]
  },
  {
   "cell_type": "code",
   "execution_count": 73,
   "metadata": {},
   "outputs": [],
   "source": [
    "t1 = test_train[1000:1100].copy()"
   ]
  },
  {
   "cell_type": "code",
   "execution_count": 74,
   "metadata": {},
   "outputs": [],
   "source": [
    "t1['score'] = t1.apply(lambda r: day_score(r['holiday_flg'], r['day_of_week'], r['holiday_flg_tr'], \n",
    "                                           r['day_of_week_tr'], r['day_ind_tr']), axis=1)"
   ]
  },
  {
   "cell_type": "code",
   "execution_count": null,
   "metadata": {},
   "outputs": [],
   "source": []
  },
  {
   "cell_type": "code",
   "execution_count": 17,
   "metadata": {},
   "outputs": [],
   "source": [
    "test_non_holiday = test[test.holiday_flg==0].copy()\n",
    "test_holiday = test[test.holiday_flg==1].copy()"
   ]
  },
  {
   "cell_type": "code",
   "execution_count": 16,
   "metadata": {},
   "outputs": [],
   "source": [
    "train_non_holiday = air_visit_hist[air_visit_hist.holiday_flg==0]\n",
    "train_holiday = air_visit_hist[air_visit_hist.holiday_flg==1][]"
   ]
  },
  {
   "cell_type": "code",
   "execution_count": 35,
   "metadata": {},
   "outputs": [],
   "source": [
    "test_train_non_holiday = test_non_holiday.merge(train_non_holiday, left_on=['air_store_id', 'day_of_week'],\n",
    "                                               right_on=['air_store_id', 'day_of_week'], suffixes=['', '_tr'])"
   ]
  },
  {
   "cell_type": "code",
   "execution_count": 36,
   "metadata": {},
   "outputs": [],
   "source": [
    "test_train_non_holiday = test_train_non_holiday[['id', 'day_ind', 'visitors', 'day_ind_tr']]"
   ]
  },
  {
   "cell_type": "code",
   "execution_count": 45,
   "metadata": {},
   "outputs": [],
   "source": [
    "test_non_holiday_latest = test_train_non_holiday.groupby('id', as_index=False).max()"
   ]
  },
  {
   "cell_type": "code",
   "execution_count": null,
   "metadata": {},
   "outputs": [],
   "source": [
    "# air_0241aa3964b7f861_2017-04-23        10          86"
   ]
  }
 ],
 "metadata": {
  "kernelspec": {
   "display_name": "Python 3",
   "language": "python",
   "name": "python3"
  },
  "language_info": {
   "codemirror_mode": {
    "name": "ipython",
    "version": 3
   },
   "file_extension": ".py",
   "mimetype": "text/x-python",
   "name": "python",
   "nbconvert_exporter": "python",
   "pygments_lexer": "ipython3",
   "version": "3.6.1"
  }
 },
 "nbformat": 4,
 "nbformat_minor": 2
}
