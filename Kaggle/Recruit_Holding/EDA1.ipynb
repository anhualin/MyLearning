{
 "cells": [
  {
   "cell_type": "code",
   "execution_count": 2,
   "metadata": {},
   "outputs": [],
   "source": [
    "import os\n",
    "import numpy as np\n",
    "import pandas as pd\n",
    "import platform\n",
    "import pickle\n",
    "from pathlib import Path\n",
    "from datetime import datetime, date, timedelta\n",
    "import matplotlib.pyplot as plt\n",
    "%matplotlib inline"
   ]
  },
  {
   "cell_type": "code",
   "execution_count": 3,
   "metadata": {},
   "outputs": [],
   "source": [
    "#%qtconsole"
   ]
  },
  {
   "cell_type": "code",
   "execution_count": 4,
   "metadata": {},
   "outputs": [],
   "source": [
    "if platform.system() == 'Linux':\n",
    "    data_dir = '/home/alin/Data/Recruit_Holding'\n",
    "else:\n",
    "    data_dir = 'C:/Users/alin/Documents/Data/Recruit_Holding'"
   ]
  },
  {
   "cell_type": "markdown",
   "metadata": {},
   "source": [
    "## Load Data"
   ]
  },
  {
   "cell_type": "code",
   "execution_count": 5,
   "metadata": {},
   "outputs": [],
   "source": [
    "air_reserve = pd.read_csv(data_dir + '/air_reserve.csv.zip')\n",
    "\n",
    "air_store_info = pd.read_csv(data_dir + '/air_store_info.csv.zip')\n",
    "\n",
    "air_visit_hist = pd.read_csv(data_dir + '/air_visit_data.csv.zip')\n",
    "\n",
    "date_info = pd.read_csv(data_dir + '/date_info.csv.zip')\n",
    "\n",
    "hpg_reserve = pd.read_csv(data_dir + '/hpg_reserve.csv.zip')\n",
    "\n",
    "hpg_store_info = pd.read_csv(data_dir + '/hpg_store_info.csv.zip')\n",
    "\n",
    "sample_submission = pd.read_csv(data_dir + '/sample_submission.csv.zip')\n",
    "\n",
    "store_id_relation = pd.read_csv(data_dir + '/store_id_relation.csv.zip')"
   ]
  },
  {
   "cell_type": "markdown",
   "metadata": {},
   "source": [
    "### date_info\n",
    "\n",
    "Convert string to datetime.date and add day_index and month_index"
   ]
  },
  {
   "cell_type": "code",
   "execution_count": 6,
   "metadata": {},
   "outputs": [],
   "source": [
    "day1 = datetime.strptime('2016-01-01', '%Y-%m-%d').date()\n",
    "\n",
    "date_info['date'] = date_info.apply(lambda r: datetime.strptime(r['calendar_date'], '%Y-%m-%d').date(), axis=1)\n",
    "\n",
    "date_info['day_ind'] = date_info.apply(lambda r: (r['date'] - day1).days, axis=1)\n",
    "\n",
    "date_info['month_ind'] = date_info.apply(lambda r: r['date'].month - 1 if r['date'].year == 2016 else r['date'].month + 11, axis=1)"
   ]
  },
  {
   "cell_type": "markdown",
   "metadata": {},
   "source": [
    "### aggregate air_reserve and hpg_reserve by date, append date related information to various datesets"
   ]
  },
  {
   "cell_type": "code",
   "execution_count": 7,
   "metadata": {},
   "outputs": [],
   "source": [
    "air_reserve['visit_date_str'] = air_reserve.apply(lambda r: r['visit_datetime'][:10], axis=1)\n",
    "\n",
    "hpg_reserve['visit_date_str'] = hpg_reserve.apply(lambda r: r['visit_datetime'][:10], axis=1)\n",
    "\n",
    "air_reserve_day = air_reserve.groupby(['air_store_id', 'visit_date_str'], as_index=False).sum()[['air_store_id', \n",
    "                                                                                                'visit_date_str', \n",
    "                                                                                               'reserve_visitors']]\n",
    "\n",
    "hpg_reserve_day = hpg_reserve.groupby(['hpg_store_id', 'visit_date_str'], as_index=False).sum()[['hpg_store_id', \n",
    "                                                                                                'visit_date_str', \n",
    "                                                                                               'reserve_visitors']]\n",
    "\n",
    "air_reserve_day = air_reserve_day.merge(date_info, left_on='visit_date_str', right_on='calendar_date')\n",
    "\n",
    "air_reserve_day.drop(['visit_date_str', 'calendar_date'], axis=1, inplace=True)\n",
    "\n",
    "hpg_reserve_day = hpg_reserve_day.merge(date_info, left_on='visit_date_str', right_on='calendar_date')\n",
    "hpg_reserve_day.drop(['visit_date_str', 'calendar_date'], axis=1, inplace=True)\n",
    "\n",
    "air_visit_hist = air_visit_hist.merge(date_info, left_on='visit_date', right_on='calendar_date')\n",
    "\n",
    "air_visit_hist.drop(['visit_date', 'calendar_date'], axis=1, inplace=True)"
   ]
  },
  {
   "cell_type": "markdown",
   "metadata": {},
   "source": [
    "### Preprocess sample submission"
   ]
  },
  {
   "cell_type": "code",
   "execution_count": 8,
   "metadata": {},
   "outputs": [],
   "source": [
    "sample_submission['store_id'] = sample_submission.apply(lambda r: r['id'][:-11], axis=1)\n",
    "\n",
    "sample_submission['date_str'] = sample_submission.apply(lambda r: r['id'][-10:], axis=1) \n",
    "\n",
    "sample_submission = sample_submission.merge(date_info, left_on='date_str', right_on='calendar_date')\n",
    "\n",
    "sample_submission.drop(['visitors', 'date_str', 'calendar_date'], axis=1, inplace=True)\n"
   ]
  },
  {
   "cell_type": "markdown",
   "metadata": {},
   "source": [
    "### Add store information"
   ]
  },
  {
   "cell_type": "code",
   "execution_count": 9,
   "metadata": {},
   "outputs": [],
   "source": [
    "air_reserve = air_reserve.merge(air_store_info, how='left', on='air_store_id')\n",
    "\n",
    "air_reserve_day = air_reserve_day.merge(air_store_info, how='left', on='air_store_id')\n",
    "\n",
    "hpg_reserve = hpg_reserve.merge(hpg_store_info, how='left', on='hpg_store_id')\n",
    "\n",
    "hpg_reserve_day = hpg_reserve_day.merge(hpg_store_info, how='left', on='hpg_store_id')\n",
    "\n",
    "air_visit_hist = air_visit_hist.merge(air_store_info, how='left', on='air_store_id')\n",
    "\n",
    "sample_submission = sample_submission.merge(air_store_info, how='left', left_on='store_id', right_on='air_store_id')\n",
    "\n",
    "test = sample_submission"
   ]
  },
  {
   "cell_type": "markdown",
   "metadata": {},
   "source": [
    "### Add hpg_store_id to air_store data if possible"
   ]
  },
  {
   "cell_type": "code",
   "execution_count": 10,
   "metadata": {},
   "outputs": [],
   "source": [
    "air_reserve = air_reserve.merge(store_id_relation, how='left', on='air_store_id')\n",
    "\n",
    "air_reserve_day = air_reserve_day.merge(store_id_relation, how='left', on='air_store_id')\n",
    "\n",
    "air_visit_hist = air_visit_hist.merge(store_id_relation, how='left', on='air_store_id')"
   ]
  },
  {
   "cell_type": "markdown",
   "metadata": {},
   "source": [
    "### Save useful data frames to disk to save future loading time"
   ]
  },
  {
   "cell_type": "code",
   "execution_count": 13,
   "metadata": {},
   "outputs": [],
   "source": [
    "DFS = {'air_reserve': air_reserve, 'air_reserve_day': air_reserve_day, 'hpg_reserve': hpg_reserve,\n",
    "      'hpg_reserve_day': hpg_reserve_day, 'air_visit_hist': air_visit_hist, 'date_info': date_info,\n",
    "      'test': test, 'air_store_info': air_store_info, 'hpg_store_info': hpg_store_info,\n",
    "      'store_id_relation': store_id_relation}\n",
    "\n",
    "pickle.dump(DFS, open(data_dir + '/DFS.p', 'wb'))"
   ]
  },
  {
   "cell_type": "markdown",
   "metadata": {},
   "source": [
    "## Explore air_visit_hist"
   ]
  },
  {
   "cell_type": "code",
   "execution_count": 249,
   "metadata": {},
   "outputs": [
    {
     "data": {
      "text/html": [
       "<div>\n",
       "<style>\n",
       "    .dataframe thead tr:only-child th {\n",
       "        text-align: right;\n",
       "    }\n",
       "\n",
       "    .dataframe thead th {\n",
       "        text-align: left;\n",
       "    }\n",
       "\n",
       "    .dataframe tbody tr th {\n",
       "        vertical-align: top;\n",
       "    }\n",
       "</style>\n",
       "<table border=\"1\" class=\"dataframe\">\n",
       "  <thead>\n",
       "    <tr style=\"text-align: right;\">\n",
       "      <th></th>\n",
       "      <th>air_store_id</th>\n",
       "      <th>visitors</th>\n",
       "      <th>day_of_week</th>\n",
       "      <th>holiday_flg</th>\n",
       "      <th>date</th>\n",
       "      <th>day_ind</th>\n",
       "      <th>month_ind</th>\n",
       "    </tr>\n",
       "  </thead>\n",
       "  <tbody>\n",
       "    <tr>\n",
       "      <th>0</th>\n",
       "      <td>air_ba937bf13d40fb24</td>\n",
       "      <td>25</td>\n",
       "      <td>Wednesday</td>\n",
       "      <td>0</td>\n",
       "      <td>2016-01-13</td>\n",
       "      <td>12</td>\n",
       "      <td>0</td>\n",
       "    </tr>\n",
       "    <tr>\n",
       "      <th>1</th>\n",
       "      <td>air_25e9888d30b386df</td>\n",
       "      <td>21</td>\n",
       "      <td>Wednesday</td>\n",
       "      <td>0</td>\n",
       "      <td>2016-01-13</td>\n",
       "      <td>12</td>\n",
       "      <td>0</td>\n",
       "    </tr>\n",
       "    <tr>\n",
       "      <th>2</th>\n",
       "      <td>air_fd6aac1043520e83</td>\n",
       "      <td>40</td>\n",
       "      <td>Wednesday</td>\n",
       "      <td>0</td>\n",
       "      <td>2016-01-13</td>\n",
       "      <td>12</td>\n",
       "      <td>0</td>\n",
       "    </tr>\n",
       "  </tbody>\n",
       "</table>\n",
       "</div>"
      ],
      "text/plain": [
       "           air_store_id  visitors day_of_week  holiday_flg        date  \\\n",
       "0  air_ba937bf13d40fb24        25   Wednesday            0  2016-01-13   \n",
       "1  air_25e9888d30b386df        21   Wednesday            0  2016-01-13   \n",
       "2  air_fd6aac1043520e83        40   Wednesday            0  2016-01-13   \n",
       "\n",
       "   day_ind  month_ind  \n",
       "0       12          0  \n",
       "1       12          0  \n",
       "2       12          0  "
      ]
     },
     "execution_count": 249,
     "metadata": {},
     "output_type": "execute_result"
    }
   ],
   "source": [
    "air_visit_hist.head(3)"
   ]
  },
  {
   "cell_type": "code",
   "execution_count": null,
   "metadata": {},
   "outputs": [],
   "source": [
    "weekday = ('Monday', 'Tuesday', 'Wednesday', 'Thursday', 'Friday', 'Saturday', 'Sunday')\n",
    "y_pos = np.arange(len(weekday))\n",
    "def visit_by_store(store_id=None):\n",
    "    store_visit = air_visit_hist[air_visit_hist.air_store_id == store_id]\n",
    "    store_by_month = store_visit.groupby('month_ind', as_index=False).sum()[['month_ind', 'visitors']]\n",
    "    store_by_weekday = store_visit.groupby('day_of_week', as_index=False).sum()[['day_of_week', 'visitors']]\n",
    "    "
   ]
  },
  {
   "cell_type": "code",
   "execution_count": 255,
   "metadata": {},
   "outputs": [],
   "source": [
    "a = air_visit_hist[air_visit_hist.air_store_id=='air_ba937bf13d40fb24']"
   ]
  },
  {
   "cell_type": "code",
   "execution_count": 256,
   "metadata": {},
   "outputs": [
    {
     "data": {
      "text/plain": [
       "[<matplotlib.lines.Line2D at 0x3849b38>]"
      ]
     },
     "execution_count": 256,
     "metadata": {},
     "output_type": "execute_result"
    },
    {
     "data": {
      "image/png": "[encoded data removed]",
      "text/plain": [
       "<matplotlib.figure.Figure at 0x15edea90>"
      ]
     },
     "metadata": {},
     "output_type": "display_data"
    }
   ],
   "source": [
    "plt.plot(a['day_ind'], a['visitors'])"
   ]
  },
  {
   "cell_type": "code",
   "execution_count": 261,
   "metadata": {},
   "outputs": [],
   "source": [
    "b = air_visit_hist.groupby(['air_store_id', 'month_ind'], as_index=False).sum()[['air_store_id', 'month_ind', 'visitors']]"
   ]
  },
  {
   "cell_type": "code",
   "execution_count": 263,
   "metadata": {},
   "outputs": [],
   "source": [
    "c = b[b.air_store_id=='air_ba937bf13d40fb24']"
   ]
  },
  {
   "cell_type": "code",
   "execution_count": 264,
   "metadata": {},
   "outputs": [
    {
     "data": {
      "text/plain": [
       "[<matplotlib.lines.Line2D at 0x15f38400>]"
      ]
     },
     "execution_count": 264,
     "metadata": {},
     "output_type": "execute_result"
    },
    {
     "data": {
      "image/png": "[encoded data removed]",
      "text/plain": [
       "<matplotlib.figure.Figure at 0x157bb6a0>"
      ]
     },
     "metadata": {},
     "output_type": "display_data"
    }
   ],
   "source": [
    "plt.plot(c['month_ind'], c['visitors'])"
   ]
  },
  {
   "cell_type": "code",
   "execution_count": 266,
   "metadata": {},
   "outputs": [],
   "source": [
    "d = air_visit_hist.groupby(['air_store_id', 'day_of_week'], as_index=False).sum()[['air_store_id', 'day_of_week', 'visitors']]"
   ]
  },
  {
   "cell_type": "code",
   "execution_count": 271,
   "metadata": {},
   "outputs": [],
   "source": [
    "e = d[d.air_store_id == 'air_ba937bf13d40fb24']"
   ]
  },
  {
   "cell_type": "code",
   "execution_count": 273,
   "metadata": {},
   "outputs": [],
   "source": [
    "weekday = ('Monday', 'Tuesday', 'Wednesday', 'Thursday', 'Friday', 'Saturday', 'Sunday')\n",
    "y_pos = np.arange(len(weekday))"
   ]
  },
  {
   "cell_type": "code",
   "execution_count": 290,
   "metadata": {},
   "outputs": [],
   "source": [
    "performance = [e[e.day_of_week == wday].visitors.iloc[0] for wday in weekday]"
   ]
  },
  {
   "cell_type": "code",
   "execution_count": 293,
   "metadata": {},
   "outputs": [
    {
     "data": {
      "text/plain": [
       "<matplotlib.text.Text at 0x1579c358>"
      ]
     },
     "execution_count": 293,
     "metadata": {},
     "output_type": "execute_result"
    },
    {
     "data": {
      "image/png": "[encoded data removed]",
      "text/plain": [
       "<matplotlib.figure.Figure at 0x17c97a20>"
      ]
     },
     "metadata": {},
     "output_type": "display_data"
    }
   ],
   "source": [
    " \n",
    "plt.bar(y_pos, performance, align='center', alpha=0.5)\n",
    "plt.xticks(y_pos, weekday)\n",
    "plt.ylabel('visitors')\n",
    "plt.title('Visitors by Weekday')\n",
    " \n"
   ]
  },
  {
   "cell_type": "markdown",
   "metadata": {},
   "source": [
    "## air_reserve\n",
    "This dataframe contains reservations made in the air system. Note that the reserve_datetime indicates the time when the reservation was created, whereas the visit_datetime is the time in the future where the visit will occur.\n",
    "\n",
    "- air_store_id - the restaurant's id in the air system\n",
    "- visit_datetime - the time of the reservation\n",
    "- reserve_datetime - the time the reservation was made\n",
    "- reserve_visitors - the number of visitors for that reservation"
   ]
  },
  {
   "cell_type": "code",
   "execution_count": null,
   "metadata": {},
   "outputs": [],
   "source": []
  },
  {
   "cell_type": "code",
   "execution_count": null,
   "metadata": {},
   "outputs": [],
   "source": []
  },
  {
   "cell_type": "code",
   "execution_count": 23,
   "metadata": {},
   "outputs": [
    {
     "data": {
      "text/html": [
       "<div>\n",
       "<style>\n",
       "    .dataframe thead tr:only-child th {\n",
       "        text-align: right;\n",
       "    }\n",
       "\n",
       "    .dataframe thead th {\n",
       "        text-align: left;\n",
       "    }\n",
       "\n",
       "    .dataframe tbody tr th {\n",
       "        vertical-align: top;\n",
       "    }\n",
       "</style>\n",
       "<table border=\"1\" class=\"dataframe\">\n",
       "  <thead>\n",
       "    <tr style=\"text-align: right;\">\n",
       "      <th></th>\n",
       "      <th>air_store_id</th>\n",
       "      <th>visit_datetime</th>\n",
       "      <th>reserve_datetime</th>\n",
       "      <th>reserve_visitors</th>\n",
       "    </tr>\n",
       "  </thead>\n",
       "  <tbody>\n",
       "    <tr>\n",
       "      <th>0</th>\n",
       "      <td>air_877f79706adbfb06</td>\n",
       "      <td>2016-01-01 19:00:00</td>\n",
       "      <td>2016-01-01 16:00:00</td>\n",
       "      <td>1</td>\n",
       "    </tr>\n",
       "    <tr>\n",
       "      <th>1</th>\n",
       "      <td>air_db4b38ebe7a7ceff</td>\n",
       "      <td>2016-01-01 19:00:00</td>\n",
       "      <td>2016-01-01 19:00:00</td>\n",
       "      <td>3</td>\n",
       "    </tr>\n",
       "    <tr>\n",
       "      <th>2</th>\n",
       "      <td>air_db4b38ebe7a7ceff</td>\n",
       "      <td>2016-01-01 19:00:00</td>\n",
       "      <td>2016-01-01 19:00:00</td>\n",
       "      <td>6</td>\n",
       "    </tr>\n",
       "  </tbody>\n",
       "</table>\n",
       "</div>"
      ],
      "text/plain": [
       "           air_store_id       visit_datetime     reserve_datetime  \\\n",
       "0  air_877f79706adbfb06  2016-01-01 19:00:00  2016-01-01 16:00:00   \n",
       "1  air_db4b38ebe7a7ceff  2016-01-01 19:00:00  2016-01-01 19:00:00   \n",
       "2  air_db4b38ebe7a7ceff  2016-01-01 19:00:00  2016-01-01 19:00:00   \n",
       "\n",
       "   reserve_visitors  \n",
       "0                 1  \n",
       "1                 3  \n",
       "2                 6  "
      ]
     },
     "execution_count": 23,
     "metadata": {},
     "output_type": "execute_result"
    }
   ],
   "source": [
    "air_reserve.head(3)"
   ]
  },
  {
   "cell_type": "code",
   "execution_count": 24,
   "metadata": {},
   "outputs": [
    {
     "data": {
      "text/plain": [
       "(92378, 4)"
      ]
     },
     "execution_count": 24,
     "metadata": {},
     "output_type": "execute_result"
    }
   ],
   "source": [
    "air_reserve.shape"
   ]
  },
  {
   "cell_type": "code",
   "execution_count": 25,
   "metadata": {},
   "outputs": [
    {
     "data": {
      "text/plain": [
       "air_store_id        object\n",
       "visit_datetime      object\n",
       "reserve_datetime    object\n",
       "reserve_visitors     int64\n",
       "dtype: object"
      ]
     },
     "execution_count": 25,
     "metadata": {},
     "output_type": "execute_result"
    }
   ],
   "source": [
    "air_reserve.dtypes"
   ]
  },
  {
   "cell_type": "code",
   "execution_count": 26,
   "metadata": {},
   "outputs": [
    {
     "data": {
      "text/plain": [
       "air_store_id        0\n",
       "visit_datetime      0\n",
       "reserve_datetime    0\n",
       "reserve_visitors    0\n",
       "dtype: int64"
      ]
     },
     "execution_count": 26,
     "metadata": {},
     "output_type": "execute_result"
    }
   ],
   "source": [
    "air_reserve.isnull().sum(axis=0)"
   ]
  },
  {
   "cell_type": "markdown",
   "metadata": {},
   "source": [
    "### (1) separate date from time, (2) further pull out year, month and day and hour"
   ]
  },
  {
   "cell_type": "code",
   "execution_count": 27,
   "metadata": {},
   "outputs": [],
   "source": [
    "def process_date_time(df, prefix):\n",
    "    '''create new fields prefix_date, prefix_hour, prefix_year, prefix_month, prefix_day from prefix_datetime'''\n",
    "    df[prefix + '_date'] = df.apply(lambda r: r[prefix + '_datetime'][:10], axis=1)    \n",
    "    df[prefix + '_year'] = df.apply(lambda r: int(r[prefix + '_datetime'][:4]), axis=1)\n",
    "    df[prefix + '_month'] = df.apply(lambda r: int(r[prefix + '_datetime'][5:7]), axis=1)\n",
    "    df[prefix + '_day'] = df.apply(lambda r: int(r[prefix + '_datetime'][8:10]), axis=1)\n",
    "    df[prefix + '_hour'] = df.apply(lambda r: int(r[prefix + '_datetime'][11:13]), axis=1)\n",
    "    return df\n",
    "    "
   ]
  },
  {
   "cell_type": "code",
   "execution_count": 28,
   "metadata": {},
   "outputs": [],
   "source": [
    "air_reserve = process_date_time(air_reserve, 'visit')\n",
    "air_reserve = process_date_time(air_reserve, 'reserve')"
   ]
  },
  {
   "cell_type": "code",
   "execution_count": 29,
   "metadata": {},
   "outputs": [
    {
     "data": {
      "text/html": [
       "<div>\n",
       "<style>\n",
       "    .dataframe thead tr:only-child th {\n",
       "        text-align: right;\n",
       "    }\n",
       "\n",
       "    .dataframe thead th {\n",
       "        text-align: left;\n",
       "    }\n",
       "\n",
       "    .dataframe tbody tr th {\n",
       "        vertical-align: top;\n",
       "    }\n",
       "</style>\n",
       "<table border=\"1\" class=\"dataframe\">\n",
       "  <thead>\n",
       "    <tr style=\"text-align: right;\">\n",
       "      <th></th>\n",
       "      <th>air_store_id</th>\n",
       "      <th>visit_datetime</th>\n",
       "      <th>reserve_datetime</th>\n",
       "      <th>reserve_visitors</th>\n",
       "      <th>visit_date</th>\n",
       "      <th>visit_year</th>\n",
       "      <th>visit_month</th>\n",
       "      <th>visit_day</th>\n",
       "      <th>visit_hour</th>\n",
       "      <th>reserve_date</th>\n",
       "      <th>reserve_year</th>\n",
       "      <th>reserve_month</th>\n",
       "      <th>reserve_day</th>\n",
       "      <th>reserve_hour</th>\n",
       "    </tr>\n",
       "  </thead>\n",
       "  <tbody>\n",
       "    <tr>\n",
       "      <th>0</th>\n",
       "      <td>air_877f79706adbfb06</td>\n",
       "      <td>2016-01-01 19:00:00</td>\n",
       "      <td>2016-01-01 16:00:00</td>\n",
       "      <td>1</td>\n",
       "      <td>2016-01-01</td>\n",
       "      <td>2016</td>\n",
       "      <td>1</td>\n",
       "      <td>1</td>\n",
       "      <td>19</td>\n",
       "      <td>2016-01-01</td>\n",
       "      <td>2016</td>\n",
       "      <td>1</td>\n",
       "      <td>1</td>\n",
       "      <td>16</td>\n",
       "    </tr>\n",
       "    <tr>\n",
       "      <th>1</th>\n",
       "      <td>air_db4b38ebe7a7ceff</td>\n",
       "      <td>2016-01-01 19:00:00</td>\n",
       "      <td>2016-01-01 19:00:00</td>\n",
       "      <td>3</td>\n",
       "      <td>2016-01-01</td>\n",
       "      <td>2016</td>\n",
       "      <td>1</td>\n",
       "      <td>1</td>\n",
       "      <td>19</td>\n",
       "      <td>2016-01-01</td>\n",
       "      <td>2016</td>\n",
       "      <td>1</td>\n",
       "      <td>1</td>\n",
       "      <td>19</td>\n",
       "    </tr>\n",
       "    <tr>\n",
       "      <th>2</th>\n",
       "      <td>air_db4b38ebe7a7ceff</td>\n",
       "      <td>2016-01-01 19:00:00</td>\n",
       "      <td>2016-01-01 19:00:00</td>\n",
       "      <td>6</td>\n",
       "      <td>2016-01-01</td>\n",
       "      <td>2016</td>\n",
       "      <td>1</td>\n",
       "      <td>1</td>\n",
       "      <td>19</td>\n",
       "      <td>2016-01-01</td>\n",
       "      <td>2016</td>\n",
       "      <td>1</td>\n",
       "      <td>1</td>\n",
       "      <td>19</td>\n",
       "    </tr>\n",
       "  </tbody>\n",
       "</table>\n",
       "</div>"
      ],
      "text/plain": [
       "           air_store_id       visit_datetime     reserve_datetime  \\\n",
       "0  air_877f79706adbfb06  2016-01-01 19:00:00  2016-01-01 16:00:00   \n",
       "1  air_db4b38ebe7a7ceff  2016-01-01 19:00:00  2016-01-01 19:00:00   \n",
       "2  air_db4b38ebe7a7ceff  2016-01-01 19:00:00  2016-01-01 19:00:00   \n",
       "\n",
       "   reserve_visitors  visit_date  visit_year  visit_month  visit_day  \\\n",
       "0                 1  2016-01-01        2016            1          1   \n",
       "1                 3  2016-01-01        2016            1          1   \n",
       "2                 6  2016-01-01        2016            1          1   \n",
       "\n",
       "   visit_hour reserve_date  reserve_year  reserve_month  reserve_day  \\\n",
       "0          19   2016-01-01          2016              1            1   \n",
       "1          19   2016-01-01          2016              1            1   \n",
       "2          19   2016-01-01          2016              1            1   \n",
       "\n",
       "   reserve_hour  \n",
       "0            16  \n",
       "1            19  \n",
       "2            19  "
      ]
     },
     "execution_count": 29,
     "metadata": {},
     "output_type": "execute_result"
    }
   ],
   "source": [
    "air_reserve.head(3) "
   ]
  },
  {
   "cell_type": "markdown",
   "metadata": {},
   "source": [
    "### aggregate by visit_date"
   ]
  },
  {
   "cell_type": "code",
   "execution_count": 62,
   "metadata": {},
   "outputs": [],
   "source": [
    "keep_col1 = ['air_store_id', 'visit_date', 'visit_year', 'visit_month', 'visit_day']\n",
    "air_reserve_visit = air_reserve.groupby(keep_col1, as_index=False).sum()[keep_col1 + ['reserve_visitors']]"
   ]
  },
  {
   "cell_type": "code",
   "execution_count": 102,
   "metadata": {},
   "outputs": [],
   "source": [
    "a = air_reserve_visit.merge(date_info, left_on='visit_date', right_on='calendar_date')"
   ]
  },
  {
   "cell_type": "markdown",
   "metadata": {},
   "source": [
    "### append store info"
   ]
  },
  {
   "cell_type": "code",
   "execution_count": 87,
   "metadata": {},
   "outputs": [],
   "source": [
    "air_reserve = air_reserve.merge(air_store_info, how='left')"
   ]
  },
  {
   "cell_type": "markdown",
   "metadata": {},
   "source": [
    "### append weekday info"
   ]
  },
  {
   "cell_type": "code",
   "execution_count": 146,
   "metadata": {},
   "outputs": [],
   "source": [
    "air_reserve = air_reserve.merge(date_info, how='left', left_on='visit_date', right_on='calendar_date')"
   ]
  },
  {
   "cell_type": "code",
   "execution_count": 152,
   "metadata": {},
   "outputs": [],
   "source": [
    "air_reserve.drop(['visit_datetime', 'reserve_datetime', 'calendar_date'], axis=1, inplace=True)"
   ]
  },
  {
   "cell_type": "code",
   "execution_count": 153,
   "metadata": {},
   "outputs": [
    {
     "data": {
      "text/html": [
       "<div>\n",
       "<style>\n",
       "    .dataframe thead tr:only-child th {\n",
       "        text-align: right;\n",
       "    }\n",
       "\n",
       "    .dataframe thead th {\n",
       "        text-align: left;\n",
       "    }\n",
       "\n",
       "    .dataframe tbody tr th {\n",
       "        vertical-align: top;\n",
       "    }\n",
       "</style>\n",
       "<table border=\"1\" class=\"dataframe\">\n",
       "  <thead>\n",
       "    <tr style=\"text-align: right;\">\n",
       "      <th></th>\n",
       "      <th>air_store_id</th>\n",
       "      <th>reserve_visitors</th>\n",
       "      <th>visit_date</th>\n",
       "      <th>visit_year</th>\n",
       "      <th>visit_month</th>\n",
       "      <th>visit_day</th>\n",
       "      <th>visit_hour</th>\n",
       "      <th>reserve_date</th>\n",
       "      <th>reserve_year</th>\n",
       "      <th>reserve_month</th>\n",
       "      <th>reserve_day</th>\n",
       "      <th>reserve_hour</th>\n",
       "      <th>air_genre_name</th>\n",
       "      <th>air_area_name</th>\n",
       "      <th>latitude</th>\n",
       "      <th>longitude</th>\n",
       "      <th>day_of_week</th>\n",
       "      <th>holiday_flg</th>\n",
       "    </tr>\n",
       "  </thead>\n",
       "  <tbody>\n",
       "    <tr>\n",
       "      <th>0</th>\n",
       "      <td>air_877f79706adbfb06</td>\n",
       "      <td>1</td>\n",
       "      <td>2016-01-01</td>\n",
       "      <td>2016</td>\n",
       "      <td>1</td>\n",
       "      <td>1</td>\n",
       "      <td>19</td>\n",
       "      <td>2016-01-01</td>\n",
       "      <td>2016</td>\n",
       "      <td>1</td>\n",
       "      <td>1</td>\n",
       "      <td>16</td>\n",
       "      <td>Japanese food</td>\n",
       "      <td>Tōkyō-to Minato-ku Shibakōen</td>\n",
       "      <td>35.658068</td>\n",
       "      <td>139.751599</td>\n",
       "      <td>Friday</td>\n",
       "      <td>1</td>\n",
       "    </tr>\n",
       "    <tr>\n",
       "      <th>1</th>\n",
       "      <td>air_db4b38ebe7a7ceff</td>\n",
       "      <td>3</td>\n",
       "      <td>2016-01-01</td>\n",
       "      <td>2016</td>\n",
       "      <td>1</td>\n",
       "      <td>1</td>\n",
       "      <td>19</td>\n",
       "      <td>2016-01-01</td>\n",
       "      <td>2016</td>\n",
       "      <td>1</td>\n",
       "      <td>1</td>\n",
       "      <td>19</td>\n",
       "      <td>Dining bar</td>\n",
       "      <td>Ōsaka-fu Ōsaka-shi Shinmachi</td>\n",
       "      <td>34.676231</td>\n",
       "      <td>135.486059</td>\n",
       "      <td>Friday</td>\n",
       "      <td>1</td>\n",
       "    </tr>\n",
       "    <tr>\n",
       "      <th>2</th>\n",
       "      <td>air_db4b38ebe7a7ceff</td>\n",
       "      <td>6</td>\n",
       "      <td>2016-01-01</td>\n",
       "      <td>2016</td>\n",
       "      <td>1</td>\n",
       "      <td>1</td>\n",
       "      <td>19</td>\n",
       "      <td>2016-01-01</td>\n",
       "      <td>2016</td>\n",
       "      <td>1</td>\n",
       "      <td>1</td>\n",
       "      <td>19</td>\n",
       "      <td>Dining bar</td>\n",
       "      <td>Ōsaka-fu Ōsaka-shi Shinmachi</td>\n",
       "      <td>34.676231</td>\n",
       "      <td>135.486059</td>\n",
       "      <td>Friday</td>\n",
       "      <td>1</td>\n",
       "    </tr>\n",
       "  </tbody>\n",
       "</table>\n",
       "</div>"
      ],
      "text/plain": [
       "           air_store_id  reserve_visitors  visit_date  visit_year  \\\n",
       "0  air_877f79706adbfb06                 1  2016-01-01        2016   \n",
       "1  air_db4b38ebe7a7ceff                 3  2016-01-01        2016   \n",
       "2  air_db4b38ebe7a7ceff                 6  2016-01-01        2016   \n",
       "\n",
       "   visit_month  visit_day  visit_hour reserve_date  reserve_year  \\\n",
       "0            1          1          19   2016-01-01          2016   \n",
       "1            1          1          19   2016-01-01          2016   \n",
       "2            1          1          19   2016-01-01          2016   \n",
       "\n",
       "   reserve_month  reserve_day  reserve_hour air_genre_name  \\\n",
       "0              1            1            16  Japanese food   \n",
       "1              1            1            19     Dining bar   \n",
       "2              1            1            19     Dining bar   \n",
       "\n",
       "                  air_area_name   latitude   longitude day_of_week  \\\n",
       "0  Tōkyō-to Minato-ku Shibakōen  35.658068  139.751599      Friday   \n",
       "1  Ōsaka-fu Ōsaka-shi Shinmachi  34.676231  135.486059      Friday   \n",
       "2  Ōsaka-fu Ōsaka-shi Shinmachi  34.676231  135.486059      Friday   \n",
       "\n",
       "   holiday_flg  \n",
       "0            1  \n",
       "1            1  \n",
       "2            1  "
      ]
     },
     "execution_count": 153,
     "metadata": {},
     "output_type": "execute_result"
    }
   ],
   "source": [
    "air_reserve.head(3)"
   ]
  },
  {
   "cell_type": "markdown",
   "metadata": {},
   "source": [
    "### No missing data"
   ]
  },
  {
   "cell_type": "code",
   "execution_count": 154,
   "metadata": {},
   "outputs": [
    {
     "data": {
      "text/plain": [
       "air_store_id        0\n",
       "reserve_visitors    0\n",
       "visit_date          0\n",
       "visit_year          0\n",
       "visit_month         0\n",
       "visit_day           0\n",
       "visit_hour          0\n",
       "reserve_date        0\n",
       "reserve_year        0\n",
       "reserve_month       0\n",
       "reserve_day         0\n",
       "reserve_hour        0\n",
       "air_genre_name      0\n",
       "air_area_name       0\n",
       "latitude            0\n",
       "longitude           0\n",
       "day_of_week         0\n",
       "holiday_flg         0\n",
       "dtype: int64"
      ]
     },
     "execution_count": 154,
     "metadata": {},
     "output_type": "execute_result"
    }
   ],
   "source": [
    "air_reserve.isnull().sum(axis=0)"
   ]
  },
  {
   "cell_type": "markdown",
   "metadata": {},
   "source": [
    "### Create some counts as potential features"
   ]
  },
  {
   "cell_type": "code",
   "execution_count": 183,
   "metadata": {},
   "outputs": [],
   "source": [
    "air_mean_reserve = air_reserve.groupby('air_store_id', as_index=False).sum()[['air_store_id','reserve_visitors']]"
   ]
  },
  {
   "cell_type": "code",
   "execution_count": 184,
   "metadata": {},
   "outputs": [],
   "source": [
    "total_days = np.unique(air_reserve.visit_date).shape[0]"
   ]
  },
  {
   "cell_type": "code",
   "execution_count": 185,
   "metadata": {},
   "outputs": [],
   "source": [
    "air_mean_reserve['avg_daily_air_reserve_visitors'] = air_mean_reserve['reserve_visitors'] / total_days"
   ]
  },
  {
   "cell_type": "code",
   "execution_count": 187,
   "metadata": {},
   "outputs": [],
   "source": [
    "air_mean_reserve.drop('reserve_visitors', axis=1, inplace=True)"
   ]
  },
  {
   "cell_type": "code",
   "execution_count": 190,
   "metadata": {},
   "outputs": [],
   "source": [
    "air_mean_reserve_wkday = air_reserve.groupby(['air_store_id', 'day_of_week'], as_index=False).sum()[['air_store_id', 'day_of_week',\n",
    "                                                                                                    'reserve_visitors']]"
   ]
  },
  {
   "cell_type": "code",
   "execution_count": 225,
   "metadata": {},
   "outputs": [],
   "source": [
    "wkday = air_reserve[['visit_date', 'day_of_week']].drop_duplicates()"
   ]
  },
  {
   "cell_type": "code",
   "execution_count": 228,
   "metadata": {},
   "outputs": [],
   "source": [
    "wkday_cnt = wkday.day_of_week.value_counts()"
   ]
  },
  {
   "cell_type": "code",
   "execution_count": 231,
   "metadata": {},
   "outputs": [],
   "source": [
    "air_mean_reserve_wkday['avg_air_reserve_visitors_wkday'] = air_mean_reserve_wkday.apply(lambda r: r['reserve_visitors'] / \n",
    "                                                                                       wkday_cnt[r['day_of_week']], axis=1)"
   ]
  },
  {
   "cell_type": "code",
   "execution_count": 234,
   "metadata": {},
   "outputs": [],
   "source": [
    "DFS = {'air_reserve': air_reserve, 'air_mean_reserve': air_mean_reserve, 'air_mean_reserve_wkday': air_mean_reserve_wkday}\n",
    "\n",
    "pickle.dump(DFS, open(data_dir + '/DFS.p', 'wb'))"
   ]
  },
  {
   "cell_type": "code",
   "execution_count": null,
   "metadata": {},
   "outputs": [],
   "source": []
  }
 ],
 "metadata": {
  "kernelspec": {
   "display_name": "Python 3",
   "language": "python",
   "name": "python3"
  },
  "language_info": {
   "codemirror_mode": {
    "name": "ipython",
    "version": 3
   },
   "file_extension": ".py",
   "mimetype": "text/x-python",
   "name": "python",
   "nbconvert_exporter": "python",
   "pygments_lexer": "ipython3",
   "version": "3.6.1"
  }
 },
 "nbformat": 4,
 "nbformat_minor": 2
}
