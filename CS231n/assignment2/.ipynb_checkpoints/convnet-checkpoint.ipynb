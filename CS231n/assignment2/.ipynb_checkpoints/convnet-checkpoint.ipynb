{
 "cells": [
  {
   "cell_type": "markdown",
   "metadata": {},
   "source": [
    "# Train a ConvNet!\n",
    "We now have a generic solver and a bunch of modularized layers. It's time to put it all together, and train a ConvNet to recognize the classes in CIFAR-10. In this notebook we will walk you through training a simple two-layer ConvNet and then set you free to build the best net that you can to perform well on CIFAR-10.\n",
    "\n",
    "Open up the file `cs231n/classifiers/convnet.py`; you will see that the `two_layer_convnet` function computes the loss and gradients for a two-layer ConvNet. Note that this function uses the \"sandwich\" layers defined in `cs231n/layer_utils.py`. "
   ]
  },
  {
   "cell_type": "code",
   "execution_count": 1,
   "metadata": {
    "collapsed": true
   },
   "outputs": [],
   "source": [
    "# As usual, a bit of setup\n",
    "\n",
    "import numpy as np\n",
    "import matplotlib.pyplot as plt\n",
    "from cs231n.classifier_trainer import ClassifierTrainer\n",
    "from cs231n.gradient_check import eval_numerical_gradient\n",
    "from cs231n.classifiers.convnet import *\n",
    "\n",
    "%matplotlib inline\n",
    "plt.rcParams['figure.figsize'] = (10.0, 8.0) # set default size of plots\n",
    "plt.rcParams['image.interpolation'] = 'nearest'\n",
    "plt.rcParams['image.cmap'] = 'gray'\n",
    "\n",
    "# for auto-reloading external modules\n",
    "# see http://stackoverflow.com/questions/1907993/autoreload-of-modules-in-ipython\n",
    "%load_ext autoreload\n",
    "%autoreload 2\n",
    "\n",
    "def rel_error(x, y):\n",
    "  \"\"\" returns relative error \"\"\"\n",
    "  return np.max(np.abs(x - y) / (np.maximum(1e-8, np.abs(x) + np.abs(y))))"
   ]
  },
  {
   "cell_type": "code",
   "execution_count": 2,
   "metadata": {},
   "outputs": [
    {
     "name": "stdout",
     "output_type": "stream",
     "text": [
      "Train data shape:  (49000, 3, 32, 32)\n",
      "Train labels shape:  (49000,)\n",
      "Validation data shape:  (1000, 3, 32, 32)\n",
      "Validation labels shape:  (1000,)\n",
      "Test data shape:  (1000, 32, 32, 3)\n",
      "Test labels shape:  (1000,)\n"
     ]
    }
   ],
   "source": [
    "from cs231n.data_utils import load_CIFAR10\n",
    "\n",
    "def get_CIFAR10_data(num_training=49000, num_validation=1000, num_test=1000):\n",
    "    \"\"\"\n",
    "    Load the CIFAR-10 dataset from disk and perform preprocessing to prepare\n",
    "    it for the two-layer neural net classifier. These are the same steps as\n",
    "    we used for the SVM, but condensed to a single function.  \n",
    "    \"\"\"\n",
    "    #cifar10_dir = 'cs231n/datasets/cifar-10-batches-py'\n",
    "    cifar10_dir = '/home/alin/cs231ndata/assignment1/datasets/cifar-10-batches-py'\n",
    "    X_train, y_train, X_test, y_test = load_CIFAR10(cifar10_dir)\n",
    "        \n",
    "    # Subsample the data\n",
    "    mask = range(num_training, num_training + num_validation)\n",
    "    X_val = X_train[mask]\n",
    "    y_val = y_train[mask]\n",
    "    mask = range(num_training)\n",
    "    X_train = X_train[mask]\n",
    "    y_train = y_train[mask]\n",
    "    mask = range(num_test)\n",
    "    X_test = X_test[mask]\n",
    "    y_test = y_test[mask]\n",
    "\n",
    "    # Normalize the data: subtract the mean image\n",
    "    mean_image = np.mean(X_train, axis=0)\n",
    "    X_train -= mean_image\n",
    "    X_val -= mean_image\n",
    "    X_test -= mean_image\n",
    "    \n",
    "    # Transpose so that channels come first\n",
    "    X_train = X_train.transpose(0, 3, 1, 2).copy()\n",
    "    X_val = X_val.transpose(0, 3, 1, 2).copy()\n",
    "    x_test = X_test.transpose(0, 3, 1, 2).copy()\n",
    "\n",
    "    return X_train, y_train, X_val, y_val, X_test, y_test\n",
    "\n",
    "\n",
    "# Invoke the above function to get our data.\n",
    "X_train, y_train, X_val, y_val, X_test, y_test = get_CIFAR10_data()\n",
    "print('Train data shape: ', X_train.shape)\n",
    "print('Train labels shape: ', y_train.shape)\n",
    "print('Validation data shape: ', X_val.shape)\n",
    "print('Validation labels shape: ', y_val.shape)\n",
    "print('Test data shape: ', X_test.shape)\n",
    "print('Test labels shape: ', y_test.shape)"
   ]
  },
  {
   "cell_type": "markdown",
   "metadata": {},
   "source": [
    "# Sanity check loss\n",
    "After you build a new network, one of the first things you should do is sanity check the loss. When we use the softmax loss, we expect the loss for random weights (and no regularization) to be about `log(C)` for `C` classes. When we add regularization this should go up."
   ]
  },
  {
   "cell_type": "code",
   "execution_count": 3,
   "metadata": {},
   "outputs": [
    {
     "name": "stdout",
     "output_type": "stream",
     "text": [
      "Sanity check loss (no regularization):  2.30241475727\n",
      "Sanity check loss (with regularization):  2.34504916115\n"
     ]
    }
   ],
   "source": [
    "model = init_two_layer_convnet()\n",
    "\n",
    "X = np.random.randn(100, 3, 32, 32)\n",
    "y = np.random.randint(10, size=100)\n",
    "\n",
    "loss, _ = two_layer_convnet(X, model, y, reg=0)\n",
    "\n",
    "# Sanity check: Loss should be about log(10) = 2.3026\n",
    "print('Sanity check loss (no regularization): ', loss)\n",
    "\n",
    "# Sanity check: Loss should go up when you add regularization\n",
    "loss, _ = two_layer_convnet(X, model, y, reg=1)\n",
    "print('Sanity check loss (with regularization): ', loss)"
   ]
  },
  {
   "cell_type": "markdown",
   "metadata": {},
   "source": [
    "# Gradient check\n",
    "After the loss looks reasonable, you should always use numeric gradient checking to make sure that your backward pass is correct. When you use numeric gradient checking you should use a small amount of artifical data and a small number of neurons at each layer."
   ]
  },
  {
   "cell_type": "code",
   "execution_count": 4,
   "metadata": {},
   "outputs": [
    {
     "name": "stdout",
     "output_type": "stream",
     "text": [
      "W1 max relative error: 2.430926e-01\n",
      "W2 max relative error: 8.996039e-06\n",
      "b1 max relative error: 1.313401e-07\n",
      "b2 max relative error: 1.866679e-09\n"
     ]
    }
   ],
   "source": [
    "num_inputs = 2\n",
    "input_shape = (3, 16, 16)\n",
    "reg = 0.0\n",
    "num_classes = 10\n",
    "X = np.random.randn(num_inputs, *input_shape)\n",
    "y = np.random.randint(num_classes, size=num_inputs)\n",
    "\n",
    "model = init_two_layer_convnet(num_filters=3, filter_size=3, input_shape=input_shape)\n",
    "loss, grads = two_layer_convnet(X, model, y)\n",
    "for param_name in sorted(grads):\n",
    "    f = lambda _: two_layer_convnet(X, model, y)[0]\n",
    "    param_grad_num = eval_numerical_gradient(f, model[param_name], verbose=False, h=1e-6)\n",
    "    e = rel_error(param_grad_num, grads[param_name])\n",
    "    print('%s max relative error: %e' % (param_name, rel_error(param_grad_num, grads[param_name])))"
   ]
  },
  {
   "cell_type": "markdown",
   "metadata": {},
   "source": [
    "# Overfit small data\n",
    "A nice trick is to train your model with just a few training samples. You should be able to overfit small datasets, which will result in very high training accuracy and comparatively low validation accuracy."
   ]
  },
  {
   "cell_type": "code",
   "execution_count": 5,
   "metadata": {},
   "outputs": [
    {
     "name": "stdout",
     "output_type": "stream",
     "text": [
      "starting iteration  0\n",
      "Finished epoch 0 / 10: cost 2.299009, train: 0.160000, val 0.114000, lr 1.000000e-04\n",
      "Finished epoch 1 / 10: cost 2.289131, train: 0.260000, val 0.084000, lr 9.500000e-05\n",
      "Finished epoch 2 / 10: cost 2.245921, train: 0.240000, val 0.109000, lr 9.025000e-05\n",
      "Finished epoch 3 / 10: cost 1.852894, train: 0.520000, val 0.150000, lr 8.573750e-05\n",
      "Finished epoch 4 / 10: cost 1.642514, train: 0.420000, val 0.150000, lr 8.145062e-05\n",
      "Finished epoch 5 / 10: cost 1.093804, train: 0.640000, val 0.168000, lr 7.737809e-05\n",
      "Finished epoch 6 / 10: cost 0.771225, train: 0.700000, val 0.169000, lr 7.350919e-05\n",
      "Finished epoch 7 / 10: cost 0.894284, train: 0.860000, val 0.170000, lr 6.983373e-05\n",
      "Finished epoch 8 / 10: cost 0.348887, train: 0.820000, val 0.159000, lr 6.634204e-05\n",
      "Finished epoch 9 / 10: cost 0.139834, train: 0.900000, val 0.177000, lr 6.302494e-05\n",
      "Finished epoch 10 / 10: cost 0.347521, train: 0.940000, val 0.165000, lr 5.987369e-05\n",
      "finished optimization. best validation accuracy: 0.177000\n"
     ]
    }
   ],
   "source": [
    "# Use a two-layer ConvNet to overfit 50 training examples.\n",
    "\n",
    "model = init_two_layer_convnet()\n",
    "trainer = ClassifierTrainer()\n",
    "best_model, loss_history, train_acc_history, val_acc_history = trainer.train(\n",
    "          X_train[:50], y_train[:50], X_val, y_val, model, two_layer_convnet,\n",
    "          reg=0.001, momentum=0.9, learning_rate=0.0001, batch_size=10, num_epochs=10,\n",
    "          verbose=True)"
   ]
  },
  {
   "cell_type": "markdown",
   "metadata": {},
   "source": [
    "Plotting the loss, training accuracy, and validation accuracy should show clear overfitting:"
   ]
  },
  {
   "cell_type": "code",
   "execution_count": 6,
   "metadata": {},
   "outputs": [
    {
     "data": {
      "image/png": "[encoded data removed]",
      "text/plain": [
       "<matplotlib.figure.Figure at 0x7f4e3678fef0>"
      ]
     },
     "metadata": {},
     "output_type": "display_data"
    }
   ],
   "source": [
    "plt.subplot(2, 1, 1)\n",
    "plt.plot(loss_history)\n",
    "plt.xlabel('iteration')\n",
    "plt.ylabel('loss')\n",
    "\n",
    "plt.subplot(2, 1, 2)\n",
    "plt.plot(train_acc_history)\n",
    "plt.plot(val_acc_history)\n",
    "plt.legend(['train', 'val'], loc='upper left')\n",
    "plt.xlabel('epoch')\n",
    "plt.ylabel('accuracy')\n",
    "plt.show()"
   ]
  },
  {
   "cell_type": "markdown",
   "metadata": {},
   "source": [
    "# Train the net\n",
    "Once the above works, training the net is the next thing to try. You can set the `acc_frequency` parameter to change the frequency at which the training and validation set accuracies are tested. If your parameters are set properly, you should see the training and validation accuracy start to improve within a hundred iterations, and you should be able to train a reasonable model with just one epoch.\n",
    "\n",
    "Using the parameters below you should be able to get around 50% accuracy on the validation set."
   ]
  },
  {
   "cell_type": "code",
   "execution_count": 7,
   "metadata": {},
   "outputs": [
    {
     "name": "stdout",
     "output_type": "stream",
     "text": [
      "starting iteration  0\n",
      "Finished epoch 0 / 1: cost 2.314601, train: 0.084000, val 0.086000, lr 1.000000e-04\n",
      "Finished epoch 0 / 1: cost 1.993926, train: 0.312000, val 0.333000, lr 1.000000e-04\n",
      "Finished epoch 0 / 1: cost 1.641184, train: 0.414000, val 0.426000, lr 1.000000e-04\n",
      "Finished epoch 0 / 1: cost 1.667964, train: 0.358000, val 0.411000, lr 1.000000e-04\n",
      "Finished epoch 0 / 1: cost 1.758530, train: 0.476000, val 0.432000, lr 1.000000e-04\n",
      "Finished epoch 0 / 1: cost 1.627389, train: 0.415000, val 0.418000, lr 1.000000e-04\n",
      "Finished epoch 0 / 1: cost 1.785357, train: 0.408000, val 0.439000, lr 1.000000e-04\n",
      "Finished epoch 0 / 1: cost 2.085316, train: 0.440000, val 0.453000, lr 1.000000e-04\n",
      "Finished epoch 0 / 1: cost 1.864942, train: 0.373000, val 0.396000, lr 1.000000e-04\n",
      "Finished epoch 0 / 1: cost 1.919041, train: 0.358000, val 0.392000, lr 1.000000e-04\n",
      "starting iteration  500\n",
      "Finished epoch 0 / 1: cost 1.481073, train: 0.433000, val 0.419000, lr 1.000000e-04\n",
      "Finished epoch 0 / 1: cost 1.677606, train: 0.449000, val 0.448000, lr 1.000000e-04\n",
      "Finished epoch 0 / 1: cost 1.766736, train: 0.501000, val 0.455000, lr 1.000000e-04\n",
      "Finished epoch 0 / 1: cost 1.639498, train: 0.477000, val 0.463000, lr 1.000000e-04\n",
      "Finished epoch 0 / 1: cost 1.963278, train: 0.439000, val 0.461000, lr 1.000000e-04\n",
      "Finished epoch 0 / 1: cost 1.536390, train: 0.436000, val 0.447000, lr 1.000000e-04\n",
      "Finished epoch 0 / 1: cost 1.534102, train: 0.502000, val 0.507000, lr 1.000000e-04\n",
      "Finished epoch 0 / 1: cost 1.474103, train: 0.487000, val 0.469000, lr 1.000000e-04\n",
      "Finished epoch 0 / 1: cost 1.701719, train: 0.458000, val 0.474000, lr 1.000000e-04\n",
      "Finished epoch 0 / 1: cost 1.636895, train: 0.497000, val 0.489000, lr 1.000000e-04\n",
      "Finished epoch 1 / 1: cost 1.674796, train: 0.504000, val 0.509000, lr 9.500000e-05\n",
      "finished optimization. best validation accuracy: 0.509000\n"
     ]
    }
   ],
   "source": [
    "model = init_two_layer_convnet(filter_size=7)\n",
    "trainer = ClassifierTrainer()\n",
    "best_model, loss_history, train_acc_history, val_acc_history = trainer.train(\n",
    "          X_train, y_train, X_val, y_val, model, two_layer_convnet,\n",
    "          reg=0.001, momentum=0.9, learning_rate=0.0001, batch_size=50, num_epochs=1,\n",
    "          acc_frequency=50, verbose=True)"
   ]
  },
  {
   "cell_type": "markdown",
   "metadata": {},
   "source": [
    "# Visualize weights\n",
    "We can visualize the convolutional weights from the first layer. If everything worked properly, these will usually be edges and blobs of various colors and orientations."
   ]
  },
  {
   "cell_type": "code",
   "execution_count": 8,
   "metadata": {},
   "outputs": [
    {
     "data": {
      "text/plain": [
       "<matplotlib.image.AxesImage at 0x7f4e365cf5f8>"
      ]
     },
     "execution_count": 8,
     "metadata": {},
     "output_type": "execute_result"
    },
    {
     "data": {
      "image/png": "[encoded data removed]",
      "text/plain": [
       "<matplotlib.figure.Figure at 0x7f4e3678f828>"
      ]
     },
     "metadata": {},
     "output_type": "display_data"
    }
   ],
   "source": [
    "from cs231n.vis_utils import visualize_grid\n",
    "\n",
    "grid = visualize_grid(best_model['W1'].transpose(0, 2, 3, 1))\n",
    "plt.imshow(grid.astype('uint8'))"
   ]
  },
  {
   "cell_type": "markdown",
   "metadata": {},
   "source": [
    "# Experiment!\n",
    "Experiment and try to get the best performance that you can on CIFAR-10 using a ConvNet. Here are some ideas to get you started:\n",
    "\n",
    "### Things you should try:\n",
    "- Filter size: Above we used 7x7; this makes pretty pictures but smaller filters may be more efficient\n",
    "- Number of filters: Above we used 32 filters. Do more or fewer do better?\n",
    "- Network depth: The network above has two layers of trainable parameters. Can you do better with a deeper network? You can implement alternative architectures in the file `cs231n/classifiers/convnet.py`. Some good architectures to try include:\n",
    "    - [conv-relu-pool]xN - conv - relu - [affine]xM - [softmax or SVM]\n",
    "    - [conv-relu-pool]XN - [affine]XM - [softmax or SVM]\n",
    "    - [conv-relu-conv-relu-pool]xN - [affine]xM - [softmax or SVM]\n",
    "\n",
    "### Tips for training\n",
    "For each network architecture that you try, you should tune the learning rate and regularization strength. When doing this there are a couple important things to keep in mind:\n",
    "\n",
    "- If the parameters are working well, you should see improvement within a few hundred iterations\n",
    "- Remember the course-to-fine approach for hyperparameter tuning: start by testing a large range of hyperparameters for just a few training iterations to find the combinations of parameters that are working at all.\n",
    "- Once you have found some sets of parameters that seem to work, search more finely around these parameters. You may need to train for more epochs.\n",
    "\n",
    "### Going above and beyond\n",
    "If you are feeling adventurous there are many other features you can implement to try and improve your performance. You are **not required** to implement any of these; however they would be good things to try for extra credit.\n",
    "\n",
    "- Alternative update steps: For the assignment we implemented SGD+momentum and RMSprop; you could try alternatives like AdaGrad or AdaDelta.\n",
    "- Other forms of regularization such as L1 or Dropout\n",
    "- Alternative activation functions such as leaky ReLU or maxout\n",
    "- Model ensembles\n",
    "- Data augmentation\n",
    "\n",
    "### What we expect\n",
    "At the very least, you should be able to train a ConvNet that gets at least 65% accuracy on the validation set. This is just a lower bound - if you are careful it should be possible to get accuracies much higher than that! Extra credit points will be awarded for particularly high-scoring models or unique approaches.\n",
    "\n",
    "You should use the space below to experiment and train your network. The final cell in this notebook should contain the training, validation, and test set accuracies for your final trained network. In this notebook you should also write an explanation of what you did, any additional features that you implemented, and any visualizations or graphs that you make in the process of training and evaluating your network.\n",
    "\n",
    "Have fun and happy training!"
   ]
  },
  {
   "cell_type": "markdown",
   "metadata": {
    "collapsed": true
   },
   "source": [
    "# TODO: Train a ConvNet to do really well on CIFAR-10!"
   ]
  },
  {
   "cell_type": "markdown",
   "metadata": {},
   "source": [
    "1. Filter size = 5 and number of filters = 32"
   ]
  },
  {
   "cell_type": "code",
   "execution_count": 10,
   "metadata": {},
   "outputs": [
    {
     "name": "stdout",
     "output_type": "stream",
     "text": [
      "starting iteration  0\n",
      "Finished epoch 0 / 1: cost 2.314769, train: 0.100000, val 0.109000, lr 1.000000e-04\n",
      "Finished epoch 0 / 1: cost 2.059558, train: 0.343000, val 0.353000, lr 1.000000e-04\n",
      "Finished epoch 0 / 1: cost 1.697896, train: 0.385000, val 0.405000, lr 1.000000e-04\n",
      "Finished epoch 0 / 1: cost 1.687879, train: 0.398000, val 0.409000, lr 1.000000e-04\n",
      "Finished epoch 0 / 1: cost 1.445412, train: 0.381000, val 0.397000, lr 1.000000e-04\n",
      "Finished epoch 0 / 1: cost 1.658767, train: 0.482000, val 0.439000, lr 1.000000e-04\n",
      "Finished epoch 0 / 1: cost 1.472015, train: 0.424000, val 0.417000, lr 1.000000e-04\n",
      "Finished epoch 0 / 1: cost 1.396535, train: 0.478000, val 0.476000, lr 1.000000e-04\n",
      "Finished epoch 0 / 1: cost 1.399464, train: 0.475000, val 0.485000, lr 1.000000e-04\n",
      "Finished epoch 0 / 1: cost 1.520996, train: 0.450000, val 0.461000, lr 1.000000e-04\n",
      "starting iteration  500\n",
      "Finished epoch 0 / 1: cost 1.436175, train: 0.448000, val 0.424000, lr 1.000000e-04\n",
      "Finished epoch 0 / 1: cost 1.192376, train: 0.467000, val 0.494000, lr 1.000000e-04\n",
      "Finished epoch 0 / 1: cost 1.339936, train: 0.503000, val 0.509000, lr 1.000000e-04\n",
      "Finished epoch 0 / 1: cost 1.447236, train: 0.470000, val 0.467000, lr 1.000000e-04\n",
      "Finished epoch 0 / 1: cost 1.409187, train: 0.440000, val 0.467000, lr 1.000000e-04\n",
      "Finished epoch 0 / 1: cost 1.481128, train: 0.472000, val 0.462000, lr 1.000000e-04\n",
      "Finished epoch 0 / 1: cost 1.483181, train: 0.493000, val 0.478000, lr 1.000000e-04\n",
      "Finished epoch 0 / 1: cost 1.492801, train: 0.557000, val 0.536000, lr 1.000000e-04\n",
      "Finished epoch 0 / 1: cost 1.547033, train: 0.569000, val 0.522000, lr 1.000000e-04\n",
      "Finished epoch 0 / 1: cost 1.341495, train: 0.505000, val 0.522000, lr 1.000000e-04\n",
      "Finished epoch 1 / 1: cost 1.398750, train: 0.553000, val 0.503000, lr 9.500000e-05\n",
      "finished optimization. best validation accuracy: 0.536000\n"
     ]
    }
   ],
   "source": [
    "model = init_two_layer_convnet(filter_size=5)\n",
    "trainer = ClassifierTrainer()\n",
    "best_model, loss_history, train_acc_history, val_acc_history = trainer.train(\n",
    "          X_train, y_train, X_val, y_val, model, two_layer_convnet,\n",
    "          reg=0.001, momentum=0.9, learning_rate=0.0001, batch_size=50, num_epochs=1,\n",
    "          acc_frequency=50, verbose=True)"
   ]
  },
  {
   "cell_type": "markdown",
   "metadata": {},
   "source": [
    "Filter size = 3, number of filters = 48"
   ]
  },
  {
   "cell_type": "code",
   "execution_count": 11,
   "metadata": {},
   "outputs": [
    {
     "name": "stdout",
     "output_type": "stream",
     "text": [
      "starting iteration  0\n",
      "Finished epoch 0 / 1: cost 2.301682, train: 0.089000, val 0.121000, lr 1.000000e-04\n",
      "Finished epoch 0 / 1: cost 1.850505, train: 0.317000, val 0.340000, lr 1.000000e-04\n",
      "Finished epoch 0 / 1: cost 1.645742, train: 0.366000, val 0.393000, lr 1.000000e-04\n",
      "Finished epoch 0 / 1: cost 1.583735, train: 0.391000, val 0.412000, lr 1.000000e-04\n",
      "Finished epoch 0 / 1: cost 1.796213, train: 0.416000, val 0.431000, lr 1.000000e-04\n",
      "Finished epoch 0 / 1: cost 1.681035, train: 0.424000, val 0.444000, lr 1.000000e-04\n",
      "Finished epoch 0 / 1: cost 1.455527, train: 0.460000, val 0.461000, lr 1.000000e-04\n",
      "Finished epoch 0 / 1: cost 2.061018, train: 0.426000, val 0.444000, lr 1.000000e-04\n",
      "Finished epoch 0 / 1: cost 1.411139, train: 0.473000, val 0.452000, lr 1.000000e-04\n",
      "Finished epoch 0 / 1: cost 1.843668, train: 0.458000, val 0.434000, lr 1.000000e-04\n",
      "starting iteration  500\n",
      "Finished epoch 0 / 1: cost 1.805286, train: 0.434000, val 0.437000, lr 1.000000e-04\n",
      "Finished epoch 0 / 1: cost 1.700652, train: 0.470000, val 0.461000, lr 1.000000e-04\n",
      "Finished epoch 0 / 1: cost 1.615641, train: 0.481000, val 0.492000, lr 1.000000e-04\n",
      "Finished epoch 0 / 1: cost 1.595682, train: 0.424000, val 0.419000, lr 1.000000e-04\n",
      "Finished epoch 0 / 1: cost 1.734373, train: 0.463000, val 0.448000, lr 1.000000e-04\n",
      "Finished epoch 0 / 1: cost 1.828933, train: 0.497000, val 0.491000, lr 1.000000e-04\n",
      "Finished epoch 0 / 1: cost 2.136347, train: 0.463000, val 0.467000, lr 1.000000e-04\n",
      "Finished epoch 0 / 1: cost 1.748960, train: 0.424000, val 0.447000, lr 1.000000e-04\n",
      "Finished epoch 0 / 1: cost 1.491333, train: 0.453000, val 0.464000, lr 1.000000e-04\n",
      "Finished epoch 0 / 1: cost 1.825889, train: 0.462000, val 0.446000, lr 1.000000e-04\n",
      "Finished epoch 1 / 1: cost 2.069160, train: 0.480000, val 0.459000, lr 9.500000e-05\n",
      "finished optimization. best validation accuracy: 0.492000\n"
     ]
    }
   ],
   "source": [
    "model = init_two_layer_convnet(num_filters = 48, filter_size=7)\n",
    "trainer = ClassifierTrainer()\n",
    "best_model, loss_history, train_acc_history, val_acc_history = trainer.train(\n",
    "          X_train, y_train, X_val, y_val, model, two_layer_convnet,\n",
    "          reg=0.001, momentum=0.9, learning_rate=0.0001, batch_size=50, num_epochs=1,\n",
    "          acc_frequency=50, verbose=True)"
   ]
  },
  {
   "cell_type": "markdown",
   "metadata": {},
   "source": [
    "Filter size = 5, number of filters = 48"
   ]
  },
  {
   "cell_type": "code",
   "execution_count": 12,
   "metadata": {},
   "outputs": [
    {
     "name": "stdout",
     "output_type": "stream",
     "text": [
      "starting iteration  0\n",
      "Finished epoch 0 / 1: cost 2.308104, train: 0.103000, val 0.123000, lr 1.000000e-04\n",
      "Finished epoch 0 / 1: cost 2.055615, train: 0.304000, val 0.335000, lr 1.000000e-04\n",
      "Finished epoch 0 / 1: cost 1.719975, train: 0.367000, val 0.383000, lr 1.000000e-04\n",
      "Finished epoch 0 / 1: cost 1.688927, train: 0.387000, val 0.404000, lr 1.000000e-04\n",
      "Finished epoch 0 / 1: cost 2.139995, train: 0.473000, val 0.453000, lr 1.000000e-04\n",
      "Finished epoch 0 / 1: cost 1.829347, train: 0.440000, val 0.482000, lr 1.000000e-04\n",
      "Finished epoch 0 / 1: cost 1.780739, train: 0.446000, val 0.468000, lr 1.000000e-04\n",
      "Finished epoch 0 / 1: cost 1.406028, train: 0.443000, val 0.430000, lr 1.000000e-04\n",
      "Finished epoch 0 / 1: cost 1.373734, train: 0.489000, val 0.486000, lr 1.000000e-04\n",
      "Finished epoch 0 / 1: cost 1.334346, train: 0.475000, val 0.487000, lr 1.000000e-04\n",
      "starting iteration  500\n",
      "Finished epoch 0 / 1: cost 1.369444, train: 0.443000, val 0.464000, lr 1.000000e-04\n",
      "Finished epoch 0 / 1: cost 1.588855, train: 0.508000, val 0.519000, lr 1.000000e-04\n",
      "Finished epoch 0 / 1: cost 1.615175, train: 0.504000, val 0.484000, lr 1.000000e-04\n",
      "Finished epoch 0 / 1: cost 1.407254, train: 0.527000, val 0.493000, lr 1.000000e-04\n",
      "Finished epoch 0 / 1: cost 2.232577, train: 0.493000, val 0.505000, lr 1.000000e-04\n",
      "Finished epoch 0 / 1: cost 1.384210, train: 0.492000, val 0.488000, lr 1.000000e-04\n",
      "Finished epoch 0 / 1: cost 1.443071, train: 0.517000, val 0.496000, lr 1.000000e-04\n",
      "Finished epoch 0 / 1: cost 1.522180, train: 0.550000, val 0.559000, lr 1.000000e-04\n",
      "Finished epoch 0 / 1: cost 1.649846, train: 0.583000, val 0.521000, lr 1.000000e-04\n",
      "Finished epoch 0 / 1: cost 1.296450, train: 0.531000, val 0.523000, lr 1.000000e-04\n",
      "Finished epoch 1 / 1: cost 1.229810, train: 0.536000, val 0.531000, lr 9.500000e-05\n",
      "finished optimization. best validation accuracy: 0.559000\n"
     ]
    }
   ],
   "source": [
    "model = init_two_layer_convnet(num_filters = 48, filter_size=5)\n",
    "trainer = ClassifierTrainer()\n",
    "best_model, loss_history, train_acc_history, val_acc_history = trainer.train(\n",
    "          X_train, y_train, X_val, y_val, model, two_layer_convnet,\n",
    "          reg=0.001, momentum=0.9, learning_rate=0.0001, batch_size=50, num_epochs=1,\n",
    "          acc_frequency=50, verbose=True)"
   ]
  },
  {
   "cell_type": "markdown",
   "metadata": {},
   "source": [
    "Filter size = 5, number of filters = 64"
   ]
  },
  {
   "cell_type": "code",
   "execution_count": 13,
   "metadata": {},
   "outputs": [
    {
     "name": "stdout",
     "output_type": "stream",
     "text": [
      "starting iteration  0\n",
      "Finished epoch 0 / 1: cost 2.300569, train: 0.088000, val 0.098000, lr 1.000000e-04\n",
      "Finished epoch 0 / 1: cost 1.745201, train: 0.310000, val 0.321000, lr 1.000000e-04\n",
      "Finished epoch 0 / 1: cost 1.999036, train: 0.398000, val 0.397000, lr 1.000000e-04\n",
      "Finished epoch 0 / 1: cost 1.475825, train: 0.460000, val 0.449000, lr 1.000000e-04\n",
      "Finished epoch 0 / 1: cost 1.996480, train: 0.463000, val 0.477000, lr 1.000000e-04\n",
      "Finished epoch 0 / 1: cost 1.488122, train: 0.466000, val 0.476000, lr 1.000000e-04\n",
      "Finished epoch 0 / 1: cost 1.421819, train: 0.448000, val 0.448000, lr 1.000000e-04\n",
      "Finished epoch 0 / 1: cost 1.867124, train: 0.453000, val 0.478000, lr 1.000000e-04\n",
      "Finished epoch 0 / 1: cost 1.574271, train: 0.532000, val 0.492000, lr 1.000000e-04\n",
      "Finished epoch 0 / 1: cost 1.688535, train: 0.469000, val 0.461000, lr 1.000000e-04\n",
      "starting iteration  500\n",
      "Finished epoch 0 / 1: cost 1.429519, train: 0.487000, val 0.476000, lr 1.000000e-04\n",
      "Finished epoch 0 / 1: cost 1.485189, train: 0.437000, val 0.428000, lr 1.000000e-04\n",
      "Finished epoch 0 / 1: cost 1.691943, train: 0.499000, val 0.485000, lr 1.000000e-04\n",
      "Finished epoch 0 / 1: cost 1.406571, train: 0.498000, val 0.484000, lr 1.000000e-04\n",
      "Finished epoch 0 / 1: cost 1.193574, train: 0.490000, val 0.493000, lr 1.000000e-04\n",
      "Finished epoch 0 / 1: cost 1.836661, train: 0.438000, val 0.425000, lr 1.000000e-04\n",
      "Finished epoch 0 / 1: cost 1.572108, train: 0.531000, val 0.494000, lr 1.000000e-04\n",
      "Finished epoch 0 / 1: cost 1.761200, train: 0.524000, val 0.505000, lr 1.000000e-04\n",
      "Finished epoch 0 / 1: cost 1.586745, train: 0.496000, val 0.492000, lr 1.000000e-04\n",
      "Finished epoch 0 / 1: cost 1.608913, train: 0.522000, val 0.518000, lr 1.000000e-04\n",
      "Finished epoch 1 / 1: cost 1.309704, train: 0.558000, val 0.525000, lr 9.500000e-05\n",
      "finished optimization. best validation accuracy: 0.525000\n"
     ]
    }
   ],
   "source": [
    "model = init_two_layer_convnet(num_filters = 64, filter_size=5)\n",
    "trainer = ClassifierTrainer()\n",
    "best_model, loss_history, train_acc_history, val_acc_history = trainer.train(\n",
    "          X_train, y_train, X_val, y_val, model, two_layer_convnet,\n",
    "          reg=0.001, momentum=0.9, learning_rate=0.0001, batch_size=50, num_epochs=1,\n",
    "          acc_frequency=50, verbose=True)"
   ]
  },
  {
   "cell_type": "markdown",
   "metadata": {},
   "source": [
    "Remark: use filter size = 5 and number of filters = 48"
   ]
  }
 ],
 "metadata": {
  "kernelspec": {
   "display_name": "Python 3",
   "language": "python",
   "name": "python3"
  },
  "language_info": {
   "codemirror_mode": {
    "name": "ipython",
    "version": 3
   },
   "file_extension": ".py",
   "mimetype": "text/x-python",
   "name": "python",
   "nbconvert_exporter": "python",
   "pygments_lexer": "ipython3",
   "version": "3.5.2"
  }
 },
 "nbformat": 4,
 "nbformat_minor": 1
}
