{
 "cells": [
  {
   "cell_type": "markdown",
   "metadata": {},
   "source": [
    "### Explore how to build a spam detector"
   ]
  },
  {
   "cell_type": "code",
   "execution_count": 1,
   "metadata": {
    "collapsed": true
   },
   "outputs": [],
   "source": [
    "from __future__ import division, print_function, unicode_literals\n",
    "import numpy as np\n",
    "import pandas as pd\n",
    "import os\n",
    "\n",
    "np.random.seed(42)\n",
    "\n",
    "# To plot pretty figures\n",
    "%matplotlib inline\n",
    "import matplotlib\n",
    "import matplotlib.pyplot as plt\n",
    "plt.rcParams['axes.labelsize'] = 14\n",
    "plt.rcParams['xtick.labelsize'] = 12\n",
    "plt.rcParams['ytick.labelsize'] = 12\n"
   ]
  },
  {
   "cell_type": "markdown",
   "metadata": {},
   "source": [
    "## Load data"
   ]
  },
  {
   "cell_type": "code",
   "execution_count": 2,
   "metadata": {
    "collapsed": true
   },
   "outputs": [],
   "source": [
    "from sys import platform\n",
    "if platform == 'linux':\n",
    "    DATA_PATH = os.path.join(\"/home/alin/handson-ml/datasets\", \"spamham\")\n",
    "else:\n",
    "    DATA_PATH = os.path.join('C:/Users/alin/Documents/Kaggle/Titanic', 'Data')"
   ]
  },
  {
   "cell_type": "code",
   "execution_count": 3,
   "metadata": {
    "collapsed": true
   },
   "outputs": [],
   "source": [
    "%qtconsole"
   ]
  },
  {
   "cell_type": "code",
   "execution_count": 4,
   "metadata": {
    "collapsed": true
   },
   "outputs": [],
   "source": [
    "EASY_HAM_PATH = os.path.join(DATA_PATH, 'easy_ham')\n",
    "HARD_HAM_PATH = os.path.join(DATA_PATH, 'hard_ham')\n",
    "SPAM_PATH = os.path.join(DATA_PATH, 'spam')"
   ]
  },
  {
   "cell_type": "code",
   "execution_count": 5,
   "metadata": {
    "collapsed": true
   },
   "outputs": [],
   "source": [
    "def load_one_email(filepath):\n",
    "    with open(filepath, 'r', encoding='latin-1') as fpr:\n",
    "        return fpr.read()"
   ]
  },
  {
   "cell_type": "code",
   "execution_count": 6,
   "metadata": {
    "collapsed": true
   },
   "outputs": [],
   "source": [
    "spam_data = {'ID':[], 'Email':[], 'Label':[]}"
   ]
  },
  {
   "cell_type": "code",
   "execution_count": 7,
   "metadata": {
    "collapsed": true
   },
   "outputs": [],
   "source": [
    "for filename in  os.listdir(EASY_HAM_PATH):\n",
    "    spam_data['ID'].append(filename)\n",
    "    spam_data['Label'].append(0)\n",
    "    spam_data['Email'].append(load_one_email(os.path.join(EASY_HAM_PATH, filename)))\n",
    "   "
   ]
  },
  {
   "cell_type": "code",
   "execution_count": 8,
   "metadata": {
    "collapsed": true
   },
   "outputs": [],
   "source": [
    "for filename in  os.listdir(HARD_HAM_PATH):\n",
    "    spam_data['ID'].append(filename)\n",
    "    spam_data['Label'].append(0)\n",
    "    spam_data['Email'].append(load_one_email(os.path.join(HARD_HAM_PATH, filename)))"
   ]
  },
  {
   "cell_type": "code",
   "execution_count": 9,
   "metadata": {
    "collapsed": true
   },
   "outputs": [],
   "source": [
    "for filename in  os.listdir(SPAM_PATH):\n",
    "    spam_data['ID'].append(filename)\n",
    "    spam_data['Label'].append(1)\n",
    "    spam_data['Email'].append(load_one_email(os.path.join(SPAM_PATH, filename)))"
   ]
  },
  {
   "cell_type": "code",
   "execution_count": 10,
   "metadata": {
    "collapsed": true
   },
   "outputs": [],
   "source": [
    "spam_df = pd.DataFrame(spam_data)"
   ]
  },
  {
   "cell_type": "code",
   "execution_count": 11,
   "metadata": {
    "collapsed": true
   },
   "outputs": [],
   "source": [
    "X = spam_df['Email']\n",
    "y = spam_df['Label']"
   ]
  },
  {
   "cell_type": "code",
   "execution_count": 12,
   "metadata": {
    "collapsed": true
   },
   "outputs": [],
   "source": [
    "shuffle_index = np.random.permutation(y.shape[0])\n",
    "X, y = X[shuffle_index], y[shuffle_index]"
   ]
  },
  {
   "cell_type": "code",
   "execution_count": 13,
   "metadata": {
    "collapsed": true
   },
   "outputs": [],
   "source": [
    "from sklearn.model_selection import train_test_split\n",
    "X_train, X_test, y_train, y_test = train_test_split(X, y, test_size = 0.33, random_state=42)"
   ]
  },
  {
   "cell_type": "code",
   "execution_count": 14,
   "metadata": {
    "collapsed": true
   },
   "outputs": [],
   "source": [
    "from sklearn.feature_extraction.text import CountVectorizer"
   ]
  },
  {
   "cell_type": "code",
   "execution_count": 15,
   "metadata": {
    "collapsed": true
   },
   "outputs": [],
   "source": [
    "from sklearn.pipeline import Pipeline"
   ]
  },
  {
   "cell_type": "code",
   "execution_count": 16,
   "metadata": {
    "collapsed": true
   },
   "outputs": [],
   "source": [
    "import email"
   ]
  },
  {
   "cell_type": "code",
   "execution_count": 17,
   "metadata": {
    "collapsed": true
   },
   "outputs": [],
   "source": [
    "from sklearn.base import BaseEstimator, TransformerMixin"
   ]
  },
  {
   "cell_type": "code",
   "execution_count": 103,
   "metadata": {
    "collapsed": true
   },
   "outputs": [],
   "source": [
    "def remove_header(x):\n",
    "    payload = email.message_from_string(x).get_payload()\n",
    "    # if payload is not a string, set it to ''\n",
    "    clean_txt = payload if isinstance(payload, str) else ''\n",
    "    return clean_txt\n",
    "\n",
    "class HeaderRemover(BaseEstimator, TransformerMixin):\n",
    "    def __init__(self, header_remove=True):\n",
    "        self.header_remove = header_remove\n",
    "    def fit(self, X, y=None):\n",
    "        return self\n",
    "    def transform(self, X, y=None):\n",
    "        if self.header_remove:\n",
    "            return X.apply(remove_header)\n",
    "        else:\n",
    "            return X"
   ]
  },
  {
   "cell_type": "code",
   "execution_count": 155,
   "metadata": {
    "collapsed": true
   },
   "outputs": [],
   "source": [
    "class UrlCleaner(BaseEstimator, TransformerMixin):\n",
    "    def __init__(self, url_clean=True):\n",
    "        self.url_clean = url_clean\n",
    "    def fit(self, X, y=None):\n",
    "        return self\n",
    "    def transform(self, X, y=None):\n",
    "        if self.url_clean:\n",
    "            return X.str.replace('https?://\\S*', 'URL')\n",
    "        else:\n",
    "            return X"
   ]
  },
  {
   "cell_type": "code",
   "execution_count": null,
   "metadata": {
    "collapsed": true
   },
   "outputs": [],
   "source": [
    "class NumCleaner(BaseEstimator, TransformerMixin):\n",
    "    def __init__(self, num_clean=True):\n",
    "        self.num_clean = num_clean\n",
    "    def fit(self, X, y=None):\n",
    "        return self\n",
    "    def transform(self, X, y=None):\n",
    "        if self.num_clean:\n",
    "            return X.str.replace('\\d*\\.?', 'URL')\n",
    "        else:\n",
    "            return X"
   ]
  },
  {
   "cell_type": "code",
   "execution_count": 157,
   "metadata": {},
   "outputs": [],
   "source": [
    "def process_pipeline(header_remove=True, url_clean=True, lowercase=True, strip_accents = True,\n",
    "                     binary=True):\n",
    "    pipe_items = []\n",
    "    if strip_accents:\n",
    "        accents = 'unicode'\n",
    "    else:\n",
    "        accents = None\n",
    "    spam_pipeline = Pipeline([\n",
    "        ('header_remover', HeaderRemover(header_remove=header_remove)),\n",
    "        ('url_clean', UrlCleaner(url_clean=url_clean)),\n",
    "   #     ('vect', CountVectorizer(lowercase=lowercase, strip_accents=accents, binary=binary)),\n",
    "    \n",
    "    ])\n",
    "   \n",
    "    return spam_pipeline"
   ]
  },
  {
   "cell_type": "code",
   "execution_count": 158,
   "metadata": {},
   "outputs": [],
   "source": [
    "pline = process_pipeline()"
   ]
  },
  {
   "cell_type": "code",
   "execution_count": 159,
   "metadata": {},
   "outputs": [],
   "source": [
    "X_train1 = pline.fit_transform(X_train)"
   ]
  },
  {
   "cell_type": "code",
   "execution_count": 160,
   "metadata": {
    "collapsed": true
   },
   "outputs": [],
   "source": [
    "X_test1 = pline.transform(X_test)"
   ]
  },
  {
   "cell_type": "code",
   "execution_count": 22,
   "metadata": {
    "collapsed": true
   },
   "outputs": [],
   "source": [
    "vect = CountVectorizer(binary=False)\n",
    "X_train2 = vect.fit_transform(X_train)\n",
    "X_test2 = vect.transform(X_test)"
   ]
  },
  {
   "cell_type": "code",
   "execution_count": 63,
   "metadata": {
    "collapsed": true
   },
   "outputs": [],
   "source": [
    "from sklearn.pipeline import Pipeline"
   ]
  },
  {
   "cell_type": "code",
   "execution_count": 67,
   "metadata": {
    "collapsed": true
   },
   "outputs": [],
   "source": [
    "import email"
   ]
  },
  {
   "cell_type": "code",
   "execution_count": 69,
   "metadata": {
    "collapsed": true
   },
   "outputs": [],
   "source": [
    "b = email.message_from_string(a)"
   ]
  },
  {
   "cell_type": "code",
   "execution_count": 70,
   "metadata": {},
   "outputs": [
    {
     "name": "stdout",
     "output_type": "stream",
     "text": [
      "Return-Path: <spamassassin-talk-admin@example.sourceforge.net>\n",
      "Delivered-To: yyyy@localhost.netnoteinc.com\n",
      "Received: from localhost (localhost [127.0.0.1])\n",
      "\tby phobos.labs.netnoteinc.com (Postfix) with ESMTP id 67C3247C68\n",
      "\tfor <jm@localhost>; Thu, 22 Aug 2002 10:46:29 -0400 (EDT)\n",
      "Received: from phobos [127.0.0.1]\n",
      "\tby localhost with IMAP (fetchmail-5.9.0)\n",
      "\tfor jm@localhost (single-drop); Thu, 22 Aug 2002 15:46:29 +0100 (IST)\n",
      "Received: from usw-sf-list2.sourceforge.net (usw-sf-fw2.sourceforge.net\n",
      "    [216.136.171.252]) by dogma.slashnull.org (8.11.6/8.11.6) with ESMTP id\n",
      "    g7MEknZ10703 for <jm-sa@jmason.org>; Thu, 22 Aug 2002 15:46:49 +0100\n",
      "Received: from usw-sf-list1-b.sourceforge.net ([10.3.1.13]\n",
      "    helo=usw-sf-list1.sourceforge.net) by usw-sf-list2.sourceforge.net with\n",
      "    esmtp (Exim 3.31-VA-mm2 #1 (Debian)) id 17htDp-0003Z5-00; Thu,\n",
      "    22 Aug 2002 07:46:05 -0700\n",
      "Received: from neo.pittstate.edu ([198.248.208.13]) by\n",
      "    usw-sf-list1.sourceforge.net with esmtp (Exim 3.31-VA-mm2 #1 (Debian)) id\n",
      "    17htDE-0003e0-00 for <spamassassin-talk@lists.sourceforge.net>;\n",
      "    Thu, 22 Aug 2002 07:45:28 -0700\n",
      "Received: from [198.248.208.11] (macdaddy.pittstate.edu [198.248.208.11])\n",
      "    by neo.pittstate.edu (8.12.2/8.12.2) with ESMTP id g7MEisW7023315;\n",
      "    Thu, 22 Aug 2002 09:44:54 -0500\n",
      "MIME-Version: 1.0\n",
      "Message-Id: <p04310109b98aa91a16c0@[198.248.208.11]>\n",
      "In-Reply-To: <5.1.0.14.0.20020821203325.031d5d60@imap.greenberg.org>\n",
      "References: <5.1.0.14.0.20020821203325.031d5d60@imap.greenberg.org>\n",
      "To: Ed Greenberg <edg@greenberg.org>,\n",
      "\tspamassassin-talk@lists.sourceforge.net\n",
      "From: Justin Shore <listuser@neo.pittstate.edu>\n",
      "Subject: Re: [SAtalk] SA and Patented Ideas (was: SA In The News)\n",
      "Content-Type: text/plain; charset=\"us-ascii\" ; format=\"flowed\"\n",
      "Sender: spamassassin-talk-admin@example.sourceforge.net\n",
      "Errors-To: spamassassin-talk-admin@example.sourceforge.net\n",
      "X-Beenthere: spamassassin-talk@example.sourceforge.net\n",
      "X-Mailman-Version: 2.0.9-sf.net\n",
      "Precedence: bulk\n",
      "List-Help: <mailto:spamassassin-talk-request@example.sourceforge.net?subject=help>\n",
      "List-Post: <mailto:spamassassin-talk@example.sourceforge.net>\n",
      "List-Subscribe: <https://example.sourceforge.net/lists/listinfo/spamassassin-talk>,\n",
      "    <mailto:spamassassin-talk-request@lists.sourceforge.net?subject=subscribe>\n",
      "List-Id: Talk about SpamAssassin <spamassassin-talk.example.sourceforge.net>\n",
      "List-Unsubscribe: <https://example.sourceforge.net/lists/listinfo/spamassassin-talk>,\n",
      "    <mailto:spamassassin-talk-request@lists.sourceforge.net?subject=unsubscribe>\n",
      "List-Archive: <http://www.geocrawler.com/redir-sf.php3?list=spamassassin-talk>\n",
      "X-Original-Date: Thu, 22 Aug 2002 09:45:16 -0500\n",
      "Date: Thu, 22 Aug 2002 09:45:16 -0500\n",
      "X-Pyzor: Reported 0 times.\n",
      "X-Spam-Status: No, hits=-5.6 required=7.0\n",
      "\ttests=FOR_FREE,IN_REP_TO,KNOWN_MAILING_LIST,REFERENCES,\n",
      "\t      SIGNATURE_LONG_SPARSE,SPAM_PHRASE_02_03,SUBJECT_IS_NEWS\n",
      "\tversion=2.40-cvs\n",
      "X-Spam-Level: \n",
      "\n",
      "At 8:43 PM -0700 8/21/02, Ed Greenberg wrote:\n",
      ">At 11:19 PM 8/20/2002 -0700, dan@dankohn.com wrote:\n",
      ">\n",
      ">>The nature of our patent is about putting a warrant mark in RFC 2822\n",
      ">>X-headers (or in the body) to allow senders to warrant their mail as\n",
      ">>*not-spam*, and then to use copyright and trademark infringement to\n",
      ">>enable Habeas to enforce that warranty.\n",
      "\n",
      "Why is it that I envision Verisign doing something like this.  Yeah, \n",
      "like I want Verisign to sign all my spam, er, mail for me.  Pay them \n",
      "enough and they'd probably sign spam too. ;)\n",
      "\n",
      "J\n",
      "-- \n",
      "\n",
      "--\n",
      "Justin Shore, ES-SS ES-SSR                Pittsburg State University\n",
      "Network & Systems Manager                 http://www.pittstate.edu/ois/\n",
      "\n",
      "\n",
      "-------------------------------------------------------\n",
      "This sf.net email is sponsored by: OSDN - Tired of that same old\n",
      "cell phone?  Get a new here for FREE!\n",
      "https://www.inphonic.com/r.asp?r=sourceforge1&refcode1=vs3390\n",
      "_______________________________________________\n",
      "Spamassassin-talk mailing list\n",
      "Spamassassin-talk@lists.sourceforge.net\n",
      "https://lists.sourceforge.net/lists/listinfo/spamassassin-talk\n",
      "\n",
      "\n"
     ]
    }
   ],
   "source": [
    "print(b)"
   ]
  },
  {
   "cell_type": "code",
   "execution_count": null,
   "metadata": {
    "collapsed": true
   },
   "outputs": [],
   "source": []
  }
 ],
 "metadata": {
  "kernelspec": {
   "display_name": "Python 3",
   "language": "python",
   "name": "python3"
  },
  "language_info": {
   "codemirror_mode": {
    "name": "ipython",
    "version": 3
   },
   "file_extension": ".py",
   "mimetype": "text/x-python",
   "name": "python",
   "nbconvert_exporter": "python",
   "pygments_lexer": "ipython3",
   "version": "3.6.2"
  }
 },
 "nbformat": 4,
 "nbformat_minor": 2
}
