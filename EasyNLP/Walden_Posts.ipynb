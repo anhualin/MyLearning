{
 "cells": [
  {
   "cell_type": "code",
   "execution_count": 1,
   "metadata": {},
   "outputs": [],
   "source": [
    "import numpy as np\n",
    "import pandas as pd"
   ]
  },
  {
   "cell_type": "code",
   "execution_count": 11,
   "metadata": {},
   "outputs": [],
   "source": [
    "raw_txt = pd.read_csv(\"T:/RNA/Baltimore/Student Data Science/Hackathon/Oct2017/Task1/data_alin/bb_text.csv\", encoding=\"cp1252\" )"
   ]
  },
  {
   "cell_type": "code",
   "execution_count": 12,
   "metadata": {},
   "outputs": [
    {
     "data": {
      "text/html": [
       "<div>\n",
       "<style>\n",
       "    .dataframe thead tr:only-child th {\n",
       "        text-align: right;\n",
       "    }\n",
       "\n",
       "    .dataframe thead th {\n",
       "        text-align: left;\n",
       "    }\n",
       "\n",
       "    .dataframe tbody tr th {\n",
       "        vertical-align: top;\n",
       "    }\n",
       "</style>\n",
       "<table border=\"1\" class=\"dataframe\">\n",
       "  <thead>\n",
       "    <tr style=\"text-align: right;\">\n",
       "      <th></th>\n",
       "      <th>ID</th>\n",
       "      <th>GRADABLE_ITEM_POINTS_POSSIBLE</th>\n",
       "      <th>GRADABLE_ITEM_POINTS_RECEIVED</th>\n",
       "      <th>subject</th>\n",
       "      <th>msg_text</th>\n",
       "    </tr>\n",
       "  </thead>\n",
       "  <tbody>\n",
       "    <tr>\n",
       "      <th>0</th>\n",
       "      <td>A00191680</td>\n",
       "      <td>55</td>\n",
       "      <td>55.0</td>\n",
       "      <td>RE: Please introduce yourself</td>\n",
       "      <td>Hi Karief! So glad to meet you! I also have tw...</td>\n",
       "    </tr>\n",
       "    <tr>\n",
       "      <th>1</th>\n",
       "      <td>A00191680</td>\n",
       "      <td>55</td>\n",
       "      <td>55.0</td>\n",
       "      <td>RE: Discussion - Week 1</td>\n",
       "      <td>Wow, Kristen! I would prefer to speak about hu...</td>\n",
       "    </tr>\n",
       "    <tr>\n",
       "      <th>2</th>\n",
       "      <td>A00191680</td>\n",
       "      <td>55</td>\n",
       "      <td>55.0</td>\n",
       "      <td>RE: Please introduce yourself</td>\n",
       "      <td>Hello Mirela, So nice to meet you! I actually ...</td>\n",
       "    </tr>\n",
       "    <tr>\n",
       "      <th>3</th>\n",
       "      <td>A00191680</td>\n",
       "      <td>55</td>\n",
       "      <td>55.0</td>\n",
       "      <td>RE: Discussion - Week 1</td>\n",
       "      <td>Hello Teresa, I like your point about being ab...</td>\n",
       "    </tr>\n",
       "    <tr>\n",
       "      <th>4</th>\n",
       "      <td>A00191680</td>\n",
       "      <td>55</td>\n",
       "      <td>55.0</td>\n",
       "      <td>RE: Discussion - Week 1</td>\n",
       "      <td>Hello Amanda, Your post brought out a valid po...</td>\n",
       "    </tr>\n",
       "  </tbody>\n",
       "</table>\n",
       "</div>"
      ],
      "text/plain": [
       "          ID  GRADABLE_ITEM_POINTS_POSSIBLE  GRADABLE_ITEM_POINTS_RECEIVED  \\\n",
       "0  A00191680                             55                           55.0   \n",
       "1  A00191680                             55                           55.0   \n",
       "2  A00191680                             55                           55.0   \n",
       "3  A00191680                             55                           55.0   \n",
       "4  A00191680                             55                           55.0   \n",
       "\n",
       "                         subject  \\\n",
       "0  RE: Please introduce yourself   \n",
       "1        RE: Discussion - Week 1   \n",
       "2  RE: Please introduce yourself   \n",
       "3        RE: Discussion - Week 1   \n",
       "4        RE: Discussion - Week 1   \n",
       "\n",
       "                                            msg_text  \n",
       "0  Hi Karief! So glad to meet you! I also have tw...  \n",
       "1  Wow, Kristen! I would prefer to speak about hu...  \n",
       "2  Hello Mirela, So nice to meet you! I actually ...  \n",
       "3  Hello Teresa, I like your point about being ab...  \n",
       "4  Hello Amanda, Your post brought out a valid po...  "
      ]
     },
     "execution_count": 12,
     "metadata": {},
     "output_type": "execute_result"
    }
   ],
   "source": [
    "raw_txt.head()"
   ]
  },
  {
   "cell_type": "code",
   "execution_count": 6,
   "metadata": {},
   "outputs": [],
   "source": [
    "%qtconsole"
   ]
  },
  {
   "cell_type": "code",
   "execution_count": null,
   "metadata": {},
   "outputs": [],
   "source": []
  }
 ],
 "metadata": {
  "kernelspec": {
   "display_name": "Python 3",
   "language": "python",
   "name": "python3"
  },
  "language_info": {
   "codemirror_mode": {
    "name": "ipython",
    "version": 3
   },
   "file_extension": ".py",
   "mimetype": "text/x-python",
   "name": "python",
   "nbconvert_exporter": "python",
   "pygments_lexer": "ipython3",
   "version": "3.6.1"
  }
 },
 "nbformat": 4,
 "nbformat_minor": 2
}
