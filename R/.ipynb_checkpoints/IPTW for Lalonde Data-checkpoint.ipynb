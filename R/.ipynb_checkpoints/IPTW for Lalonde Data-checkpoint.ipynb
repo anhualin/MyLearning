{
 "cells": [
  {
   "cell_type": "code",
   "execution_count": 2,
   "metadata": {},
   "outputs": [
    {
     "name": "stderr",
     "output_type": "stream",
     "text": [
      "Warning message:\n",
      "\"package 'tableone' was built under R version 3.3.3\"Warning message:\n",
      "\"package 'Matching' was built under R version 3.3.3\"Loading required package: MASS\n",
      "## \n",
      "##  Matching (Version 4.9-2, Build Date: 2015-12-25)\n",
      "##  See http://sekhon.berkeley.edu/matching for additional documentation.\n",
      "##  Please cite software as:\n",
      "##   Jasjeet S. Sekhon. 2011. ``Multivariate and Propensity Score Matching\n",
      "##   Software with Automated Balance Optimization: The Matching package for R.''\n",
      "##   Journal of Statistical Software, 42(7): 1-52. \n",
      "##\n",
      "\n",
      "Warning message:\n",
      "\"package 'MatchIt' was built under R version 3.3.3\"Warning message:\n",
      "\"package 'ipw' was built under R version 3.3.3\"Warning message:\n",
      "\"package 'survey' was built under R version 3.3.3\"Loading required package: grid\n",
      "Loading required package: Matrix\n",
      "Loading required package: survival\n",
      "Warning message:\n",
      "\"package 'survival' was built under R version 3.3.3\"\n",
      "Attaching package: 'survey'\n",
      "\n",
      "The following object is masked from 'package:graphics':\n",
      "\n",
      "    dotchart\n",
      "\n"
     ]
    }
   ],
   "source": [
    "library(tableone)\n",
    "library(Matching)\n",
    "library(MatchIt)\n",
    "library(ipw)\n",
    "library(survey)\n",
    "data(lalonde)"
   ]
  },
  {
   "cell_type": "markdown",
   "metadata": {},
   "source": [
    "Fit a propensity score model. Use a logistic regression model, where the outcome is treatment. Include the 8 confounding variables in the model as predictors, with no interaction terms or non-linear terms (such as squared terms). Obtain the propensity score for each subject. Next, obtain the inverse probability of treatment weights for each subject."
   ]
  },
  {
   "cell_type": "code",
   "execution_count": 12,
   "metadata": {},
   "outputs": [],
   "source": [
    "xvars <- c('age', 'educ', 'black', 'hispan', 'married', 'nodegree', 're74', 're75')"
   ]
  },
  {
   "cell_type": "code",
   "execution_count": 3,
   "metadata": {},
   "outputs": [],
   "source": [
    "psmodel <- glm(treat ~ age + educ + black + hispan + married + nodegree + re74 + re75, family = binomial(), data = lalonde)\n",
    "pscore <- psmodel$fitted.values\n",
    "\n"
   ]
  },
  {
   "cell_type": "code",
   "execution_count": 8,
   "metadata": {},
   "outputs": [],
   "source": [
    "# different method, same result\n",
    "#psmodel1 <- glm(treat ~ age + educ + black + hispan + married + nodegree + re74 + re75, family = binomial(link='logit'), data = lalonde)\n",
    "#pscore1 <- predict(psmodel1, type = 'response')"
   ]
  },
  {
   "cell_type": "code",
   "execution_count": 9,
   "metadata": {},
   "outputs": [],
   "source": [
    "weight <- ifelse(lalonde$treat == 1, 1/pscore, 1/(1-pscore))"
   ]
  },
  {
   "cell_type": "markdown",
   "metadata": {},
   "source": [
    "$1$. What are the minimum and maximum weights?\n",
    "\n"
   ]
  },
  {
   "cell_type": "code",
   "execution_count": 10,
   "metadata": {},
   "outputs": [
    {
     "data": {
      "text/plain": [
       "   Min. 1st Qu.  Median    Mean 3rd Qu.    Max. \n",
       "  1.009   1.052   1.170   1.905   1.623  40.080 "
      ]
     },
     "metadata": {},
     "output_type": "display_data"
    }
   ],
   "source": [
    "summary(weight)"
   ]
  },
  {
   "cell_type": "markdown",
   "metadata": {},
   "source": [
    "$2$. Find the standardized differences for each confounder on the weighted (pseudo) population. What is the standardized difference for nodegree?"
   ]
  },
  {
   "cell_type": "code",
   "execution_count": 11,
   "metadata": {},
   "outputs": [],
   "source": [
    "weighteddata <- svydesign(ids = ~ 1, data = lalonde, weights = ~weight)"
   ]
  },
  {
   "cell_type": "code",
   "execution_count": 15,
   "metadata": {},
   "outputs": [],
   "source": [
    "weightedtable <- svyCreateTableOne(vars = xvars, strata = 'treat', data = weighteddata, test = FALSE )"
   ]
  },
  {
   "cell_type": "code",
   "execution_count": 16,
   "metadata": {},
   "outputs": [
    {
     "name": "stdout",
     "output_type": "stream",
     "text": [
      "                      Stratified by treat\n",
      "                       0                 1                 SMD   \n",
      "  n                     616.00            553.63                 \n",
      "  age (mean (sd))        27.10 (10.80)     25.57 (6.53)     0.172\n",
      "  educ (mean (sd))       10.29 (2.74)      10.61 (2.05)     0.132\n",
      "  black (mean (sd))       0.40 (0.49)       0.45 (0.50)     0.101\n",
      "  hispan (mean (sd))      0.12 (0.32)       0.12 (0.33)     0.014\n",
      "  married (mean (sd))     0.41 (0.49)       0.31 (0.47)     0.197\n",
      "  nodegree (mean (sd))    0.62 (0.48)       0.57 (0.50)     0.112\n",
      "  re74 (mean (sd))     4552.74 (6337.09) 2932.18 (5709.42)  0.269\n",
      "  re75 (mean (sd))     2172.04 (3160.14) 1658.07 (3072.89)  0.165\n"
     ]
    }
   ],
   "source": [
    "print(weightedtable, smd =  TRUE)"
   ]
  },
  {
   "cell_type": "markdown",
   "metadata": {},
   "source": [
    "$3$. Using IPTW, find the estimate and 95% confidence interval for the average causal effect. This can be obtained from svyglm"
   ]
  },
  {
   "cell_type": "code",
   "execution_count": 20,
   "metadata": {},
   "outputs": [],
   "source": [
    "msm <- (svyglm(re78 ~ treat, design = svydesign(~ 1, weights = ~weight, data = lalonde  )))"
   ]
  },
  {
   "cell_type": "code",
   "execution_count": 21,
   "metadata": {},
   "outputs": [
    {
     "data": {
      "text/html": [
       "<dl class=dl-horizontal>\n",
       "\t<dt>(Intercept)</dt>\n",
       "\t\t<dd>6422.83896163939</dd>\n",
       "\t<dt>treat</dt>\n",
       "\t\t<dd>224.676308271438</dd>\n",
       "</dl>\n"
      ],
      "text/latex": [
       "\\begin{description*}\n",
       "\\item[(Intercept)] 6422.83896163939\n",
       "\\item[treat] 224.676308271438\n",
       "\\end{description*}\n"
      ],
      "text/markdown": [
       "(Intercept)\n",
       ":   6422.83896163939treat\n",
       ":   224.676308271438\n",
       "\n"
      ],
      "text/plain": [
       "(Intercept)       treat \n",
       "  6422.8390    224.6763 "
      ]
     },
     "metadata": {},
     "output_type": "display_data"
    }
   ],
   "source": [
    "coef(msm)"
   ]
  },
  {
   "cell_type": "code",
   "execution_count": 22,
   "metadata": {},
   "outputs": [
    {
     "data": {
      "text/html": [
       "<table>\n",
       "<thead><tr><th></th><th scope=col>2.5 %</th><th scope=col>97.5 %</th></tr></thead>\n",
       "<tbody>\n",
       "\t<tr><th scope=row>(Intercept)</th><td> 5706.948</td><td>7138.730 </td></tr>\n",
       "\t<tr><th scope=row>treat</th><td>-1559.321</td><td>2008.673 </td></tr>\n",
       "</tbody>\n",
       "</table>\n"
      ],
      "text/latex": [
       "\\begin{tabular}{r|ll}\n",
       "  & 2.5 \\% & 97.5 \\%\\\\\n",
       "\\hline\n",
       "\t(Intercept) &  5706.948 & 7138.730 \\\\\n",
       "\ttreat & -1559.321 & 2008.673 \\\\\n",
       "\\end{tabular}\n"
      ],
      "text/markdown": [
       "\n",
       "| <!--/--> | 2.5 % | 97.5 % | \n",
       "|---|---|\n",
       "| (Intercept) |  5706.948 | 7138.730  | \n",
       "| treat | -1559.321 | 2008.673  | \n",
       "\n",
       "\n"
      ],
      "text/plain": [
       "            2.5 %     97.5 %  \n",
       "(Intercept)  5706.948 7138.730\n",
       "treat       -1559.321 2008.673"
      ]
     },
     "metadata": {},
     "output_type": "display_data"
    }
   ],
   "source": [
    "confint(msm)"
   ]
  },
  {
   "cell_type": "markdown",
   "metadata": {},
   "source": [
    "$4$. Now truncate the weights at the 1st and 99th percentiles. This can be done with the trunc=0.01 option in svyglm"
   ]
  },
  {
   "cell_type": "markdown",
   "metadata": {},
   "source": [
    "Using IPTW with the truncated weights, find the estimate and 95% confidence interval for the average causal effect"
   ]
  },
  {
   "cell_type": "code",
   "execution_count": null,
   "metadata": {},
   "outputs": [],
   "source": [
    "weight_trunc <- replace()"
   ]
  },
  {
   "cell_type": "code",
   "execution_count": 24,
   "metadata": {},
   "outputs": [],
   "source": [
    "msm <- (svyglm(re78 ~ treat, design = svydesign(~ 1, weights = ~weight, data = lalonde, trunc=0.01), \n",
    "              ))"
   ]
  },
  {
   "cell_type": "code",
   "execution_count": 25,
   "metadata": {},
   "outputs": [
    {
     "data": {
      "text/html": [
       "<dl class=dl-horizontal>\n",
       "\t<dt>(Intercept)</dt>\n",
       "\t\t<dd>6422.83896163939</dd>\n",
       "\t<dt>treat</dt>\n",
       "\t\t<dd>224.676308271438</dd>\n",
       "</dl>\n"
      ],
      "text/latex": [
       "\\begin{description*}\n",
       "\\item[(Intercept)] 6422.83896163939\n",
       "\\item[treat] 224.676308271438\n",
       "\\end{description*}\n"
      ],
      "text/markdown": [
       "(Intercept)\n",
       ":   6422.83896163939treat\n",
       ":   224.676308271438\n",
       "\n"
      ],
      "text/plain": [
       "(Intercept)       treat \n",
       "  6422.8390    224.6763 "
      ]
     },
     "metadata": {},
     "output_type": "display_data"
    }
   ],
   "source": [
    "coef(msm)"
   ]
  },
  {
   "cell_type": "code",
   "execution_count": null,
   "metadata": {},
   "outputs": [],
   "source": []
  }
 ],
 "metadata": {
  "kernelspec": {
   "display_name": "R",
   "language": "R",
   "name": "ir"
  },
  "language_info": {
   "codemirror_mode": "r",
   "file_extension": ".r",
   "mimetype": "text/x-r-source",
   "name": "R",
   "pygments_lexer": "r",
   "version": "3.3.2"
  }
 },
 "nbformat": 4,
 "nbformat_minor": 2
}
