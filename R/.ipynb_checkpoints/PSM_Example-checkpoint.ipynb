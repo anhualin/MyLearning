{
 "cells": [
  {
   "cell_type": "code",
   "execution_count": 1,
   "metadata": {},
   "outputs": [
    {
     "name": "stderr",
     "output_type": "stream",
     "text": [
      "Warning message:\n",
      "\"package 'MatchIt' was built under R version 3.3.3\"Warning message:\n",
      "\"package 'dplyr' was built under R version 3.3.3\"\n",
      "Attaching package: 'dplyr'\n",
      "\n",
      "The following objects are masked from 'package:stats':\n",
      "\n",
      "    filter, lag\n",
      "\n",
      "The following objects are masked from 'package:base':\n",
      "\n",
      "    intersect, setdiff, setequal, union\n",
      "\n",
      "Warning message:\n",
      "\"package 'ggplot2' was built under R version 3.3.3\""
     ]
    }
   ],
   "source": [
    "library(MatchIt)\n",
    "library(dplyr)\n",
    "library(ggplot2)\n",
    "\n",
    "setwd('C:/Users/alin/Documents/Data/R_PSM')\n",
    "ecls <- read.csv(\"ecls.csv\")"
   ]
  },
  {
   "cell_type": "markdown",
   "metadata": {},
   "source": [
    "## 1 Pre-analysis using non-matched data\n",
    "### 1.1 Difference-in-means: outcome variable\n",
    "\n",
    "Here is some basic information about public and catholic school students in terms of math achievement. Note that we’re using students’ standardized math score (c5r2mtsc_std) – with a mean of 0 and standard deviation of 1 – as the outcome variable of interest. The independent variable of interest is catholic (1 = student went to catholic school; 0 = student went to public school)."
   ]
  },
  {
   "cell_type": "code",
   "execution_count": 2,
   "metadata": {},
   "outputs": [
    {
     "name": "stderr",
     "output_type": "stream",
     "text": [
      "Warning message:\n",
      "\"package 'bindrcpp' was built under R version 3.3.3\""
     ]
    },
    {
     "data": {
      "text/html": [
       "<table>\n",
       "<thead><tr><th scope=col>catholic</th><th scope=col>n_students</th><th scope=col>mean_math</th><th scope=col>std_error</th></tr></thead>\n",
       "<tbody>\n",
       "\t<tr><td>0          </td><td>9568       </td><td>-0.03059583</td><td>0.01038536 </td></tr>\n",
       "\t<tr><td>1          </td><td>1510       </td><td> 0.19386817</td><td>0.02235282 </td></tr>\n",
       "</tbody>\n",
       "</table>\n"
      ],
      "text/latex": [
       "\\begin{tabular}{r|llll}\n",
       " catholic & n\\_students & mean\\_math & std\\_error\\\\\n",
       "\\hline\n",
       "\t 0           & 9568        & -0.03059583 & 0.01038536 \\\\\n",
       "\t 1           & 1510        &  0.19386817 & 0.02235282 \\\\\n",
       "\\end{tabular}\n"
      ],
      "text/markdown": [
       "\n",
       "catholic | n_students | mean_math | std_error | \n",
       "|---|---|\n",
       "| 0           | 9568        | -0.03059583 | 0.01038536  | \n",
       "| 1           | 1510        |  0.19386817 | 0.02235282  | \n",
       "\n",
       "\n"
      ],
      "text/plain": [
       "  catholic n_students mean_math   std_error \n",
       "1 0        9568       -0.03059583 0.01038536\n",
       "2 1        1510        0.19386817 0.02235282"
      ]
     },
     "metadata": {},
     "output_type": "display_data"
    }
   ],
   "source": [
    "ecls %>%\n",
    "  group_by(catholic) %>%\n",
    "  summarise(n_students = n(),\n",
    "            mean_math = mean(c5r2mtsc_std),\n",
    "            std_error = sd(c5r2mtsc_std) / sqrt(n_students))"
   ]
  },
  {
   "cell_type": "markdown",
   "metadata": {},
   "source": [
    "The difference-in-means is statistically significant at conventional levels of confidence (as is also evident from the small standard error above):"
   ]
  },
  {
   "cell_type": "code",
   "execution_count": 3,
   "metadata": {},
   "outputs": [
    {
     "data": {
      "text/plain": [
       "\n",
       "\tWelch Two Sample t-test\n",
       "\n",
       "data:  c5r2mtsc_std by catholic\n",
       "t = -9.1069, df = 2214.5, p-value < 2.2e-16\n",
       "alternative hypothesis: true difference in means is not equal to 0\n",
       "95 percent confidence interval:\n",
       " -0.2727988 -0.1761292\n",
       "sample estimates:\n",
       "mean in group 0 mean in group 1 \n",
       "    -0.03059583      0.19386817 \n"
      ]
     },
     "metadata": {},
     "output_type": "display_data"
    }
   ],
   "source": [
    "with(ecls, t.test(c5r2mtsc_std ~ catholic))"
   ]
  },
  {
   "cell_type": "markdown",
   "metadata": {},
   "source": [
    "### 1.2 Difference-in-means: pre-treatment covariates\n",
    "We’ll work with the following covariates for now:\n",
    "\n",
    "- race_white: Is the student white (1) or not (0)?\n",
    "- p5hmage: Mother’s age\n",
    "- w3income: Family income\n",
    "- p5numpla: Number of places the student has lived for at least 4 months\n",
    "- w3momed_hsb: Is the mother’s education level high-school or below (1) or some college or more (0)?\n",
    "\n",
    "Let’s calculate the mean for each covariate by the treatment status:"
   ]
  },
  {
   "cell_type": "code",
   "execution_count": 4,
   "metadata": {},
   "outputs": [
    {
     "name": "stderr",
     "output_type": "stream",
     "text": [
      "Adding missing grouping variables: `catholic`\n"
     ]
    },
    {
     "data": {
      "text/html": [
       "<table>\n",
       "<thead><tr><th scope=col>catholic</th><th scope=col>race_white</th><th scope=col>p5hmage</th><th scope=col>w3income</th><th scope=col>p5numpla</th><th scope=col>w3momed_hsb</th></tr></thead>\n",
       "<tbody>\n",
       "\t<tr><td>0        </td><td>0.5561246</td><td>37.56097 </td><td>54889.16 </td><td>1.132669 </td><td>0.4640918</td></tr>\n",
       "\t<tr><td>1        </td><td>0.7251656</td><td>39.57516 </td><td>82074.30 </td><td>1.092701 </td><td>0.2272069</td></tr>\n",
       "</tbody>\n",
       "</table>\n"
      ],
      "text/latex": [
       "\\begin{tabular}{r|llllll}\n",
       " catholic & race\\_white & p5hmage & w3income & p5numpla & w3momed\\_hsb\\\\\n",
       "\\hline\n",
       "\t 0         & 0.5561246 & 37.56097  & 54889.16  & 1.132669  & 0.4640918\\\\\n",
       "\t 1         & 0.7251656 & 39.57516  & 82074.30  & 1.092701  & 0.2272069\\\\\n",
       "\\end{tabular}\n"
      ],
      "text/markdown": [
       "\n",
       "catholic | race_white | p5hmage | w3income | p5numpla | w3momed_hsb | \n",
       "|---|---|\n",
       "| 0         | 0.5561246 | 37.56097  | 54889.16  | 1.132669  | 0.4640918 | \n",
       "| 1         | 0.7251656 | 39.57516  | 82074.30  | 1.092701  | 0.2272069 | \n",
       "\n",
       "\n"
      ],
      "text/plain": [
       "  catholic race_white p5hmage  w3income p5numpla w3momed_hsb\n",
       "1 0        0.5561246  37.56097 54889.16 1.132669 0.4640918  \n",
       "2 1        0.7251656  39.57516 82074.30 1.092701 0.2272069  "
      ]
     },
     "metadata": {},
     "output_type": "display_data"
    }
   ],
   "source": [
    "ecls_cov <- c('race_white', 'p5hmage', 'w3income', 'p5numpla', 'w3momed_hsb')\n",
    "ecls %>%\n",
    "  group_by(catholic) %>%\n",
    "  select(one_of(ecls_cov)) %>%\n",
    "  summarise_all(funs(mean(., na.rm = T)))"
   ]
  },
  {
   "cell_type": "markdown",
   "metadata": {},
   "source": [
    "We can carry out t-tests to evaluate whether these means are statistically distinguishable:"
   ]
  },
  {
   "cell_type": "code",
   "execution_count": 5,
   "metadata": {},
   "outputs": [
    {
     "data": {
      "text/plain": [
       "[[1]]\n",
       "\n",
       "\tWelch Two Sample t-test\n",
       "\n",
       "data:  ecls[, v] by ecls[, \"catholic\"]\n",
       "t = -13.453, df = 2143.3, p-value < 2.2e-16\n",
       "alternative hypothesis: true difference in means is not equal to 0\n",
       "95 percent confidence interval:\n",
       " -0.1936817 -0.1444003\n",
       "sample estimates:\n",
       "mean in group 0 mean in group 1 \n",
       "      0.5561246       0.7251656 \n",
       "\n",
       "\n",
       "[[2]]\n",
       "\n",
       "\tWelch Two Sample t-test\n",
       "\n",
       "data:  ecls[, v] by ecls[, \"catholic\"]\n",
       "t = -12.665, df = 2186.9, p-value < 2.2e-16\n",
       "alternative hypothesis: true difference in means is not equal to 0\n",
       "95 percent confidence interval:\n",
       " -2.326071 -1.702317\n",
       "sample estimates:\n",
       "mean in group 0 mean in group 1 \n",
       "       37.56097        39.57516 \n",
       "\n",
       "\n",
       "[[3]]\n",
       "\n",
       "\tWelch Two Sample t-test\n",
       "\n",
       "data:  ecls[, v] by ecls[, \"catholic\"]\n",
       "t = -20.25, df = 1825.1, p-value < 2.2e-16\n",
       "alternative hypothesis: true difference in means is not equal to 0\n",
       "95 percent confidence interval:\n",
       " -29818.10 -24552.18\n",
       "sample estimates:\n",
       "mean in group 0 mean in group 1 \n",
       "       54889.16        82074.30 \n",
       "\n",
       "\n",
       "[[4]]\n",
       "\n",
       "\tWelch Two Sample t-test\n",
       "\n",
       "data:  ecls[, v] by ecls[, \"catholic\"]\n",
       "t = 4.2458, df = 2233.7, p-value = 2.267e-05\n",
       "alternative hypothesis: true difference in means is not equal to 0\n",
       "95 percent confidence interval:\n",
       " 0.02150833 0.05842896\n",
       "sample estimates:\n",
       "mean in group 0 mean in group 1 \n",
       "       1.132669        1.092701 \n",
       "\n",
       "\n",
       "[[5]]\n",
       "\n",
       "\tWelch Two Sample t-test\n",
       "\n",
       "data:  ecls[, v] by ecls[, \"catholic\"]\n",
       "t = 18.855, df = 2107.3, p-value < 2.2e-16\n",
       "alternative hypothesis: true difference in means is not equal to 0\n",
       "95 percent confidence interval:\n",
       " 0.2122471 0.2615226\n",
       "sample estimates:\n",
       "mean in group 0 mean in group 1 \n",
       "      0.4640918       0.2272069 \n",
       "\n"
      ]
     },
     "metadata": {},
     "output_type": "display_data"
    }
   ],
   "source": [
    "lapply(ecls_cov, function(v) {\n",
    "    t.test(ecls[, v] ~ ecls[, 'catholic'])\n",
    "})"
   ]
  },
  {
   "cell_type": "markdown",
   "metadata": {},
   "source": [
    "## 2 Propensity score estimation\n",
    "\n",
    "We estimate the propensity score by running a logit model (probit also works) where the outcome variable is a binary variable indicating treatment status. What covariates should you include? For the matching to give you a causal estimate in the end, you need to include any covariate that is related to both the treatment assignment and potential outcomes. I choose just a few covariates below—they are unlikely to capture all covariates that should be included. "
   ]
  },
  {
   "cell_type": "code",
   "execution_count": 10,
   "metadata": {},
   "outputs": [],
   "source": [
    "ecls <- ecls %>% mutate(w3income_1k = w3income / 1000)\n",
    "\n",
    "\n",
    "m_ps <- glm(catholic ~ race_white + w3income_1k + p5hmage + p5numpla + w3momed_hsb, family = binomial(), data = ecls)"
   ]
  },
  {
   "cell_type": "code",
   "execution_count": 11,
   "metadata": {},
   "outputs": [
    {
     "data": {
      "text/plain": [
       "\n",
       "Call:\n",
       "glm(formula = catholic ~ race_white + w3income_1k + p5hmage + \n",
       "    p5numpla + w3momed_hsb, family = binomial(), data = ecls)\n",
       "\n",
       "Deviance Residuals: \n",
       "    Min       1Q   Median       3Q      Max  \n",
       "-1.1883  -0.6140  -0.4508  -0.3336   2.5659  \n",
       "\n",
       "Coefficients:\n",
       "              Estimate Std. Error z value Pr(>|z|)    \n",
       "(Intercept) -3.2125519  0.2379826 -13.499  < 2e-16 ***\n",
       "race_white   0.3145014  0.0700895   4.487 7.22e-06 ***\n",
       "w3income_1k  0.0073038  0.0006495  11.245  < 2e-16 ***\n",
       "p5hmage      0.0292168  0.0050771   5.755 8.69e-09 ***\n",
       "p5numpla    -0.1439392  0.0912255  -1.578    0.115    \n",
       "w3momed_hsb -0.6935868  0.0743207  -9.332  < 2e-16 ***\n",
       "---\n",
       "Signif. codes:  0 '***' 0.001 '**' 0.01 '*' 0.05 '.' 0.1 ' ' 1\n",
       "\n",
       "(Dispersion parameter for binomial family taken to be 1)\n",
       "\n",
       "    Null deviance: 7701.3  on 9266  degrees of freedom\n",
       "Residual deviance: 7168.8  on 9261  degrees of freedom\n",
       "  (1811 observations deleted due to missingness)\n",
       "AIC: 7180.8\n",
       "\n",
       "Number of Fisher Scoring iterations: 5\n"
      ]
     },
     "metadata": {},
     "output_type": "display_data"
    }
   ],
   "source": [
    "summary(m_ps)"
   ]
  },
  {
   "cell_type": "markdown",
   "metadata": {},
   "source": [
    "Using this model, we can now calculate the propensity score for each student. It is simply the student’s predicted probability of being Treated, given the estimates from the logit model. Below, I calculate this propensity score using predict() and create a dataframe that has the propensity score as well as the student’s actual treatment status."
   ]
  },
  {
   "cell_type": "code",
   "execution_count": 12,
   "metadata": {},
   "outputs": [],
   "source": [
    "prs_df <- data.frame(pr_score = predict(m_ps, type = \"response\"), catholic = m_ps$model$catholic)"
   ]
  },
  {
   "cell_type": "code",
   "execution_count": 15,
   "metadata": {},
   "outputs": [
    {
     "data": {
      "text/html": [
       "<table>\n",
       "<thead><tr><th></th><th scope=col>pr_score</th><th scope=col>catholic</th></tr></thead>\n",
       "<tbody>\n",
       "\t<tr><th scope=row>1</th><td>0.2292928</td><td>0        </td></tr>\n",
       "\t<tr><th scope=row>2</th><td>0.1801360</td><td>0        </td></tr>\n",
       "\t<tr><th scope=row>4</th><td>0.2092957</td><td>0        </td></tr>\n",
       "\t<tr><th scope=row>5</th><td>0.2154022</td><td>1        </td></tr>\n",
       "\t<tr><th scope=row>6</th><td>0.3604931</td><td>0        </td></tr>\n",
       "\t<tr><th scope=row>7</th><td>0.1080608</td><td>0        </td></tr>\n",
       "</tbody>\n",
       "</table>\n"
      ],
      "text/latex": [
       "\\begin{tabular}{r|ll}\n",
       "  & pr\\_score & catholic\\\\\n",
       "\\hline\n",
       "\t1 & 0.2292928 & 0        \\\\\n",
       "\t2 & 0.1801360 & 0        \\\\\n",
       "\t4 & 0.2092957 & 0        \\\\\n",
       "\t5 & 0.2154022 & 1        \\\\\n",
       "\t6 & 0.3604931 & 0        \\\\\n",
       "\t7 & 0.1080608 & 0        \\\\\n",
       "\\end{tabular}\n"
      ],
      "text/markdown": [
       "\n",
       "| <!--/--> | pr_score | catholic | \n",
       "|---|---|---|---|---|---|\n",
       "| 1 | 0.2292928 | 0         | \n",
       "| 2 | 0.1801360 | 0         | \n",
       "| 4 | 0.2092957 | 0         | \n",
       "| 5 | 0.2154022 | 1         | \n",
       "| 6 | 0.3604931 | 0         | \n",
       "| 7 | 0.1080608 | 0         | \n",
       "\n",
       "\n"
      ],
      "text/plain": [
       "  pr_score  catholic\n",
       "1 0.2292928 0       \n",
       "2 0.1801360 0       \n",
       "4 0.2092957 0       \n",
       "5 0.2154022 1       \n",
       "6 0.3604931 0       \n",
       "7 0.1080608 0       "
      ]
     },
     "metadata": {},
     "output_type": "display_data"
    }
   ],
   "source": [
    "head(prs_df)"
   ]
  },
  {
   "cell_type": "code",
   "execution_count": 16,
   "metadata": {},
   "outputs": [
    {
     "data": {
      "text/html": [
       "<table>\n",
       "<thead><tr><th scope=col>catholic</th><th scope=col>mean_score</th></tr></thead>\n",
       "<tbody>\n",
       "\t<tr><td>0        </td><td>0.1378915</td></tr>\n",
       "\t<tr><td>1        </td><td>0.1927431</td></tr>\n",
       "</tbody>\n",
       "</table>\n"
      ],
      "text/latex": [
       "\\begin{tabular}{r|ll}\n",
       " catholic & mean\\_score\\\\\n",
       "\\hline\n",
       "\t 0         & 0.1378915\\\\\n",
       "\t 1         & 0.1927431\\\\\n",
       "\\end{tabular}\n"
      ],
      "text/markdown": [
       "\n",
       "catholic | mean_score | \n",
       "|---|---|\n",
       "| 0         | 0.1378915 | \n",
       "| 1         | 0.1927431 | \n",
       "\n",
       "\n"
      ],
      "text/plain": [
       "  catholic mean_score\n",
       "1 0        0.1378915 \n",
       "2 1        0.1927431 "
      ]
     },
     "metadata": {},
     "output_type": "display_data"
    }
   ],
   "source": [
    "prs_df %>% \n",
    "    group_by(catholic) %>%\n",
    "    summarise(mean_score = mean(pr_score))"
   ]
  },
  {
   "cell_type": "markdown",
   "metadata": {},
   "source": [
    "### 2.1 Examining the region of common support\n",
    "\n",
    "After estimating the propensity score, it is useful to plot histograms of the estimated propensity scores by treatment status:"
   ]
  },
  {
   "cell_type": "code",
   "execution_count": 17,
   "metadata": {},
   "outputs": [
    {
     "name": "stderr",
     "output_type": "stream",
     "text": [
      "`stat_bin()` using `bins = 30`. Pick better value with `binwidth`.\n"
     ]
    },
    {
     "data": {},
     "metadata": {},
     "output_type": "display_data"
    },
    {
     "data": {
      "image/png": "[encoded data removed]",
      "text/plain": [
       "plot without title"
      ]
     },
     "metadata": {},
     "output_type": "display_data"
    }
   ],
   "source": [
    "labs <- paste(\"Actual school type attended:\", c(\"Catholic\", \"Public\"))\n",
    "prs_df %>% \n",
    "    mutate(catholic = ifelse(catholic == 1, labs[1], labs[2])) %>%\n",
    "    ggplot(aes(x = pr_score)) +\n",
    "    geom_histogram(color = 'white') +\n",
    "    facet_wrap(~catholic) + \n",
    "    xlab(\"Probability of going to Catholic school\") + \n",
    "    theme_bw()"
   ]
  },
  {
   "cell_type": "markdown",
   "metadata": {},
   "source": [
    "### Note: prs_df only has 9267 rows because some students in ecls have missing values in the covariates"
   ]
  },
  {
   "cell_type": "code",
   "execution_count": 18,
   "metadata": {},
   "outputs": [
    {
     "data": {
      "text/html": [
       "<ol class=list-inline>\n",
       "\t<li>9267</li>\n",
       "\t<li>2</li>\n",
       "</ol>\n"
      ],
      "text/latex": [
       "\\begin{enumerate*}\n",
       "\\item 9267\n",
       "\\item 2\n",
       "\\end{enumerate*}\n"
      ],
      "text/markdown": [
       "1. 9267\n",
       "2. 2\n",
       "\n",
       "\n"
      ],
      "text/plain": [
       "[1] 9267    2"
      ]
     },
     "metadata": {},
     "output_type": "display_data"
    }
   ],
   "source": [
    "dim(prs_df)"
   ]
  },
  {
   "cell_type": "markdown",
   "metadata": {},
   "source": [
    "## 3 Executing a matching algorithm\n",
    "\n",
    "A simple method for estimating the treatment effect of Catholic schooling is to restrict the sample to observations within the region of common support, and then to divide the sample within the region of common support into 5 quintiles, based on the estimated propensity score. Within each of these 5 quintiles, we can then estimate the mean difference in student achievement by treatment status. Rubin and others have argued that this is sufficient to eliminate 95% of the bias due to confounding of treatment status with a covariate.\n",
    "\n",
    "However, most matching algorithms adopt slightly more complex methods. The method we use below is to find pairs of observations that have very similar propensity scores, but that differ in their treatment status. We use the package MatchIt for this. This package estimates the propensity score in the background and then matches observations based on the method of choice (“nearest” in this case)."
   ]
  },
  {
   "cell_type": "code",
   "execution_count": 26,
   "metadata": {},
   "outputs": [],
   "source": [
    "ecls_nomiss <- ecls %>%  #MatchIt doesn't allow missing values\n",
    "    select(c5r2mtsc_std, catholic, one_of(ecls_cov)) %>%\n",
    "    na.omit()"
   ]
  },
  {
   "cell_type": "code",
   "execution_count": 28,
   "metadata": {},
   "outputs": [],
   "source": [
    "mod_match <- matchit(catholic ~ race_white + w3income + p5hmage + p5numpla + w3momed_hsb,\n",
    "                     method = \"nearest\", data = ecls_nomiss)"
   ]
  },
  {
   "cell_type": "code",
   "execution_count": 29,
   "metadata": {},
   "outputs": [
    {
     "data": {
      "text/plain": [
       "\n",
       "Call:\n",
       "matchit(formula = catholic ~ race_white + w3income + p5hmage + \n",
       "    p5numpla + w3momed_hsb, data = ecls_nomiss, method = \"nearest\")\n",
       "\n",
       "Summary of balance for all data:\n",
       "            Means Treated Means Control SD Control  Mean Diff  eQQ Med\n",
       "distance           0.1927        0.1379     0.0845     0.0549 5.67e-02\n",
       "race_white         0.7411        0.5914     0.4916     0.1497 0.00e+00\n",
       "w3income       82568.9357    55485.0210 43961.0872 27083.9146 2.50e+04\n",
       "p5hmage           39.5932       37.5658     6.5506     2.0274 2.00e+00\n",
       "p5numpla           1.0917        1.1298     0.3910    -0.0380 0.00e+00\n",
       "w3momed_hsb        0.2234        0.4609     0.4985    -0.2375 0.00e+00\n",
       "              eQQ Mean  eQQ Max\n",
       "distance        0.0548 7.60e-02\n",
       "race_white      0.1501 1.00e+00\n",
       "w3income    27069.1775 6.25e+04\n",
       "p5hmage         2.2544 7.00e+00\n",
       "p5numpla        0.0399 2.00e+00\n",
       "w3momed_hsb     0.2374 1.00e+00\n",
       "\n",
       "\n",
       "Summary of balance for matched data:\n",
       "            Means Treated Means Control SD Control Mean Diff eQQ Med  eQQ Mean\n",
       "distance           0.1927        0.1927     0.0846    0.0000       0    0.0000\n",
       "race_white         0.7411        0.7470     0.4349   -0.0059       0    0.0059\n",
       "w3income       82568.9357    81403.9926 46618.2406 1164.9430       0 1164.9430\n",
       "p5hmage           39.5932       39.5503     5.2243    0.0429       0    0.0873\n",
       "p5numpla           1.0917        1.0762     0.2970    0.0155       0    0.0200\n",
       "w3momed_hsb        0.2234        0.2152     0.4111    0.0081       0    0.0081\n",
       "             eQQ Max\n",
       "distance    3.30e-03\n",
       "race_white  1.00e+00\n",
       "w3income    6.25e+04\n",
       "p5hmage     1.00e+01\n",
       "p5numpla    2.00e+00\n",
       "w3momed_hsb 1.00e+00\n",
       "\n",
       "Percent Balance Improvement:\n",
       "            Mean Diff. eQQ Med eQQ Mean  eQQ Max\n",
       "distance       99.9934     100  99.9689  95.6780\n",
       "race_white     96.0477       0  96.0591   0.0000\n",
       "w3income       95.6988     100  95.6964   0.0000\n",
       "p5hmage        97.8841     100  96.1286 -42.8571\n",
       "p5numpla       59.1653       0  50.0000   0.0000\n",
       "w3momed_hsb    96.5746       0  96.5732   0.0000\n",
       "\n",
       "Sample sizes:\n",
       "          Control Treated\n",
       "All          7915    1352\n",
       "Matched      1352    1352\n",
       "Unmatched    6563       0\n",
       "Discarded       0       0\n"
      ]
     },
     "metadata": {},
     "output_type": "display_data"
    }
   ],
   "source": [
    "summary(mod_match)"
   ]
  },
  {
   "cell_type": "code",
   "execution_count": 30,
   "metadata": {},
   "outputs": [
    {
     "data": {
      "image/png": "[encoded data removed]",
      "text/plain": [
       "plot without title"
      ]
     },
     "metadata": {},
     "output_type": "display_data"
    },
    {
     "data": {
      "image/png": "[encoded data removed]",
      "text/plain": [
       "plot without title"
      ]
     },
     "metadata": {},
     "output_type": "display_data"
    }
   ],
   "source": [
    "plot(mod_match)"
   ]
  },
  {
   "cell_type": "markdown",
   "metadata": {},
   "source": [
    "To create a dataframe containing only the matched observations, use the match.data() function:"
   ]
  },
  {
   "cell_type": "code",
   "execution_count": 31,
   "metadata": {},
   "outputs": [
    {
     "data": {
      "text/html": [
       "<ol class=list-inline>\n",
       "\t<li>2704</li>\n",
       "\t<li>9</li>\n",
       "</ol>\n"
      ],
      "text/latex": [
       "\\begin{enumerate*}\n",
       "\\item 2704\n",
       "\\item 9\n",
       "\\end{enumerate*}\n"
      ],
      "text/markdown": [
       "1. 2704\n",
       "2. 9\n",
       "\n",
       "\n"
      ],
      "text/plain": [
       "[1] 2704    9"
      ]
     },
     "metadata": {},
     "output_type": "display_data"
    }
   ],
   "source": [
    "dta_m <- match.data(mod_match)\n",
    "dim(dta_m)"
   ]
  },
  {
   "cell_type": "markdown",
   "metadata": {},
   "source": [
    "#### Note that the final dataset is smaller than the original: it contains 2704 observations, meaning that 1352 pairs of treated and control observations were matched. Also note that the final dataset contains a variable called distance, which is the propensity score.\n",
    "\n"
   ]
  },
  {
   "cell_type": "markdown",
   "metadata": {},
   "source": [
    "## 4 Examining covariate balance in the matched sample\n",
    "\n",
    "We’ll do three things to assess covariate balance in the matched sample:\n",
    "\n",
    "1. visual inspection\n",
    "2. t-tests of difference-in-means\n",
    "3. computation of the average absolute standardized difference (“standardized imbalance”)\n"
   ]
  },
  {
   "cell_type": "markdown",
   "metadata": {},
   "source": [
    "### 4.1 Visual inspection\n",
    "\n",
    "It is useful to plot the mean of each covariate against the estimated propensity score, separately by treatment status. If matching is done well, the treatment and control groups will have (near) identical means of each covariate at each value of the propensity score.\n",
    "\n",
    "Below is an example using the four covariates in our model. Here I use a loess smoother to estimate the mean of each covariate, by treatment status, at each value of the propensity score."
   ]
  },
  {
   "cell_type": "code",
   "execution_count": 32,
   "metadata": {},
   "outputs": [
    {
     "name": "stderr",
     "output_type": "stream",
     "text": [
      "Warning message:\n",
      "\"package 'gridExtra' was built under R version 3.3.3\"\n",
      "Attaching package: 'gridExtra'\n",
      "\n",
      "The following object is masked from 'package:dplyr':\n",
      "\n",
      "    combine\n",
      "\n",
      "Warning message:\n",
      "\"Removed 16 rows containing missing values (geom_smooth).\"Warning message:\n",
      "\"Removed 17 rows containing missing values (geom_smooth).\"Warning message:\n",
      "\"Removed 50 rows containing missing values (geom_smooth).\"Warning message:\n",
      "\"Removed 25 rows containing missing values (geom_smooth).\""
     ]
    },
    {
     "data": {
      "image/png": "[encoded data removed]",
      "text/plain": [
       "plot without title"
      ]
     },
     "metadata": {},
     "output_type": "display_data"
    }
   ],
   "source": [
    "fn_bal <- function(dta, variable) {\n",
    "  dta$variable <- dta[, variable]\n",
    "  if (variable == 'w3income') dta$variable <- dta$variable / 10^3\n",
    "  dta$catholic <- as.factor(dta$catholic)\n",
    "  support <- c(min(dta$variable), max(dta$variable))\n",
    "  ggplot(dta, aes(x = distance, y = variable, color = catholic)) +\n",
    "    geom_point(alpha = 0.2, size = 1.3) +\n",
    "    geom_smooth(method = \"loess\", se = F) +\n",
    "    xlab(\"Propensity score\") +\n",
    "    ylab(variable) +\n",
    "    theme_bw() +\n",
    "    ylim(support)\n",
    "}\n",
    "\n",
    "library(gridExtra)\n",
    "grid.arrange(\n",
    "   fn_bal(dta_m, \"w3income\"),\n",
    "   fn_bal(dta_m, \"p5numpla\") + theme(legend.position = \"none\"),\n",
    "   fn_bal(dta_m, \"p5hmage\"),\n",
    "   fn_bal(dta_m, \"w3momed_hsb\") + theme(legend.position = \"none\"),\n",
    "   fn_bal(dta_m, \"race_white\"),\n",
    "   nrow = 3, widths = c(1, 0.8)\n",
    ")"
   ]
  },
  {
   "cell_type": "markdown",
   "metadata": {},
   "source": [
    "### 4.2 Difference-in-means\n",
    "\n",
    "The means below indicate that we have attained a high degree of balance on the five covariates included in the model."
   ]
  },
  {
   "cell_type": "code",
   "execution_count": 33,
   "metadata": {},
   "outputs": [
    {
     "name": "stderr",
     "output_type": "stream",
     "text": [
      "Adding missing grouping variables: `catholic`\n"
     ]
    },
    {
     "data": {
      "text/html": [
       "<table>\n",
       "<thead><tr><th scope=col>catholic</th><th scope=col>race_white</th><th scope=col>p5hmage</th><th scope=col>w3income</th><th scope=col>p5numpla</th><th scope=col>w3momed_hsb</th></tr></thead>\n",
       "<tbody>\n",
       "\t<tr><td>0        </td><td>0.7470414</td><td>39.5503  </td><td>81403.99 </td><td>1.076183 </td><td>0.2152367</td></tr>\n",
       "\t<tr><td>1        </td><td>0.7411243</td><td>39.5932  </td><td>82568.94 </td><td>1.091716 </td><td>0.2233728</td></tr>\n",
       "</tbody>\n",
       "</table>\n"
      ],
      "text/latex": [
       "\\begin{tabular}{r|llllll}\n",
       " catholic & race\\_white & p5hmage & w3income & p5numpla & w3momed\\_hsb\\\\\n",
       "\\hline\n",
       "\t 0         & 0.7470414 & 39.5503   & 81403.99  & 1.076183  & 0.2152367\\\\\n",
       "\t 1         & 0.7411243 & 39.5932   & 82568.94  & 1.091716  & 0.2233728\\\\\n",
       "\\end{tabular}\n"
      ],
      "text/markdown": [
       "\n",
       "catholic | race_white | p5hmage | w3income | p5numpla | w3momed_hsb | \n",
       "|---|---|\n",
       "| 0         | 0.7470414 | 39.5503   | 81403.99  | 1.076183  | 0.2152367 | \n",
       "| 1         | 0.7411243 | 39.5932   | 82568.94  | 1.091716  | 0.2233728 | \n",
       "\n",
       "\n"
      ],
      "text/plain": [
       "  catholic race_white p5hmage w3income p5numpla w3momed_hsb\n",
       "1 0        0.7470414  39.5503 81403.99 1.076183 0.2152367  \n",
       "2 1        0.7411243  39.5932 82568.94 1.091716 0.2233728  "
      ]
     },
     "metadata": {},
     "output_type": "display_data"
    }
   ],
   "source": [
    "dta_m %>% \n",
    "    group_by(catholic) %>%\n",
    "    select(one_of(ecls_cov)) %>%\n",
    "    summarise_all(funs(mean))"
   ]
  },
  {
   "cell_type": "markdown",
   "metadata": {},
   "source": [
    "You can test this more formally using t-tests. Ideally, we should not be able to reject the null hypothesis of no mean difference for each covariate:"
   ]
  },
  {
   "cell_type": "code",
   "execution_count": 34,
   "metadata": {},
   "outputs": [
    {
     "data": {
      "text/plain": [
       "[[1]]\n",
       "\n",
       "\tWelch Two Sample t-test\n",
       "\n",
       "data:  dta_m[, v] by dta_m[, \"catholic\"]\n",
       "t = 0.35243, df = 2701.8, p-value = 0.7245\n",
       "alternative hypothesis: true difference in means is not equal to 0\n",
       "95 percent confidence interval:\n",
       " -0.02700440  0.03883872\n",
       "sample estimates:\n",
       "mean in group 0 mean in group 1 \n",
       "      0.7470414       0.7411243 \n",
       "\n",
       "\n",
       "[[2]]\n",
       "\n",
       "\tWelch Two Sample t-test\n",
       "\n",
       "data:  dta_m[, v] by dta_m[, \"catholic\"]\n",
       "t = -0.21331, df = 2702, p-value = 0.8311\n",
       "alternative hypothesis: true difference in means is not equal to 0\n",
       "95 percent confidence interval:\n",
       " -0.4372485  0.3514496\n",
       "sample estimates:\n",
       "mean in group 0 mean in group 1 \n",
       "        39.5503         39.5932 \n",
       "\n",
       "\n",
       "[[3]]\n",
       "\n",
       "\tWelch Two Sample t-test\n",
       "\n",
       "data:  dta_m[, v] by dta_m[, \"catholic\"]\n",
       "t = -0.64787, df = 2701.9, p-value = 0.5171\n",
       "alternative hypothesis: true difference in means is not equal to 0\n",
       "95 percent confidence interval:\n",
       " -4690.731  2360.845\n",
       "sample estimates:\n",
       "mean in group 0 mean in group 1 \n",
       "       81403.99        82568.94 \n",
       "\n",
       "\n",
       "[[4]]\n",
       "\n",
       "\tWelch Two Sample t-test\n",
       "\n",
       "data:  dta_m[, v] by dta_m[, \"catholic\"]\n",
       "t = -1.339, df = 2699.5, p-value = 0.1807\n",
       "alternative hypothesis: true difference in means is not equal to 0\n",
       "95 percent confidence interval:\n",
       " -0.038278301  0.007213213\n",
       "sample estimates:\n",
       "mean in group 0 mean in group 1 \n",
       "       1.076183        1.091716 \n",
       "\n",
       "\n",
       "[[5]]\n",
       "\n",
       "\tWelch Two Sample t-test\n",
       "\n",
       "data:  dta_m[, v] by dta_m[, \"catholic\"]\n",
       "t = -0.51108, df = 2701.5, p-value = 0.6093\n",
       "alternative hypothesis: true difference in means is not equal to 0\n",
       "95 percent confidence interval:\n",
       " -0.03935185  0.02307966\n",
       "sample estimates:\n",
       "mean in group 0 mean in group 1 \n",
       "      0.2152367       0.2233728 \n",
       "\n"
      ]
     },
     "metadata": {},
     "output_type": "display_data"
    }
   ],
   "source": [
    "lapply(ecls_cov, function(v){\n",
    "    t.test(dta_m[, v] ~ dta_m[, 'catholic'])\n",
    "})"
   ]
  },
  {
   "cell_type": "markdown",
   "metadata": {},
   "source": [
    "### 4.3 Average absolute standardized difference\n",
    "\n",
    "As a measure of the average imbalance, we can calculate the following:\n",
    "\n",
    "$\\left\\|\\frac{\\beta}{\\sigma}\\right\\|=\\frac{1}{k}\\sum_{x}\\frac{\\left\\|\\beta_x\\right\\|}{\\sigma_x}$\n",
    "\n",
    "    \n",
    "\n",
    "where $\\beta_x\\beta_x$ is the difference between the covariate means in the treated and control groups in the matched sample. An average absolute standardized difference that is close to 0 is preferable, since that indicates small differences between the control and treatment groups in the matched sample.\n",
    "\n",
    "Try to implement a function that calculates the absolute standardized difference for any covariate in the matched sample. Then take the average for all the covariates.\n"
   ]
  },
  {
   "cell_type": "markdown",
   "metadata": {},
   "source": [
    "## 5 Estimating treatment effects\n",
    "\n",
    "Estimating the treatment effect is simple once we have a matched sample that we are happy with. We can use a t-test:"
   ]
  },
  {
   "cell_type": "code",
   "execution_count": 35,
   "metadata": {},
   "outputs": [
    {
     "data": {
      "text/plain": [
       "\n",
       "\tWelch Two Sample t-test\n",
       "\n",
       "data:  c5r2mtsc_std by catholic\n",
       "t = 4.6405, df = 2675.4, p-value = 3.643e-06\n",
       "alternative hypothesis: true difference in means is not equal to 0\n",
       "95 percent confidence interval:\n",
       " 0.09415247 0.23194602\n",
       "sample estimates:\n",
       "mean in group 0 mean in group 1 \n",
       "      0.3727171       0.2096679 \n"
      ]
     },
     "metadata": {},
     "output_type": "display_data"
    }
   ],
   "source": [
    "with(dta_m, t.test(c5r2mtsc_std ~ catholic))"
   ]
  },
  {
   "cell_type": "markdown",
   "metadata": {},
   "source": [
    "Or we can use OLS with or without covariates:"
   ]
  },
  {
   "cell_type": "code",
   "execution_count": 36,
   "metadata": {},
   "outputs": [
    {
     "data": {
      "text/plain": [
       "\n",
       "Call:\n",
       "lm(formula = c5r2mtsc_std ~ catholic, data = dta_m)\n",
       "\n",
       "Residuals:\n",
       "    Min      1Q  Median      3Q     Max \n",
       "-3.4646 -0.5695  0.0480  0.6319  3.0609 \n",
       "\n",
       "Coefficients:\n",
       "            Estimate Std. Error t value Pr(>|t|)    \n",
       "(Intercept)  0.37272    0.02485   15.00  < 2e-16 ***\n",
       "catholic    -0.16305    0.03514   -4.64 3.64e-06 ***\n",
       "---\n",
       "Signif. codes:  0 '***' 0.001 '**' 0.01 '*' 0.05 '.' 0.1 ' ' 1\n",
       "\n",
       "Residual standard error: 0.9135 on 2702 degrees of freedom\n",
       "Multiple R-squared:  0.007907,\tAdjusted R-squared:  0.00754 \n",
       "F-statistic: 21.53 on 1 and 2702 DF,  p-value: 3.641e-06\n"
      ]
     },
     "metadata": {},
     "output_type": "display_data"
    }
   ],
   "source": [
    "lm_treat1 <- lm(c5r2mtsc_std ~ catholic, data = dta_m)\n",
    "summary(lm_treat1)"
   ]
  },
  {
   "cell_type": "code",
   "execution_count": 37,
   "metadata": {},
   "outputs": [
    {
     "data": {
      "text/plain": [
       "\n",
       "Call:\n",
       "lm(formula = c5r2mtsc_std ~ catholic + race_white + p5hmage + \n",
       "    I(w3income/10^3) + p5numpla + w3momed_hsb, data = dta_m)\n",
       "\n",
       "Residuals:\n",
       "    Min      1Q  Median      3Q     Max \n",
       "-3.5783 -0.5420  0.0366  0.6218  2.7583 \n",
       "\n",
       "Coefficients:\n",
       "                   Estimate Std. Error t value Pr(>|t|)    \n",
       "(Intercept)      -0.4221877  0.1484296  -2.844 0.004484 ** \n",
       "catholic         -0.1613272  0.0331943  -4.860 1.24e-06 ***\n",
       "race_white        0.3145487  0.0386183   8.145 5.73e-16 ***\n",
       "p5hmage           0.0116780  0.0032352   3.610 0.000312 ***\n",
       "I(w3income/10^3)  0.0031892  0.0003758   8.487  < 2e-16 ***\n",
       "p5numpla         -0.0807203  0.0552777  -1.460 0.144333    \n",
       "w3momed_hsb      -0.3470039  0.0413618  -8.389  < 2e-16 ***\n",
       "---\n",
       "Signif. codes:  0 '***' 0.001 '**' 0.01 '*' 0.05 '.' 0.1 ' ' 1\n",
       "\n",
       "Residual standard error: 0.8626 on 2697 degrees of freedom\n",
       "Multiple R-squared:  0.1172,\tAdjusted R-squared:  0.1152 \n",
       "F-statistic: 59.66 on 6 and 2697 DF,  p-value: < 2.2e-16\n"
      ]
     },
     "metadata": {},
     "output_type": "display_data"
    }
   ],
   "source": [
    "lm_treat2 <- lm(c5r2mtsc_std ~ catholic + race_white + p5hmage +\n",
    "                  I(w3income / 10^3) + p5numpla + w3momed_hsb, data = dta_m)\n",
    "summary(lm_treat2)"
   ]
  },
  {
   "cell_type": "markdown",
   "metadata": {},
   "source": [
    "## 6 Exercise\n",
    "\n",
    "In groups of 2 or 3, come up with a different model to estimate the propensity score. Evaluate whether it is better or worse than the model we have worked with so far by comparing the average absolute standardized difference (average imbalance) from the two models. Once you have settled on a model, report the following:\n",
    "\n",
    "1. The average imbalance\n",
    "2. The region of common support\n",
    "3. Assessments of the covariance balance in your matched sample (visual inspections and t-tests)\n",
    "4. The estimated treatment effect of going to catholic school (along with your interpretation of it)\n",
    "\n",
    "If we have time, repeat the exercise using a different matching algorithm than nearest-neighbor."
   ]
  },
  {
   "cell_type": "code",
   "execution_count": null,
   "metadata": {},
   "outputs": [],
   "source": []
  }
 ],
 "metadata": {
  "kernelspec": {
   "display_name": "R",
   "language": "R",
   "name": "ir"
  },
  "language_info": {
   "codemirror_mode": "r",
   "file_extension": ".r",
   "mimetype": "text/x-r-source",
   "name": "R",
   "pygments_lexer": "r",
   "version": "3.3.2"
  }
 },
 "nbformat": 4,
 "nbformat_minor": 2
}
