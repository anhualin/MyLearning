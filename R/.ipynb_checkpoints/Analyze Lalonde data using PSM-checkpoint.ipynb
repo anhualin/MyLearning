{
 "cells": [
  {
   "cell_type": "code",
   "execution_count": 1,
   "metadata": {},
   "outputs": [
    {
     "name": "stderr",
     "output_type": "stream",
     "text": [
      "Warning message:\n",
      "\"package 'tableone' was built under R version 3.3.3\"Warning message:\n",
      "\"package 'Matching' was built under R version 3.3.3\"Loading required package: MASS\n",
      "## \n",
      "##  Matching (Version 4.9-2, Build Date: 2015-12-25)\n",
      "##  See http://sekhon.berkeley.edu/matching for additional documentation.\n",
      "##  Please cite software as:\n",
      "##   Jasjeet S. Sekhon. 2011. ``Multivariate and Propensity Score Matching\n",
      "##   Software with Automated Balance Optimization: The Matching package for R.''\n",
      "##   Journal of Statistical Software, 42(7): 1-52. \n",
      "##\n",
      "\n",
      "Warning message:\n",
      "\"package 'MatchIt' was built under R version 3.3.3\""
     ]
    }
   ],
   "source": [
    "library(tableone)\n",
    "library(Matching)\n",
    "library(MatchIt)"
   ]
  },
  {
   "cell_type": "markdown",
   "metadata": {},
   "source": [
    "Now load the lalonde data (which is in the MatchIt package)"
   ]
  },
  {
   "cell_type": "code",
   "execution_count": 2,
   "metadata": {},
   "outputs": [],
   "source": [
    "data(lalonde)"
   ]
  },
  {
   "cell_type": "code",
   "execution_count": 3,
   "metadata": {},
   "outputs": [
    {
     "name": "stdout",
     "output_type": "stream",
     "text": [
      "'data.frame':\t614 obs. of  10 variables:\n",
      " $ treat   : int  1 1 1 1 1 1 1 1 1 1 ...\n",
      " $ age     : int  37 22 30 27 33 22 23 32 22 33 ...\n",
      " $ educ    : int  11 9 12 11 8 9 12 11 16 12 ...\n",
      " $ black   : int  1 0 1 1 1 1 1 1 1 0 ...\n",
      " $ hispan  : int  0 1 0 0 0 0 0 0 0 0 ...\n",
      " $ married : int  1 0 0 0 0 0 0 0 0 1 ...\n",
      " $ nodegree: int  1 1 0 1 1 1 0 1 0 0 ...\n",
      " $ re74    : num  0 0 0 0 0 0 0 0 0 0 ...\n",
      " $ re75    : num  0 0 0 0 0 0 0 0 0 0 ...\n",
      " $ re78    : num  9930 3596 24909 7506 290 ...\n"
     ]
    }
   ],
   "source": [
    "str(lalonde)"
   ]
  },
  {
   "cell_type": "code",
   "execution_count": 7,
   "metadata": {},
   "outputs": [
    {
     "name": "stderr",
     "output_type": "stream",
     "text": [
      "Warning message:\n",
      "\"package 'dplyr' was built under R version 3.3.3\"\n",
      "Attaching package: 'dplyr'\n",
      "\n",
      "The following object is masked from 'package:MASS':\n",
      "\n",
      "    select\n",
      "\n",
      "The following objects are masked from 'package:stats':\n",
      "\n",
      "    filter, lag\n",
      "\n",
      "The following objects are masked from 'package:base':\n",
      "\n",
      "    intersect, setdiff, setequal, union\n",
      "\n"
     ]
    }
   ],
   "source": [
    "library(dplyr)"
   ]
  },
  {
   "cell_type": "markdown",
   "metadata": {},
   "source": [
    "1. Find the standardized differences for all of the confounding variables (pre-matching). \n",
    "$\n",
    "smd = \\frac{\\bar{x_t} - \\bar{x_c}}{\\sqrt{\\frac{sd(x_t)^2 + sd(x_c)^2}{2}}}\n",
    "$"
   ]
  },
  {
   "cell_type": "code",
   "execution_count": 17,
   "metadata": {},
   "outputs": [
    {
     "name": "stdout",
     "output_type": "stream",
     "text": [
      "                      Stratified by treat\n",
      "                       0                 1                 SMD   \n",
      "  n                        429               185                 \n",
      "  age (mean (sd))        28.03 (10.79)     25.82 (7.16)     0.242\n",
      "  educ (mean (sd))       10.24 (2.86)      10.35 (2.01)     0.045\n",
      "  black (mean (sd))       0.20 (0.40)       0.84 (0.36)     1.668\n",
      "  hispan (mean (sd))      0.14 (0.35)       0.06 (0.24)     0.277\n",
      "  married (mean (sd))     0.51 (0.50)       0.19 (0.39)     0.719\n",
      "  nodegree (mean (sd))    0.60 (0.49)       0.71 (0.46)     0.235\n",
      "  re74 (mean (sd))     5619.24 (6788.75) 2095.57 (4886.62)  0.596\n",
      "  re75 (mean (sd))     2466.48 (3292.00) 1532.06 (3219.25)  0.287\n"
     ]
    }
   ],
   "source": [
    "xvars <- c('age', 'educ', 'black', 'hispan', 'married', 'nodegree', 're74', 're75')\n",
    "\n",
    "table1 <- CreateTableOne(vars = xvars, strata = 'treat', data = lalonde, test = FALSE)\n",
    "\n",
    "print(table1, smd = TRUE)"
   ]
  },
  {
   "cell_type": "markdown",
   "metadata": {},
   "source": [
    " $2$. What is the raw (unadjusted) mean of real earnings in 1978 for treated subjects minus the mean of real earnings in 1978 for untreated subjects?"
   ]
  },
  {
   "cell_type": "code",
   "execution_count": 18,
   "metadata": {},
   "outputs": [
    {
     "data": {
      "text/html": [
       "-635.026212037422"
      ],
      "text/latex": [
       "-635.026212037422"
      ],
      "text/markdown": [
       "-635.026212037422"
      ],
      "text/plain": [
       "[1] -635.0262"
      ]
     },
     "metadata": {},
     "output_type": "display_data"
    }
   ],
   "source": [
    "mean(lalonde[lalonde$treat == 1, 're78']) - mean(lalonde[lalonde$treat == 0, 're78'])"
   ]
  },
  {
   "cell_type": "markdown",
   "metadata": {},
   "source": [
    "Fit a propensity score model. Use a logistic regression model, where the outcome is treatment. Include the 8 confounding variables in the model as predictors, with no interaction terms or non-linear terms (such as squared terms). Obtain the propensity score for each subject."
   ]
  },
  {
   "cell_type": "code",
   "execution_count": 19,
   "metadata": {},
   "outputs": [],
   "source": [
    "psmodel <- glm(treat ~ age + educ + black + hispan + married + nodegree + re74 + re75, family = binomial(), data = lalonde)\n",
    "pscore <- psmodel$fitted.values"
   ]
  },
  {
   "cell_type": "markdown",
   "metadata": {},
   "source": [
    "$3$. What are the minimum and maximum values of the estimated propensity score?"
   ]
  },
  {
   "cell_type": "code",
   "execution_count": 20,
   "metadata": {},
   "outputs": [
    {
     "data": {
      "text/plain": [
       "   Min. 1st Qu.  Median    Mean 3rd Qu.    Max. \n",
       "0.00908 0.04854 0.12070 0.30130 0.63870 0.85320 "
      ]
     },
     "metadata": {},
     "output_type": "display_data"
    }
   ],
   "source": [
    "summary(pscore)"
   ]
  },
  {
   "cell_type": "markdown",
   "metadata": {},
   "source": [
    "Now carry out propensity score matching using the Match function.\n",
    "\n",
    "Before using the Match function, first do:\n",
    "\n",
    "$>set.seed(931139)$\n",
    "\n",
    "Setting the seed will ensure that you end up with a matched data set that is the same as the one used to create the solutions.\n",
    "\n",
    "Use options to specify pair matching, without replacement, no caliper.\n",
    "\n",
    "Match on the propensity score itself, not logit of the propensity score. Obtain the standardized differences for the matched data."
   ]
  },
  {
   "cell_type": "code",
   "execution_count": 21,
   "metadata": {},
   "outputs": [],
   "source": [
    "set.seed(931139)"
   ]
  },
  {
   "cell_type": "code",
   "execution_count": 32,
   "metadata": {},
   "outputs": [
    {
     "name": "stdout",
     "output_type": "stream",
     "text": [
      "                      Stratified by treat\n",
      "                       0                 1                 SMD   \n",
      "  n                        185               185                 \n",
      "  age (mean (sd))        25.58 (10.71)     25.82 (7.16)     0.026\n",
      "  educ (mean (sd))       10.52 (2.69)      10.35 (2.01)     0.073\n",
      "  black (mean (sd))       0.47 (0.50)       0.84 (0.36)     0.852\n",
      "  hispan (mean (sd))      0.23 (0.42)       0.06 (0.24)     0.491\n",
      "  married (mean (sd))     0.22 (0.42)       0.19 (0.39)     0.080\n",
      "  nodegree (mean (sd))    0.65 (0.48)       0.71 (0.46)     0.116\n",
      "  re74 (mean (sd))     2432.75 (4334.49) 2095.57 (4886.62)  0.073\n",
      "  re75 (mean (sd))     1673.05 (2680.42) 1532.06 (3219.25)  0.048\n"
     ]
    }
   ],
   "source": [
    "psmatch <- Match(Tr = lalonde$treat, M = 1, X = pscore, replace = FALSE)\n",
    "\n",
    "matched1 <- lalonde[unlist(psmatch[c('index.treated', 'index.control')]), ]\n",
    "\n",
    "matchedtab1 <-  CreateTableOne(vars = xvars, strata = 'treat', data = matched1, test = FALSE)\n",
    "\n",
    "print(matchedtab1, smd = TRUE)"
   ]
  },
  {
   "cell_type": "markdown",
   "metadata": {},
   "source": [
    "Re-do the matching, but use a caliper this time. Set the caliper=0.1 in the options in the Match function."
   ]
  },
  {
   "cell_type": "code",
   "execution_count": 36,
   "metadata": {},
   "outputs": [],
   "source": [
    "set.seed(931139)"
   ]
  },
  {
   "cell_type": "code",
   "execution_count": 37,
   "metadata": {},
   "outputs": [
    {
     "name": "stdout",
     "output_type": "stream",
     "text": [
      "                      Stratified by treat\n",
      "                       0                 1                 SMD   \n",
      "  n                        111               111                 \n",
      "  age (mean (sd))        26.27 (11.10)     26.22 (7.18)     0.006\n",
      "  educ (mean (sd))       10.37 (2.66)      10.25 (2.31)     0.047\n",
      "  black (mean (sd))       0.72 (0.45)       0.74 (0.44)     0.040\n",
      "  hispan (mean (sd))      0.11 (0.31)       0.10 (0.30)     0.029\n",
      "  married (mean (sd))     0.24 (0.43)       0.24 (0.43)    <0.001\n",
      "  nodegree (mean (sd))    0.66 (0.48)       0.65 (0.48)     0.019\n",
      "  re74 (mean (sd))     2704.56 (4759.89) 2250.49 (5746.14)  0.086\n",
      "  re75 (mean (sd))     1969.10 (3169.08) 1222.25 (3081.19)  0.239\n"
     ]
    }
   ],
   "source": [
    "psmatch <- Match(Tr = lalonde$treat, M = 1, X = pscore, replace = FALSE, caliper = 0.1)\n",
    "\n",
    "matched2 <- lalonde[unlist(psmatch[c('index.treated', 'index.control')]), ]\n",
    "\n",
    "matchedtab2 <-  CreateTableOne(vars = xvars, strata = 'treat', data = matched2, test = FALSE)\n",
    "\n",
    "print(matchedtab2, smd = TRUE)"
   ]
  },
  {
   "cell_type": "markdown",
   "metadata": {},
   "source": [
    "$7$. For the matched data, what is the mean of real earnings in 1978 for treated subjects minus the mean of real earnings in 1978 for untreated subjects?"
   ]
  },
  {
   "cell_type": "code",
   "execution_count": 34,
   "metadata": {},
   "outputs": [
    {
     "data": {
      "text/html": [
       "733.886388378379"
      ],
      "text/latex": [
       "733.886388378379"
      ],
      "text/markdown": [
       "733.886388378379"
      ],
      "text/plain": [
       "[1] 733.8864"
      ]
     },
     "metadata": {},
     "output_type": "display_data"
    }
   ],
   "source": [
    "mean(matched1[matched1$treat == 1, 're78']) - mean(matched1[matched1$treat == 0, 're78'])"
   ]
  },
  {
   "cell_type": "code",
   "execution_count": 38,
   "metadata": {},
   "outputs": [
    {
     "data": {
      "text/html": [
       "1246.80623738739"
      ],
      "text/latex": [
       "1246.80623738739"
      ],
      "text/markdown": [
       "1246.80623738739"
      ],
      "text/plain": [
       "[1] 1246.806"
      ]
     },
     "metadata": {},
     "output_type": "display_data"
    }
   ],
   "source": [
    "mean(matched2[matched2$treat == 1, 're78']) - mean(matched2[matched2$treat == 0, 're78'])"
   ]
  },
  {
   "cell_type": "code",
   "execution_count": 39,
   "metadata": {},
   "outputs": [],
   "source": [
    "re_trt <- matched2$re78[matched2$treat == 1]\n",
    "re_ctl <- matched2$re78[matched2$treat == 0]"
   ]
  },
  {
   "cell_type": "code",
   "execution_count": 40,
   "metadata": {},
   "outputs": [],
   "source": [
    "re_diff = re_trt - re_ctl"
   ]
  },
  {
   "cell_type": "code",
   "execution_count": 41,
   "metadata": {},
   "outputs": [
    {
     "data": {
      "text/plain": [
       "\n",
       "\tOne Sample t-test\n",
       "\n",
       "data:  re_diff\n",
       "t = 1.4824, df = 110, p-value = 0.1411\n",
       "alternative hypothesis: true mean is not equal to 0\n",
       "95 percent confidence interval:\n",
       " -420.0273 2913.6398\n",
       "sample estimates:\n",
       "mean of x \n",
       " 1246.806 \n"
      ]
     },
     "metadata": {},
     "output_type": "display_data"
    }
   ],
   "source": [
    "t.test(re_diff)"
   ]
  },
  {
   "cell_type": "code",
   "execution_count": 43,
   "metadata": {},
   "outputs": [
    {
     "data": {
      "text/plain": [
       "\n",
       "\tPaired t-test\n",
       "\n",
       "data:  re78 by treat\n",
       "t = -1.4824, df = 110, p-value = 0.1411\n",
       "alternative hypothesis: true difference in means is not equal to 0\n",
       "95 percent confidence interval:\n",
       " -2913.6398   420.0273\n",
       "sample estimates:\n",
       "mean of the differences \n",
       "              -1246.806 \n"
      ]
     },
     "metadata": {},
     "output_type": "display_data"
    }
   ],
   "source": [
    "t.test(re78 ~ treat, paired =  TRUE, data = matched2)"
   ]
  },
  {
   "cell_type": "code",
   "execution_count": 45,
   "metadata": {},
   "outputs": [
    {
     "data": {
      "text/plain": [
       "\n",
       "\tPaired t-test\n",
       "\n",
       "data:  re_ctl and re_trt\n",
       "t = -1.4824, df = 110, p-value = 0.1411\n",
       "alternative hypothesis: true difference in means is not equal to 0\n",
       "95 percent confidence interval:\n",
       " -2913.6398   420.0273\n",
       "sample estimates:\n",
       "mean of the differences \n",
       "              -1246.806 \n"
      ]
     },
     "metadata": {},
     "output_type": "display_data"
    }
   ],
   "source": [
    "t.test(x = re_ctl, y = re_trt, paired = TRUE)"
   ]
  },
  {
   "cell_type": "code",
   "execution_count": null,
   "metadata": {},
   "outputs": [],
   "source": []
  }
 ],
 "metadata": {
  "kernelspec": {
   "display_name": "R",
   "language": "R",
   "name": "ir"
  },
  "language_info": {
   "codemirror_mode": "r",
   "file_extension": ".r",
   "mimetype": "text/x-r-source",
   "name": "R",
   "pygments_lexer": "r",
   "version": "3.3.2"
  }
 },
 "nbformat": 4,
 "nbformat_minor": 2
}
